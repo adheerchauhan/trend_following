{
 "cells": [
  {
   "cell_type": "code",
   "execution_count": 3,
   "metadata": {},
   "outputs": [],
   "source": [
    "# Import all the necessary modules\n",
    "import os\n",
    "import sys\n",
    "import pandas as pd\n",
    "import numpy as np\n",
    "import matplotlib.pyplot as plt\n",
    "import matplotlib as mpl\n",
    "import matplotlib.ticker as ticker\n",
    "from sklearn.decomposition import PCA\n",
    "from sklearn.model_selection import train_test_split\n",
    "from sklearn.preprocessing import StandardScaler\n",
    "from sklearn import linear_model\n",
    "from sklearn.metrics import mean_squared_error, mean_absolute_error, r2_score\n",
    "import pandas_datareader as pdr\n",
    "import math\n",
    "import datetime\n",
    "import itertools\n",
    "import yfinance as yf\n",
    "import seaborn as sn\n",
    "from IPython.display import display, HTML\n",
    "from trend_following import (apply_jupyter_fullscreen_css, load_financial_data, get_returns_volatility, calculate_slope, trend_signal, slope_signal, \n",
    "                             create_trend_strategy, get_close_prices, calculate_donchian_channels)\n",
    "from strategy_performance_metrics import (calculate_sharpe_ratio, calculate_calmar_ratio, calculate_CAGR, calculate_risk_and_performance_metrics,\n",
    "                                          calculate_compounded_cumulative_returns, estimate_fee_per_trade, rolling_sharpe_ratio)\n",
    "import coinbase_utils as cn\n",
    "%matplotlib inline"
   ]
  },
  {
   "cell_type": "code",
   "execution_count": 4,
   "metadata": {},
   "outputs": [
    {
     "data": {
      "text/plain": [
       "<module 'coinbase_utils' from '/Users/adheerchauhan/Documents/git/trend_following/coinbase_utils.py'>"
      ]
     },
     "execution_count": 4,
     "metadata": {},
     "output_type": "execute_result"
    }
   ],
   "source": [
    "import importlib\n",
    "importlib.reload(cn)"
   ]
  },
  {
   "cell_type": "code",
   "execution_count": 7,
   "metadata": {},
   "outputs": [
    {
     "data": {
      "text/html": [
       "<style>:root {\n",
       "    --jp-notebook-max-width: 100% !important; }</style>"
      ],
      "text/plain": [
       "<IPython.core.display.HTML object>"
      ]
     },
     "metadata": {},
     "output_type": "display_data"
    }
   ],
   "source": [
    "import warnings\n",
    "warnings.filterwarnings('ignore')\n",
    "pd.set_option('Display.max_rows', None)\n",
    "pd.set_option('Display.max_columns',None)\n",
    "apply_jupyter_fullscreen_css()"
   ]
  },
  {
   "cell_type": "code",
   "execution_count": 9,
   "metadata": {},
   "outputs": [
    {
     "data": {
      "text/html": [
       "\n",
       "    <style>\n",
       "        /* Set the notebook container width to full screen */\n",
       "        .jp-Notebook {\n",
       "            width: 100% !important;\n",
       "            max-width: 100% !important;\n",
       "            margin-left: 0px !important;\n",
       "            margin-right: 0px !important;\n",
       "        }\n",
       "        \n",
       "        /* Full width for notebook cells, align cells to the left */\n",
       "        .jp-Cell {\n",
       "            display: block; /* Change to block to align cells left */\n",
       "        }\n",
       "        .jp-Cell .jp-InputArea, .jp-Cell .jp-OutputArea {\n",
       "            width: 100% !important;\n",
       "        }\n",
       "        \n",
       "        /* Full width for the main output area */\n",
       "        .jp-OutputArea {\n",
       "            width: 100% !important;\n",
       "        }\n",
       "        \n",
       "        /* Remove the top padding */\n",
       "        .jp-NotebookPanel {\n",
       "            padding-top: 0px !important;\n",
       "        }\n",
       "        \n",
       "        /* Remove extra bottom spacing */\n",
       "        .jp-Notebook .jp-Cell-end {\n",
       "            height: 0px !important;\n",
       "        }\n",
       "    </style>\n",
       "    "
      ],
      "text/plain": [
       "<IPython.core.display.HTML object>"
      ]
     },
     "metadata": {},
     "output_type": "display_data"
    }
   ],
   "source": [
    "from IPython.display import display, HTML\n",
    "\n",
    "def jupyter_interactive_mode():\n",
    "    display(HTML('''\n",
    "    <style>\n",
    "        /* Set the notebook container width to full screen */\n",
    "        .jp-Notebook {\n",
    "            width: 100% !important;\n",
    "            max-width: 100% !important;\n",
    "            margin-left: 0px !important;\n",
    "            margin-right: 0px !important;\n",
    "        }\n",
    "        \n",
    "        /* Full width for notebook cells, align cells to the left */\n",
    "        .jp-Cell {\n",
    "            display: block; /* Change to block to align cells left */\n",
    "        }\n",
    "        .jp-Cell .jp-InputArea, .jp-Cell .jp-OutputArea {\n",
    "            width: 100% !important;\n",
    "        }\n",
    "        \n",
    "        /* Full width for the main output area */\n",
    "        .jp-OutputArea {\n",
    "            width: 100% !important;\n",
    "        }\n",
    "        \n",
    "        /* Remove the top padding */\n",
    "        .jp-NotebookPanel {\n",
    "            padding-top: 0px !important;\n",
    "        }\n",
    "        \n",
    "        /* Remove extra bottom spacing */\n",
    "        .jp-Notebook .jp-Cell-end {\n",
    "            height: 0px !important;\n",
    "        }\n",
    "    </style>\n",
    "    '''))\n",
    "\n",
    "# Call the function to apply the style\n",
    "jupyter_interactive_mode()\n"
   ]
  },
  {
   "cell_type": "markdown",
   "metadata": {},
   "source": [
    "## Helper functions to help pull the data and run the analysis"
   ]
  },
  {
   "cell_type": "markdown",
   "metadata": {},
   "source": [
    "## Pull the data from Yahoo Finance"
   ]
  },
  {
   "cell_type": "markdown",
   "metadata": {},
   "source": [
    "We begin by pulling daily data for the specified instrument using the Yahoo finance API. The data available only goes back to late 2017. "
   ]
  },
  {
   "cell_type": "markdown",
   "metadata": {},
   "source": [
    "## Moving Average and Donchian Channels Signals"
   ]
  },
  {
   "cell_type": "code",
   "execution_count": 13,
   "metadata": {},
   "outputs": [
    {
     "ename": "NameError",
     "evalue": "name 'in_sample_start_date' is not defined",
     "output_type": "error",
     "traceback": [
      "\u001b[0;31m---------------------------------------------------------------------------\u001b[0m",
      "\u001b[0;31mNameError\u001b[0m                                 Traceback (most recent call last)",
      "Cell \u001b[0;32mIn[13], line 3\u001b[0m\n\u001b[1;32m      1\u001b[0m df \u001b[38;5;241m=\u001b[39m cn\u001b[38;5;241m.\u001b[39mget_coinbase_ohlc_data(ticker\u001b[38;5;241m=\u001b[39m\u001b[38;5;124m'\u001b[39m\u001b[38;5;124mBTC\u001b[39m\u001b[38;5;124m'\u001b[39m)\n\u001b[1;32m      2\u001b[0m \u001b[38;5;66;03m# df = (df[['close']].rename(columns={'close':ticker}))\u001b[39;00m\n\u001b[0;32m----> 3\u001b[0m df \u001b[38;5;241m=\u001b[39m df[(df\u001b[38;5;241m.\u001b[39mindex\u001b[38;5;241m.\u001b[39mget_level_values(\u001b[38;5;124m'\u001b[39m\u001b[38;5;124mdate\u001b[39m\u001b[38;5;124m'\u001b[39m) \u001b[38;5;241m>\u001b[39m\u001b[38;5;241m=\u001b[39m in_sample_start_date) \u001b[38;5;241m&\u001b[39m (df\u001b[38;5;241m.\u001b[39mindex\u001b[38;5;241m.\u001b[39mget_level_values(\u001b[38;5;124m'\u001b[39m\u001b[38;5;124mdate\u001b[39m\u001b[38;5;124m'\u001b[39m) \u001b[38;5;241m<\u001b[39m\u001b[38;5;241m=\u001b[39m in_sample_end_date)]\n",
      "\u001b[0;31mNameError\u001b[0m: name 'in_sample_start_date' is not defined"
     ]
    }
   ],
   "source": [
    "df = cn.get_coinbase_ohlc_data(ticker='BTC')\n",
    "# df = (df[['close']].rename(columns={'close':ticker}))\n",
    "df = df[(df.index.get_level_values('date') >= in_sample_start_date) & (df.index.get_level_values('date') <= in_sample_end_date)]"
   ]
  },
  {
   "cell_type": "code",
   "execution_count": 15,
   "metadata": {},
   "outputs": [
    {
     "data": {
      "text/html": [
       "<div>\n",
       "<style scoped>\n",
       "    .dataframe tbody tr th:only-of-type {\n",
       "        vertical-align: middle;\n",
       "    }\n",
       "\n",
       "    .dataframe tbody tr th {\n",
       "        vertical-align: top;\n",
       "    }\n",
       "\n",
       "    .dataframe thead th {\n",
       "        text-align: right;\n",
       "    }\n",
       "</style>\n",
       "<table border=\"1\" class=\"dataframe\">\n",
       "  <thead>\n",
       "    <tr style=\"text-align: right;\">\n",
       "      <th></th>\n",
       "      <th>low</th>\n",
       "      <th>high</th>\n",
       "      <th>open</th>\n",
       "      <th>close</th>\n",
       "      <th>volume</th>\n",
       "    </tr>\n",
       "    <tr>\n",
       "      <th>date</th>\n",
       "      <th></th>\n",
       "      <th></th>\n",
       "      <th></th>\n",
       "      <th></th>\n",
       "      <th></th>\n",
       "    </tr>\n",
       "  </thead>\n",
       "  <tbody>\n",
       "    <tr>\n",
       "      <th>2024-09-26</th>\n",
       "      <td>62652.99</td>\n",
       "      <td>65865.00</td>\n",
       "      <td>63131.13</td>\n",
       "      <td>65177.21</td>\n",
       "      <td>12789.850355</td>\n",
       "    </tr>\n",
       "    <tr>\n",
       "      <th>2024-09-27</th>\n",
       "      <td>64827.85</td>\n",
       "      <td>66550.00</td>\n",
       "      <td>65176.39</td>\n",
       "      <td>65789.00</td>\n",
       "      <td>9529.016881</td>\n",
       "    </tr>\n",
       "    <tr>\n",
       "      <th>2024-09-28</th>\n",
       "      <td>65400.00</td>\n",
       "      <td>66266.39</td>\n",
       "      <td>65787.53</td>\n",
       "      <td>65858.99</td>\n",
       "      <td>2755.226806</td>\n",
       "    </tr>\n",
       "    <tr>\n",
       "      <th>2024-09-29</th>\n",
       "      <td>65433.29</td>\n",
       "      <td>66059.00</td>\n",
       "      <td>65857.33</td>\n",
       "      <td>65600.01</td>\n",
       "      <td>2721.351977</td>\n",
       "    </tr>\n",
       "    <tr>\n",
       "      <th>2024-09-30</th>\n",
       "      <td>62833.95</td>\n",
       "      <td>65624.95</td>\n",
       "      <td>65600.01</td>\n",
       "      <td>63301.25</td>\n",
       "      <td>10629.741479</td>\n",
       "    </tr>\n",
       "  </tbody>\n",
       "</table>\n",
       "</div>"
      ],
      "text/plain": [
       "                 low      high      open     close        volume\n",
       "date                                                            \n",
       "2024-09-26  62652.99  65865.00  63131.13  65177.21  12789.850355\n",
       "2024-09-27  64827.85  66550.00  65176.39  65789.00   9529.016881\n",
       "2024-09-28  65400.00  66266.39  65787.53  65858.99   2755.226806\n",
       "2024-09-29  65433.29  66059.00  65857.33  65600.01   2721.351977\n",
       "2024-09-30  62833.95  65624.95  65600.01  63301.25  10629.741479"
      ]
     },
     "execution_count": 15,
     "metadata": {},
     "output_type": "execute_result"
    }
   ],
   "source": [
    "df.tail()"
   ]
  },
  {
   "cell_type": "code",
   "execution_count": 11,
   "metadata": {},
   "outputs": [],
   "source": [
    "from strategy_performance_metrics import calculate_risk_and_performance_metrics\n",
    "\n",
    "import seaborn as sns\n",
    "\n",
    "def plot_moving_avg_crossover_performance(df_performance, ticker):\n",
    "    unique_step_sizes = df_performance['stepsize'].unique()\n",
    "\n",
    "    # Plotting each heatmap in a loop\n",
    "    for step in unique_step_sizes:\n",
    "        subset = df_performance[df_performance['stepsize'] == step]\n",
    "        pivoted_df_sharpe = subset.pivot(index='slow_mavg', columns='fast_mavg', values='sharpe_ratio')\n",
    "        pivoted_df_calmar = subset.pivot(index='slow_mavg', columns='fast_mavg', values='calmar_ratio')\n",
    "        pivoted_df_return = subset.pivot(index='slow_mavg', columns='fast_mavg', values='annualized_return')\n",
    "        \n",
    "        fig = plt.figure(figsize=(30,6))\n",
    "        # plt.style.use('bmh')\n",
    "        layout = (1,3)\n",
    "        sharpe_ax = plt.subplot2grid(layout, (0,0))#, colspan=2)\n",
    "        calmar_ax = plt.subplot2grid(layout, (0,1))#, colspan=2)\n",
    "        return_ax = plt.subplot2grid(layout, (0,2))#, colspan=2)\n",
    "\n",
    "        sns.heatmap(pivoted_df_sharpe, annot=True, fmt=\".2f\", cmap='RdYlGn', linewidths=.5, ax=sharpe_ax)\n",
    "        _ = sharpe_ax.set_title(f'{ticker} Sharpe Ratio Heatmap\\nStep Size: {step}')\n",
    "        _ = sharpe_ax.set_ylabel('Slow Moving Average (Days)')\n",
    "        _ = sharpe_ax.set_xlabel('Fast Moving Average (Days)')\n",
    "\n",
    "        sns.heatmap(pivoted_df_calmar, annot=True, fmt=\".2f\", cmap='RdYlGn', linewidths=.5, ax=calmar_ax)\n",
    "        _ = calmar_ax.set_title(f'{ticker} Calmar Ratio Heatmap\\nStep Size: {step}')\n",
    "        _ = calmar_ax.set_ylabel('Slow Moving Average (Days)')\n",
    "        _ = calmar_ax.set_xlabel('Fast Moving Average (Days)')\n",
    "\n",
    "        sns.heatmap(pivoted_df_return, annot=True, fmt=\".2f\", cmap='RdYlGn', linewidths=.5, ax=return_ax)\n",
    "        _ = return_ax.set_title(f'{ticker} Annualized Return Heatmap\\nStep Size: {step}')\n",
    "        _ = return_ax.set_ylabel('Slow Moving Average (Days)')\n",
    "        _ = return_ax.set_xlabel('Fast Moving Average (Days)')\n",
    "\n",
    "        plt.tight_layout()\n",
    "    \n",
    "    return\n",
    "\n",
    "def generate_trend_signal_with_donchian_channel(start_date, end_date, ticker, fast_mavg, slow_mavg, mavg_stepsize, moving_avg_type='exponential', price_or_returns_calc='returns',\n",
    "                                                rolling_donchian_window=20, include_signal_strength=True, long_only=False):\n",
    "    \n",
    "    # Generate Trend Signal\n",
    "    # df = get_close_prices(start_date, end_date, ticker, print_status=False)\n",
    "    df = cn.get_coinbase_ohlc_data(ticker='BTC')\n",
    "    df = (df[['close']].rename(columns={'close':ticker}))\n",
    "    df = df[(df.index.get_level_values('date') >= start_date) & (df.index.get_level_values('date') <= end_date)]\n",
    "    df_trend = (create_trend_strategy(df, ticker, mavg_start=fast_mavg, mavg_end=slow_mavg, mavg_stepsize=mavg_stepsize, slope_window=10, moving_avg_type=moving_avg_type,\n",
    "                                      price_or_returns_calc=price_or_returns_calc)\n",
    "                .rename(columns={f'{ticker}_trend_strategy_returns': f'{ticker}_trend_strategy_returns_{fast_mavg}_{mavg_stepsize}_{slow_mavg}',\n",
    "                                 f'{ticker}_trend_strategy_trades': f'{ticker}_trend_strategy_trades_{fast_mavg}_{mavg_stepsize}_{slow_mavg}'}))\n",
    "    # Generate Donchian Signal\n",
    "    df_donchian = calculate_donchian_channels(start_date=start_date, end_date=end_date, ticker=ticker, price_or_returns_calc=price_or_returns_calc,\n",
    "                                            rolling_donchian_window=rolling_donchian_window)\n",
    "    if price_or_returns_calc == 'price':\n",
    "\n",
    "        # Buy signal: Price crosses above upper band\n",
    "        df_donchian[f'{ticker}_{rolling_donchian_window}_donchian_signal'] = np.where(\n",
    "            (df_donchian[f'close'] > df_donchian[f'{ticker}_{rolling_donchian_window}_donchian_upper_band_price']), 1,\n",
    "            np.where((df_donchian[f'close'] < df_donchian[f'{ticker}_{rolling_donchian_window}_donchian_lower_band_price']), -1, 0))\n",
    "    elif price_or_returns_calc == 'returns':\n",
    "        df_donchian[f'{ticker}_{rolling_donchian_window}_donchian_signal'] = np.where(\n",
    "            (df_donchian[f'{ticker}_pct_returns'] > df_donchian[f'{ticker}_{rolling_donchian_window}_donchian_upper_band_returns']), 1,\n",
    "            np.where((df_donchian[f'{ticker}_pct_returns'] < df_donchian[f'{ticker}_{rolling_donchian_window}_donchian_lower_band_returns']), -1, 0))\n",
    "\n",
    "    # Merging the Trend and donchian Dataframes\n",
    "    donchian_cols = [f'{ticker}_{rolling_donchian_window}_donchian_upper_band_{price_or_returns_calc}', f'{ticker}_{rolling_donchian_window}_donchian_lower_band_{price_or_returns_calc}',\n",
    "                     f'{ticker}_{rolling_donchian_window}_donchian_middle_band_{price_or_returns_calc}', f'{ticker}_{rolling_donchian_window}_donchian_signal']\n",
    "    df_trend = pd.merge(df_trend, df_donchian[donchian_cols], left_index=True, right_index=True, how='left')\n",
    "    \n",
    "    if include_signal_strength:\n",
    "        # Calculate the strength of moving average crossover and donchian signal\n",
    "        df_trend[f'{ticker}_donchian_band_width_{price_or_returns_calc}'] = (df_trend[f'{ticker}_{rolling_donchian_window}_donchian_upper_band_{price_or_returns_calc}'] -\n",
    "                                                                            df_trend[f'{ticker}_{rolling_donchian_window}_donchian_lower_band_{price_or_returns_calc}'])\n",
    "        donchian_strength = (np.abs(df_trend[f'{ticker}'] - df_trend[f'{ticker}_{rolling_donchian_window}_donchian_middle_band_{price_or_returns_calc}']) /\n",
    "                            df_trend[f'{ticker}_donchian_band_width_{price_or_returns_calc}'])\n",
    "        crossover_strength = np.abs(df_trend[f'{ticker}_{fast_mavg}_mavg'] - df_trend[f'{ticker}_{slow_mavg}_mavg']) / df_trend[f'{ticker}']\n",
    "\n",
    "        df_trend[f'{ticker}_crossover_donchian_signal_strength'] = (donchian_strength + crossover_strength) / 2\n",
    "        strength_threshold = 0.5\n",
    "    \n",
    "        # Moving Average and Donchian Channel Signal\n",
    "        buy_signal = ((df_trend[f'{ticker}_{rolling_donchian_window}_donchian_signal'] == 1) &\n",
    "                      (df_trend[f'{ticker}_trend_signal'] == 1) &\n",
    "                      (df_trend[f'{ticker}_crossover_donchian_signal_strength'] > strength_threshold))\n",
    "        sell_signal = ((df_trend[f'{ticker}_{rolling_donchian_window}_donchian_signal'] == -1) &\n",
    "                       (df_trend[f'{ticker}_trend_signal'] == -1) &\n",
    "                       ((df_trend[f'{ticker}_crossover_donchian_signal_strength'] > strength_threshold)))\n",
    "    else:\n",
    "        # Moving Average and Donchian Channel Signal\n",
    "        buy_signal = ((df_trend[f'{ticker}_{rolling_donchian_window}_donchian_signal'] == 1) &\n",
    "                      (df_trend[f'{ticker}_trend_signal'] == 1))\n",
    "        sell_signal = ((df_trend[f'{ticker}_{rolling_donchian_window}_donchian_signal'] == -1) &\n",
    "                       (df_trend[f'{ticker}_trend_signal'] == -1))\n",
    "    \n",
    "    if long_only:\n",
    "        df_trend[f'{ticker}_{fast_mavg}_{mavg_stepsize}_{slow_mavg}_mavg_crossover_{rolling_donchian_window}_donchian_signal'] = (\n",
    "            np.where(buy_signal, 1, 0))\n",
    "    else:\n",
    "        df_trend[f'{ticker}_{fast_mavg}_{mavg_stepsize}_{slow_mavg}_mavg_crossover_{rolling_donchian_window}_donchian_signal'] = (\n",
    "            np.where(buy_signal, 1, np.where(sell_signal, -1, 0)))\n",
    "        \n",
    "    df_trend[f'{ticker}_{fast_mavg}_{mavg_stepsize}_{slow_mavg}_mavg_crossover_{rolling_donchian_window}_donchian_strategy_returns'] = (\n",
    "        df_trend[(f'{ticker}_{fast_mavg}_{mavg_stepsize}_{slow_mavg}_mavg_crossover_{rolling_donchian_window}_donchian_signal')] * \n",
    "        df_trend[f'{ticker}_pct_returns'])\n",
    "    df_trend[f'{ticker}_{fast_mavg}_{mavg_stepsize}_{slow_mavg}_mavg_crossover_{rolling_donchian_window}_donchian_strategy_trades'] = (\n",
    "        df_trend[(f'{ticker}_{fast_mavg}_{mavg_stepsize}_{slow_mavg}_mavg_crossover_{rolling_donchian_window}_donchian_signal')].diff())\n",
    "    \n",
    "    return df_trend\n",
    "\n",
    "def moving_avg_crossover_with_donchian_strategy_performance(start_date, end_date, ticker, moving_avg_type='exponential', price_or_returns_calc='returns',\n",
    "                                                           rolling_donchian_window=20, include_signal_strength=True, long_only=False):\n",
    "    \n",
    "    perf_cols = ['ticker', 'fast_mavg', 'slow_mavg', 'stepsize', 'annualized_return', 'sharpe_ratio', 'calmar_ratio', 'annualized_std_dev', 'max_drawdown', 'max_drawdown_duration',\n",
    "                'hit_rate', 't_statistic', 'p_value', 'trade_count']\n",
    "    df_performance = pd.DataFrame(columns=perf_cols)\n",
    "    \n",
    "    fast_mavg_list = np.arange(10, 101, 10)\n",
    "    slow_mavg_list = np.arange(50, 501, 50)\n",
    "    mavg_stepsize_list = [2, 4, 6, 8]\n",
    "    performance_rows = []\n",
    "    for slow_mavg in slow_mavg_list:\n",
    "        for fast_mavg in fast_mavg_list:\n",
    "            for mavg_stepsize in mavg_stepsize_list:\n",
    "                if fast_mavg < slow_mavg:\n",
    "                    df_trend = generate_trend_signal_with_donchian_channel(start_date, end_date, ticker, fast_mavg, slow_mavg, mavg_stepsize, moving_avg_type, price_or_returns_calc,\n",
    "                                                                         rolling_donchian_window, include_signal_strength, long_only)\n",
    "                    performance_metrics = calculate_risk_and_performance_metrics(\n",
    "                        df_trend, strategy_daily_return_col=f'{ticker}_{fast_mavg}_{mavg_stepsize}_{slow_mavg}_mavg_crossover_{rolling_donchian_window}_donchian_strategy_returns',\n",
    "                        strategy_trade_count_col=f'{ticker}_{fast_mavg}_{mavg_stepsize}_{slow_mavg}_mavg_crossover_{rolling_donchian_window}_donchian_strategy_trades',\n",
    "                        annual_trading_days=365, transaction_cost_est=0.005)\n",
    "                    performance_rows.append({\n",
    "                        'ticker': ticker,\n",
    "                        'fast_mavg': fast_mavg,\n",
    "                        'slow_mavg': slow_mavg,\n",
    "                        'stepsize': mavg_stepsize,\n",
    "                        'annualized_return': performance_metrics['annualized_return'],\n",
    "                        'sharpe_ratio': performance_metrics['annualized_sharpe_ratio'],\n",
    "                        'calmar_ratio': performance_metrics['calmar_ratio'],\n",
    "                        'annualized_std_dev': performance_metrics['annualized_std_dev'],\n",
    "                        'max_drawdown': performance_metrics['max_drawdown'],\n",
    "                        'max_drawdown_duration': performance_metrics['max_drawdown_duration'],\n",
    "                        'hit_rate': performance_metrics['hit_rate'],\n",
    "                        't_statistic': performance_metrics['t_statistic'],\n",
    "                        'p_value': performance_metrics['p_value'],\n",
    "                        'trade_count': performance_metrics['trade_count']\n",
    "                    })\n",
    "                    # df_performance = df_performance.append(row, ignore_index=True)\n",
    "    # Convert the list of rows to a DataFrame\n",
    "    df_performance = pd.DataFrame(performance_rows, columns=perf_cols)\n",
    "    \n",
    "    plot_moving_avg_crossover_performance(df_performance, ticker)\n",
    "    \n",
    "    return df_performance"
   ]
  },
  {
   "cell_type": "code",
   "execution_count": 13,
   "metadata": {},
   "outputs": [],
   "source": [
    "def plot_trend_following_performance(df, start_date, end_date, ticker, fast_mavg, slow_mavg, mavg_stepsize, price_or_returns_calc, rolling_donchian_window, rolling_sharpe_window):\n",
    "    \n",
    "    start_date = pd.to_datetime(start_date).date().strftime('%Y-%m-%d')\n",
    "    end_date = pd.to_datetime(end_date).date().strftime('%Y-%m-%d')\n",
    "    fig = plt.figure(figsize=(22,20))\n",
    "    layout = (5,2)\n",
    "    trend_ax = plt.subplot2grid(layout, (0,0), colspan=2)\n",
    "    trend_donchian_ax = plt.subplot2grid(layout, (1,0), colspan=2)\n",
    "    trend_signal_ax = plt.subplot2grid(layout, (2,0), colspan=2)\n",
    "    trend_rolling_sharpe_ax = plt.subplot2grid(layout, (3,0), colspan=2)\n",
    "    trend_return_ax = plt.subplot2grid(layout, (4,0))#, colspan=2)\n",
    "    trend_cum_return_ax = plt.subplot2grid(layout, (4,1))#, colspan=2)\n",
    "\n",
    "    if price_or_returns_calc == 'price':\n",
    "        _ = trend_ax.plot(df.index, df[f'{ticker}'], label='Price')\n",
    "    elif price_or_returns_calc == 'returns':\n",
    "        _ = trend_ax.plot(df.index, df[f'{ticker}_pct_returns'], label='Returns')\n",
    "    for mavg in np.linspace(fast_mavg, slow_mavg, mavg_stepsize):\n",
    "        _ = trend_ax.plot(df.index, df[f'{ticker}_{int(mavg)}_mavg'], label=f'{mavg} M Avg')\n",
    "\n",
    "    _ = trend_ax.set_title(f'{ticker} Moving Average Ribbons - {start_date} - {end_date}')\n",
    "    _ = trend_ax.set_ylabel('Price')\n",
    "    _ = trend_ax.set_xlabel('Date')\n",
    "    _ = trend_ax.legend()\n",
    "\n",
    "    if price_or_returns_calc == 'price':\n",
    "        _ = trend_donchian_ax.plot(df.index, df[f'{ticker}'], label='Price')\n",
    "    elif price_or_returns_calc == 'returns':\n",
    "        _ = trend_donchian_ax.plot(df.index, df[f'{ticker}_pct_returns'], label='Returns')\n",
    "    _ = trend_donchian_ax.plot(df.index,\n",
    "                      df[f'{ticker}_{rolling_donchian_window}_donchian_upper_band_{price_or_returns_calc}'], label='Donchian Upper Band', linestyle='--', linewidth=3)\n",
    "    _ = trend_donchian_ax.plot(df.index,\n",
    "                      df[f'{ticker}_{rolling_donchian_window}_donchian_lower_band_{price_or_returns_calc}'], label='Donchian Lower Band', linestyle='--', linewidth=3)\n",
    "\n",
    "    _ = trend_donchian_ax.set_title(f'{ticker} Donchian Channels')\n",
    "    _ = trend_donchian_ax.set_ylabel('Price')\n",
    "    _ = trend_donchian_ax.set_xlabel('Date')\n",
    "    _ = trend_donchian_ax.legend()\n",
    "\n",
    "    _ = trend_signal_ax.plot(df.index,\n",
    "                             df[f'{ticker}_{fast_mavg}_{mavg_stepsize}_{slow_mavg}_mavg_crossover_{rolling_donchian_window}_donchian_signal'], label='Signal')\n",
    "    _ = trend_signal_ax.set_title(f'{ticker} Trend Strategy with Donchian Channel Signal')\n",
    "    _ = trend_signal_ax.set_ylabel('Signal')\n",
    "    _ = trend_signal_ax.set_xlabel('Date')\n",
    "    _ = trend_signal_ax.legend()\n",
    "\n",
    "    _ = trend_rolling_sharpe_ax.plot(df.index,\n",
    "                                     df[f'{ticker}_{fast_mavg}_{mavg_stepsize}_{slow_mavg}_mavg_crossover_{rolling_donchian_window}_donchian_strategy_rolling_sharpe_{rolling_sharpe_window}'],\n",
    "                                     label='Sharpe Ratio', color='orange')\n",
    "    _ = trend_rolling_sharpe_ax.set_title(f'{ticker} Rolling Sharpe Ratio')\n",
    "    _ = trend_rolling_sharpe_ax.set_ylabel('Sharpe Ratio')\n",
    "    _ = trend_rolling_sharpe_ax.set_xlabel('Date')\n",
    "    _ = trend_rolling_sharpe_ax.legend()\n",
    "\n",
    "    _ = trend_return_ax.plot(df.index,\n",
    "                             df[f'{ticker}_{fast_mavg}_{mavg_stepsize}_{slow_mavg}_mavg_crossover_{rolling_donchian_window}_donchian_strategy_returns'],\n",
    "                             label='Return')\n",
    "    _ = trend_return_ax.set_title(f'{ticker} Trend Strategy with Donchian Channel Return')\n",
    "    _ = trend_return_ax.set_ylabel('Return')\n",
    "    _ = trend_return_ax.set_xlabel('Date')\n",
    "    _ = trend_return_ax.legend()\n",
    "\n",
    "    # _ = trend_cum_return_ax.plot(df_trend_mavg_donchian.index, df_trend_mavg_donchian[f'{ticker}_trend_strategy_returns_{fast_mavg}_{mavg_stepsize}_{slow_mavg}_cum'], label='Cum. Return')\n",
    "    _ = trend_cum_return_ax.plot(df.index, df['strategy_cumulative_return'], label='Cum. Return')\n",
    "    _ = trend_cum_return_ax.set_title(f'{ticker} Trend Strategy with Donchian Channel Cumulative Return')\n",
    "    _ = trend_cum_return_ax.set_ylabel('Cum. Return')\n",
    "    _ = trend_cum_return_ax.set_xlabel('Date')\n",
    "    _ = trend_cum_return_ax.legend()\n",
    "\n",
    "\n",
    "    plt.tight_layout()\n",
    "    \n",
    "    return\n",
    "\n",
    "def get_trend_following_strategy_performance(start_date, end_date, ticker, fast_mavg, slow_mavg, mavg_stepsize, rolling_donchian_window, rolling_sharpe_window, long_only=False,\n",
    "                                             include_transaction_costs_and_fees=True, transaction_cost_est=0.001, passive_trade_rate=0.5):\n",
    "    price_or_returns_calc = 'price'\n",
    "    df = generate_trend_signal_with_donchian_channel(start_date, end_date, ticker, fast_mavg=fast_mavg, slow_mavg=slow_mavg,\n",
    "                                                     mavg_stepsize=mavg_stepsize, price_or_returns_calc=price_or_returns_calc, rolling_donchian_window=rolling_donchian_window,\n",
    "                                                     include_signal_strength=False, long_only=long_only)\n",
    "    if include_transaction_costs_and_fees:\n",
    "        average_fee_per_trade = estimate_fee_per_trade(passive_trade_rate=passive_trade_rate)\n",
    "        adjusted_daily_returns = df[f'{ticker}_{fast_mavg}_{mavg_stepsize}_{slow_mavg}_mavg_crossover_{rolling_donchian_window}_donchian_strategy_returns'] - (\n",
    "            np.abs(df[f'{ticker}_{fast_mavg}_{mavg_stepsize}_{slow_mavg}_mavg_crossover_{rolling_donchian_window}_donchian_strategy_trades']) * (transaction_cost_est + average_fee_per_trade))\n",
    "        df['strategy_cumulative_return'] = (1 + adjusted_daily_returns).cumprod() - 1\n",
    "    else:\n",
    "        df['strategy_cumulative_return'] = (1 + df[f'{ticker}_{fast_mavg}_{mavg_stepsize}_{slow_mavg}_mavg_crossover_{rolling_donchian_window}_donchian_strategy_returns']).cumprod() - 1\n",
    "\n",
    "    df[f'rolling_sharpe_{rolling_sharpe_window}'] = (rolling_sharpe_ratio(df, window=rolling_sharpe_window, \n",
    "    strategy_daily_return_col=f'{ticker}_{fast_mavg}_{mavg_stepsize}_{slow_mavg}_mavg_crossover_{rolling_donchian_window}_donchian_strategy_returns',\n",
    "    strategy_trade_count_col=f'{ticker}_{fast_mavg}_{mavg_stepsize}_{slow_mavg}_mavg_crossover_{rolling_donchian_window}_donchian_strategy_trades'))\n",
    "    df = df.rename(\n",
    "        columns={f'rolling_sharpe_{rolling_sharpe_window}': f'{ticker}_{fast_mavg}_{mavg_stepsize}_{slow_mavg}_mavg_crossover_{rolling_donchian_window}_donchian_strategy_rolling_sharpe_{rolling_sharpe_window}'})\n",
    "    \n",
    "    plot_trend_following_performance(df, start_date, end_date, ticker, fast_mavg, slow_mavg, mavg_stepsize, price_or_returns_calc, rolling_donchian_window, rolling_sharpe_window)\n",
    "    \n",
    "    return df"
   ]
  },
  {
   "cell_type": "code",
   "execution_count": 15,
   "metadata": {},
   "outputs": [],
   "source": [
    "## In Sample Performance\n",
    "in_sample_start_date = pd.Timestamp(2014, 9, 17).date()\n",
    "in_sample_end_date = pd.Timestamp(2022, 12, 31).date()\n",
    "out_of_sample_start_date = pd.Timestamp(2023, 1, 1).date()\n",
    "out_of_sample_end_date = pd.Timestamp(2024, 9, 30).date()\n",
    "full_sample_start_date = pd.Timestamp(2014, 9, 17).date()\n",
    "full_sample_end_date = pd.Timestamp(2024, 9, 30).date()"
   ]
  },
  {
   "cell_type": "markdown",
   "metadata": {},
   "source": [
    "## Long Short Strategy Performance"
   ]
  },
  {
   "cell_type": "markdown",
   "metadata": {},
   "source": [
    "### In Sample & Out of Sample Performance"
   ]
  },
  {
   "cell_type": "code",
   "execution_count": null,
   "metadata": {},
   "outputs": [],
   "source": [
    "ticker_list = ['BTC-USD','ETH-USD','LTC-USD','SOL-USD','DOGE-USD']\n",
    "in_sample_performance_dict = {}\n",
    "out_of_sample_performance_dict = {}\n",
    "for ticker in ticker_list:\n",
    "    ## Price with Donchian Channels and without Signal Strength Signal\n",
    "    df_long_short_strategy_performance_in_sample = moving_avg_crossover_with_donchian_strategy_performance(start_date=in_sample_start_date, end_date=in_sample_end_date, ticker=ticker,\n",
    "                                                                                                           price_or_returns_calc='price', include_signal_strength=False, long_only=False)\n",
    "    df_long_short_strategy_performance_out_of_sample = moving_avg_crossover_with_donchian_strategy_performance(start_date=out_of_sample_start_date, end_date=out_of_sample_end_date, ticker=ticker,\n",
    "                                                                                                               price_or_returns_calc='price', include_signal_strength=False, long_only=False)\n",
    "    in_sample_performance_dict[ticker] = df_long_short_strategy_performance_in_sample\n",
    "    out_of_sample_performance_dict[ticker] = df_long_short_strategy_performance_out_of_sample"
   ]
  },
  {
   "cell_type": "code",
   "execution_count": null,
   "metadata": {},
   "outputs": [],
   "source": [
    "in_sample_performance_dict['BTC-USD'][in_sample_performance_dict['BTC-USD']['slow_mavg'] == 250]"
   ]
  },
  {
   "cell_type": "code",
   "execution_count": null,
   "metadata": {},
   "outputs": [],
   "source": [
    "in_sample_performance_dict['ETH-USD'][in_sample_performance_dict['ETH-USD']['slow_mavg'] == 250]"
   ]
  },
  {
   "cell_type": "code",
   "execution_count": null,
   "metadata": {},
   "outputs": [],
   "source": [
    "in_sample_performance_dict['LTC-USD'][in_sample_performance_dict['LTC-USD']['slow_mavg'] == 250]"
   ]
  },
  {
   "cell_type": "code",
   "execution_count": null,
   "metadata": {},
   "outputs": [],
   "source": [
    "in_sample_performance_dict['SOL-USD'][in_sample_performance_dict['SOL-USD']['slow_mavg'] == 250]"
   ]
  },
  {
   "cell_type": "code",
   "execution_count": null,
   "metadata": {},
   "outputs": [],
   "source": [
    "in_sample_performance_dict['DOGE-USD'][in_sample_performance_dict['DOGE-USD']['slow_mavg'] == 250]"
   ]
  },
  {
   "cell_type": "code",
   "execution_count": null,
   "metadata": {},
   "outputs": [],
   "source": [
    "df_BTC_in_sample = get_trend_following_strategy_performance(start_date=in_sample_start_date, end_date=in_sample_end_date, ticker='BTC-USD', fast_mavg=50, slow_mavg=250,\n",
    "                                                            mavg_stepsize=6, rolling_donchian_window=20, rolling_sharpe_window=50, include_transaction_costs_and_fees=True,\n",
    "                                                            transaction_cost_est=0.005)"
   ]
  },
  {
   "cell_type": "code",
   "execution_count": null,
   "metadata": {},
   "outputs": [],
   "source": [
    "df_BTC_out_of_sample = get_trend_following_strategy_performance(start_date=out_of_sample_start_date, end_date=out_of_sample_end_date, ticker='BTC-USD', fast_mavg=50, slow_mavg=250,\n",
    "                                                                mavg_stepsize=6, rolling_donchian_window=20, rolling_sharpe_window=50, include_transaction_costs_and_fees=True, transaction_cost_est=0.005)"
   ]
  },
  {
   "cell_type": "code",
   "execution_count": null,
   "metadata": {},
   "outputs": [],
   "source": [
    "df_BTC_full_sample = get_trend_following_strategy_performance(start_date=full_sample_start_date, end_date=full_sample_end_date, ticker='BTC-USD', fast_mavg=50, slow_mavg=250,\n",
    "                                                                mavg_stepsize=6, rolling_donchian_window=20, rolling_sharpe_window=50, include_transaction_costs_and_fees=True, transaction_cost_est=0.005)"
   ]
  },
  {
   "cell_type": "code",
   "execution_count": null,
   "metadata": {},
   "outputs": [],
   "source": [
    "df_ETH_in_sample = get_trend_following_strategy_performance(start_date=in_sample_start_date, end_date=in_sample_end_date, ticker='ETH-USD', fast_mavg=50, slow_mavg=250,\n",
    "                                                            mavg_stepsize=6, rolling_donchian_window=20, rolling_sharpe_window=50, include_transaction_costs_and_fees=True, transaction_cost_est=0.005)"
   ]
  },
  {
   "cell_type": "code",
   "execution_count": null,
   "metadata": {},
   "outputs": [],
   "source": [
    "df_ETH_out_of_sample = get_trend_following_strategy_performance(start_date=out_of_sample_start_date, end_date=out_of_sample_end_date, ticker='ETH-USD', fast_mavg=50, slow_mavg=250,\n",
    "                                                                mavg_stepsize=6, rolling_donchian_window=20, rolling_sharpe_window=50, include_transaction_costs_and_fees=True, transaction_cost_est=0.005)"
   ]
  },
  {
   "cell_type": "code",
   "execution_count": null,
   "metadata": {},
   "outputs": [],
   "source": [
    "df_ETH_full_sample = get_trend_following_strategy_performance(start_date=full_sample_start_date, end_date=full_sample_end_date, ticker='ETH-USD', fast_mavg=50, slow_mavg=250,\n",
    "                                                                mavg_stepsize=6, rolling_donchian_window=20, rolling_sharpe_window=50, include_transaction_costs_and_fees=True, transaction_cost_est=0.005)"
   ]
  },
  {
   "cell_type": "code",
   "execution_count": null,
   "metadata": {},
   "outputs": [],
   "source": [
    "df_LTC_in_sample = get_trend_following_strategy_performance(start_date=in_sample_start_date, end_date=in_sample_end_date, ticker='LTC-USD', fast_mavg=50, slow_mavg=250,\n",
    "                                                            mavg_stepsize=6, rolling_donchian_window=20, rolling_sharpe_window=50, include_transaction_costs_and_fees=True, transaction_cost_est=0.005)"
   ]
  },
  {
   "cell_type": "code",
   "execution_count": null,
   "metadata": {},
   "outputs": [],
   "source": [
    "df_LTC_out_of_sample = get_trend_following_strategy_performance(start_date=out_of_sample_start_date, end_date=out_of_sample_end_date, ticker='LTC-USD', fast_mavg=50, slow_mavg=250,\n",
    "                                                                mavg_stepsize=6, rolling_donchian_window=20, rolling_sharpe_window=50, include_transaction_costs_and_fees=True, transaction_cost_est=0.005)"
   ]
  },
  {
   "cell_type": "code",
   "execution_count": null,
   "metadata": {},
   "outputs": [],
   "source": [
    "df_LTC_full_sample = get_trend_following_strategy_performance(start_date=full_sample_start_date, end_date=full_sample_end_date, ticker='LTC-USD', fast_mavg=50, slow_mavg=250,\n",
    "                                                                mavg_stepsize=6, rolling_donchian_window=20, rolling_sharpe_window=50, include_transaction_costs_and_fees=True, transaction_cost_est=0.005)"
   ]
  },
  {
   "cell_type": "code",
   "execution_count": null,
   "metadata": {},
   "outputs": [],
   "source": [
    "df_SOL_in_sample = get_trend_following_strategy_performance(start_date=in_sample_start_date, end_date=in_sample_end_date, ticker='SOL-USD', fast_mavg=50, slow_mavg=250,\n",
    "                                                            mavg_stepsize=6, rolling_donchian_window=20, rolling_sharpe_window=50, include_transaction_costs_and_fees=True, transaction_cost_est=0.005)"
   ]
  },
  {
   "cell_type": "code",
   "execution_count": null,
   "metadata": {},
   "outputs": [],
   "source": [
    "df_SOL_out_of_sample = get_trend_following_strategy_performance(start_date=out_of_sample_start_date, end_date=out_of_sample_end_date, ticker='SOL-USD', fast_mavg=50, slow_mavg=250,\n",
    "                                                                mavg_stepsize=6, rolling_donchian_window=20, rolling_sharpe_window=50, include_transaction_costs_and_fees=True, transaction_cost_est=0.005)"
   ]
  },
  {
   "cell_type": "code",
   "execution_count": null,
   "metadata": {},
   "outputs": [],
   "source": [
    "df_SOL_full_sample = get_trend_following_strategy_performance(start_date=full_sample_start_date, end_date=full_sample_end_date, ticker='SOL-USD', fast_mavg=50, slow_mavg=250,\n",
    "                                                                mavg_stepsize=6, rolling_donchian_window=20, rolling_sharpe_window=50, include_transaction_costs_and_fees=True, transaction_cost_est=0.005)"
   ]
  },
  {
   "cell_type": "code",
   "execution_count": null,
   "metadata": {},
   "outputs": [],
   "source": [
    "df_DOGE_in_sample = get_trend_following_strategy_performance(start_date=in_sample_start_date, end_date=in_sample_end_date, ticker='DOGE-USD', fast_mavg=50, slow_mavg=250,\n",
    "                                                            mavg_stepsize=6, rolling_donchian_window=20, rolling_sharpe_window=50, include_transaction_costs_and_fees=True, transaction_cost_est=0.005)"
   ]
  },
  {
   "cell_type": "code",
   "execution_count": null,
   "metadata": {},
   "outputs": [],
   "source": [
    "df_DOGE_out_of_sample = get_trend_following_strategy_performance(start_date=out_of_sample_start_date, end_date=out_of_sample_end_date, ticker='DOGE-USD', fast_mavg=50, slow_mavg=250,\n",
    "                                                                mavg_stepsize=6, rolling_donchian_window=20, rolling_sharpe_window=50, include_transaction_costs_and_fees=True, transaction_cost_est=0.005)"
   ]
  },
  {
   "cell_type": "code",
   "execution_count": null,
   "metadata": {},
   "outputs": [],
   "source": [
    "df_DOGE_full_sample = get_trend_following_strategy_performance(start_date=full_sample_start_date, end_date=full_sample_end_date, ticker='DOGE-USD', fast_mavg=50, slow_mavg=250,\n",
    "                                                                mavg_stepsize=6, rolling_donchian_window=20, rolling_sharpe_window=50, include_transaction_costs_and_fees=True, transaction_cost_est=0.005)"
   ]
  },
  {
   "cell_type": "markdown",
   "metadata": {},
   "source": [
    "## Long Only Strategy Performance"
   ]
  },
  {
   "cell_type": "markdown",
   "metadata": {},
   "source": [
    "### In Sample & Out of Sample Performance"
   ]
  },
  {
   "cell_type": "code",
   "execution_count": null,
   "metadata": {},
   "outputs": [],
   "source": [
    "ticker_list = ['BTC-USD','ETH-USD','LTC-USD','SOL-USD','DOGE-USD']\n",
    "in_sample_long_only_performance_dict = {}\n",
    "out_of_sample_long_only_performance_dict = {}\n",
    "for ticker in ticker_list:\n",
    "    ## Price with Donchian Channels and without Signal Strength Signal\n",
    "    df_long_short_strategy_performance_in_sample = moving_avg_crossover_with_donchian_strategy_performance(start_date=in_sample_start_date, end_date=in_sample_end_date, ticker=ticker,\n",
    "                                                                                                           price_or_returns_calc='price', include_signal_strength=False, long_only=True)\n",
    "    df_long_short_strategy_performance_out_of_sample = moving_avg_crossover_with_donchian_strategy_performance(start_date=out_of_sample_start_date, end_date=out_of_sample_end_date, ticker=ticker,\n",
    "                                                                                                               price_or_returns_calc='price', include_signal_strength=False, long_only=True)\n",
    "    in_sample_long_only_performance_dict[ticker] = df_long_short_strategy_performance_in_sample\n",
    "    out_of_sample_long_only_performance_dict[ticker] = df_long_short_strategy_performance_out_of_sample"
   ]
  },
  {
   "cell_type": "code",
   "execution_count": null,
   "metadata": {},
   "outputs": [],
   "source": [
    "in_sample_long_only_performance_dict['BTC-USD'][in_sample_long_only_performance_dict['BTC-USD']['slow_mavg'] == 250]"
   ]
  },
  {
   "cell_type": "code",
   "execution_count": null,
   "metadata": {},
   "outputs": [],
   "source": [
    "in_sample_long_only_performance_dict['ETH-USD'][in_sample_long_only_performance_dict['ETH-USD']['slow_mavg'] == 250]"
   ]
  },
  {
   "cell_type": "code",
   "execution_count": null,
   "metadata": {},
   "outputs": [],
   "source": [
    "in_sample_long_only_performance_dict['LTC-USD'][in_sample_long_only_performance_dict['LTC-USD']['slow_mavg'] == 250]"
   ]
  },
  {
   "cell_type": "code",
   "execution_count": null,
   "metadata": {},
   "outputs": [],
   "source": [
    "in_sample_long_only_performance_dict['SOL-USD'][in_sample_long_only_performance_dict['SOL-USD']['slow_mavg'] == 250]"
   ]
  },
  {
   "cell_type": "code",
   "execution_count": null,
   "metadata": {},
   "outputs": [],
   "source": [
    "in_sample_long_only_performance_dict['DOGE-USD'][in_sample_long_only_performance_dict['DOGE-USD']['slow_mavg'] == 250]"
   ]
  },
  {
   "cell_type": "code",
   "execution_count": null,
   "metadata": {},
   "outputs": [],
   "source": [
    "df_BTC_long_only_in_sample = get_trend_following_strategy_performance(start_date=in_sample_start_date, end_date=in_sample_end_date, ticker='BTC-USD', fast_mavg=50, slow_mavg=250,\n",
    "                                                            mavg_stepsize=6, rolling_donchian_window=20, rolling_sharpe_window=50, long_only=True, include_transaction_costs_and_fees=True, transaction_cost_est=0.005)"
   ]
  },
  {
   "cell_type": "code",
   "execution_count": null,
   "metadata": {},
   "outputs": [],
   "source": [
    "df_BTC_long_only_out_of_sample = get_trend_following_strategy_performance(start_date=out_of_sample_start_date, end_date=out_of_sample_end_date, ticker='BTC-USD', fast_mavg=50, slow_mavg=250,\n",
    "                                                                          mavg_stepsize=6, rolling_donchian_window=20, rolling_sharpe_window=50, long_only=True, include_transaction_costs_and_fees=True, transaction_cost_est=0.005)"
   ]
  },
  {
   "cell_type": "code",
   "execution_count": null,
   "metadata": {},
   "outputs": [],
   "source": [
    "df_BTC_long_only_full_sample = get_trend_following_strategy_performance(start_date=full_sample_start_date, end_date=full_sample_end_date, ticker='BTC-USD', fast_mavg=50, slow_mavg=250,\n",
    "                                                                        mavg_stepsize=6, rolling_donchian_window=20, rolling_sharpe_window=50, long_only=True, include_transaction_costs_and_fees=True, transaction_cost_est=0.005)"
   ]
  },
  {
   "cell_type": "code",
   "execution_count": null,
   "metadata": {},
   "outputs": [],
   "source": [
    "df_ETH_long_only_in_sample = get_trend_following_strategy_performance(start_date=in_sample_start_date, end_date=in_sample_end_date, ticker='ETH-USD', fast_mavg=50, slow_mavg=250,\n",
    "                                                                      mavg_stepsize=6, rolling_donchian_window=20, rolling_sharpe_window=50, long_only=True, include_transaction_costs_and_fees=True, transaction_cost_est=0.005)"
   ]
  },
  {
   "cell_type": "code",
   "execution_count": null,
   "metadata": {},
   "outputs": [],
   "source": [
    "df_ETH_long_only_out_of_sample = get_trend_following_strategy_performance(start_date=out_of_sample_start_date, end_date=out_of_sample_end_date, ticker='ETH-USD', fast_mavg=50, slow_mavg=250,\n",
    "                                                                          mavg_stepsize=6, rolling_donchian_window=20, rolling_sharpe_window=50, long_only=True, include_transaction_costs_and_fees=True, transaction_cost_est=0.005)"
   ]
  },
  {
   "cell_type": "code",
   "execution_count": null,
   "metadata": {},
   "outputs": [],
   "source": [
    "df_ETH_long_only_full_sample = get_trend_following_strategy_performance(start_date=full_sample_start_date, end_date=full_sample_end_date, ticker='ETH-USD', fast_mavg=50, slow_mavg=250,\n",
    "                                                                        mavg_stepsize=6, rolling_donchian_window=20, rolling_sharpe_window=50, long_only=True, include_transaction_costs_and_fees=True, transaction_cost_est=0.005)"
   ]
  },
  {
   "cell_type": "code",
   "execution_count": null,
   "metadata": {},
   "outputs": [],
   "source": [
    "df_LTC_long_only_in_sample = get_trend_following_strategy_performance(start_date=in_sample_start_date, end_date=in_sample_end_date, ticker='LTC-USD', fast_mavg=50, slow_mavg=250,\n",
    "                                                                      mavg_stepsize=6, rolling_donchian_window=20, rolling_sharpe_window=50, long_only=True, include_transaction_costs_and_fees=True, transaction_cost_est=0.005)"
   ]
  },
  {
   "cell_type": "code",
   "execution_count": null,
   "metadata": {},
   "outputs": [],
   "source": [
    "df_LTC_long_only_out_of_sample = get_trend_following_strategy_performance(start_date=out_of_sample_start_date, end_date=out_of_sample_end_date, ticker='LTC-USD', fast_mavg=50, slow_mavg=250,\n",
    "                                                                          mavg_stepsize=6, rolling_donchian_window=20, rolling_sharpe_window=50, long_only=True, include_transaction_costs_and_fees=True, transaction_cost_est=0.005)"
   ]
  },
  {
   "cell_type": "code",
   "execution_count": null,
   "metadata": {},
   "outputs": [],
   "source": [
    "df_LTC_long_only_full_sample = get_trend_following_strategy_performance(start_date=full_sample_start_date, end_date=full_sample_end_date, ticker='LTC-USD', fast_mavg=50, slow_mavg=250,\n",
    "                                                                        mavg_stepsize=6, rolling_donchian_window=20, rolling_sharpe_window=50, long_only=True, include_transaction_costs_and_fees=True, transaction_cost_est=0.005)"
   ]
  },
  {
   "cell_type": "code",
   "execution_count": null,
   "metadata": {},
   "outputs": [],
   "source": [
    "df_SOL_long_only_in_sample = get_trend_following_strategy_performance(start_date=in_sample_start_date, end_date=in_sample_end_date, ticker='SOL-USD', fast_mavg=50, slow_mavg=250,\n",
    "                                                                      mavg_stepsize=6, rolling_donchian_window=20, rolling_sharpe_window=50, long_only=True, include_transaction_costs_and_fees=True, transaction_cost_est=0.005)"
   ]
  },
  {
   "cell_type": "code",
   "execution_count": null,
   "metadata": {},
   "outputs": [],
   "source": [
    "df_SOL_long_only_out_of_sample = get_trend_following_strategy_performance(start_date=out_of_sample_start_date, end_date=out_of_sample_end_date, ticker='SOL-USD', fast_mavg=50, slow_mavg=250,\n",
    "                                                                          mavg_stepsize=6, rolling_donchian_window=20, rolling_sharpe_window=50, long_only=True, include_transaction_costs_and_fees=True, transaction_cost_est=0.005)"
   ]
  },
  {
   "cell_type": "code",
   "execution_count": null,
   "metadata": {},
   "outputs": [],
   "source": [
    "df_SOL_long_only_full_sample = get_trend_following_strategy_performance(start_date=full_sample_start_date, end_date=full_sample_end_date, ticker='SOL-USD', fast_mavg=50, slow_mavg=250,\n",
    "                                                                        mavg_stepsize=6, rolling_donchian_window=20, rolling_sharpe_window=50, long_only=True, include_transaction_costs_and_fees=True, transaction_cost_est=0.005)"
   ]
  },
  {
   "cell_type": "code",
   "execution_count": null,
   "metadata": {},
   "outputs": [],
   "source": [
    "df_DOGE_in_sample = get_trend_following_strategy_performance(start_date=in_sample_start_date, end_date=in_sample_end_date, ticker='DOGE-USD', fast_mavg=50, slow_mavg=250,\n",
    "                                                            mavg_stepsize=6, rolling_donchian_window=20, rolling_sharpe_window=50, include_transaction_costs_and_fees=True, transaction_cost_est=0.005)"
   ]
  },
  {
   "cell_type": "code",
   "execution_count": null,
   "metadata": {},
   "outputs": [],
   "source": [
    "df_DOGE_out_of_sample = get_trend_following_strategy_performance(start_date=out_of_sample_start_date, end_date=out_of_sample_end_date, ticker='DOGE-USD', fast_mavg=50, slow_mavg=250,\n",
    "                                                                mavg_stepsize=6, rolling_donchian_window=20, rolling_sharpe_window=50, include_transaction_costs_and_fees=True, transaction_cost_est=0.005)"
   ]
  },
  {
   "cell_type": "code",
   "execution_count": null,
   "metadata": {},
   "outputs": [],
   "source": [
    "df_DOGE_full_sample = get_trend_following_strategy_performance(start_date=full_sample_start_date, end_date=full_sample_end_date, ticker='DOGE-USD', fast_mavg=50, slow_mavg=250,\n",
    "                                                                mavg_stepsize=6, rolling_donchian_window=20, rolling_sharpe_window=50, include_transaction_costs_and_fees=True, transaction_cost_est=0.005)"
   ]
  },
  {
   "cell_type": "markdown",
   "metadata": {},
   "source": [
    "## Strategy Performance for Different Macro Factors"
   ]
  },
  {
   "cell_type": "code",
   "execution_count": null,
   "metadata": {},
   "outputs": [],
   "source": [
    "full_sample_market_start_date = full_sample_start_date - pd.Timedelta('2Y')\n",
    "in_sample_market_start_date = in_sample_start_date - pd.Timedelta('2Y')"
   ]
  },
  {
   "cell_type": "code",
   "execution_count": null,
   "metadata": {},
   "outputs": [],
   "source": [
    "## Pull Macro Data\n",
    "macro_indicators = {\n",
    "    'hpi': 'CSUSHPINSA', ## Case Schiller Home Price Index\n",
    "    'cpi': 'CPIAUCSL', ## Consumer Price Index\n",
    "    'ppi_fis': 'PPIFIS', ## Producer Price Index by Commodity for Final Demand: Finished Goods\n",
    "    'ppi_aco': 'PPIACO', ## Producer Price Index by Commodity for All Commodities\n",
    "    'pce': 'PCE', ## Personal Consumption Expenditure Index\n",
    "    'mich_inflation_exp': 'MICH', ## Univ. of Michigan Inflation Expectations\n",
    "    'fed_price_pressure': 'STLPPM', ## St. Louis Fed Price Pressures Measure\n",
    "    'oecd_cpi': 'OECDCPALTT01GYM', ## OECD Consumer Price Index: All Groups: Total for the OECD Member Countries\n",
    "    'm2sl': 'M2SL', ## M2 Money Supply\n",
    "    'us_gdp': 'A191RL1Q225SBEA', ## US GDP\n",
    "    'fed_funds': 'FEDFUNDS', ## Federal Funds Rate\n",
    "    'unemployment_rate': 'UNRATE' ## Unemployment Rate\n",
    "}\n",
    "\n",
    "# macro_data = {}\n",
    "macro_data_dfs = []\n",
    "for name, series_id in macro_indicators.items():\n",
    "    macro_data = pdr.DataReader(series_id, 'fred', in_sample_market_start_date, (in_sample_end_date + pd.Timedelta('30d')))\n",
    "    macro_data_dfs.append(macro_data)\n",
    "\n",
    "# Concatenate DataFrames on the date index\n",
    "df_macro_data = pd.concat(macro_data_dfs, axis=1)\n",
    "col_names = list(macro_indicators.keys())\n",
    "df_macro_data.columns = col_names\n",
    "df_macro_data['us_gdp'] = df_macro_data['us_gdp'].ffill()\n",
    "df_macro_data['us_gdp_daily'] = df_macro_data['us_gdp']/90\n",
    "\n",
    "## Calculate Inflation Metrics\n",
    "df_macro_data['cpi_inflation_rate'] = df_macro_data['cpi'].pct_change(12).fillna(0) * 100\n",
    "df_macro_data['ppi_fis_inflation_rate'] = df_macro_data['ppi_fis'].pct_change(12).fillna(0) * 100\n",
    "df_macro_data['ppi_aco_inflation_rate'] = df_macro_data['ppi_aco'].pct_change(12).fillna(0) * 100\n",
    "df_macro_data['oecd_cpi_inflation_rate'] = df_macro_data['oecd_cpi'].pct_change(12).fillna(0) * 100\n",
    "df_macro_data['pce_inflation_rate'] = df_macro_data['pce'].pct_change(12).fillna(0) * 100\n",
    "\n",
    "## Create Trimmed Dataframe\n",
    "macro_cols = ['cpi_inflation_rate','ppi_fis_inflation_rate','ppi_aco_inflation_rate',\n",
    "             'oecd_cpi_inflation_rate','pce_inflation_rate','us_gdp_daily','fed_funds',\n",
    "             'unemployment_rate','m2sl']\n",
    "df_macro_data = df_macro_data[macro_cols]\n",
    "df_macro_data = df_macro_data.resample('D').ffill()\n",
    "\n",
    "## Pull VIX Index\n",
    "vix = get_close_prices(start_date=in_sample_market_start_date, end_date=in_sample_end_date, ticker='^VIX')\n",
    "df_macro_data = (pd.merge(df_macro_data, vix, left_index=True, right_index=True, how='left')\n",
    "                 .rename(columns={'^VIX':'vix'}))\n",
    "df_macro_data['vix'] = df_macro_data['vix'].ffill()"
   ]
  },
  {
   "cell_type": "code",
   "execution_count": null,
   "metadata": {},
   "outputs": [],
   "source": [
    "df_macro_data.tail(20)"
   ]
  },
  {
   "cell_type": "code",
   "execution_count": null,
   "metadata": {},
   "outputs": [],
   "source": [
    "fig = plt.figure(figsize=(15,8))\n",
    "# plt.style.use('bmh')\n",
    "layout = (1,1)\n",
    "inflation_ax = plt.subplot2grid(layout, (0,0), colspan=2)\n",
    "\n",
    "_ = inflation_ax.plot(df_macro_data.index, df_macro_data['cpi_inflation_rate'], label='CPI Inflation')\n",
    "_ = inflation_ax.plot(df_macro_data.index, df_macro_data['ppi_fis_inflation_rate'], label='PPI FIS Inflation')\n",
    "_ = inflation_ax.plot(df_macro_data.index, df_macro_data['ppi_aco_inflation_rate'], label='PPI ACO Inflation')\n",
    "_ = inflation_ax.plot(df_macro_data.index, df_macro_data['pce_inflation_rate'], label='PCE Inflation')\n",
    "# _ = inflation_ax.plot(df_macro_data.index, df_macro_data['oecd_cpi_inflation_rate'], label='OECD CPI Inflation')\n",
    "_ = inflation_ax.grid()\n",
    "_ = inflation_ax.legend()\n",
    "\n",
    "plt.tight_layout()"
   ]
  },
  {
   "cell_type": "code",
   "execution_count": null,
   "metadata": {},
   "outputs": [],
   "source": [
    "fig = plt.figure(figsize=(15,8))\n",
    "# plt.style.use('bmh')\n",
    "layout = (1,1)\n",
    "m2sl_ax = plt.subplot2grid(layout, (0,0), colspan=2)\n",
    "\n",
    "m2sl_ax2 = m2sl_ax.twinx()\n",
    "_ = m2sl_ax.plot(df_macro_data.index, df_macro_data['m2sl'], label='M2 Money Stock', color='orange')\n",
    "_ = m2sl_ax2.plot(df_macro_data.index, df_macro_data['us_gdp_daily'], label='US GDP', color='blue')\n",
    "# plt.title('M2 Money Stock Over Time')\n",
    "_ = m2sl_ax.set_xlabel('Date')\n",
    "_ = m2sl_ax.set_ylabel('M2 ($ Billion)')\n",
    "# plt.ylabel('M2 ($ Billion)')\n",
    "_ = m2sl_ax.legend()\n",
    "_ = m2sl_ax2.legend()\n",
    "plt.show()"
   ]
  },
  {
   "cell_type": "code",
   "execution_count": null,
   "metadata": {},
   "outputs": [],
   "source": [
    "fig = plt.figure(figsize=(15,8))\n",
    "# plt.style.use('bmh')\n",
    "layout = (1,1)\n",
    "fed_funds_ax = plt.subplot2grid(layout, (0,0), colspan=2)\n",
    "\n",
    "fed_funds_ax2 = fed_funds_ax.twinx()\n",
    "_ = fed_funds_ax.plot(df_macro_data.index, df_macro_data['fed_funds'], label='Fed Funds Rate', color='orange')\n",
    "_ = fed_funds_ax2.plot(df_macro_data.index, df_macro_data['unemployment_rate'], label='Unemployment Rate', color='blue')\n",
    "# plt.title('M2 Money Stock Over Time')\n",
    "_ = fed_funds_ax.set_xlabel('Date')\n",
    "_ = fed_funds_ax.set_ylabel('Fed Funds Rate')\n",
    "_ = fed_funds_ax2.set_ylabel('Unemployment Rate')\n",
    "_ = fed_funds_ax.legend(loc='upper left')\n",
    "_ = fed_funds_ax2.legend(loc='upper right')\n",
    "\n",
    "plt.tight_layout()"
   ]
  },
  {
   "cell_type": "code",
   "execution_count": null,
   "metadata": {},
   "outputs": [],
   "source": [
    "fast_mavg = 50\n",
    "slow_mavg = 250\n",
    "mavg_stepsize = 6\n",
    "rolling_donchian_window = 20\n",
    "ticker_list = ['BTC-USD','ETH-USD','BNB-USD','SOL-USD']\n",
    "df_returns = pd.DataFrame()\n",
    "for ticker in ticker_list:\n",
    "    df_trend = generate_trend_signal_with_donchian_channel(start_date=in_sample_start_date, end_date=in_sample_end_date, ticker=ticker, fast_mavg=fast_mavg, slow_mavg=slow_mavg,\n",
    "                                                           mavg_stepsize=mavg_stepsize, price_or_returns_calc='price', rolling_donchian_window=20, include_signal_strength=False)\n",
    "    strategy_returns_col_name = [f'{ticker}_pct_returns', f'{ticker}_{fast_mavg}_{mavg_stepsize}_{slow_mavg}_mavg_crossover_{rolling_donchian_window}_donchian_strategy_returns']\n",
    "    df_returns[strategy_returns_col_name] = df_trend[strategy_returns_col_name]\n",
    "\n",
    "df_macro_data = df_macro_data.shift(1)\n",
    "df_returns = pd.merge(df_returns, df_macro_data, left_index=True, right_index=True, how='left')"
   ]
  },
  {
   "cell_type": "code",
   "execution_count": null,
   "metadata": {},
   "outputs": [],
   "source": [
    "for ticker in ticker_list:\n",
    "    null_cond = (df_returns[f'{ticker}_pct_returns'].notnull())\n",
    "    df_temp = df_returns[null_cond]\n",
    "    macro_cols = df_macro_data.columns.tolist()\n",
    "    macro_cols.extend([f'{ticker}_pct_returns', f'{ticker}_{fast_mavg}_{mavg_stepsize}_{slow_mavg}_mavg_crossover_{rolling_donchian_window}_donchian_strategy_returns'])\n",
    "    fig = plt.figure(figsize=(30,12))\n",
    "    # plt.style.use('bmh')\n",
    "    layout = (1,3)\n",
    "    corr_ax = plt.subplot2grid(layout, (0,0), colspan=2)\n",
    "\n",
    "    _ = sns.heatmap(df_temp[macro_cols].corr(method='pearson'), annot=True, fmt=\".2f\", cmap='RdYlGn', linewidths=.5, ax=corr_ax)\n",
    "    _ = corr_ax.set_title(f'Macro Factor Correlation Heatmap {ticker}')\n",
    "#     _ = corr_ax.set_ylabel('Slow Moving Average (Days)')\n",
    "#     _ = corr_ax.set_xlabel('Fast Moving Average (Days)')\n",
    "\n",
    "    plt.tight_layout()"
   ]
  },
  {
   "cell_type": "code",
   "execution_count": null,
   "metadata": {},
   "outputs": [],
   "source": [
    "## Rolling Correlations\n",
    "rolling_corr_window = 126\n",
    "for ticker in ticker_list:\n",
    "    null_cond = (df_returns[f'{ticker}_pct_returns'].notnull())\n",
    "    df_temp = df_returns[null_cond]\n",
    "    rolling_corr_cols = ['cpi_inflation_rate','us_gdp_daily','fed_funds']#,'unemployment_rate','m2sl','vix']\n",
    "    strategy_return_col = f'{ticker}_{fast_mavg}_{mavg_stepsize}_{slow_mavg}_mavg_crossover_{rolling_donchian_window}_donchian_strategy_returns'\n",
    "#     rolling_corr_cols.extend([f'{ticker}_pct_returns', strategy_return_col])\n",
    "    \n",
    "    fig = plt.figure(figsize=(30,15))\n",
    "    layout = (2,2)\n",
    "    rolling_strategy_corr_ax = plt.subplot2grid(layout, (0,0), colspan=2)\n",
    "    rolling_ticker_corr_ax = plt.subplot2grid(layout, (1,0), colspan=2)\n",
    "    for col in rolling_corr_cols:\n",
    "        df_temp[f'{ticker}_strategy_return_{col}_rolling_{rolling_corr_window}_corr'] = df_temp[strategy_return_col].rolling(rolling_corr_window).corr(df_temp[col])\n",
    "        df_temp[f'{ticker}_pct_return_{col}_rolling_{rolling_corr_window}_corr'] = df_temp[f'{ticker}_pct_returns'].rolling(rolling_corr_window).corr(df_temp[col])\n",
    "        \n",
    "        _ = rolling_strategy_corr_ax.plot(df_temp.index, df_temp[f'{ticker}_strategy_return_{col}_rolling_{rolling_corr_window}_corr'], label=col)\n",
    "        _ = rolling_ticker_corr_ax.plot(df_temp.index, df_temp[f'{ticker}_pct_return_{col}_rolling_{rolling_corr_window}_corr'], label=col)\n",
    "    _ = rolling_strategy_corr_ax.legend()\n",
    "    _ = rolling_strategy_corr_ax.set_title(f'{ticker} Trend Following Strategy Rolling Correlation')\n",
    "    _ = rolling_ticker_corr_ax.legend()\n",
    "    _ = rolling_ticker_corr_ax.set_title(f'{ticker} Rolling Correlation')\n",
    "    plt.tight_layout()"
   ]
  },
  {
   "cell_type": "code",
   "execution_count": null,
   "metadata": {},
   "outputs": [],
   "source": [
    "## Rolling Correlations\n",
    "rolling_corr_window = 126\n",
    "for ticker in ticker_list:\n",
    "    null_cond = (df_returns[f'{ticker}_pct_returns'].notnull())\n",
    "    df_temp = df_returns[null_cond]\n",
    "    rolling_corr_cols = ['unemployment_rate','m2sl','vix']\n",
    "    strategy_return_col = f'{ticker}_{fast_mavg}_{mavg_stepsize}_{slow_mavg}_mavg_crossover_{rolling_donchian_window}_donchian_strategy_returns'\n",
    "#     rolling_corr_cols.extend([f'{ticker}_pct_returns', strategy_return_col])\n",
    "    \n",
    "    fig = plt.figure(figsize=(30,15))\n",
    "    layout = (2,2)\n",
    "    rolling_strategy_corr_ax = plt.subplot2grid(layout, (0,0), colspan=2)\n",
    "    rolling_ticker_corr_ax = plt.subplot2grid(layout, (1,0), colspan=2)\n",
    "    for col in rolling_corr_cols:\n",
    "        df_temp[f'{ticker}_strategy_return_{col}_rolling_{rolling_corr_window}_corr'] = df_temp[strategy_return_col].rolling(rolling_corr_window).corr(df_temp[col])\n",
    "        df_temp[f'{ticker}_pct_return_{col}_rolling_{rolling_corr_window}_corr'] = df_temp[f'{ticker}_pct_returns'].rolling(rolling_corr_window).corr(df_temp[col])\n",
    "        \n",
    "        _ = rolling_strategy_corr_ax.plot(df_temp.index, df_temp[f'{ticker}_strategy_return_{col}_rolling_{rolling_corr_window}_corr'], label=col)\n",
    "        _ = rolling_ticker_corr_ax.plot(df_temp.index, df_temp[f'{ticker}_pct_return_{col}_rolling_{rolling_corr_window}_corr'], label=col)\n",
    "    _ = rolling_strategy_corr_ax.legend()\n",
    "    _ = rolling_strategy_corr_ax.set_title(f'{ticker} Trend Following Strategy Rolling Correlation')\n",
    "    _ = rolling_ticker_corr_ax.legend()\n",
    "    _ = rolling_ticker_corr_ax.set_title(f'{ticker} Rolling Correlation')\n",
    "    plt.tight_layout()"
   ]
  },
  {
   "cell_type": "markdown",
   "metadata": {},
   "source": [
    "## Strategy Performance Correlation with Different Stock Indices"
   ]
  },
  {
   "cell_type": "code",
   "execution_count": null,
   "metadata": {},
   "outputs": [],
   "source": [
    "## Pull Stock Market Indices\n",
    "indices = {\n",
    "    'S&P 500': '^GSPC',\n",
    "    'NASDAQ Composite': '^IXIC',\n",
    "    'Dow Jones Industrial Average': '^DJI',\n",
    "    'FTSE 100': '^FTSE',\n",
    "    'DAX 30': '^GDAXI',\n",
    "    'Nikkei 225': '^N225',\n",
    "    'Hang Seng': '^HSI',\n",
    "    'Russell 2000': '^RUT',\n",
    "    'MSCI World': 'URTH',  # Using iShares MSCI World ETF as a proxy\n",
    "    'BSE Sensex': '^BSESN'\n",
    "}\n",
    "\n",
    "stock_index_list = ['^GSPC','^IXIC','^DJI','^FTSE','^GDAXI','^N225','^HSI','^RUT','URTH','^BSESN']\n",
    "df_stock_index = get_close_prices(start_date=in_sample_start_date, end_date=in_sample_end_date, ticker=stock_index_list)\n",
    "\n",
    "for stock in stock_index_list:\n",
    "    df_stock_index[f'{stock}_pct_return'] = df_stock_index[f'{stock}'].pct_change()"
   ]
  },
  {
   "cell_type": "code",
   "execution_count": null,
   "metadata": {},
   "outputs": [],
   "source": [
    "fast_mavg = 50\n",
    "slow_mavg = 250\n",
    "mavg_stepsize = 6\n",
    "rolling_donchian_window = 20\n",
    "ticker_list = ['BTC-USD','ETH-USD','BNB-USD','SOL-USD']\n",
    "df_returns = pd.DataFrame()\n",
    "for ticker in ticker_list:\n",
    "    df_trend = generate_trend_signal_with_donchian_channel(start_date=in_sample_start_date, end_date=in_sample_end_date, ticker=ticker, fast_mavg=fast_mavg, slow_mavg=slow_mavg,\n",
    "                                                           mavg_stepsize=mavg_stepsize, price_or_returns_calc='price', rolling_donchian_window=20, include_signal_strength=False)\n",
    "    strategy_returns_col_name = [f'{ticker}_pct_returns', f'{ticker}_{fast_mavg}_{mavg_stepsize}_{slow_mavg}_mavg_crossover_{rolling_donchian_window}_donchian_strategy_returns']\n",
    "    df_returns[strategy_returns_col_name] = df_trend[strategy_returns_col_name]\n",
    "\n",
    "return_cols = [f'{stock}_pct_return' for stock in stock_index_list]\n",
    "df_stock_returns = df_stock_index[return_cols]\n",
    "df_stock_returns = df_stock_returns.reindex(df_returns.index).ffill()\n",
    "\n",
    "# df_macro_data = df_macro_data.shift(1)\n",
    "df_returns = pd.merge(df_returns, df_stock_returns, left_index=True, right_index=True, how='left')"
   ]
  },
  {
   "cell_type": "code",
   "execution_count": null,
   "metadata": {},
   "outputs": [],
   "source": [
    "for ticker in ticker_list:\n",
    "    null_cond = (df_returns[f'{ticker}_pct_returns'].notnull()) & (df_returns.index.get_level_values('Date') >= '2014-09-29')\n",
    "    df_temp = df_returns[null_cond]\n",
    "#     stock_index_cols = []\n",
    "    stock_index_cols = [f'{stock}_pct_return' for stock in stock_index_list]\n",
    "    stock_index_cols.extend([f'{ticker}_pct_returns', f'{ticker}_{fast_mavg}_{mavg_stepsize}_{slow_mavg}_mavg_crossover_{rolling_donchian_window}_donchian_strategy_returns'])\n",
    "    \n",
    "    fig = plt.figure(figsize=(30,12))\n",
    "    # plt.style.use('bmh')\n",
    "    layout = (1,3)\n",
    "    corr_ax = plt.subplot2grid(layout, (0,0), colspan=2)\n",
    "\n",
    "    _ = sns.heatmap(df_temp[stock_index_cols].corr(method='pearson'), annot=True, fmt=\".2f\", cmap='RdYlGn', linewidths=.5, ax=corr_ax)\n",
    "    _ = corr_ax.set_title(f'Stock Index Correlation Heatmap {ticker}')\n",
    "\n",
    "    plt.tight_layout()"
   ]
  },
  {
   "cell_type": "code",
   "execution_count": null,
   "metadata": {},
   "outputs": [],
   "source": [
    "fig = plt.figure(figsize=(22,10))\n",
    "layout = (1,2)\n",
    "rolling_strategy_corr_ax = plt.subplot2grid(layout, (0,0), colspan=2)\n",
    "\n",
    "for stock in stock_index_list:\n",
    "    _ = rolling_strategy_corr_ax.plot(df_stock_returns.index, df_stock_returns[f'{stock}_pct_return'].rolling(100).mean(), label=stock)\n",
    "\n",
    "_ = rolling_strategy_corr_ax.grid()\n",
    "_ = rolling_strategy_corr_ax.legend()\n",
    "_ = rolling_strategy_corr_ax.set_title('Stock Index Returns')\n",
    "\n",
    "plt.tight_layout()"
   ]
  },
  {
   "cell_type": "code",
   "execution_count": null,
   "metadata": {},
   "outputs": [],
   "source": [
    "## Rolling Correlations\n",
    "rolling_corr_window = 50\n",
    "for ticker in ticker_list:\n",
    "    null_cond = (df_returns[f'{ticker}_pct_returns'].notnull())\n",
    "    df_temp = df_returns[null_cond]\n",
    "    stock_index_cols = [f'{stock}_pct_return' for stock in stock_index_list]\n",
    "    strategy_return_col = f'{ticker}_{fast_mavg}_{mavg_stepsize}_{slow_mavg}_mavg_crossover_{rolling_donchian_window}_donchian_strategy_returns'\n",
    "#     rolling_corr_cols.extend([f'{ticker}_pct_returns', strategy_return_col])\n",
    "    \n",
    "    fig = plt.figure(figsize=(30,10))\n",
    "    layout = (2,2)\n",
    "    rolling_strategy_corr_ax = plt.subplot2grid(layout, (0,0), colspan=2)\n",
    "    rolling_ticker_corr_ax = plt.subplot2grid(layout, (1,0), colspan=2)\n",
    "    for col in stock_index_cols[0:5]:\n",
    "        df_temp[f'{ticker}_strategy_return_{col}_rolling_{rolling_corr_window}_corr'] = df_temp[strategy_return_col].rolling(rolling_corr_window).corr(df_temp[col])\n",
    "        df_temp[f'{ticker}_pct_return_{col}_rolling_{rolling_corr_window}_corr'] = df_temp[f'{ticker}_pct_returns'].rolling(rolling_corr_window).corr(df_temp[col])\n",
    "        \n",
    "        _ = rolling_strategy_corr_ax.plot(df_temp.index, df_temp[f'{ticker}_strategy_return_{col}_rolling_{rolling_corr_window}_corr'], label=col)\n",
    "        _ = rolling_ticker_corr_ax.plot(df_temp.index, df_temp[f'{ticker}_pct_return_{col}_rolling_{rolling_corr_window}_corr'], label=col)\n",
    "    _ = rolling_strategy_corr_ax.set_ylim(bottom=-1, top=1)\n",
    "    _ = rolling_strategy_corr_ax.legend()\n",
    "    _ = rolling_strategy_corr_ax.set_title(f'{ticker} Trend Following Strategy Rolling Correlation')\n",
    "    _ = rolling_ticker_corr_ax.set_ylim(bottom=-1, top=1)\n",
    "    _ = rolling_ticker_corr_ax.legend()\n",
    "    _ = rolling_ticker_corr_ax.set_title(f'{ticker} Rolling Correlation')\n",
    "    _ = rolling_strategy_corr_ax.grid()\n",
    "    _ = rolling_ticker_corr_ax.grid()\n",
    "    \n",
    "    plt.tight_layout()"
   ]
  },
  {
   "cell_type": "code",
   "execution_count": null,
   "metadata": {},
   "outputs": [],
   "source": [
    "## Rolling Correlations\n",
    "rolling_corr_window = 50\n",
    "for ticker in ticker_list:\n",
    "    null_cond = (df_returns[f'{ticker}_pct_returns'].notnull())\n",
    "    df_temp = df_returns[null_cond]\n",
    "    stock_index_cols = [f'{stock}_pct_return' for stock in stock_index_list]\n",
    "    strategy_return_col = f'{ticker}_{fast_mavg}_{mavg_stepsize}_{slow_mavg}_mavg_crossover_{rolling_donchian_window}_donchian_strategy_returns'\n",
    "#     rolling_corr_cols.extend([f'{ticker}_pct_returns', strategy_return_col])\n",
    "    \n",
    "    fig = plt.figure(figsize=(30,10))\n",
    "    layout = (2,2)\n",
    "    rolling_strategy_corr_ax = plt.subplot2grid(layout, (0,0), colspan=2)\n",
    "    rolling_ticker_corr_ax = plt.subplot2grid(layout, (1,0), colspan=2)\n",
    "    for col in stock_index_cols[5:10]:\n",
    "        df_temp[f'{ticker}_strategy_return_{col}_rolling_{rolling_corr_window}_corr'] = df_temp[strategy_return_col].rolling(rolling_corr_window).corr(df_temp[col])\n",
    "        df_temp[f'{ticker}_pct_return_{col}_rolling_{rolling_corr_window}_corr'] = df_temp[f'{ticker}_pct_returns'].rolling(rolling_corr_window).corr(df_temp[col])\n",
    "        \n",
    "        _ = rolling_strategy_corr_ax.plot(df_temp.index, df_temp[f'{ticker}_strategy_return_{col}_rolling_{rolling_corr_window}_corr'], label=col)\n",
    "        _ = rolling_ticker_corr_ax.plot(df_temp.index, df_temp[f'{ticker}_pct_return_{col}_rolling_{rolling_corr_window}_corr'], label=col)\n",
    "    _ = rolling_strategy_corr_ax.set_ylim(bottom=-1, top=1)\n",
    "    _ = rolling_strategy_corr_ax.legend()\n",
    "    _ = rolling_strategy_corr_ax.set_title(f'{ticker} Trend Following Strategy Rolling Correlation')\n",
    "    _ = rolling_ticker_corr_ax.set_ylim(bottom=-1, top=1)\n",
    "    _ = rolling_ticker_corr_ax.legend()\n",
    "    _ = rolling_ticker_corr_ax.set_title(f'{ticker} Rolling Correlation')\n",
    "    _ = rolling_strategy_corr_ax.grid()\n",
    "    _ = rolling_ticker_corr_ax.grid()\n",
    "    \n",
    "    plt.tight_layout()"
   ]
  },
  {
   "cell_type": "markdown",
   "metadata": {},
   "source": [
    "## Strategy Performance Correlation with Standard Deviation of Crpyto Prices"
   ]
  },
  {
   "cell_type": "code",
   "execution_count": null,
   "metadata": {},
   "outputs": [],
   "source": [
    "ticker_list = ['BTC-USD','ETH-USD','BNB-USD','SOL-USD']\n",
    "df_crypto_prices_std = get_close_prices(start_date=in_sample_start_date, end_date=in_sample_end_date, ticker=ticker_list)\n",
    "df_crypto_returns_std = get_close_prices(start_date=in_sample_start_date, end_date=in_sample_end_date, ticker=ticker_list)\n",
    "\n",
    "for ticker in ticker_list:\n",
    "#     df_crypto_prices_std[f'{ticker}_20d_price_std'] = df_crypto_prices_std[ticker].rolling(20).std()\n",
    "    df_crypto_returns_std = get_returns_volatility(df_crypto_returns_std, vol_range_list=[5, 10, 20], close_px_col=ticker)"
   ]
  },
  {
   "cell_type": "code",
   "execution_count": null,
   "metadata": {},
   "outputs": [],
   "source": [
    "fast_mavg = 50\n",
    "slow_mavg = 250\n",
    "mavg_stepsize = 6\n",
    "rolling_donchian_window = 20\n",
    "ticker_list = ['BTC-USD','ETH-USD','BNB-USD','SOL-USD']\n",
    "df_returns = pd.DataFrame()\n",
    "for ticker in ticker_list:\n",
    "    df_trend = generate_trend_signal_with_donchian_channel(start_date=in_sample_start_date, end_date=in_sample_end_date, ticker=ticker, fast_mavg=fast_mavg, slow_mavg=slow_mavg,\n",
    "                                                           mavg_stepsize=mavg_stepsize, price_or_returns_calc='price', rolling_donchian_window=20, include_signal_strength=False)\n",
    "    strategy_returns_col_name = [f'{ticker}', f'{ticker}_pct_returns', f'{ticker}_{fast_mavg}_{mavg_stepsize}_{slow_mavg}_mavg_crossover_{rolling_donchian_window}_donchian_strategy_returns']\n",
    "    df_returns[strategy_returns_col_name] = df_trend[strategy_returns_col_name]\n",
    "\n",
    "# price_std_cols = [f'{ticker}_20d_price_std' for ticker in ticker_list]\n",
    "returns_std_cols = [f'{ticker}_volatility_5' for ticker in ticker_list] + [f'{ticker}_volatility_10' for ticker in ticker_list] + [f'{ticker}_volatility_20' for ticker in ticker_list]\n",
    "# df_prices_std = pd.merge(df_returns, df_crypto_prices_std[price_std_cols], left_index=True, right_index=True, how='left')\n",
    "\n",
    "df_volatility = pd.merge(df_returns, df_crypto_returns_std[returns_std_cols], left_index=True, right_index=True, how='left')"
   ]
  },
  {
   "cell_type": "code",
   "execution_count": null,
   "metadata": {
    "scrolled": true
   },
   "outputs": [],
   "source": [
    "ticker='BTC-USD'\n",
    "null_cond = (df_volatility[f'{ticker}_pct_returns'].notnull()) & (df_volatility.index.get_level_values('Date') >= '2014-09-29')\n",
    "df_volatility[null_cond][std_cols].head(20)"
   ]
  },
  {
   "cell_type": "code",
   "execution_count": null,
   "metadata": {},
   "outputs": [],
   "source": [
    "print(df_volatility[null_cond]['BTC-USD_volatility_5'].corr(df_volatility[null_cond]['BTC-USD']))\n",
    "print(df_volatility[null_cond]['BTC-USD_volatility_5'].corr(df_volatility[null_cond]['BTC-USD_pct_returns']))"
   ]
  },
  {
   "cell_type": "code",
   "execution_count": null,
   "metadata": {},
   "outputs": [],
   "source": [
    "for ticker in ticker_list:\n",
    "    null_cond = (df_volatility[f'{ticker}_pct_returns'].notnull()) & (df_volatility.index.get_level_values('Date') >= '2014-09-29')\n",
    "    df_temp = df_volatility[null_cond]\n",
    "#     stock_index_cols = []\n",
    "    std_cols = [f'{ticker}_volatility_5' for ticker in ticker_list]\n",
    "    std_cols.extend([f'{ticker}', f'{ticker}_pct_returns', f'{ticker}_{fast_mavg}_{mavg_stepsize}_{slow_mavg}_mavg_crossover_{rolling_donchian_window}_donchian_strategy_returns'])\n",
    "    \n",
    "    fig = plt.figure(figsize=(30,12))\n",
    "    # plt.style.use('bmh')\n",
    "    layout = (1,3)\n",
    "    corr_ax = plt.subplot2grid(layout, (0,0), colspan=2)\n",
    "\n",
    "    _ = sns.heatmap(df_temp[std_cols].corr(method='pearson'), annot=True, fmt=\".2f\", cmap='RdYlGn', linewidths=.5, ax=corr_ax)\n",
    "    _ = corr_ax.set_title(f'Crypto Returns 5 Day Volatility Correlation Heatmap {ticker}')\n",
    "\n",
    "    plt.tight_layout()"
   ]
  },
  {
   "cell_type": "code",
   "execution_count": null,
   "metadata": {},
   "outputs": [],
   "source": [
    "for ticker in ticker_list:\n",
    "    null_cond = (df_volatility[f'{ticker}_pct_returns'].notnull()) & (df_volatility.index.get_level_values('Date') >= '2014-09-29')\n",
    "    df_temp = df_volatility[null_cond]\n",
    "#     stock_index_cols = []\n",
    "    std_cols = [f'{ticker}_volatility_20' for ticker in ticker_list]\n",
    "    std_cols.extend([f'{ticker}', f'{ticker}_pct_returns', f'{ticker}_{fast_mavg}_{mavg_stepsize}_{slow_mavg}_mavg_crossover_{rolling_donchian_window}_donchian_strategy_returns'])\n",
    "    \n",
    "    fig = plt.figure(figsize=(30,12))\n",
    "    # plt.style.use('bmh')\n",
    "    layout = (1,3)\n",
    "    corr_ax = plt.subplot2grid(layout, (0,0), colspan=2)\n",
    "\n",
    "    _ = sns.heatmap(df_temp[std_cols].corr(method='pearson'), annot=True, fmt=\".2f\", cmap='RdYlGn', linewidths=.5, ax=corr_ax)\n",
    "    _ = corr_ax.set_title(f'Crypto Returns 20 Day Volatility Correlation Heatmap {ticker}')\n",
    "\n",
    "    plt.tight_layout()"
   ]
  },
  {
   "cell_type": "code",
   "execution_count": null,
   "metadata": {},
   "outputs": [],
   "source": [
    "for ticker in ticker_list:\n",
    "    null_cond = (df_volatility[f'{ticker}_pct_returns'].notnull()) & (df_volatility.index.get_level_values('Date') >= '2014-09-29')\n",
    "    df_temp = df_volatility[null_cond]\n",
    "#     stock_index_cols = []\n",
    "    std_cols = [f'{ticker}_volatility_20' for ticker in ticker_list]\n",
    "    std_cols.extend([f'{ticker}', f'{ticker}_pct_returns', f'{ticker}_{fast_mavg}_{mavg_stepsize}_{slow_mavg}_mavg_crossover_{rolling_donchian_window}_donchian_strategy_returns'])\n",
    "    \n",
    "    fig = plt.figure(figsize=(30,12))\n",
    "    # plt.style.use('bmh')\n",
    "    layout = (1,3)\n",
    "    corr_ax = plt.subplot2grid(layout, (0,0), colspan=2)\n",
    "\n",
    "    _ = sns.heatmap(df_temp[std_cols].corr(method='pearson'), annot=True, fmt=\".2f\", cmap='RdYlGn', linewidths=.5, ax=corr_ax)\n",
    "    _ = corr_ax.set_title(f'Crypto Returns 20 Day Volatility Correlation Heatmap {ticker}')\n",
    "\n",
    "    plt.tight_layout()"
   ]
  },
  {
   "cell_type": "code",
   "execution_count": null,
   "metadata": {},
   "outputs": [],
   "source": [
    "df_SP500 = get_close_prices(start_date=in_sample_start_date, end_date=in_sample_end_date, ticker='^GSPC')\n",
    "df_SP500 = get_returns_volatility(df_SP500, vol_range_list=[20], close_px_col='^GSPC')"
   ]
  },
  {
   "cell_type": "code",
   "execution_count": null,
   "metadata": {},
   "outputs": [],
   "source": [
    "fig = plt.figure(figsize=(22,10))\n",
    "layout = (1,2)\n",
    "rolling_strategy_corr_ax = plt.subplot2grid(layout, (0,0), colspan=2)\n",
    "\n",
    "for ticker in ticker_list:\n",
    "    _ = rolling_strategy_corr_ax.plot(df_crypto_returns_std.index, df_crypto_returns_std[f'{ticker}_volatility_20'] * np.sqrt(365), label=ticker)\n",
    "\n",
    "_ = rolling_strategy_corr_ax.plot(df_SP500.index, df_SP500[f'^GSPC_volatility_20'] * np.sqrt(252), label='S&P 500')\n",
    "_ = rolling_strategy_corr_ax.grid()\n",
    "_ = rolling_strategy_corr_ax.legend()\n",
    "_ = rolling_strategy_corr_ax.set_title('Crypto Annualized Volatility')\n",
    "\n",
    "plt.tight_layout()"
   ]
  },
  {
   "cell_type": "code",
   "execution_count": null,
   "metadata": {},
   "outputs": [],
   "source": [
    "## Rolling Correlations\n",
    "rolling_corr_window = 50\n",
    "for ticker in ticker_list:\n",
    "#     null_cond = (df_returns[f'{ticker}_pct_returns'].notnull())\n",
    "    null_cond = (df_volatility[f'{ticker}_pct_returns'].notnull()) & (df_volatility.index.get_level_values('Date') >= '2014-09-29')\n",
    "    df_temp = df_volatility[null_cond]\n",
    "    volatility_cols = [f'{crypto}_volatility_5' for crypto in ticker_list]\n",
    "    strategy_return_col = f'{ticker}_{fast_mavg}_{mavg_stepsize}_{slow_mavg}_mavg_crossover_{rolling_donchian_window}_donchian_strategy_returns'\n",
    "#     rolling_corr_cols.extend([f'{ticker}_pct_returns', strategy_return_col])\n",
    "    \n",
    "    fig = plt.figure(figsize=(30,10))\n",
    "    layout = (2,2)\n",
    "    rolling_strategy_corr_ax = plt.subplot2grid(layout, (0,0), colspan=2)\n",
    "    rolling_ticker_corr_ax = plt.subplot2grid(layout, (1,0), colspan=2)\n",
    "    for col in volatility_cols:\n",
    "        df_temp[f'{ticker}_strategy_return_{col}_rolling_{rolling_corr_window}_corr'] = df_temp[strategy_return_col].rolling(rolling_corr_window).corr(df_temp[col])\n",
    "        df_temp[f'{ticker}_pct_return_{col}_rolling_{rolling_corr_window}_corr'] = df_temp[f'{ticker}_pct_returns'].rolling(rolling_corr_window).corr(df_temp[col])\n",
    "        \n",
    "        _ = rolling_strategy_corr_ax.plot(df_temp.index, df_temp[f'{ticker}_strategy_return_{col}_rolling_{rolling_corr_window}_corr'], label=col)\n",
    "        _ = rolling_ticker_corr_ax.plot(df_temp.index, df_temp[f'{ticker}_pct_return_{col}_rolling_{rolling_corr_window}_corr'], label=col)\n",
    "    _ = rolling_strategy_corr_ax.set_ylim(bottom=-1, top=1)\n",
    "    _ = rolling_strategy_corr_ax.legend()\n",
    "    _ = rolling_strategy_corr_ax.set_title(f'{ticker} Trend Following Strategy Rolling Correlation with 5 Day Volatility')\n",
    "    _ = rolling_ticker_corr_ax.set_ylim(bottom=-1, top=1)\n",
    "    _ = rolling_ticker_corr_ax.legend()\n",
    "    _ = rolling_ticker_corr_ax.set_title(f'{ticker} Returns Rolling Correlation')\n",
    "    _ = rolling_strategy_corr_ax.grid()\n",
    "    _ = rolling_ticker_corr_ax.grid()\n",
    "    \n",
    "    plt.tight_layout()"
   ]
  },
  {
   "cell_type": "code",
   "execution_count": null,
   "metadata": {},
   "outputs": [],
   "source": [
    "## Rolling Correlations\n",
    "rolling_corr_window = 50\n",
    "for ticker in ticker_list:\n",
    "#     null_cond = (df_returns[f'{ticker}_pct_returns'].notnull())\n",
    "    null_cond = (df_volatility[f'{ticker}_pct_returns'].notnull()) & (df_volatility.index.get_level_values('Date') >= '2014-09-29')\n",
    "    df_temp = df_volatility[null_cond]\n",
    "    volatility_cols = [f'{crypto}_volatility_10' for crypto in ticker_list]\n",
    "    strategy_return_col = f'{ticker}_{fast_mavg}_{mavg_stepsize}_{slow_mavg}_mavg_crossover_{rolling_donchian_window}_donchian_strategy_returns'\n",
    "#     rolling_corr_cols.extend([f'{ticker}_pct_returns', strategy_return_col])\n",
    "    \n",
    "    fig = plt.figure(figsize=(30,10))\n",
    "    layout = (2,2)\n",
    "    rolling_strategy_corr_ax = plt.subplot2grid(layout, (0,0), colspan=2)\n",
    "    rolling_ticker_corr_ax = plt.subplot2grid(layout, (1,0), colspan=2)\n",
    "    for col in volatility_cols:\n",
    "        df_temp[f'{ticker}_strategy_return_{col}_rolling_{rolling_corr_window}_corr'] = df_temp[strategy_return_col].rolling(rolling_corr_window).corr(df_temp[col])\n",
    "        df_temp[f'{ticker}_pct_return_{col}_rolling_{rolling_corr_window}_corr'] = df_temp[f'{ticker}_pct_returns'].rolling(rolling_corr_window).corr(df_temp[col])\n",
    "        \n",
    "        _ = rolling_strategy_corr_ax.plot(df_temp.index, df_temp[f'{ticker}_strategy_return_{col}_rolling_{rolling_corr_window}_corr'], label=col)\n",
    "        _ = rolling_ticker_corr_ax.plot(df_temp.index, df_temp[f'{ticker}_pct_return_{col}_rolling_{rolling_corr_window}_corr'], label=col)\n",
    "    _ = rolling_strategy_corr_ax.set_ylim(bottom=-1, top=1)\n",
    "    _ = rolling_strategy_corr_ax.legend()\n",
    "    _ = rolling_strategy_corr_ax.set_title(f'{ticker} Trend Following Strategy Rolling Correlation with 10 Day Volatility')\n",
    "    _ = rolling_ticker_corr_ax.set_ylim(bottom=-1, top=1)\n",
    "    _ = rolling_ticker_corr_ax.legend()\n",
    "    _ = rolling_ticker_corr_ax.set_title(f'{ticker} Returns Rolling Correlation')\n",
    "    _ = rolling_strategy_corr_ax.grid()\n",
    "    _ = rolling_ticker_corr_ax.grid()\n",
    "    \n",
    "    plt.tight_layout()"
   ]
  },
  {
   "cell_type": "markdown",
   "metadata": {},
   "source": [
    "## Strategy Performance Correlation with Crypto Trading Volume"
   ]
  },
  {
   "cell_type": "code",
   "execution_count": null,
   "metadata": {},
   "outputs": [],
   "source": [
    "ticker_list = ['BTC-USD','ETH-USD','BNB-USD','SOL-USD']\n",
    "df_crypto_volume = load_financial_data(start_date=in_sample_start_date, end_date=in_sample_end_date, ticker=ticker_list)\n",
    "df_crypto_volume = df_crypto_volume['Volume']\n",
    "df_crypto_volume.columns = [f'{ticker}_volume' for ticker in ticker_list]"
   ]
  },
  {
   "cell_type": "code",
   "execution_count": null,
   "metadata": {},
   "outputs": [],
   "source": [
    "df_crypto_volume.head()"
   ]
  },
  {
   "cell_type": "code",
   "execution_count": null,
   "metadata": {},
   "outputs": [],
   "source": [
    "fast_mavg = 50\n",
    "slow_mavg = 250\n",
    "mavg_stepsize = 6\n",
    "rolling_donchian_window = 20\n",
    "ticker_list = ['BTC-USD','ETH-USD','BNB-USD','SOL-USD']\n",
    "df_returns = pd.DataFrame()\n",
    "for ticker in ticker_list:\n",
    "    df_trend = generate_trend_signal_with_donchian_channel(start_date=in_sample_start_date, end_date=in_sample_end_date, ticker=ticker, fast_mavg=fast_mavg, slow_mavg=slow_mavg,\n",
    "                                                           mavg_stepsize=mavg_stepsize, price_or_returns_calc='price', rolling_donchian_window=20, include_signal_strength=False)\n",
    "    strategy_returns_col_name = [f'{ticker}', f'{ticker}_pct_returns', f'{ticker}_{fast_mavg}_{mavg_stepsize}_{slow_mavg}_mavg_crossover_{rolling_donchian_window}_donchian_strategy_returns']\n",
    "    df_returns[strategy_returns_col_name] = df_trend[strategy_returns_col_name]\n",
    "\n",
    "volume_cols = [f'{ticker}_volume' for ticker in ticker_list]\n",
    "df_volume = pd.merge(df_returns, df_crypto_volume[volume_cols], left_index=True, right_index=True, how='left')"
   ]
  },
  {
   "cell_type": "code",
   "execution_count": null,
   "metadata": {},
   "outputs": [],
   "source": [
    "print(df_volatility[null_cond]['BTC-USD_volatility_5'].corr(df_volatility[null_cond]['BTC-USD']))\n",
    "print(df_volatility[null_cond]['BTC-USD_volatility_5'].corr(df_volatility[null_cond]['BTC-USD_pct_returns']))"
   ]
  },
  {
   "cell_type": "code",
   "execution_count": null,
   "metadata": {},
   "outputs": [],
   "source": [
    "for ticker in ticker_list:\n",
    "    null_cond = (df_volume[f'{ticker}_pct_returns'].notnull()) & (df_volume.index.get_level_values('Date') >= '2014-09-29')\n",
    "    df_temp = df_volume[null_cond]\n",
    "#     stock_index_cols = []\n",
    "    volume_cols = [f'{ticker}_volume' for ticker in ticker_list]\n",
    "    volume_cols.extend([f'{ticker}', f'{ticker}_pct_returns', f'{ticker}_{fast_mavg}_{mavg_stepsize}_{slow_mavg}_mavg_crossover_{rolling_donchian_window}_donchian_strategy_returns'])\n",
    "    \n",
    "    fig = plt.figure(figsize=(30,12))\n",
    "    # plt.style.use('bmh')\n",
    "    layout = (1,3)\n",
    "    corr_ax = plt.subplot2grid(layout, (0,0), colspan=2)\n",
    "\n",
    "    _ = sns.heatmap(df_temp[volume_cols].corr(method='pearson'), annot=True, fmt=\".2f\", cmap='RdYlGn', linewidths=.5, ax=corr_ax)\n",
    "    _ = corr_ax.set_title(f'{ticker} Returns Correlation Heatmap with Trading Volume')\n",
    "\n",
    "    plt.tight_layout()"
   ]
  },
  {
   "cell_type": "code",
   "execution_count": null,
   "metadata": {},
   "outputs": [],
   "source": [
    "import matplotlib.ticker as ticker\n",
    "\n",
    "# Define a function to format y-axis in millions\n",
    "def millions(x, pos):\n",
    "    return '%1.1fM' % (x * 1e-6)\n",
    "\n",
    "def billions(x, pos):\n",
    "    return '%1.1fB' % (x * 1e-9)\n",
    "\n",
    "fig = plt.figure(figsize=(18,8))\n",
    "layout = (1,2)\n",
    "volume_ax = plt.subplot2grid(layout, (0,0), colspan=2)\n",
    "\n",
    "for ticker in ticker_list:\n",
    "    _ = volume_ax.plot(df_volume.index, df_volume[f'{ticker}_volume'] * np.sqrt(365), label=ticker)\n",
    "\n",
    "_ = volume_ax.yaxis.set_major_formatter(mpl.ticker.FuncFormatter(billions))\n",
    "# _ = rolling_strategy_corr_ax.plot(df_SP500.index, df_SP500[f'^GSPC_volatility_20'] * np.sqrt(252), label='S&P 500')\n",
    "_ = volume_ax.grid()\n",
    "_ = volume_ax.legend()\n",
    "_ = volume_ax.set_title('Crypto Volume')\n",
    "\n",
    "plt.tight_layout()"
   ]
  },
  {
   "cell_type": "code",
   "execution_count": null,
   "metadata": {},
   "outputs": [],
   "source": [
    "## Rolling Correlations\n",
    "rolling_corr_window = 50\n",
    "for ticker in ticker_list:\n",
    "#     null_cond = (df_returns[f'{ticker}_pct_returns'].notnull())\n",
    "    null_cond = (df_volume[f'{ticker}_pct_returns'].notnull()) & (df_volume.index.get_level_values('Date') >= '2014-09-29')\n",
    "    df_temp = df_volume[null_cond]\n",
    "    volume_cols = [f'{ticker}_volume' for ticker in ticker_list]\n",
    "    strategy_return_col = f'{ticker}_{fast_mavg}_{mavg_stepsize}_{slow_mavg}_mavg_crossover_{rolling_donchian_window}_donchian_strategy_returns'\n",
    "    \n",
    "    fig = plt.figure(figsize=(30,10))\n",
    "    layout = (2,2)\n",
    "    rolling_strategy_corr_ax = plt.subplot2grid(layout, (0,0), colspan=2)\n",
    "    rolling_ticker_corr_ax = plt.subplot2grid(layout, (1,0), colspan=2)\n",
    "    for col in volume_cols:\n",
    "        df_temp[f'{ticker}_strategy_return_{col}_rolling_{rolling_corr_window}_corr'] = df_temp[strategy_return_col].rolling(rolling_corr_window).corr(df_temp[col])\n",
    "        df_temp[f'{ticker}_pct_return_{col}_rolling_{rolling_corr_window}_corr'] = df_temp[f'{ticker}_pct_returns'].rolling(rolling_corr_window).corr(df_temp[col])\n",
    "        \n",
    "        _ = rolling_strategy_corr_ax.plot(df_temp.index, df_temp[f'{ticker}_strategy_return_{col}_rolling_{rolling_corr_window}_corr'], label=col)\n",
    "        _ = rolling_ticker_corr_ax.plot(df_temp.index, df_temp[f'{ticker}_pct_return_{col}_rolling_{rolling_corr_window}_corr'], label=col)\n",
    "    _ = rolling_strategy_corr_ax.set_ylim(bottom=-1, top=1)\n",
    "    _ = rolling_strategy_corr_ax.legend()\n",
    "    _ = rolling_strategy_corr_ax.set_title(f'{ticker} Trend Following Strategy Rolling Correlation with Trading Volume')\n",
    "    _ = rolling_ticker_corr_ax.set_ylim(bottom=-1, top=1)\n",
    "    _ = rolling_ticker_corr_ax.legend()\n",
    "    _ = rolling_ticker_corr_ax.set_title(f'{ticker} Returns Rolling Correlation')\n",
    "    _ = rolling_strategy_corr_ax.grid()\n",
    "    _ = rolling_ticker_corr_ax.grid()\n",
    "    \n",
    "    plt.tight_layout()"
   ]
  },
  {
   "cell_type": "code",
   "execution_count": null,
   "metadata": {},
   "outputs": [],
   "source": []
  },
  {
   "cell_type": "code",
   "execution_count": null,
   "metadata": {},
   "outputs": [],
   "source": [
    "df_trend.head()"
   ]
  },
  {
   "cell_type": "code",
   "execution_count": null,
   "metadata": {},
   "outputs": [],
   "source": [
    "df_crypto_returns_std.head()"
   ]
  },
  {
   "cell_type": "code",
   "execution_count": null,
   "metadata": {},
   "outputs": [],
   "source": [
    "## Rolling Correlations\n",
    "rolling_corr_window = 50\n",
    "for ticker in ticker_list:\n",
    "    null_cond = (df_returns[f'{ticker}_pct_returns'].notnull())\n",
    "    df_temp = df_returns[null_cond]\n",
    "    stock_index_cols = [f'{stock}_pct_return' for stock in stock_index_list]\n",
    "    strategy_return_col = f'{ticker}_{fast_mavg}_{mavg_stepsize}_{slow_mavg}_mavg_crossover_{rolling_donchian_window}_donchian_strategy_returns'\n",
    "#     rolling_corr_cols.extend([f'{ticker}_pct_returns', strategy_return_col])\n",
    "    \n",
    "    fig = plt.figure(figsize=(30,15))\n",
    "    layout = (2,2)\n",
    "    rolling_strategy_corr_ax = plt.subplot2grid(layout, (0,0), colspan=2)\n",
    "    rolling_ticker_corr_ax = plt.subplot2grid(layout, (1,0), colspan=2)\n",
    "    for col in stock_index_cols:\n",
    "        df_temp[f'{ticker}_strategy_return_{col}_rolling_{rolling_corr_window}_corr'] = df_temp[strategy_return_col].rolling(rolling_corr_window).corr(df_temp[col])\n",
    "        df_temp[f'{ticker}_pct_return_{col}_rolling_{rolling_corr_window}_corr'] = df_temp[f'{ticker}_pct_returns'].rolling(rolling_corr_window).corr(df_temp[col])\n",
    "        \n",
    "        _ = rolling_strategy_corr_ax.plot(df_temp.index, df_temp[f'{ticker}_strategy_return_{col}_rolling_{rolling_corr_window}_corr'], label=col)\n",
    "        _ = rolling_ticker_corr_ax.plot(df_temp.index, df_temp[f'{ticker}_pct_return_{col}_rolling_{rolling_corr_window}_corr'], label=col)\n",
    "    _ = rolling_strategy_corr_ax.legend()\n",
    "    _ = rolling_strategy_corr_ax.set_title(f'{ticker} Trend Following Strategy Rolling Correlation')\n",
    "    _ = rolling_ticker_corr_ax.legend()\n",
    "    _ = rolling_ticker_corr_ax.set_title(f'{ticker} Rolling Correlation')\n",
    "    _ = rolling_strategy_corr_ax.grid()\n",
    "    _ = rolling_ticker_corr_ax.grid()\n",
    "    \n",
    "    plt.tight_layout()"
   ]
  },
  {
   "cell_type": "code",
   "execution_count": null,
   "metadata": {
    "scrolled": true
   },
   "outputs": [],
   "source": [
    "df_returns.head(20)"
   ]
  },
  {
   "cell_type": "code",
   "execution_count": null,
   "metadata": {},
   "outputs": [],
   "source": []
  },
  {
   "cell_type": "code",
   "execution_count": null,
   "metadata": {},
   "outputs": [],
   "source": [
    "df_stock_index.head()"
   ]
  },
  {
   "cell_type": "code",
   "execution_count": null,
   "metadata": {},
   "outputs": [],
   "source": []
  },
  {
   "cell_type": "code",
   "execution_count": null,
   "metadata": {
    "scrolled": true
   },
   "outputs": [],
   "source": [
    "df_temp.tail(20)"
   ]
  },
  {
   "cell_type": "code",
   "execution_count": null,
   "metadata": {},
   "outputs": [],
   "source": [
    "df_macro_data.tail(20)"
   ]
  },
  {
   "cell_type": "code",
   "execution_count": null,
   "metadata": {},
   "outputs": [],
   "source": [
    "df_returns[macro_cols].corr()"
   ]
  },
  {
   "cell_type": "code",
   "execution_count": null,
   "metadata": {},
   "outputs": [],
   "source": [
    "macro_cols"
   ]
  },
  {
   "cell_type": "code",
   "execution_count": null,
   "metadata": {},
   "outputs": [],
   "source": [
    "df_returns.head(1000)"
   ]
  },
  {
   "cell_type": "code",
   "execution_count": null,
   "metadata": {
    "scrolled": true
   },
   "outputs": [],
   "source": [
    "df_returns.head(1000)"
   ]
  },
  {
   "cell_type": "code",
   "execution_count": null,
   "metadata": {},
   "outputs": [],
   "source": [
    "df_macro_data.head()"
   ]
  },
  {
   "cell_type": "code",
   "execution_count": null,
   "metadata": {},
   "outputs": [],
   "source": []
  },
  {
   "cell_type": "code",
   "execution_count": null,
   "metadata": {},
   "outputs": [],
   "source": []
  },
  {
   "cell_type": "code",
   "execution_count": null,
   "metadata": {},
   "outputs": [],
   "source": []
  },
  {
   "cell_type": "code",
   "execution_count": null,
   "metadata": {},
   "outputs": [],
   "source": []
  }
 ],
 "metadata": {
  "kernelspec": {
   "display_name": "Python 3 (ipykernel)",
   "language": "python",
   "name": "python3"
  },
  "language_info": {
   "codemirror_mode": {
    "name": "ipython",
    "version": 3
   },
   "file_extension": ".py",
   "mimetype": "text/x-python",
   "name": "python",
   "nbconvert_exporter": "python",
   "pygments_lexer": "ipython3",
   "version": "3.12.2"
  }
 },
 "nbformat": 4,
 "nbformat_minor": 4
}
