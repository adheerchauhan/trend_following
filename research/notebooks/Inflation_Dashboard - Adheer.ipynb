{
 "cells": [
  {
   "cell_type": "code",
   "execution_count": 13,
   "metadata": {},
   "outputs": [],
   "source": [
    "import pandas as pd\n",
    "import pandas_datareader as pdr\n",
    "import plotly.express as px\n",
    "import datetime\n",
    "from datetime import date\n",
    "import dash\n",
    "import dash_core_components as dcc\n",
    "import dash_html_components as html\n",
    "# from dash import dcc, html\n",
    "from dash.dependencies import Output, Input\n",
    "# import dash_bootstrap_components as dbc\n",
    "from bs4 import BeautifulSoup\n",
    "from urllib.request import Request, urlopen\n",
    "from IPython.core.display import display, HTML\n",
    "import yfinance as yf\n",
    "# %matplotlib inline"
   ]
  },
  {
   "cell_type": "code",
   "execution_count": 2,
   "metadata": {},
   "outputs": [],
   "source": [
    "def jupyter_interactive_mode():\n",
    "    display(HTML(\n",
    "    '<style>'\n",
    "    '#notebook { padding-top:0px !important; } '\n",
    "    '.container { width:100% !important; } '\n",
    "    '.end_space { min-height:0px !important; } '\n",
    "    '<style>'\n",
    "    ))\n",
    "    return"
   ]
  },
  {
   "cell_type": "code",
   "execution_count": 3,
   "metadata": {},
   "outputs": [
    {
     "data": {
      "text/html": [
       "<style>#notebook { padding-top:0px !important; } .container { width:100% !important; } .end_space { min-height:0px !important; } <style>"
      ],
      "text/plain": [
       "<IPython.core.display.HTML object>"
      ]
     },
     "metadata": {},
     "output_type": "display_data"
    }
   ],
   "source": [
    "jupyter_interactive_mode()"
   ]
  },
  {
   "cell_type": "code",
   "execution_count": 4,
   "metadata": {},
   "outputs": [],
   "source": [
    "# Function to pull financial data for a ticker using Yahoo Finance's API\n",
    "def load_financial_data(start_date, end_date, ticker):\n",
    "    output_file=f'{ticker}-pickle-{start_date}-{end_date}'\n",
    "    try:\n",
    "        df = pd.read_pickle(output_file)\n",
    "        print(f'File data found...reading {ticker} data')\n",
    "    except FileNotFoundError:\n",
    "        print(f'File not found...downloading the {ticker} data')\n",
    "        df = yf.download(ticker, start=start_date, end=end_date)\n",
    "        df.to_pickle(output_file)\n",
    "    return df"
   ]
  },
  {
   "cell_type": "code",
   "execution_count": 5,
   "metadata": {},
   "outputs": [
    {
     "name": "stdout",
     "output_type": "stream",
     "text": [
      "File not found...downloading the ['GC=F', 'SI=F', 'PL=F', 'HG=F', 'PA=F', 'CL=F', 'HO=F', 'NG=F', 'RB=F', 'ZC=F', 'SB=F', 'ZO=F', 'ZS=F', 'LE=F', 'HE=F', 'CC=F', 'KC=F', 'CT=F', 'LBS=F'] data\n",
      "[*********************100%***********************]  19 of 19 completed\n"
     ]
    }
   ],
   "source": [
    "start = datetime.datetime(2019, 3, 1)\n",
    "end = date.today()\n",
    "data = load_financial_data(start, end,['GC=F', 'SI=F', 'PL=F', 'HG=F', 'PA=F', 'CL=F', 'HO=F',\n",
    "                                       'NG=F', 'RB=F', 'ZC=F', 'SB=F', 'ZO=F', 'ZS=F', 'LE=F',\n",
    "                                       'HE=F', 'CC=F', 'KC=F', 'CT=F', 'LBS=F'])['Adj Close']"
   ]
  },
  {
   "cell_type": "code",
   "execution_count": 8,
   "metadata": {},
   "outputs": [
    {
     "data": {
      "text/html": [
       "<div>\n",
       "<style scoped>\n",
       "    .dataframe tbody tr th:only-of-type {\n",
       "        vertical-align: middle;\n",
       "    }\n",
       "\n",
       "    .dataframe tbody tr th {\n",
       "        vertical-align: top;\n",
       "    }\n",
       "\n",
       "    .dataframe thead th {\n",
       "        text-align: right;\n",
       "    }\n",
       "</style>\n",
       "<table border=\"1\" class=\"dataframe\">\n",
       "  <thead>\n",
       "    <tr style=\"text-align: right;\">\n",
       "      <th></th>\n",
       "      <th>State</th>\n",
       "      <th>Regular</th>\n",
       "      <th>Mid-Grade</th>\n",
       "      <th>Premium</th>\n",
       "      <th>Diesel</th>\n",
       "      <th>Abbreviation</th>\n",
       "    </tr>\n",
       "  </thead>\n",
       "  <tbody>\n",
       "    <tr>\n",
       "      <th>0</th>\n",
       "      <td>Alaska</td>\n",
       "      <td>3.78</td>\n",
       "      <td>3.97</td>\n",
       "      <td>4.23</td>\n",
       "      <td>3.77</td>\n",
       "      <td>AK</td>\n",
       "    </tr>\n",
       "    <tr>\n",
       "      <th>1</th>\n",
       "      <td>Alabama</td>\n",
       "      <td>3.10</td>\n",
       "      <td>3.53</td>\n",
       "      <td>3.92</td>\n",
       "      <td>3.58</td>\n",
       "      <td>AL</td>\n",
       "    </tr>\n",
       "    <tr>\n",
       "      <th>2</th>\n",
       "      <td>Arkansas</td>\n",
       "      <td>3.06</td>\n",
       "      <td>3.46</td>\n",
       "      <td>3.83</td>\n",
       "      <td>3.45</td>\n",
       "      <td>AR</td>\n",
       "    </tr>\n",
       "    <tr>\n",
       "      <th>3</th>\n",
       "      <td>Arizona</td>\n",
       "      <td>3.48</td>\n",
       "      <td>3.80</td>\n",
       "      <td>4.10</td>\n",
       "      <td>3.72</td>\n",
       "      <td>AZ</td>\n",
       "    </tr>\n",
       "    <tr>\n",
       "      <th>4</th>\n",
       "      <td>California</td>\n",
       "      <td>4.60</td>\n",
       "      <td>4.82</td>\n",
       "      <td>5.00</td>\n",
       "      <td>4.96</td>\n",
       "      <td>CA</td>\n",
       "    </tr>\n",
       "  </tbody>\n",
       "</table>\n",
       "</div>"
      ],
      "text/plain": [
       "        State  Regular  Mid-Grade  Premium  Diesel Abbreviation\n",
       "0      Alaska     3.78       3.97     4.23    3.77           AK\n",
       "1     Alabama     3.10       3.53     3.92    3.58           AL\n",
       "2    Arkansas     3.06       3.46     3.83    3.45           AR\n",
       "3     Arizona     3.48       3.80     4.10    3.72           AZ\n",
       "4  California     4.60       4.82     5.00    4.96           CA"
      ]
     },
     "execution_count": 8,
     "metadata": {},
     "output_type": "execute_result"
    }
   ],
   "source": [
    "gas.head()"
   ]
  },
  {
   "cell_type": "code",
   "execution_count": 9,
   "metadata": {},
   "outputs": [
    {
     "data": {
      "text/html": [
       "<div>\n",
       "<style scoped>\n",
       "    .dataframe tbody tr th:only-of-type {\n",
       "        vertical-align: middle;\n",
       "    }\n",
       "\n",
       "    .dataframe tbody tr th {\n",
       "        vertical-align: top;\n",
       "    }\n",
       "\n",
       "    .dataframe thead th {\n",
       "        text-align: right;\n",
       "    }\n",
       "</style>\n",
       "<table border=\"1\" class=\"dataframe\">\n",
       "  <thead>\n",
       "    <tr style=\"text-align: right;\">\n",
       "      <th></th>\n",
       "      <th>Date</th>\n",
       "      <th>level_1</th>\n",
       "      <th>Closing Price</th>\n",
       "    </tr>\n",
       "  </thead>\n",
       "  <tbody>\n",
       "    <tr>\n",
       "      <th>0</th>\n",
       "      <td>2019-03-01</td>\n",
       "      <td>Cocoa</td>\n",
       "      <td>2218.000000</td>\n",
       "    </tr>\n",
       "    <tr>\n",
       "      <th>1</th>\n",
       "      <td>2019-03-01</td>\n",
       "      <td>Crude Oil</td>\n",
       "      <td>55.799999</td>\n",
       "    </tr>\n",
       "    <tr>\n",
       "      <th>2</th>\n",
       "      <td>2019-03-01</td>\n",
       "      <td>Cotton</td>\n",
       "      <td>72.730003</td>\n",
       "    </tr>\n",
       "    <tr>\n",
       "      <th>3</th>\n",
       "      <td>2019-03-01</td>\n",
       "      <td>Gold</td>\n",
       "      <td>1296.400024</td>\n",
       "    </tr>\n",
       "    <tr>\n",
       "      <th>4</th>\n",
       "      <td>2019-03-01</td>\n",
       "      <td>Lean Hogs</td>\n",
       "      <td>56.400002</td>\n",
       "    </tr>\n",
       "  </tbody>\n",
       "</table>\n",
       "</div>"
      ],
      "text/plain": [
       "        Date    level_1  Closing Price\n",
       "0 2019-03-01      Cocoa    2218.000000\n",
       "1 2019-03-01  Crude Oil      55.799999\n",
       "2 2019-03-01     Cotton      72.730003\n",
       "3 2019-03-01       Gold    1296.400024\n",
       "4 2019-03-01  Lean Hogs      56.400002"
      ]
     },
     "execution_count": 9,
     "metadata": {},
     "output_type": "execute_result"
    }
   ],
   "source": [
    "com.head()"
   ]
  },
  {
   "cell_type": "code",
   "execution_count": 11,
   "metadata": {},
   "outputs": [
    {
     "name": "stdout",
     "output_type": "stream",
     "text": [
      "File data found...reading ['GC=F', 'SI=F', 'PL=F', 'HG=F', 'PA=F', 'CL=F', 'HO=F', 'NG=F', 'RB=F', 'ZC=F', 'SB=F', 'ZO=F', 'ZS=F', 'LE=F', 'HE=F', 'CC=F', 'KC=F', 'CT=F', 'LBS=F'] data\n"
     ]
    },
    {
     "data": {
      "application/vnd.plotly.v1+json": {
       "config": {
        "plotlyServerURL": "https://plot.ly"
       },
       "data": [
        {
         "hovertemplate": "DATE=%{x}<br>Univ. of Michigan Inflation Expectations=%{y}<extra></extra>",
         "legendgroup": "",
         "line": {
          "color": "#636efa",
          "dash": "solid"
         },
         "mode": "lines",
         "name": "",
         "orientation": "v",
         "showlegend": false,
         "type": "scatter",
         "x": [
          "2019-03-01T00:00:00",
          "2019-04-01T00:00:00",
          "2019-05-01T00:00:00",
          "2019-06-01T00:00:00",
          "2019-07-01T00:00:00",
          "2019-08-01T00:00:00",
          "2019-09-01T00:00:00",
          "2019-10-01T00:00:00",
          "2019-11-01T00:00:00",
          "2019-12-01T00:00:00",
          "2020-01-01T00:00:00",
          "2020-02-01T00:00:00",
          "2020-03-01T00:00:00",
          "2020-04-01T00:00:00",
          "2020-05-01T00:00:00",
          "2020-06-01T00:00:00",
          "2020-07-01T00:00:00",
          "2020-08-01T00:00:00",
          "2020-09-01T00:00:00",
          "2020-10-01T00:00:00",
          "2020-11-01T00:00:00",
          "2020-12-01T00:00:00",
          "2021-01-01T00:00:00",
          "2021-02-01T00:00:00",
          "2021-03-01T00:00:00",
          "2021-04-01T00:00:00",
          "2021-05-01T00:00:00",
          "2021-06-01T00:00:00",
          "2021-07-01T00:00:00",
          "2021-08-01T00:00:00",
          "2021-09-01T00:00:00",
          "2021-10-01T00:00:00",
          "2021-11-01T00:00:00",
          "2021-12-01T00:00:00",
          "2022-01-01T00:00:00",
          "2022-02-01T00:00:00",
          "2022-03-01T00:00:00",
          "2022-04-01T00:00:00",
          "2022-05-01T00:00:00",
          "2022-06-01T00:00:00",
          "2022-07-01T00:00:00",
          "2022-08-01T00:00:00",
          "2022-09-01T00:00:00",
          "2022-10-01T00:00:00",
          "2022-11-01T00:00:00",
          "2022-12-01T00:00:00",
          "2023-01-01T00:00:00",
          "2023-02-01T00:00:00",
          "2023-03-01T00:00:00",
          "2023-04-01T00:00:00",
          "2023-05-01T00:00:00",
          "2023-06-01T00:00:00",
          "2023-07-01T00:00:00",
          "2023-08-01T00:00:00",
          "2023-09-01T00:00:00",
          "2023-10-01T00:00:00",
          "2023-11-01T00:00:00",
          "2023-12-01T00:00:00",
          "2024-01-01T00:00:00",
          "2024-02-01T00:00:00",
          "2024-03-01T00:00:00",
          "2024-04-01T00:00:00",
          "2024-05-01T00:00:00",
          "2024-06-01T00:00:00"
         ],
         "xaxis": "x",
         "y": [
          2.5,
          2.5,
          2.9,
          2.7,
          2.6,
          2.7,
          2.8,
          2.5,
          2.5,
          2.3,
          2.5,
          2.4,
          2.2,
          2.1,
          3.2,
          3,
          3,
          3.1,
          2.6,
          2.6,
          2.8,
          2.5,
          3,
          3.3,
          3.1,
          3.4,
          4.6,
          4.2,
          4.7,
          4.6,
          4.6,
          4.8,
          4.9,
          4.8,
          4.9,
          4.9,
          5.4,
          5.4,
          5.3,
          5.3,
          5.2,
          4.8,
          4.7,
          5,
          5,
          4.3,
          3.9,
          4.2,
          3.6,
          4.7,
          4.2,
          3.3,
          3.4,
          3.5,
          3.2,
          4.2,
          4.5,
          3.1,
          2.9,
          3,
          2.9,
          3.2,
          3.3,
          3
         ],
         "yaxis": "y"
        }
       ],
       "layout": {
        "legend": {
         "tracegroupgap": 0
        },
        "template": {
         "data": {
          "bar": [
           {
            "error_x": {
             "color": "#2a3f5f"
            },
            "error_y": {
             "color": "#2a3f5f"
            },
            "marker": {
             "line": {
              "color": "#E5ECF6",
              "width": 0.5
             }
            },
            "type": "bar"
           }
          ],
          "barpolar": [
           {
            "marker": {
             "line": {
              "color": "#E5ECF6",
              "width": 0.5
             }
            },
            "type": "barpolar"
           }
          ],
          "carpet": [
           {
            "aaxis": {
             "endlinecolor": "#2a3f5f",
             "gridcolor": "white",
             "linecolor": "white",
             "minorgridcolor": "white",
             "startlinecolor": "#2a3f5f"
            },
            "baxis": {
             "endlinecolor": "#2a3f5f",
             "gridcolor": "white",
             "linecolor": "white",
             "minorgridcolor": "white",
             "startlinecolor": "#2a3f5f"
            },
            "type": "carpet"
           }
          ],
          "choropleth": [
           {
            "colorbar": {
             "outlinewidth": 0,
             "ticks": ""
            },
            "type": "choropleth"
           }
          ],
          "contour": [
           {
            "colorbar": {
             "outlinewidth": 0,
             "ticks": ""
            },
            "colorscale": [
             [
              0,
              "#0d0887"
             ],
             [
              0.1111111111111111,
              "#46039f"
             ],
             [
              0.2222222222222222,
              "#7201a8"
             ],
             [
              0.3333333333333333,
              "#9c179e"
             ],
             [
              0.4444444444444444,
              "#bd3786"
             ],
             [
              0.5555555555555556,
              "#d8576b"
             ],
             [
              0.6666666666666666,
              "#ed7953"
             ],
             [
              0.7777777777777778,
              "#fb9f3a"
             ],
             [
              0.8888888888888888,
              "#fdca26"
             ],
             [
              1,
              "#f0f921"
             ]
            ],
            "type": "contour"
           }
          ],
          "contourcarpet": [
           {
            "colorbar": {
             "outlinewidth": 0,
             "ticks": ""
            },
            "type": "contourcarpet"
           }
          ],
          "heatmap": [
           {
            "colorbar": {
             "outlinewidth": 0,
             "ticks": ""
            },
            "colorscale": [
             [
              0,
              "#0d0887"
             ],
             [
              0.1111111111111111,
              "#46039f"
             ],
             [
              0.2222222222222222,
              "#7201a8"
             ],
             [
              0.3333333333333333,
              "#9c179e"
             ],
             [
              0.4444444444444444,
              "#bd3786"
             ],
             [
              0.5555555555555556,
              "#d8576b"
             ],
             [
              0.6666666666666666,
              "#ed7953"
             ],
             [
              0.7777777777777778,
              "#fb9f3a"
             ],
             [
              0.8888888888888888,
              "#fdca26"
             ],
             [
              1,
              "#f0f921"
             ]
            ],
            "type": "heatmap"
           }
          ],
          "heatmapgl": [
           {
            "colorbar": {
             "outlinewidth": 0,
             "ticks": ""
            },
            "colorscale": [
             [
              0,
              "#0d0887"
             ],
             [
              0.1111111111111111,
              "#46039f"
             ],
             [
              0.2222222222222222,
              "#7201a8"
             ],
             [
              0.3333333333333333,
              "#9c179e"
             ],
             [
              0.4444444444444444,
              "#bd3786"
             ],
             [
              0.5555555555555556,
              "#d8576b"
             ],
             [
              0.6666666666666666,
              "#ed7953"
             ],
             [
              0.7777777777777778,
              "#fb9f3a"
             ],
             [
              0.8888888888888888,
              "#fdca26"
             ],
             [
              1,
              "#f0f921"
             ]
            ],
            "type": "heatmapgl"
           }
          ],
          "histogram": [
           {
            "marker": {
             "colorbar": {
              "outlinewidth": 0,
              "ticks": ""
             }
            },
            "type": "histogram"
           }
          ],
          "histogram2d": [
           {
            "colorbar": {
             "outlinewidth": 0,
             "ticks": ""
            },
            "colorscale": [
             [
              0,
              "#0d0887"
             ],
             [
              0.1111111111111111,
              "#46039f"
             ],
             [
              0.2222222222222222,
              "#7201a8"
             ],
             [
              0.3333333333333333,
              "#9c179e"
             ],
             [
              0.4444444444444444,
              "#bd3786"
             ],
             [
              0.5555555555555556,
              "#d8576b"
             ],
             [
              0.6666666666666666,
              "#ed7953"
             ],
             [
              0.7777777777777778,
              "#fb9f3a"
             ],
             [
              0.8888888888888888,
              "#fdca26"
             ],
             [
              1,
              "#f0f921"
             ]
            ],
            "type": "histogram2d"
           }
          ],
          "histogram2dcontour": [
           {
            "colorbar": {
             "outlinewidth": 0,
             "ticks": ""
            },
            "colorscale": [
             [
              0,
              "#0d0887"
             ],
             [
              0.1111111111111111,
              "#46039f"
             ],
             [
              0.2222222222222222,
              "#7201a8"
             ],
             [
              0.3333333333333333,
              "#9c179e"
             ],
             [
              0.4444444444444444,
              "#bd3786"
             ],
             [
              0.5555555555555556,
              "#d8576b"
             ],
             [
              0.6666666666666666,
              "#ed7953"
             ],
             [
              0.7777777777777778,
              "#fb9f3a"
             ],
             [
              0.8888888888888888,
              "#fdca26"
             ],
             [
              1,
              "#f0f921"
             ]
            ],
            "type": "histogram2dcontour"
           }
          ],
          "mesh3d": [
           {
            "colorbar": {
             "outlinewidth": 0,
             "ticks": ""
            },
            "type": "mesh3d"
           }
          ],
          "parcoords": [
           {
            "line": {
             "colorbar": {
              "outlinewidth": 0,
              "ticks": ""
             }
            },
            "type": "parcoords"
           }
          ],
          "pie": [
           {
            "automargin": true,
            "type": "pie"
           }
          ],
          "scatter": [
           {
            "marker": {
             "colorbar": {
              "outlinewidth": 0,
              "ticks": ""
             }
            },
            "type": "scatter"
           }
          ],
          "scatter3d": [
           {
            "line": {
             "colorbar": {
              "outlinewidth": 0,
              "ticks": ""
             }
            },
            "marker": {
             "colorbar": {
              "outlinewidth": 0,
              "ticks": ""
             }
            },
            "type": "scatter3d"
           }
          ],
          "scattercarpet": [
           {
            "marker": {
             "colorbar": {
              "outlinewidth": 0,
              "ticks": ""
             }
            },
            "type": "scattercarpet"
           }
          ],
          "scattergeo": [
           {
            "marker": {
             "colorbar": {
              "outlinewidth": 0,
              "ticks": ""
             }
            },
            "type": "scattergeo"
           }
          ],
          "scattergl": [
           {
            "marker": {
             "colorbar": {
              "outlinewidth": 0,
              "ticks": ""
             }
            },
            "type": "scattergl"
           }
          ],
          "scattermapbox": [
           {
            "marker": {
             "colorbar": {
              "outlinewidth": 0,
              "ticks": ""
             }
            },
            "type": "scattermapbox"
           }
          ],
          "scatterpolar": [
           {
            "marker": {
             "colorbar": {
              "outlinewidth": 0,
              "ticks": ""
             }
            },
            "type": "scatterpolar"
           }
          ],
          "scatterpolargl": [
           {
            "marker": {
             "colorbar": {
              "outlinewidth": 0,
              "ticks": ""
             }
            },
            "type": "scatterpolargl"
           }
          ],
          "scatterternary": [
           {
            "marker": {
             "colorbar": {
              "outlinewidth": 0,
              "ticks": ""
             }
            },
            "type": "scatterternary"
           }
          ],
          "surface": [
           {
            "colorbar": {
             "outlinewidth": 0,
             "ticks": ""
            },
            "colorscale": [
             [
              0,
              "#0d0887"
             ],
             [
              0.1111111111111111,
              "#46039f"
             ],
             [
              0.2222222222222222,
              "#7201a8"
             ],
             [
              0.3333333333333333,
              "#9c179e"
             ],
             [
              0.4444444444444444,
              "#bd3786"
             ],
             [
              0.5555555555555556,
              "#d8576b"
             ],
             [
              0.6666666666666666,
              "#ed7953"
             ],
             [
              0.7777777777777778,
              "#fb9f3a"
             ],
             [
              0.8888888888888888,
              "#fdca26"
             ],
             [
              1,
              "#f0f921"
             ]
            ],
            "type": "surface"
           }
          ],
          "table": [
           {
            "cells": {
             "fill": {
              "color": "#EBF0F8"
             },
             "line": {
              "color": "white"
             }
            },
            "header": {
             "fill": {
              "color": "#C8D4E3"
             },
             "line": {
              "color": "white"
             }
            },
            "type": "table"
           }
          ]
         },
         "layout": {
          "annotationdefaults": {
           "arrowcolor": "#2a3f5f",
           "arrowhead": 0,
           "arrowwidth": 1
          },
          "autotypenumbers": "strict",
          "coloraxis": {
           "colorbar": {
            "outlinewidth": 0,
            "ticks": ""
           }
          },
          "colorscale": {
           "diverging": [
            [
             0,
             "#8e0152"
            ],
            [
             0.1,
             "#c51b7d"
            ],
            [
             0.2,
             "#de77ae"
            ],
            [
             0.3,
             "#f1b6da"
            ],
            [
             0.4,
             "#fde0ef"
            ],
            [
             0.5,
             "#f7f7f7"
            ],
            [
             0.6,
             "#e6f5d0"
            ],
            [
             0.7,
             "#b8e186"
            ],
            [
             0.8,
             "#7fbc41"
            ],
            [
             0.9,
             "#4d9221"
            ],
            [
             1,
             "#276419"
            ]
           ],
           "sequential": [
            [
             0,
             "#0d0887"
            ],
            [
             0.1111111111111111,
             "#46039f"
            ],
            [
             0.2222222222222222,
             "#7201a8"
            ],
            [
             0.3333333333333333,
             "#9c179e"
            ],
            [
             0.4444444444444444,
             "#bd3786"
            ],
            [
             0.5555555555555556,
             "#d8576b"
            ],
            [
             0.6666666666666666,
             "#ed7953"
            ],
            [
             0.7777777777777778,
             "#fb9f3a"
            ],
            [
             0.8888888888888888,
             "#fdca26"
            ],
            [
             1,
             "#f0f921"
            ]
           ],
           "sequentialminus": [
            [
             0,
             "#0d0887"
            ],
            [
             0.1111111111111111,
             "#46039f"
            ],
            [
             0.2222222222222222,
             "#7201a8"
            ],
            [
             0.3333333333333333,
             "#9c179e"
            ],
            [
             0.4444444444444444,
             "#bd3786"
            ],
            [
             0.5555555555555556,
             "#d8576b"
            ],
            [
             0.6666666666666666,
             "#ed7953"
            ],
            [
             0.7777777777777778,
             "#fb9f3a"
            ],
            [
             0.8888888888888888,
             "#fdca26"
            ],
            [
             1,
             "#f0f921"
            ]
           ]
          },
          "colorway": [
           "#636efa",
           "#EF553B",
           "#00cc96",
           "#ab63fa",
           "#FFA15A",
           "#19d3f3",
           "#FF6692",
           "#B6E880",
           "#FF97FF",
           "#FECB52"
          ],
          "font": {
           "color": "#2a3f5f"
          },
          "geo": {
           "bgcolor": "white",
           "lakecolor": "white",
           "landcolor": "#E5ECF6",
           "showlakes": true,
           "showland": true,
           "subunitcolor": "white"
          },
          "hoverlabel": {
           "align": "left"
          },
          "hovermode": "closest",
          "mapbox": {
           "style": "light"
          },
          "paper_bgcolor": "white",
          "plot_bgcolor": "#E5ECF6",
          "polar": {
           "angularaxis": {
            "gridcolor": "white",
            "linecolor": "white",
            "ticks": ""
           },
           "bgcolor": "#E5ECF6",
           "radialaxis": {
            "gridcolor": "white",
            "linecolor": "white",
            "ticks": ""
           }
          },
          "scene": {
           "xaxis": {
            "backgroundcolor": "#E5ECF6",
            "gridcolor": "white",
            "gridwidth": 2,
            "linecolor": "white",
            "showbackground": true,
            "ticks": "",
            "zerolinecolor": "white"
           },
           "yaxis": {
            "backgroundcolor": "#E5ECF6",
            "gridcolor": "white",
            "gridwidth": 2,
            "linecolor": "white",
            "showbackground": true,
            "ticks": "",
            "zerolinecolor": "white"
           },
           "zaxis": {
            "backgroundcolor": "#E5ECF6",
            "gridcolor": "white",
            "gridwidth": 2,
            "linecolor": "white",
            "showbackground": true,
            "ticks": "",
            "zerolinecolor": "white"
           }
          },
          "shapedefaults": {
           "line": {
            "color": "#2a3f5f"
           }
          },
          "ternary": {
           "aaxis": {
            "gridcolor": "white",
            "linecolor": "white",
            "ticks": ""
           },
           "baxis": {
            "gridcolor": "white",
            "linecolor": "white",
            "ticks": ""
           },
           "bgcolor": "#E5ECF6",
           "caxis": {
            "gridcolor": "white",
            "linecolor": "white",
            "ticks": ""
           }
          },
          "title": {
           "x": 0.05
          },
          "xaxis": {
           "automargin": true,
           "gridcolor": "white",
           "linecolor": "white",
           "ticks": "",
           "title": {
            "standoff": 15
           },
           "zerolinecolor": "white",
           "zerolinewidth": 2
          },
          "yaxis": {
           "automargin": true,
           "gridcolor": "white",
           "linecolor": "white",
           "ticks": "",
           "title": {
            "standoff": 15
           },
           "zerolinecolor": "white",
           "zerolinewidth": 2
          }
         }
        },
        "title": {
         "text": "Univ. of Michigan Consumer Inflation Expectations"
        },
        "xaxis": {
         "anchor": "y",
         "domain": [
          0,
          1
         ],
         "title": {}
        },
        "yaxis": {
         "anchor": "x",
         "domain": [
          0,
          1
         ],
         "title": {}
        }
       }
      },
      "text/html": [
       "<div>                            <div id=\"fd03df24-b0f2-4dea-b42e-a7f7f5e369a2\" class=\"plotly-graph-div\" style=\"height:525px; width:100%;\"></div>            <script type=\"text/javascript\">                require([\"plotly\"], function(Plotly) {                    window.PLOTLYENV=window.PLOTLYENV || {};                                    if (document.getElementById(\"fd03df24-b0f2-4dea-b42e-a7f7f5e369a2\")) {                    Plotly.newPlot(                        \"fd03df24-b0f2-4dea-b42e-a7f7f5e369a2\",                        [{\"hovertemplate\": \"DATE=%{x}<br>Univ. of Michigan Inflation Expectations=%{y}<extra></extra>\", \"legendgroup\": \"\", \"line\": {\"color\": \"#636efa\", \"dash\": \"solid\"}, \"mode\": \"lines\", \"name\": \"\", \"orientation\": \"v\", \"showlegend\": false, \"type\": \"scatter\", \"x\": [\"2019-03-01T00:00:00\", \"2019-04-01T00:00:00\", \"2019-05-01T00:00:00\", \"2019-06-01T00:00:00\", \"2019-07-01T00:00:00\", \"2019-08-01T00:00:00\", \"2019-09-01T00:00:00\", \"2019-10-01T00:00:00\", \"2019-11-01T00:00:00\", \"2019-12-01T00:00:00\", \"2020-01-01T00:00:00\", \"2020-02-01T00:00:00\", \"2020-03-01T00:00:00\", \"2020-04-01T00:00:00\", \"2020-05-01T00:00:00\", \"2020-06-01T00:00:00\", \"2020-07-01T00:00:00\", \"2020-08-01T00:00:00\", \"2020-09-01T00:00:00\", \"2020-10-01T00:00:00\", \"2020-11-01T00:00:00\", \"2020-12-01T00:00:00\", \"2021-01-01T00:00:00\", \"2021-02-01T00:00:00\", \"2021-03-01T00:00:00\", \"2021-04-01T00:00:00\", \"2021-05-01T00:00:00\", \"2021-06-01T00:00:00\", \"2021-07-01T00:00:00\", \"2021-08-01T00:00:00\", \"2021-09-01T00:00:00\", \"2021-10-01T00:00:00\", \"2021-11-01T00:00:00\", \"2021-12-01T00:00:00\", \"2022-01-01T00:00:00\", \"2022-02-01T00:00:00\", \"2022-03-01T00:00:00\", \"2022-04-01T00:00:00\", \"2022-05-01T00:00:00\", \"2022-06-01T00:00:00\", \"2022-07-01T00:00:00\", \"2022-08-01T00:00:00\", \"2022-09-01T00:00:00\", \"2022-10-01T00:00:00\", \"2022-11-01T00:00:00\", \"2022-12-01T00:00:00\", \"2023-01-01T00:00:00\", \"2023-02-01T00:00:00\", \"2023-03-01T00:00:00\", \"2023-04-01T00:00:00\", \"2023-05-01T00:00:00\", \"2023-06-01T00:00:00\", \"2023-07-01T00:00:00\", \"2023-08-01T00:00:00\", \"2023-09-01T00:00:00\", \"2023-10-01T00:00:00\", \"2023-11-01T00:00:00\", \"2023-12-01T00:00:00\", \"2024-01-01T00:00:00\", \"2024-02-01T00:00:00\", \"2024-03-01T00:00:00\", \"2024-04-01T00:00:00\", \"2024-05-01T00:00:00\", \"2024-06-01T00:00:00\"], \"xaxis\": \"x\", \"y\": [2.5, 2.5, 2.9, 2.7, 2.6, 2.7, 2.8, 2.5, 2.5, 2.3, 2.5, 2.4, 2.2, 2.1, 3.2, 3.0, 3.0, 3.1, 2.6, 2.6, 2.8, 2.5, 3.0, 3.3, 3.1, 3.4, 4.6, 4.2, 4.7, 4.6, 4.6, 4.8, 4.9, 4.8, 4.9, 4.9, 5.4, 5.4, 5.3, 5.3, 5.2, 4.8, 4.7, 5.0, 5.0, 4.3, 3.9, 4.2, 3.6, 4.7, 4.2, 3.3, 3.4, 3.5, 3.2, 4.2, 4.5, 3.1, 2.9, 3.0, 2.9, 3.2, 3.3, 3.0], \"yaxis\": \"y\"}],                        {\"legend\": {\"tracegroupgap\": 0}, \"template\": {\"data\": {\"bar\": [{\"error_x\": {\"color\": \"#2a3f5f\"}, \"error_y\": {\"color\": \"#2a3f5f\"}, \"marker\": {\"line\": {\"color\": \"#E5ECF6\", \"width\": 0.5}}, \"type\": \"bar\"}], \"barpolar\": [{\"marker\": {\"line\": {\"color\": \"#E5ECF6\", \"width\": 0.5}}, \"type\": \"barpolar\"}], \"carpet\": [{\"aaxis\": {\"endlinecolor\": \"#2a3f5f\", \"gridcolor\": \"white\", \"linecolor\": \"white\", \"minorgridcolor\": \"white\", \"startlinecolor\": \"#2a3f5f\"}, \"baxis\": {\"endlinecolor\": \"#2a3f5f\", \"gridcolor\": \"white\", \"linecolor\": \"white\", \"minorgridcolor\": \"white\", \"startlinecolor\": \"#2a3f5f\"}, \"type\": \"carpet\"}], \"choropleth\": [{\"colorbar\": {\"outlinewidth\": 0, \"ticks\": \"\"}, \"type\": \"choropleth\"}], \"contour\": [{\"colorbar\": {\"outlinewidth\": 0, \"ticks\": \"\"}, \"colorscale\": [[0.0, \"#0d0887\"], [0.1111111111111111, \"#46039f\"], [0.2222222222222222, \"#7201a8\"], [0.3333333333333333, \"#9c179e\"], [0.4444444444444444, \"#bd3786\"], [0.5555555555555556, \"#d8576b\"], [0.6666666666666666, \"#ed7953\"], [0.7777777777777778, \"#fb9f3a\"], [0.8888888888888888, \"#fdca26\"], [1.0, \"#f0f921\"]], \"type\": \"contour\"}], \"contourcarpet\": [{\"colorbar\": {\"outlinewidth\": 0, \"ticks\": \"\"}, \"type\": \"contourcarpet\"}], \"heatmap\": [{\"colorbar\": {\"outlinewidth\": 0, \"ticks\": \"\"}, \"colorscale\": [[0.0, \"#0d0887\"], [0.1111111111111111, \"#46039f\"], [0.2222222222222222, \"#7201a8\"], [0.3333333333333333, \"#9c179e\"], [0.4444444444444444, \"#bd3786\"], [0.5555555555555556, \"#d8576b\"], [0.6666666666666666, \"#ed7953\"], [0.7777777777777778, \"#fb9f3a\"], [0.8888888888888888, \"#fdca26\"], [1.0, \"#f0f921\"]], \"type\": \"heatmap\"}], \"heatmapgl\": [{\"colorbar\": {\"outlinewidth\": 0, \"ticks\": \"\"}, \"colorscale\": [[0.0, \"#0d0887\"], [0.1111111111111111, \"#46039f\"], [0.2222222222222222, \"#7201a8\"], [0.3333333333333333, \"#9c179e\"], [0.4444444444444444, \"#bd3786\"], [0.5555555555555556, \"#d8576b\"], [0.6666666666666666, \"#ed7953\"], [0.7777777777777778, \"#fb9f3a\"], [0.8888888888888888, \"#fdca26\"], [1.0, \"#f0f921\"]], \"type\": \"heatmapgl\"}], \"histogram\": [{\"marker\": {\"colorbar\": {\"outlinewidth\": 0, \"ticks\": \"\"}}, \"type\": \"histogram\"}], \"histogram2d\": [{\"colorbar\": {\"outlinewidth\": 0, \"ticks\": \"\"}, \"colorscale\": [[0.0, \"#0d0887\"], [0.1111111111111111, \"#46039f\"], [0.2222222222222222, \"#7201a8\"], [0.3333333333333333, \"#9c179e\"], [0.4444444444444444, \"#bd3786\"], [0.5555555555555556, \"#d8576b\"], [0.6666666666666666, \"#ed7953\"], [0.7777777777777778, \"#fb9f3a\"], [0.8888888888888888, \"#fdca26\"], [1.0, \"#f0f921\"]], \"type\": \"histogram2d\"}], \"histogram2dcontour\": [{\"colorbar\": {\"outlinewidth\": 0, \"ticks\": \"\"}, \"colorscale\": [[0.0, \"#0d0887\"], [0.1111111111111111, \"#46039f\"], [0.2222222222222222, \"#7201a8\"], [0.3333333333333333, \"#9c179e\"], [0.4444444444444444, \"#bd3786\"], [0.5555555555555556, \"#d8576b\"], [0.6666666666666666, \"#ed7953\"], [0.7777777777777778, \"#fb9f3a\"], [0.8888888888888888, \"#fdca26\"], [1.0, \"#f0f921\"]], \"type\": \"histogram2dcontour\"}], \"mesh3d\": [{\"colorbar\": {\"outlinewidth\": 0, \"ticks\": \"\"}, \"type\": \"mesh3d\"}], \"parcoords\": [{\"line\": {\"colorbar\": {\"outlinewidth\": 0, \"ticks\": \"\"}}, \"type\": \"parcoords\"}], \"pie\": [{\"automargin\": true, \"type\": \"pie\"}], \"scatter\": [{\"marker\": {\"colorbar\": {\"outlinewidth\": 0, \"ticks\": \"\"}}, \"type\": \"scatter\"}], \"scatter3d\": [{\"line\": {\"colorbar\": {\"outlinewidth\": 0, \"ticks\": \"\"}}, \"marker\": {\"colorbar\": {\"outlinewidth\": 0, \"ticks\": \"\"}}, \"type\": \"scatter3d\"}], \"scattercarpet\": [{\"marker\": {\"colorbar\": {\"outlinewidth\": 0, \"ticks\": \"\"}}, \"type\": \"scattercarpet\"}], \"scattergeo\": [{\"marker\": {\"colorbar\": {\"outlinewidth\": 0, \"ticks\": \"\"}}, \"type\": \"scattergeo\"}], \"scattergl\": [{\"marker\": {\"colorbar\": {\"outlinewidth\": 0, \"ticks\": \"\"}}, \"type\": \"scattergl\"}], \"scattermapbox\": [{\"marker\": {\"colorbar\": {\"outlinewidth\": 0, \"ticks\": \"\"}}, \"type\": \"scattermapbox\"}], \"scatterpolar\": [{\"marker\": {\"colorbar\": {\"outlinewidth\": 0, \"ticks\": \"\"}}, \"type\": \"scatterpolar\"}], \"scatterpolargl\": [{\"marker\": {\"colorbar\": {\"outlinewidth\": 0, \"ticks\": \"\"}}, \"type\": \"scatterpolargl\"}], \"scatterternary\": [{\"marker\": {\"colorbar\": {\"outlinewidth\": 0, \"ticks\": \"\"}}, \"type\": \"scatterternary\"}], \"surface\": [{\"colorbar\": {\"outlinewidth\": 0, \"ticks\": \"\"}, \"colorscale\": [[0.0, \"#0d0887\"], [0.1111111111111111, \"#46039f\"], [0.2222222222222222, \"#7201a8\"], [0.3333333333333333, \"#9c179e\"], [0.4444444444444444, \"#bd3786\"], [0.5555555555555556, \"#d8576b\"], [0.6666666666666666, \"#ed7953\"], [0.7777777777777778, \"#fb9f3a\"], [0.8888888888888888, \"#fdca26\"], [1.0, \"#f0f921\"]], \"type\": \"surface\"}], \"table\": [{\"cells\": {\"fill\": {\"color\": \"#EBF0F8\"}, \"line\": {\"color\": \"white\"}}, \"header\": {\"fill\": {\"color\": \"#C8D4E3\"}, \"line\": {\"color\": \"white\"}}, \"type\": \"table\"}]}, \"layout\": {\"annotationdefaults\": {\"arrowcolor\": \"#2a3f5f\", \"arrowhead\": 0, \"arrowwidth\": 1}, \"autotypenumbers\": \"strict\", \"coloraxis\": {\"colorbar\": {\"outlinewidth\": 0, \"ticks\": \"\"}}, \"colorscale\": {\"diverging\": [[0, \"#8e0152\"], [0.1, \"#c51b7d\"], [0.2, \"#de77ae\"], [0.3, \"#f1b6da\"], [0.4, \"#fde0ef\"], [0.5, \"#f7f7f7\"], [0.6, \"#e6f5d0\"], [0.7, \"#b8e186\"], [0.8, \"#7fbc41\"], [0.9, \"#4d9221\"], [1, \"#276419\"]], \"sequential\": [[0.0, \"#0d0887\"], [0.1111111111111111, \"#46039f\"], [0.2222222222222222, \"#7201a8\"], [0.3333333333333333, \"#9c179e\"], [0.4444444444444444, \"#bd3786\"], [0.5555555555555556, \"#d8576b\"], [0.6666666666666666, \"#ed7953\"], [0.7777777777777778, \"#fb9f3a\"], [0.8888888888888888, \"#fdca26\"], [1.0, \"#f0f921\"]], \"sequentialminus\": [[0.0, \"#0d0887\"], [0.1111111111111111, \"#46039f\"], [0.2222222222222222, \"#7201a8\"], [0.3333333333333333, \"#9c179e\"], [0.4444444444444444, \"#bd3786\"], [0.5555555555555556, \"#d8576b\"], [0.6666666666666666, \"#ed7953\"], [0.7777777777777778, \"#fb9f3a\"], [0.8888888888888888, \"#fdca26\"], [1.0, \"#f0f921\"]]}, \"colorway\": [\"#636efa\", \"#EF553B\", \"#00cc96\", \"#ab63fa\", \"#FFA15A\", \"#19d3f3\", \"#FF6692\", \"#B6E880\", \"#FF97FF\", \"#FECB52\"], \"font\": {\"color\": \"#2a3f5f\"}, \"geo\": {\"bgcolor\": \"white\", \"lakecolor\": \"white\", \"landcolor\": \"#E5ECF6\", \"showlakes\": true, \"showland\": true, \"subunitcolor\": \"white\"}, \"hoverlabel\": {\"align\": \"left\"}, \"hovermode\": \"closest\", \"mapbox\": {\"style\": \"light\"}, \"paper_bgcolor\": \"white\", \"plot_bgcolor\": \"#E5ECF6\", \"polar\": {\"angularaxis\": {\"gridcolor\": \"white\", \"linecolor\": \"white\", \"ticks\": \"\"}, \"bgcolor\": \"#E5ECF6\", \"radialaxis\": {\"gridcolor\": \"white\", \"linecolor\": \"white\", \"ticks\": \"\"}}, \"scene\": {\"xaxis\": {\"backgroundcolor\": \"#E5ECF6\", \"gridcolor\": \"white\", \"gridwidth\": 2, \"linecolor\": \"white\", \"showbackground\": true, \"ticks\": \"\", \"zerolinecolor\": \"white\"}, \"yaxis\": {\"backgroundcolor\": \"#E5ECF6\", \"gridcolor\": \"white\", \"gridwidth\": 2, \"linecolor\": \"white\", \"showbackground\": true, \"ticks\": \"\", \"zerolinecolor\": \"white\"}, \"zaxis\": {\"backgroundcolor\": \"#E5ECF6\", \"gridcolor\": \"white\", \"gridwidth\": 2, \"linecolor\": \"white\", \"showbackground\": true, \"ticks\": \"\", \"zerolinecolor\": \"white\"}}, \"shapedefaults\": {\"line\": {\"color\": \"#2a3f5f\"}}, \"ternary\": {\"aaxis\": {\"gridcolor\": \"white\", \"linecolor\": \"white\", \"ticks\": \"\"}, \"baxis\": {\"gridcolor\": \"white\", \"linecolor\": \"white\", \"ticks\": \"\"}, \"bgcolor\": \"#E5ECF6\", \"caxis\": {\"gridcolor\": \"white\", \"linecolor\": \"white\", \"ticks\": \"\"}}, \"title\": {\"x\": 0.05}, \"xaxis\": {\"automargin\": true, \"gridcolor\": \"white\", \"linecolor\": \"white\", \"ticks\": \"\", \"title\": {\"standoff\": 15}, \"zerolinecolor\": \"white\", \"zerolinewidth\": 2}, \"yaxis\": {\"automargin\": true, \"gridcolor\": \"white\", \"linecolor\": \"white\", \"ticks\": \"\", \"title\": {\"standoff\": 15}, \"zerolinecolor\": \"white\", \"zerolinewidth\": 2}}}, \"title\": {\"text\": \"Univ. of Michigan Consumer Inflation Expectations\"}, \"xaxis\": {\"anchor\": \"y\", \"domain\": [0.0, 1.0], \"title\": {}}, \"yaxis\": {\"anchor\": \"x\", \"domain\": [0.0, 1.0], \"title\": {}}},                        {\"responsive\": true}                    ).then(function(){\n",
       "                            \n",
       "var gd = document.getElementById('fd03df24-b0f2-4dea-b42e-a7f7f5e369a2');\n",
       "var x = new MutationObserver(function (mutations, observer) {{\n",
       "        var display = window.getComputedStyle(gd).display;\n",
       "        if (!display || display === 'none') {{\n",
       "            console.log([gd, 'removed!']);\n",
       "            Plotly.purge(gd);\n",
       "            observer.disconnect();\n",
       "        }}\n",
       "}});\n",
       "\n",
       "// Listen for the removal of the full notebook cells\n",
       "var notebookContainer = gd.closest('#notebook-container');\n",
       "if (notebookContainer) {{\n",
       "    x.observe(notebookContainer, {childList: true});\n",
       "}}\n",
       "\n",
       "// Listen for the clearing of the current output cell\n",
       "var outputEl = gd.closest('.output');\n",
       "if (outputEl) {{\n",
       "    x.observe(outputEl, {childList: true});\n",
       "}}\n",
       "\n",
       "                        })                };                });            </script>        </div>"
      ]
     },
     "metadata": {},
     "output_type": "display_data"
    }
   ],
   "source": [
    "\n",
    "# ------------------------------------------------------------ #\n",
    "\n",
    "start = datetime.datetime(2019, 3, 1)\n",
    "end = date.today()\n",
    "\n",
    "# com = pdr.DataReader(['GC=F', 'SI=F', 'PL=F', 'HG=F', 'PA=F', 'CL=F', 'HO=F',\n",
    "#                       'NG=F', 'RB=F', 'ZC=F', 'SB=F', 'ZO=F', 'ZS=F', 'LE=F',\n",
    "#                       'HE=F', 'CC=F', 'KC=F', 'CT=F', 'LBS=F'],\n",
    "#                      'yahoo', start, end)['Adj Close']\n",
    "com = load_financial_data(start, end,['GC=F', 'SI=F', 'PL=F', 'HG=F', 'PA=F', 'CL=F', 'HO=F',\n",
    "                                       'NG=F', 'RB=F', 'ZC=F', 'SB=F', 'ZO=F', 'ZS=F', 'LE=F',\n",
    "                                       'HE=F', 'CC=F', 'KC=F', 'CT=F', 'LBS=F'])['Adj Close']\n",
    "\n",
    "com = com.rename(columns={'GC=F': 'Gold',\n",
    "                          'SI=F': 'Silver',\n",
    "                          'PL=F': 'Platinum',\n",
    "                          'HG=F': 'Copper',\n",
    "                          'PA=F': 'Palladium',\n",
    "                          'CL=F': 'Crude Oil',\n",
    "                          'HO=F': 'Heating Oil',\n",
    "                          'NG=F': 'Natural Gas',\n",
    "                          'RB=F': 'Gasoline Futures',\n",
    "                          'ZC=F': 'Corn',\n",
    "                          'SB=F': 'Sugar',\n",
    "                          'ZO=F': 'Oat',\n",
    "                          'ZS=F': 'Soybean',\n",
    "                          'LE=F': 'Live Cattle',\n",
    "                          'HE=F': 'Lean Hogs',\n",
    "                          'CC=F': 'Cocoa',\n",
    "                          'KC=F': 'Coffee',\n",
    "                          'CT=F': 'Cotton',\n",
    "                          'LBS=F': 'Lumber'})\n",
    "\n",
    "com = com.stack().reset_index()\n",
    "com = com.rename(columns={com.columns[2]: 'Closing Price'})\n",
    "\n",
    "# ------------------------------------------------------------ #\n",
    "\n",
    "url = 'https://gasprices.aaa.com/state-gas-price-averages/'\n",
    "req = Request(url, headers={'User-Agent': 'Mozilla/5.0'})\n",
    "\n",
    "page = urlopen(req).read()\n",
    "soup = BeautifulSoup(page, 'lxml')\n",
    "table = soup.find_all('table')\n",
    "\n",
    "gas = pd.read_html(str(table))[0]\n",
    "\n",
    "def remove_dollar(sign):\n",
    "    sign = sign.str.replace('$', '', regex=True)\n",
    "    return sign\n",
    "\n",
    "gas = gas.apply(remove_dollar)\n",
    "\n",
    "abbv = {'Alabama': 'AL',\n",
    "        'Alaska': 'AK',\n",
    "        'Arizona': 'AZ',\n",
    "        'Arkansas': 'AR',\n",
    "        'California': 'CA',\n",
    "        'Colorado': 'CO',\n",
    "        'Connecticut': 'CT',\n",
    "        'Delaware': 'DE',\n",
    "        'District of Columbia': 'DC',\n",
    "        'Florida': 'FL',\n",
    "        'Georgia': 'GA',\n",
    "        'Hawaii': 'HI',\n",
    "        'Idaho': 'ID',\n",
    "        'Illinois': 'IL',\n",
    "        'Indiana': 'IN',\n",
    "        'Iowa': 'IA',\n",
    "        'Kansas': 'KS',\n",
    "        'Kentucky': 'KY',\n",
    "        'Louisiana': 'LA',\n",
    "        'Maine': 'ME',\n",
    "        'Maryland': 'MD',\n",
    "        'Massachusetts': 'MA',\n",
    "        'Michigan': 'MI',\n",
    "        'Minnesota': 'MN',\n",
    "        'Mississippi': 'MS',\n",
    "        'Missouri': 'MO',\n",
    "        'Montana': 'MT',\n",
    "        'Nebraska': 'NE',\n",
    "        'Nevada': 'NV',\n",
    "        'New Hampshire': 'NH',\n",
    "        'New Jersey': 'NJ',\n",
    "        'New Mexico': 'NM',\n",
    "        'New York': 'NY',\n",
    "        'North Carolina': 'NC',\n",
    "        'North Dakota': 'ND',\n",
    "        'Ohio': 'OH',\n",
    "        'Oklahoma': 'OK',\n",
    "        'Oregon': 'OR',\n",
    "        'Pennsylvania': 'PA',\n",
    "        'Rhode Island': 'RI',\n",
    "        'South Carolina': 'SC',\n",
    "        'South Dakota': 'SD',\n",
    "        'Tennessee': 'TN',\n",
    "        'Texas': 'TX',\n",
    "        'Utah': 'UT',\n",
    "        'Vermont': 'VT',\n",
    "        'Virginia': 'VA',\n",
    "        'Washington': 'WA',\n",
    "        'West Virginia': 'WV',\n",
    "        'Wisconsin': 'WI',\n",
    "        'Wyoming': 'WY'}\n",
    "\n",
    "gas['Abbreviation'] = gas.State.map(abbv)\n",
    "\n",
    "gas[['Regular', 'Mid-Grade', 'Premium', 'Diesel']] = gas[['Regular', 'Mid-Grade', 'Premium', 'Diesel']].astype(float).round(2)\n",
    "\n",
    "fig2 = px.choropleth(gas,\n",
    "                     locations='Abbreviation',\n",
    "                     color='Regular',\n",
    "                     color_continuous_scale='spectral_r',\n",
    "                     locationmode='USA-states',\n",
    "                     scope='usa',\n",
    "                     title='Price of Regular Unleaded Gasoline',\n",
    "                     height=1000)\n",
    "\n",
    "fig2.add_scattergeo(locations=gas['Abbreviation'],\n",
    "                    locationmode='USA-states',\n",
    "                    text=gas['Abbreviation'],\n",
    "                    mode='text',\n",
    "                    hoverinfo='skip')\n",
    "\n",
    "fig2.update_layout(coloraxis_colorbar_title='Price $',\n",
    "                   title=dict(xanchor='center',\n",
    "                              yanchor='top',\n",
    "                              font_size=18,\n",
    "                              x=0.5,))\n",
    "\n",
    "# ------------------------------------------------------------ #\n",
    "\n",
    "hpi = pdr.DataReader('CSUSHPINSA', 'fred', start, end)\n",
    "cpi = pdr.DataReader('CPIAUCSL', 'fred', start, end)\n",
    "ppi = pdr.DataReader('PPIFIS', 'fred', start, end)\n",
    "pce = pdr.DataReader('PCE', 'fred', start, end)\n",
    "exp = pdr.DataReader('MICH', 'fred', start, end)\n",
    "ppm = pdr.DataReader('STLPPM', 'fred', start, end)\n",
    "\n",
    "hpi['Percent'] = hpi['CSUSHPINSA'].pct_change().round(4) * 100\n",
    "cpi['Percent'] = cpi['CPIAUCSL'].pct_change().round(4) * 100\n",
    "ppi['Percent'] = ppi['PPIFIS'].pct_change().round(4) * 100\n",
    "pce['Percent'] = pce['PCE'].pct_change().round(4) * 100\n",
    "\n",
    "hpi = hpi.rename(columns={'CSUSHPINSA': 'Case Shiller Home Price Index'})\n",
    "cpi = cpi.rename(columns={'CPIAUCSL': 'Consumer Price Index'})\n",
    "ppi = ppi.rename(columns={'PPIFIS': 'Producer Price Index'})\n",
    "pce = pce.rename(columns={'PCE': 'Personal Consumption Expenditures'})\n",
    "exp = exp.rename(columns={'MICH': 'Univ. of Michigan Inflation Expectations'})\n",
    "ppm = ppm.rename(columns={'STLPPM': 'St. Louis Fed Price Pressures Measure'})\n",
    "\n",
    "fig3 = px.bar(cpi,\n",
    "              y='Percent',\n",
    "              color='Percent',\n",
    "              color_continuous_scale='BlueRed',\n",
    "              title='Consumer Price Index - Monthly % Change')\n",
    "fig3.update_xaxes(title=None)\n",
    "fig3.update_yaxes(title=None)\n",
    "\n",
    "fig4 = px.bar(ppi,\n",
    "              y='Percent',\n",
    "              color='Percent',\n",
    "              color_continuous_scale='BlueRed',\n",
    "              title='Producer Price Index - Monthly % Change')\n",
    "fig4.update_xaxes(title=None)\n",
    "fig4.update_yaxes(title=None)\n",
    "\n",
    "fig5 = px.bar(hpi,\n",
    "              y='Percent',\n",
    "              color='Percent',\n",
    "              color_continuous_scale='BlueRed',\n",
    "              title='Case-Shiller Home Price Index - Monthly % Change')\n",
    "fig5.update_xaxes(title=None)\n",
    "fig5.update_yaxes(title=None)\n",
    "\n",
    "fig6 = px.bar(pce,\n",
    "              y='Percent',\n",
    "              color='Percent',\n",
    "              color_continuous_scale='BlueRed',\n",
    "              title='Personal Consumption Expenditures - Monthly % Change')\n",
    "fig6.update_xaxes(title=None)\n",
    "fig6.update_yaxes(title=None)\n",
    "\n",
    "fig7 = px.line(ppm,\n",
    "               y='St. Louis Fed Price Pressures Measure',\n",
    "               title='St. Louis Fed Price Pressures Measure')\n",
    "fig7.update_xaxes(title=None)\n",
    "fig7.update_yaxes(title=None)\n",
    "\n",
    "fig8 = px.line(exp,\n",
    "               y='Univ. of Michigan Inflation Expectations',\n",
    "               title='Univ. of Michigan Consumer Inflation Expectations')\n",
    "fig8.update_xaxes(title=None)\n",
    "fig8.update_yaxes(title=None)\n",
    "\n",
    "# ------------------------------------------------------------ #\n",
    "\n",
    "# app = dash.Dash(__name__, external_stylesheets=[dbc.themes.FLATLY],\n",
    "#                 meta_tags=[{'name': 'viewport',\n",
    "#                             'content': 'width=device-width, initial-scale=1.0'}]\n",
    "#                 )\n",
    "\n",
    "# app.layout = dbc.Container([\n",
    "\n",
    "#     dbc.Row(\n",
    "#         dbc.Col(html.H1('Inflation Tracking Dashboard',\n",
    "#                         className='text-center text-primary mb-4'),\n",
    "#                 width=15)\n",
    "#             ),\n",
    "\n",
    "#     dbc.Row([\n",
    "#         dbc.Col([\n",
    "#             dcc.Dropdown(id='drpdwn',\n",
    "#                          multi=False,\n",
    "#                          clearable=False,\n",
    "#                          placeholder='Select a Commodity',\n",
    "#                          options=[{'label': x, 'value': x}\n",
    "#                                   for x in sorted(com['Symbols'].unique())]\n",
    "#                          ),\n",
    "#             dcc.Graph(id='commodity-select', figure={})\n",
    "#                 ])\n",
    "#             ]),\n",
    "\n",
    "#     dbc.Row(\n",
    "#         dbc.Col([\n",
    "#             dcc.Graph(id='gas_map', figure=fig2)\n",
    "#                 ]), justify='center'\n",
    "#             ),\n",
    "\n",
    "#     dbc.Row([\n",
    "#         dbc.Col(\n",
    "#             dcc.Graph(id='cpi_bar', figure=fig3)),\n",
    "#         dbc.Col(\n",
    "#             dcc.Graph(id='ppi_bar', figure=fig4)),\n",
    "#         dbc.Col(\n",
    "#             dcc.Graph(id='hpi_bar', figure=fig5))\n",
    "#             ]),\n",
    "\n",
    "#     dbc.Row([\n",
    "#             dbc.Col(\n",
    "#                 dcc.Graph(id='pce_bar', figure=fig6)),\n",
    "#             dbc.Col(\n",
    "#                 dcc.Graph(id='ppm_line', figure=fig7)),\n",
    "#             dbc.Col(\n",
    "#                 dcc.Graph(id='exp_line', figure=fig8))\n",
    "#             ]),\n",
    "\n",
    "#     ], fluid=True)\n",
    "\n",
    "# # ------------------------------------------------------------ #\n",
    "\n",
    "# @app.callback(Output('commodity-select', 'figure'),\n",
    "#               Input('drpdwn', 'value'))\n",
    "\n",
    "# def update_plot(commodity_selected):\n",
    "#     com_select = com[com['Symbols'] == commodity_selected]\n",
    "#     fig1 = px.line(com_select,\n",
    "#                    y='Closing Price',\n",
    "#                    x='Date',\n",
    "#                    height=700)\n",
    "#     fig1.update_xaxes(title=None)\n",
    "#     return fig1\n",
    "\n",
    "# if __name__ == '__main__':\n",
    "#     app.run_server(debug=True, port=8080)"
   ]
  },
  {
   "cell_type": "code",
   "execution_count": 14,
   "metadata": {},
   "outputs": [
    {
     "data": {
      "text/html": [
       "<div>\n",
       "<style scoped>\n",
       "    .dataframe tbody tr th:only-of-type {\n",
       "        vertical-align: middle;\n",
       "    }\n",
       "\n",
       "    .dataframe tbody tr th {\n",
       "        vertical-align: top;\n",
       "    }\n",
       "\n",
       "    .dataframe thead th {\n",
       "        text-align: right;\n",
       "    }\n",
       "</style>\n",
       "<table border=\"1\" class=\"dataframe\">\n",
       "  <thead>\n",
       "    <tr style=\"text-align: right;\">\n",
       "      <th></th>\n",
       "      <th>Case Shiller Home Price Index</th>\n",
       "      <th>Percent</th>\n",
       "    </tr>\n",
       "    <tr>\n",
       "      <th>DATE</th>\n",
       "      <th></th>\n",
       "      <th></th>\n",
       "    </tr>\n",
       "  </thead>\n",
       "  <tbody>\n",
       "    <tr>\n",
       "      <th>2019-03-01</th>\n",
       "      <td>205.770</td>\n",
       "      <td>NaN</td>\n",
       "    </tr>\n",
       "    <tr>\n",
       "      <th>2019-04-01</th>\n",
       "      <td>207.684</td>\n",
       "      <td>0.93</td>\n",
       "    </tr>\n",
       "    <tr>\n",
       "      <th>2019-05-01</th>\n",
       "      <td>209.348</td>\n",
       "      <td>0.80</td>\n",
       "    </tr>\n",
       "    <tr>\n",
       "      <th>2019-06-01</th>\n",
       "      <td>210.583</td>\n",
       "      <td>0.59</td>\n",
       "    </tr>\n",
       "    <tr>\n",
       "      <th>2019-07-01</th>\n",
       "      <td>211.334</td>\n",
       "      <td>0.36</td>\n",
       "    </tr>\n",
       "  </tbody>\n",
       "</table>\n",
       "</div>"
      ],
      "text/plain": [
       "            Case Shiller Home Price Index  Percent\n",
       "DATE                                              \n",
       "2019-03-01                        205.770      NaN\n",
       "2019-04-01                        207.684     0.93\n",
       "2019-05-01                        209.348     0.80\n",
       "2019-06-01                        210.583     0.59\n",
       "2019-07-01                        211.334     0.36"
      ]
     },
     "execution_count": 14,
     "metadata": {},
     "output_type": "execute_result"
    }
   ],
   "source": [
    "hpi.head()"
   ]
  },
  {
   "cell_type": "code",
   "execution_count": null,
   "metadata": {},
   "outputs": [],
   "source": []
  }
 ],
 "metadata": {
  "kernelspec": {
   "display_name": "Python 3",
   "language": "python",
   "name": "python3"
  },
  "language_info": {
   "codemirror_mode": {
    "name": "ipython",
    "version": 3
   },
   "file_extension": ".py",
   "mimetype": "text/x-python",
   "name": "python",
   "nbconvert_exporter": "python",
   "pygments_lexer": "ipython3",
   "version": "3.8.5"
  }
 },
 "nbformat": 4,
 "nbformat_minor": 4
}
