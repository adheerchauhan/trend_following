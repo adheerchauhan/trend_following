{
 "cells": [
  {
   "cell_type": "code",
   "execution_count": 2,
   "id": "a88d5b88-dbf3-487c-91e2-af93603df549",
   "metadata": {},
   "outputs": [],
   "source": [
    "# Import all the necessary modules\n",
    "import os\n",
    "import sys\n",
    "import os, sys\n",
    "# from .../research/notebooks -> go up two levels to repo root\n",
    "repo_root = os.path.abspath(os.path.join(os.getcwd(), \"..\", \"..\"))\n",
    "if repo_root not in sys.path:\n",
    "    sys.path.insert(0, repo_root)\n",
    "\n",
    "import pandas as pd\n",
    "import numpy as np\n",
    "import matplotlib.pyplot as plt\n",
    "import matplotlib as mpl\n",
    "import matplotlib.ticker as mtick\n",
    "from sklearn.decomposition import PCA\n",
    "from sklearn.model_selection import train_test_split\n",
    "from sklearn.preprocessing import StandardScaler\n",
    "from sklearn import linear_model\n",
    "from sklearn.metrics import mean_squared_error, mean_absolute_error, r2_score \n",
    "import pandas_datareader as pdr\n",
    "import math\n",
    "import datetime\n",
    "from datetime import datetime, timezone\n",
    "import itertools\n",
    "import ast\n",
    "import yfinance as yf\n",
    "import seaborn as sn\n",
    "from IPython.display import display, HTML\n",
    "from strategy_signal.trend_following_signal import (\n",
    "    apply_jupyter_fullscreen_css, get_trend_donchian_signal_for_portfolio_with_rolling_r_sqr_vol_of_vol\n",
    ")\n",
    "from portfolio.strategy_performance import (calculate_sharpe_ratio, calculate_calmar_ratio, calculate_CAGR, calculate_risk_and_performance_metrics,\n",
    "                                          calculate_compounded_cumulative_returns, estimate_fee_per_trade, rolling_sharpe_ratio)\n",
    "from utils import coinbase_utils as cn\n",
    "from portfolio import strategy_performance as perf\n",
    "from sizing import position_sizing_binary_utils as size_bin\n",
    "from sizing import position_sizing_continuous_utils as size_cont\n",
    "from strategy_signal import trend_following_signal as tf\n",
    "%matplotlib inline"
   ]
  },
  {
   "cell_type": "code",
   "execution_count": 3,
   "id": "f8921856-5334-4285-ad64-761d480f1e13",
   "metadata": {},
   "outputs": [
    {
     "data": {
      "text/plain": [
       "<module 'sizing.position_sizing_continuous_utils' from '/Users/adheerchauhan/Documents/git/trend_following/sizing/position_sizing_continuous_utils.py'>"
      ]
     },
     "execution_count": 3,
     "metadata": {},
     "output_type": "execute_result"
    }
   ],
   "source": [
    "import importlib\n",
    "importlib.reload(cn)\n",
    "importlib.reload(perf)\n",
    "importlib.reload(tf)\n",
    "importlib.reload(size_bin)\n",
    "importlib.reload(size_cont)"
   ]
  },
  {
   "cell_type": "code",
   "execution_count": 4,
   "id": "c5f85f57-971b-4670-b1df-67cbefec1c34",
   "metadata": {},
   "outputs": [
    {
     "data": {
      "text/html": [
       "<style>:root {\n",
       "    --jp-notebook-max-width: 100% !important; }</style>"
      ],
      "text/plain": [
       "<IPython.core.display.HTML object>"
      ]
     },
     "metadata": {},
     "output_type": "display_data"
    }
   ],
   "source": [
    "import warnings\n",
    "warnings.filterwarnings('ignore')\n",
    "pd.set_option('Display.max_rows', None)\n",
    "pd.set_option('Display.max_columns',None)\n",
    "apply_jupyter_fullscreen_css()"
   ]
  },
  {
   "cell_type": "markdown",
   "id": "20457991-ffa7-485c-ba7f-4b57ca2fd7d8",
   "metadata": {},
   "source": [
    "## Helpers to get Portfolio Attributes"
   ]
  },
  {
   "cell_type": "code",
   "execution_count": 5,
   "id": "e23bb042-f066-4f3f-b0e9-20217a13b96a",
   "metadata": {},
   "outputs": [],
   "source": [
    "from pathlib import Path\n",
    "import yaml\n",
    "\n",
    "## Load Config file for the strategy\n",
    "def load_prod_strategy_config(strategy_version='v0.1.0'):\n",
    "\n",
    "    nb_cwd = Path.cwd()  # git/trend_following/research/notebooks\n",
    "    config_path = (\n",
    "        nb_cwd.parents[1]                    # -> git/trend_following\n",
    "        / \"live_strategy\"\n",
    "        / f\"trend_following_strategy_{strategy_version}-live\"\n",
    "        / \"config\"\n",
    "        / f\"trend_strategy_config_{strategy_version}.yaml\"\n",
    "    )\n",
    "    \n",
    "    print(config_path)            # sanity check\n",
    "    print(config_path.exists())   # should be True\n",
    "    \n",
    "    with open(config_path, \"r\") as f:\n",
    "        cfg = yaml.safe_load(f)\n",
    "\n",
    "    return cfg"
   ]
  },
  {
   "cell_type": "code",
   "execution_count": 12,
   "id": "0fc366ad-b14b-445e-86ca-2f507f437df7",
   "metadata": {},
   "outputs": [],
   "source": [
    "## Load Total Portfolio Equity and Available Cash\n",
    "def get_live_portfolio_equity_and_cash(client, portfolio_name='Default'):\n",
    "\n",
    "    ## Get Portfolio UUID and Positions\n",
    "    portfolio_uuid = cn.get_portfolio_uuid(client, portfolio_name)\n",
    "    df_portfolio_positions = cn.get_portfolio_breakdown(client, portfolio_uuid)\n",
    "\n",
    "    ## Get Portfolio Value and Available Cash\n",
    "    cash_cond = (df_portfolio_positions.is_cash == True)\n",
    "    portfolio_equity = float(df_portfolio_positions[~cash_cond]['total_balance_fiat'].sum())\n",
    "    available_cash = float(df_portfolio_positions[cash_cond]['available_to_trade_fiat'].sum())\n",
    "\n",
    "    return portfolio_equity, available_cash"
   ]
  },
  {
   "cell_type": "code",
   "execution_count": 14,
   "id": "7efba8d7-d1d9-41e0-8c16-1969b7acdf49",
   "metadata": {},
   "outputs": [],
   "source": [
    "## Pull Live Prices for each ticker in the portfolio\n",
    "def get_price_map(client, ticker_list):\n",
    "    result_dict = {}\n",
    "    for ticker in ticker_list:\n",
    "        ## Get Best Bid and Offer Data\n",
    "        book = client.get_product_book(ticker, limit=1)['pricebook']\n",
    "    \n",
    "        ## Build Price Dictionary\n",
    "        price_dict = {'best_bid_price': float(book['bids'][0]['price']),\n",
    "                      'best_bid_size': float(book['bids'][0]['size']),\n",
    "                      'best_ask_price': float(book['asks'][0]['price']),\n",
    "                      'best_ask_size': float(book['asks'][0]['size']),\n",
    "                      'best_mid_price': (float(book['bids'][0]['price']) + float(book['asks'][0]['price'])) / 2}\n",
    "    \n",
    "        result_dict[ticker] = price_dict\n",
    "\n",
    "    return result_dict"
   ]
  },
  {
   "cell_type": "code",
   "execution_count": 16,
   "id": "475877ec-c8d5-4c0d-b293-638195281e01",
   "metadata": {},
   "outputs": [],
   "source": [
    "## Live Positions in the portfolio\n",
    "def get_current_positions_from_portfolio(client, ticker_list, portfolio_name='Default'):\n",
    "\n",
    "    df_portfolio = cn.get_portfolio_breakdown(client, portfolio_uuid=cn.get_portfolio_uuid(client, portfolio_name))\n",
    "    price_map = get_price_map(client, ticker_list)\n",
    "\n",
    "    ticker_result = {}\n",
    "    for ticker in ticker_list:\n",
    "        ticker_cond = (df_portfolio['asset'] == ticker[:-4])\n",
    "        if df_portfolio[ticker_cond].shape[0] > 0:\n",
    "            ticker_qty = float(df_portfolio[ticker_cond]['total_balance_crypto'])\n",
    "        else:\n",
    "            ticker_qty = 0\n",
    "        ticker_mid_price = float(price_map[ticker]['best_mid_price'])\n",
    "        ticker_result[ticker] = {'ticker_qty': ticker_qty,\n",
    "                                 'ticker_mid_price': ticker_mid_price,\n",
    "                                 'ticker_current_notional': ticker_qty * ticker_mid_price}\n",
    "\n",
    "    return ticker_result"
   ]
  },
  {
   "cell_type": "markdown",
   "id": "ccbe1070-da00-4d43-9353-7d6d22e6f622",
   "metadata": {},
   "source": [
    "## Strategy Implementation"
   ]
  },
  {
   "cell_type": "markdown",
   "id": "47ccb7e2-0d39-4504-800e-281c1726404b",
   "metadata": {},
   "source": [
    "### Generate Trend Following Signal"
   ]
  },
  {
   "cell_type": "code",
   "execution_count": 18,
   "id": "5eedf044-fbe0-47bf-aa9e-b75d93f222db",
   "metadata": {},
   "outputs": [],
   "source": [
    "## Generate weighted and scaled final signal\n",
    "def get_strategy_trend_signal(cfg):\n",
    "\n",
    "    end_date = datetime.now(timezone.utc).date()\n",
    "    start_date = end_date - pd.Timedelta(days=cfg['run']['warmup_days'])\n",
    "\n",
    "    # Build kwargs directly from cfg sections\n",
    "    sig_kwargs = {\n",
    "        # Dates\n",
    "        \"start_date\": start_date,\n",
    "        \"end_date\": end_date,\n",
    "\n",
    "        # Universe\n",
    "        \"ticker_list\": cfg[\"universe\"][\"tickers\"],\n",
    "\n",
    "        # Moving Average Signal\n",
    "        \"fast_mavg\": cfg[\"signals\"][\"moving_average\"][\"fast_mavg\"],\n",
    "        \"slow_mavg\": cfg[\"signals\"][\"moving_average\"][\"slow_mavg\"],\n",
    "        \"mavg_stepsize\": cfg[\"signals\"][\"moving_average\"][\"mavg_stepsize\"],\n",
    "        \"mavg_z_score_window\": cfg[\"signals\"][\"moving_average\"][\"mavg_z_score_window\"],\n",
    "\n",
    "        # Donchain Channel Signal\n",
    "        \"entry_rolling_donchian_window\": cfg[\"signals\"][\"donchian\"][\"entry_rolling_donchian_window\"],\n",
    "        \"exit_rolling_donchian_window\": cfg[\"signals\"][\"donchian\"][\"exit_rolling_donchian_window\"],\n",
    "        \"use_donchian_exit_gate\": cfg[\"signals\"][\"donchian\"][\"use_donchian_exit_gate\"],\n",
    "\n",
    "        # Signal Weights\n",
    "        \"ma_crossover_signal_weight\": cfg[\"signals\"][\"weighting\"][\"ma_crossover_signal_weight\"],\n",
    "        \"donchian_signal_weight\": cfg[\"signals\"][\"weighting\"][\"donchian_signal_weight\"],\n",
    "        \"weighted_signal_ewm_window\": cfg[\"signals\"][\"weighting\"][\"weighted_signal_ewm_window\"],\n",
    "        \"rolling_r2_window\": cfg[\"signals\"][\"filters\"][\"rolling_r2\"][\"rolling_r2_window\"],\n",
    "\n",
    "        # Rolling R Squared Filter\n",
    "        \"lower_r_sqr_limit\": cfg[\"signals\"][\"filters\"][\"rolling_r2\"][\"lower_r_sqr_limit\"],\n",
    "        \"upper_r_sqr_limit\": cfg[\"signals\"][\"filters\"][\"rolling_r2\"][\"upper_r_sqr_limit\"],\n",
    "        \"r2_smooth_window\": cfg[\"signals\"][\"filters\"][\"rolling_r2\"][\"r2_smooth_window\"],\n",
    "        \"r2_confirm_days\": cfg[\"signals\"][\"filters\"][\"rolling_r2\"][\"r2_confirm_days\"],\n",
    "\n",
    "        # Vol of Vol Filter\n",
    "        \"log_std_window\": cfg[\"signals\"][\"filters\"][\"vol_of_vol\"][\"log_std_window\"],\n",
    "        \"coef_of_variation_window\": cfg[\"signals\"][\"filters\"][\"vol_of_vol\"][\"coef_of_variation_window\"],\n",
    "        \"vol_of_vol_z_score_window\": cfg[\"signals\"][\"filters\"][\"vol_of_vol\"][\"vol_of_vol_z_score_window\"],\n",
    "        \"vol_of_vol_p_min\": cfg[\"signals\"][\"filters\"][\"vol_of_vol\"][\"vol_of_vol_p_min\"],\n",
    "        \"r2_strong_threshold\": cfg[\"signals\"][\"filters\"][\"rolling_r2\"][\"r2_strong_threshold\"],\n",
    "\n",
    "        # Signal & Data Parameters\n",
    "        \"use_activation\": cfg[\"signals\"][\"activation\"][\"use_activation\"],\n",
    "        \"tanh_activation_constant_dict\": cfg[\"signals\"][\"activation\"][\"tanh_activation_constant_dict\"],\n",
    "        \"moving_avg_type\": cfg[\"data\"][\"moving_avg_type\"],\n",
    "        \"long_only\": cfg[\"run\"][\"long_only\"],\n",
    "        \"price_or_returns_calc\": cfg[\"data\"][\"price_or_returns_calc\"],\n",
    "        \"use_coinbase_data\": cfg[\"data\"][\"use_coinbase_data\"],\n",
    "        \"use_saved_files\": False,\n",
    "        \"saved_file_end_date\": cfg[\"data\"][\"saved_file_end_date\"]\n",
    "    }\n",
    "    \n",
    "    df_trend = get_trend_donchian_signal_for_portfolio_with_rolling_r_sqr_vol_of_vol(**sig_kwargs)\n",
    "\n",
    "    print('Generating Volatility Adjusted Trend Signal!!')\n",
    "    ## Get Volatility Adjusted Trend Signal\n",
    "    df_signal = size_cont.get_volatility_adjusted_trend_signal_continuous(df_trend, ticker_list=cfg['universe']['tickers'],\n",
    "                                                                          volatility_window=cfg['risk_and_sizing']['volatility_window'],\n",
    "                                                                          annual_trading_days=cfg['run']['annual_trading_days'])\n",
    "\n",
    "    # print('Getting Average True Range for Stop Loss Calculation!!')\n",
    "    # ## Get Average True Range for Stop Loss Calculation\n",
    "    # atr_kwargs = {\n",
    "    #     # dates\n",
    "    #     \"start_date\": start_date,\n",
    "    #     \"end_date\": end_date,\n",
    "        \n",
    "    #     # run / universe / data\n",
    "    #     \"ticker_list\": cfg[\"universe\"][\"tickers\"],\n",
    "    \n",
    "    #     # risk and sizing\n",
    "    #     \"rolling_atr_window\": cfg['risk_and_sizing']['rolling_atr_window'],\n",
    "    \n",
    "    #     # data\n",
    "    #     \"price_or_returns_calc\": cfg['data']['price_or_returns_calc'],\n",
    "    #     \"use_coinbase_data\": cfg['data']['use_coinbase_data'],\n",
    "    #     \"use_saved_files\": False,\n",
    "    #     \"saved_file_end_date\": cfg['data']['saved_file_end_date']\n",
    "    # }\n",
    "    # df_atr = size_cont.get_average_true_range_portfolio(**atr_kwargs)\n",
    "    # df_signal = pd.merge(df_signal, df_atr, left_index=True, right_index=True, how='left')\n",
    "\n",
    "    return df_signal"
   ]
  },
  {
   "cell_type": "code",
   "execution_count": 20,
   "id": "6824894e-da07-48d0-bff3-55d023290764",
   "metadata": {},
   "outputs": [],
   "source": [
    "## Generate Target Notionals and Daily Trades\n",
    "def get_target_notional_by_ticker(df, date, ticker_list, initial_capital, rolling_cov_window,\n",
    "                                  rolling_atr_window, atr_multiplier, cash_buffer_percentage,\n",
    "                                  annualized_target_volatility, transaction_cost_est=0.001,\n",
    "                                  passive_trade_rate=0.05, notional_threshold_pct=0.02,\n",
    "                                  min_trade_notional_abs=10, cooldown_counter_threshold=3,\n",
    "                                  annual_trading_days=365, use_specific_start_date=False,\n",
    "                                  signal_start_date=None, portfolio_name='Default'):\n",
    "    ## Create Coinbase Client & Portfolio UUID\n",
    "    client = cn.get_coinbase_rest_api_client(portfolio_name=portfolio_name)\n",
    "    portfolio_uuid = cn.get_portfolio_uuid(client, portfolio_name=portfolio_name)\n",
    "\n",
    "    ## Get Live Portfolio Equity\n",
    "    portfolio_equity, available_cash = get_live_portfolio_equity_and_cash(client=client, portfolio_name=portfolio_name)\n",
    "\n",
    "    ## Get Portfolio Breakdown\n",
    "    df_portfolio_breakdown = cn.get_portfolio_breakdown(client, portfolio_uuid=portfolio_uuid)\n",
    "\n",
    "    ## Get Current Positions using Mid-Price\n",
    "    ## TODO: CHECK TO SEE IF THE MID-PRICE BEING CAPTURED IS ACCURATE FROM COINBASE\n",
    "    current_positions = get_current_positions_from_portfolio(client, ticker_list=ticker_list,\n",
    "                                                             portfolio_name=portfolio_name)\n",
    "\n",
    "    ## Calculate the covariance matrix for tickers in the portfolio\n",
    "    returns_cols = [f'{ticker}_t_1_close_pct_returns' for ticker in ticker_list]\n",
    "    cov_matrix = df[returns_cols].rolling(rolling_cov_window).cov(pairwise=True).dropna()\n",
    "\n",
    "    ## Delete rows prior to the first available date of the covariance matrix\n",
    "    cov_matrix_start_date = cov_matrix.index.get_level_values(0).min()\n",
    "    df = df[df.index >= cov_matrix_start_date]\n",
    "\n",
    "    ## Derive the Daily Target Portfolio Volatility\n",
    "    daily_target_volatility = annualized_target_volatility / np.sqrt(annual_trading_days)\n",
    "\n",
    "    ## Reorder dataframe columns\n",
    "    for ticker in ticker_list:\n",
    "        df[f'{ticker}_new_position_size'] = 0.0\n",
    "        df[f'{ticker}_new_position_notional'] = 0.0\n",
    "        df[f'{ticker}_open_position_size'] = 0.0\n",
    "        df[f'{ticker}_open_position_notional'] = 0.0\n",
    "        df[f'{ticker}_actual_position_size'] = 0.0\n",
    "        df[f'{ticker}_actual_position_notional'] = 0.0\n",
    "        df[f'{ticker}_short_sale_proceeds'] = 0.0\n",
    "        df[f'{ticker}_new_position_entry_exit_price'] = 0.0\n",
    "        df[f'{ticker}_target_vol_normalized_weight'] = 0.0\n",
    "        df[f'{ticker}_target_notional'] = 0.0\n",
    "        df[f'{ticker}_target_size'] = 0.0\n",
    "        df[f'{ticker}_cash_shrink_factor'] = 0.0\n",
    "        df[f'{ticker}_stop_loss'] = 0.0\n",
    "        df[f'{ticker}_stopout_flag'] = False\n",
    "        df[f'{ticker}_cooldown_counter'] = 0.0\n",
    "        df[f'{ticker}_event'] = np.nan\n",
    "    ord_cols = size_bin.reorder_columns_by_ticker(df.columns, ticker_list)\n",
    "    df = df[ord_cols]\n",
    "\n",
    "    ## Portfolio Level Cash and Positions are all set to 0\n",
    "    df['daily_portfolio_volatility'] = 0.0\n",
    "    df['available_cash'] = 0.0\n",
    "    df['count_of_positions'] = 0.0\n",
    "    df['total_actual_position_notional'] = 0.0\n",
    "    df['total_target_notional'] = 0.0\n",
    "    df['total_portfolio_value'] = 0.0\n",
    "    df['total_portfolio_value_upper_limit'] = 0.0\n",
    "    df['target_vol_scaling_factor'] = 1.0\n",
    "    df['cash_scaling_factor'] = 1.0\n",
    "    df['cash_shrink_factor'] = 1.0\n",
    "    df['final_scaling_factor'] = 1.0\n",
    "\n",
    "    ## Cash and the Total Portfolio Value on Day 1 is the initial capital for the strategy\n",
    "    if use_specific_start_date:\n",
    "        start_index_position = df.index.get_loc(signal_start_date)\n",
    "    else:\n",
    "        start_index_position = 0\n",
    "    # df['available_cash'][start_index_position] = initial_capital\n",
    "    # df['total_portfolio_value'][start_index_position] = initial_capital\n",
    "\n",
    "    ## Identify Daily Positions starting from day 2\n",
    "    # for date in df.index[start_index_position + 1:]:\n",
    "    previous_date = df.index[df.index.get_loc(date) - 1]\n",
    "\n",
    "    ## Start the day with the available cash from portfolio\n",
    "    df['available_cash'].loc[date] = available_cash  # df['available_cash'].loc[previous_date]\n",
    "\n",
    "    ## Calculate Total Portfolio Value from Portfolio Positions\n",
    "    short_sale_proceeds_cols = [f'{ticker}_short_sale_proceeds' for ticker in ticker_list]\n",
    "    df['total_actual_position_notional'].loc[date] = portfolio_equity\n",
    "    total_portfolio_value = (df['available_cash'].loc[date] +\n",
    "                             df[short_sale_proceeds_cols].loc[date].sum() +\n",
    "                             df['total_actual_position_notional'].loc[date])\n",
    "    df['total_portfolio_value'].loc[date] = total_portfolio_value\n",
    "\n",
    "    ## Update Total Portfolio Value Upper Limit based on the Total Portfolio Value\n",
    "    total_portfolio_value_upper_limit = (df['total_portfolio_value'].loc[date] *\n",
    "                                         (1 - cash_buffer_percentage))\n",
    "    df['total_portfolio_value_upper_limit'].loc[date] = total_portfolio_value_upper_limit\n",
    "\n",
    "    ## Calculate the target notional by ticker\n",
    "    df = size_cont.get_target_volatility_position_sizing(df, cov_matrix, date, ticker_list, daily_target_volatility,\n",
    "                                                         total_portfolio_value_upper_limit)\n",
    "\n",
    "    ## Adjust Positions for Cash Available\n",
    "    desired_positions, cash_shrink_factor = size_cont.get_cash_adjusted_desired_positions(\n",
    "        df, date, previous_date, ticker_list, cash_buffer_percentage, transaction_cost_est, passive_trade_rate,\n",
    "        total_portfolio_value, notional_threshold_pct, min_trade_notional_abs)\n",
    "\n",
    "    ## Apply Cash Shrink Factor to Desired Positions\n",
    "    for ticker in ticker_list:\n",
    "        desired_positions[ticker]['new_trade_notional'] = desired_positions[ticker][\n",
    "                                                              'new_trade_notional'] * cash_shrink_factor\n",
    "        desired_positions[ticker]['trade_fees'] = desired_positions[ticker]['trade_fees'] * cash_shrink_factor\n",
    "\n",
    "    return df, desired_positions, cash_shrink_factor"
   ]
  },
  {
   "cell_type": "markdown",
   "id": "969a9e78-9ff4-4827-a846-ebb59506fcba",
   "metadata": {},
   "source": [
    "### Get Stop Losses by Ticker"
   ]
  },
  {
   "cell_type": "code",
   "execution_count": 22,
   "id": "9eb75446-9caf-48b9-ae7a-b0f42b818aed",
   "metadata": {},
   "outputs": [],
   "source": [
    "def calculate_average_true_range_live(date, ticker, rolling_atr_window=20):\n",
    "\n",
    "    end_date = date\n",
    "    start_date = date - pd.Timedelta(days=(rolling_atr_window + 200))\n",
    "    df = cn.save_historical_crypto_prices_from_coinbase(ticker=ticker, user_start_date=True, start_date=start_date, end_date=date, save_to_file=False)\n",
    "    df.columns = [f'{ticker}_{x}' for x in df.columns]\n",
    "    \n",
    "    ## Get T-1 Close Price\n",
    "    df[f'{ticker}_t_1_close'] = df[f'{ticker}_close'].shift(1)\n",
    "\n",
    "    # Calculate the True Range (TR) and Average True Range (ATR)\n",
    "    df[f'{ticker}_high-low'] = df[f'{ticker}_high'] - df[f'{ticker}_low']\n",
    "    df[f'{ticker}_high-close'] = np.abs(df[f'{ticker}_high'] - df[f'{ticker}_close'].shift(1))\n",
    "    df[f'{ticker}_low-close'] = np.abs(df[f'{ticker}_low'] - df[f'{ticker}_close'].shift(1))\n",
    "    df[f'{ticker}_true_range_price'] = df[\n",
    "        [f'{ticker}_high-low', f'{ticker}_high-close', f'{ticker}_low-close']].max(axis=1)\n",
    "    df[f'{ticker}_{rolling_atr_window}_avg_true_range_price'] = df[f'{ticker}_true_range_price'].ewm(\n",
    "        span=rolling_atr_window, adjust=False).mean()\n",
    "\n",
    "    ## Shift by 1 to avoid look-ahead bias\n",
    "    df[f'{ticker}_{rolling_atr_window}_avg_true_range_price'] = df[\n",
    "        f'{ticker}_{rolling_atr_window}_avg_true_range_price'].shift(1)\n",
    "\n",
    "    return df"
   ]
  },
  {
   "cell_type": "code",
   "execution_count": 24,
   "id": "c89ec1bb-24dd-428b-91ae-42b6258a2f14",
   "metadata": {},
   "outputs": [],
   "source": [
    "def list_open_stop_orders(client, product_id):\n",
    "    \"\"\"\n",
    "    Return a normalized list of OPEN stop/stop-limit orders for `product_id`.\n",
    "    Adjust the underlying client call and field names to match your SDK.\n",
    "    Output items have: order_id, client_order_id, product_id, side, type, stop_price, created_at\n",
    "    \"\"\"\n",
    "    # 1) Fetch open orders (adapt this block to your SDK)\n",
    "    try:\n",
    "        # Path A: some SDKs use list_orders(product_id=..., order_status=[...])\n",
    "        res = client.list_orders(product_id=product_id, order_status=['OPEN'])\n",
    "        raw = res['orders']\n",
    "    except Exception:\n",
    "        raw = []\n",
    "\n",
    "    # 2) Normalize & filter only stops\n",
    "    orders = []\n",
    "    for o in raw:\n",
    "        otype      = o['order_type'].lower()\n",
    "        stop_price = o['stop_price'] or o['stopPrice']\n",
    "        if ('stop' in otype) or (stop_price is not None):\n",
    "            orders.append({\n",
    "                'order_id'       : o['order_id'] or o['id'],\n",
    "                'client_order_id': o['client_order_id'] or o['clientOrderId'],\n",
    "                'product_id'     : o['product_id'] or o['productId'] or product_id,\n",
    "                'side'           : o['side'],\n",
    "                'type'           : o['order_type'] or o['type'],\n",
    "                'stop_price'     : float(stop_price) if stop_price is not None else np.nan,\n",
    "                'created_at'     : o['created_time'] or o['created_at'],\n",
    "            })\n",
    "    return orders\n",
    "\n",
    "def get_open_stop_price(client, product_id, client_id_prefix=\"stop-\"):\n",
    "    \"\"\"\n",
    "    Return the highest stop_price among your currently-open stops for `product_id`,\n",
    "    optionally filtered by your client_order_id prefix. NaN if none.\n",
    "    \"\"\"\n",
    "    try:\n",
    "        open_stops = list_open_stop_orders(client, product_id) or []\n",
    "    except Exception:\n",
    "        open_stops = []\n",
    "\n",
    "    prices = []\n",
    "    for order in open_stops:\n",
    "        clordid = str(order['client_order_id'] or '')\n",
    "        if (client_id_prefix is None) or clordid.startswith(f\"{client_id_prefix}{product_id}-\"):\n",
    "            stop_price = order['stop_price']\n",
    "            if stop_price is not None and np.isfinite(stop_price):\n",
    "                prices.append(float(stop_price))\n",
    "    return max(prices) if prices else np.nan\n"
   ]
  },
  {
   "cell_type": "code",
   "execution_count": 26,
   "id": "ae2b3b1f-7819-4537-b929-445c6049d23f",
   "metadata": {},
   "outputs": [],
   "source": [
    "def chandelier_stop_long(date, ticker, highest_high_window, rolling_atr_window, atr_multiplier):\n",
    "    \n",
    "    ## Get Average True Range\n",
    "    df_atr = calculate_average_true_range_live(date=date, ticker=ticker, rolling_atr_window=rolling_atr_window)\n",
    "    atr = df_atr[f'{ticker}_{rolling_atr_window}_avg_true_range_price'].loc[date]\n",
    "\n",
    "    ## Get the Highest High from previous date\n",
    "    highest_high_t_1 = df_atr[f'{ticker}_high'].rolling(highest_high_window).max().shift(1)\n",
    "    chandelier_stop = highest_high_t_1 - atr_multiplier * atr\n",
    "    chandelier_stop = chandelier_stop.loc[date]\n",
    "    \n",
    "    return chandelier_stop"
   ]
  },
  {
   "cell_type": "markdown",
   "id": "7ce5bbfe-4a04-4ee7-823a-439beef830b6",
   "metadata": {},
   "source": [
    "### Check for Stop Loss Breach and Cooldown Counter"
   ]
  },
  {
   "cell_type": "code",
   "execution_count": 366,
   "id": "29c9dc13-bbb8-4922-8fd1-291fcb2464b9",
   "metadata": {},
   "outputs": [],
   "source": [
    "from datetime import datetime, date, timezone\n",
    "from typing import List, Tuple, Optional\n",
    "import pandas as pd\n",
    "\n",
    "def _to_utc_iso(dt_like) -> str:\n",
    "    \"\"\"\n",
    "    Accepts date/datetime/pandas.Timestamp (naive or tz-aware) and returns UTC ISO8601 (…Z).\n",
    "    \"\"\"\n",
    "    ts = pd.to_datetime(dt_like, utc=True)\n",
    "    # If user passed a plain date, assume midnight UTC\n",
    "    if isinstance(dt_like, date) and not isinstance(dt_like, datetime):\n",
    "        ts = ts.normalize()  # midnight\n",
    "    return ts.isoformat().replace(\"+00:00\", \"Z\")\n",
    "\n",
    "def _parse_fill_time(ts_val) -> datetime:\n",
    "    \"\"\"\n",
    "    Parses a timestamp field from the fills payload into a tz-aware UTC datetime.\n",
    "    \"\"\"\n",
    "    return pd.to_datetime(ts_val, utc=True).to_pydatetime()\n",
    "\n",
    "def get_stop_fills(\n",
    "    client,\n",
    "    product_id: str,\n",
    "    start,  # date or datetime\n",
    "    end,    # date or datetime\n",
    "    client_id_prefix: str = \"stop-\",\n",
    "    page_size: int = 250,\n",
    ") -> List[Tuple[datetime, float]]:\n",
    "    \"\"\"\n",
    "    Returns [(fill_timestamp_utc, price_float), ...] for STOP orders only,\n",
    "    between start and end inclusive. Output is sorted ascending by time.\n",
    "    \"\"\"\n",
    "    cursor: Optional[str] = None\n",
    "    out: List[Tuple[datetime, float]] = []\n",
    "\n",
    "    start_iso = _to_utc_iso(start)\n",
    "    end_iso   = _to_utc_iso(end)\n",
    "\n",
    "    while True:\n",
    "        resp = client.get_fills(\n",
    "            product_id=product_id,\n",
    "            start_date=start_iso,\n",
    "            end_date=end_iso,\n",
    "            limit=page_size,\n",
    "            cursor=cursor\n",
    "        )\n",
    "\n",
    "        # SDKs vary: support attr or dict access\n",
    "        # fills = getattr(resp, \"fills\", None) or getattr(resp, \"data\", None) or resp.get(\"fills\", [])\n",
    "        # cursor = getattr(resp, \"cursor\", None) or resp.get(\"cursor\")\n",
    "        fills = resp['fills']\n",
    "        cursor = resp['cursor']\n",
    "\n",
    "        for f in fills or []:\n",
    "            cid = f.get(\"client_order_id\") or f.get(\"clientOrderId\")\n",
    "            if not (cid and cid.startswith(client_id_prefix)):\n",
    "                continue\n",
    "            ts_raw = f.get(\"trade_time\") or f.get(\"time\") or f.get(\"created_at\")\n",
    "            price  = float(f.get(\"price\"))\n",
    "            ts     = _parse_fill_time(ts_raw)\n",
    "            out.append((ts, price))\n",
    "\n",
    "        if not cursor:\n",
    "            break\n",
    "\n",
    "    out.sort(key=lambda x: x[0])\n",
    "    return out\n"
   ]
  },
  {
   "cell_type": "code",
   "execution_count": 368,
   "id": "4e21d551-8fba-41a3-9843-251b82eb8dd6",
   "metadata": {},
   "outputs": [],
   "source": [
    "from datetime import timedelta\n",
    "import pandas as pd\n",
    "import json, os\n",
    "\n",
    "COOLDOWN_DAYS = 7\n",
    "BREACH_LOOKBACK_DAYS = 5\n",
    "BREACH_LOG_PATH = \"stop_loss_breach_cooldown_log.json\"  # small, persistent\n",
    "\n",
    "# --- tiny persistence helpers ---\n",
    "def load_cooldown_log(path=BREACH_LOG_PATH):\n",
    "    if not os.path.exists(path): return {}\n",
    "    with open(path, \"r\") as f:\n",
    "        return json.load(f)\n",
    "\n",
    "def save_cooldown_log(log, path=BREACH_LOG_PATH):\n",
    "    with open(path, \"w\") as f:\n",
    "        json.dump(log, f, default=str, indent=2)\n",
    "\n",
    "# --- breach detection (fills first, fallback to price-cross) ---\n",
    "def detect_breach_date(client, df, ticker, date, lookback_days=BREACH_LOOKBACK_DAYS):\n",
    "    \"\"\"\n",
    "    Returns the earliest breach date in the last `lookback_days`, else None.\n",
    "    Priority A: stop-sell fills (authoritative). Replace with your fills call.\n",
    "    Priority B: price-cross heuristic: today's low <= yesterday's stop while long.\n",
    "    \"\"\"\n",
    "    d0 = pd.to_datetime(date)\n",
    "    window = pd.date_range(d0 - pd.Timedelta(days=lookback_days), d0, freq=\"D\")\n",
    "\n",
    "    # (A) authoritative fills in window (pseudo; wire to your real fills source)\n",
    "    try:\n",
    "        # Example stub: get_stop_fills(client, ticker, start=window.min(), end=window.max())\n",
    "        fills = []  # [(fill_datetime, price), ...]\n",
    "        fills = get_stop_fills()\n",
    "        if fills:\n",
    "            return pd.to_datetime(min(ts for ts,_ in fills)).date()\n",
    "    except Exception:\n",
    "        pass\n",
    "\n",
    "    # (B) price-cross fallback\n",
    "    for d in window:\n",
    "        if d not in df.index: \n",
    "            continue\n",
    "        # need yesterday's stop and yesterday's position\n",
    "        if d == df.index[0]: \n",
    "            continue\n",
    "        d_prev = df.index[df.index.get_loc(d) - 1]\n",
    "        held_long_prev = float(df.loc[d_prev, f\"{ticker}_actual_position_size\"]) > 0\n",
    "        y_stop = df.loc[d_prev, f\"{ticker}_stop_loss\"] if f\"{ticker}_stop_loss\" in df.columns else float(\"nan\")\n",
    "        today_low = df.loc[d, f\"{ticker}_low\"] if f\"{ticker}_low\" in df.columns else float(\"nan\")\n",
    "        if held_long_prev and pd.notna(y_stop) and pd.notna(today_low) and today_low <= y_stop:\n",
    "            return d.date()\n",
    "\n",
    "    return None\n",
    "\n",
    "# --- main: update cooldown state for the day ---\n",
    "def update_cooldowns_for_day(client, df, tickers, date, log=None):\n",
    "    \"\"\"\n",
    "    Updates/extends cooldowns based on any breach discovered in the last few days.\n",
    "    Returns a dict {ticker: cooldown_until_or_None}.\n",
    "    \"\"\"\n",
    "    if log is None:\n",
    "        log = load_cooldown_log()\n",
    "\n",
    "    out = {}\n",
    "    for t in tickers:\n",
    "        # current record\n",
    "        rec = log.get(t, {\"last_breach_date\": None, \"cooldown_until\": None})\n",
    "        breach_date = detect_breach_date(client, df, t, date)\n",
    "\n",
    "        if breach_date:\n",
    "            # if we detected late, still anchor cooldown to breach_date\n",
    "            until = pd.to_datetime(breach_date) + timedelta(days=COOLDOWN_DAYS)\n",
    "            rec[\"last_breach_date\"] = str(breach_date)\n",
    "            rec[\"cooldown_until\"] = str(until.date())\n",
    "        else:\n",
    "            # carry forward\n",
    "            until = pd.to_datetime(rec[\"cooldown_until\"]).date() if rec[\"cooldown_until\"] else None\n",
    "\n",
    "        # clear expired\n",
    "        if until and pd.to_datetime(date).date() > until:\n",
    "            rec[\"cooldown_until\"] = None\n",
    "            until = None\n",
    "\n",
    "        log[t] = rec\n",
    "        out[t] = until\n",
    "\n",
    "    save_cooldown_log(log)\n",
    "    return out\n",
    "\n",
    "# --- usage inside your desired-trades loop ---\n",
    "# BEFORE you build trades for the day:\n",
    "# cooldowns = update_cooldowns_for_day(client, df, ticker_list, date)\n",
    "\n",
    "# Then, in your loop:\n",
    "# for ticker in ticker_list:\n",
    "#     new_trade_notional = target_notional - current_notional\n",
    "#     if new_trade_notional > 0:\n",
    "#         until = cooldowns.get(ticker)\n",
    "#         if until and pd.to_datetime(date).date() <= until:\n",
    "#             # block the buy\n",
    "#             desired_positions[ticker] = {\"new_trade_notional\": 0.0, \"trade_fees\": 0.0, \"reason\": f\"cooldown_until_{until}\"}\n",
    "#             continue\n",
    "#     ... (existing stop-gate, thresholds, cash logic) ...\n"
   ]
  },
  {
   "cell_type": "code",
   "execution_count": 302,
   "id": "7bb6371e-db17-44a0-8f7b-3c35950ef155",
   "metadata": {},
   "outputs": [
    {
     "ename": "NameError",
     "evalue": "name 'start_date' is not defined",
     "output_type": "error",
     "traceback": [
      "\u001b[0;31m---------------------------------------------------------------------------\u001b[0m",
      "\u001b[0;31mNameError\u001b[0m                                 Traceback (most recent call last)",
      "Cell \u001b[0;32mIn[302], line 1\u001b[0m\n\u001b[0;32m----> 1\u001b[0m start_date\n",
      "\u001b[0;31mNameError\u001b[0m: name 'start_date' is not defined"
     ]
    }
   ],
   "source": [
    "start_date"
   ]
  },
  {
   "cell_type": "code",
   "execution_count": 336,
   "id": "84a0fdd2-59be-4d52-b115-a10b386d1640",
   "metadata": {},
   "outputs": [],
   "source": [
    "cursor = None\n",
    "out: List[Tuple[datetime, float, float, str, Optional[str]]] = []\n",
    "\n",
    "now = datetime.now(timezone.utc)\n",
    "resp = client.get_fills(  # tweak name/args if your SDK differs\n",
    "    product_id=ticker,\n",
    "    start_date=_iso(now.replace(hour=0, minute=0, second=0, microsecond=0) - pd.Timedelta(days=5000)),\n",
    "    end_date=_iso(now),\n",
    "    # limit=limit,\n",
    "    cursor=cursor\n",
    ")"
   ]
  },
  {
   "cell_type": "code",
   "execution_count": 338,
   "id": "3496a74a-e1ec-46b9-a7f5-66d622b7450e",
   "metadata": {},
   "outputs": [
    {
     "data": {
      "text/plain": [
       "datetime.datetime(2012, 2, 3, 0, 0, tzinfo=datetime.timezone.utc)"
      ]
     },
     "execution_count": 338,
     "metadata": {},
     "output_type": "execute_result"
    }
   ],
   "source": [
    "now.replace(hour=0, minute=0, second=0, microsecond=0) - pd.Timedelta(days=5000)"
   ]
  },
  {
   "cell_type": "code",
   "execution_count": 342,
   "id": "3d2628fa-ab25-466b-b961-b9d7e9dfaaf2",
   "metadata": {},
   "outputs": [
    {
     "data": {
      "text/plain": [
       "[]"
      ]
     },
     "execution_count": 342,
     "metadata": {},
     "output_type": "execute_result"
    }
   ],
   "source": [
    "resp['fills']"
   ]
  },
  {
   "cell_type": "code",
   "execution_count": 380,
   "id": "d6120070-1565-48f1-b5f5-ee06e37c1433",
   "metadata": {},
   "outputs": [
    {
     "data": {
      "text/plain": [
       "datetime.date(2025, 10, 12)"
      ]
     },
     "execution_count": 380,
     "metadata": {},
     "output_type": "execute_result"
    }
   ],
   "source": [
    "date"
   ]
  },
  {
   "cell_type": "code",
   "execution_count": 376,
   "id": "2f7ff2c3-89af-4745-9fc3-b1dd9b924ed2",
   "metadata": {},
   "outputs": [
    {
     "ename": "TypeError",
     "evalue": "isinstance() arg 2 must be a type, a tuple of types, or a union",
     "output_type": "error",
     "traceback": [
      "\u001b[0;31m---------------------------------------------------------------------------\u001b[0m",
      "\u001b[0;31mTypeError\u001b[0m                                 Traceback (most recent call last)",
      "Cell \u001b[0;32mIn[376], line 8\u001b[0m\n\u001b[1;32m      6\u001b[0m window \u001b[38;5;241m=\u001b[39m pd\u001b[38;5;241m.\u001b[39mdate_range(d0 \u001b[38;5;241m-\u001b[39m pd\u001b[38;5;241m.\u001b[39mTimedelta(days\u001b[38;5;241m=\u001b[39mlookback_days), d0, freq\u001b[38;5;241m=\u001b[39m\u001b[38;5;124m\"\u001b[39m\u001b[38;5;124mD\u001b[39m\u001b[38;5;124m\"\u001b[39m)\n\u001b[1;32m      7\u001b[0m \u001b[38;5;66;03m# fills = get_stop_fills(client, \"BTC-USD\", start=now.replace(hour=0, minute=0, second=0, microsecond=0) - pd.Timedelta(days=5000), end=now)\u001b[39;00m\n\u001b[0;32m----> 8\u001b[0m fills \u001b[38;5;241m=\u001b[39m get_stop_fills(client, \u001b[38;5;124m\"\u001b[39m\u001b[38;5;124mBTC-USD\u001b[39m\u001b[38;5;124m\"\u001b[39m, start\u001b[38;5;241m=\u001b[39mwindow, end\u001b[38;5;241m=\u001b[39md0)\n\u001b[1;32m      9\u001b[0m \u001b[38;5;66;03m# If any exist, the earliest tuple’s timestamp is your breach date\u001b[39;00m\n\u001b[1;32m     10\u001b[0m breach_date \u001b[38;5;241m=\u001b[39m fills[\u001b[38;5;241m0\u001b[39m][\u001b[38;5;241m0\u001b[39m]\u001b[38;5;241m.\u001b[39mdate() \u001b[38;5;28;01mif\u001b[39;00m fills \u001b[38;5;28;01melse\u001b[39;00m \u001b[38;5;28;01mNone\u001b[39;00m\n",
      "Cell \u001b[0;32mIn[366], line 36\u001b[0m, in \u001b[0;36mget_stop_fills\u001b[0;34m(client, product_id, start, end, client_id_prefix, page_size)\u001b[0m\n\u001b[1;32m     33\u001b[0m cursor: Optional[\u001b[38;5;28mstr\u001b[39m] \u001b[38;5;241m=\u001b[39m \u001b[38;5;28;01mNone\u001b[39;00m\n\u001b[1;32m     34\u001b[0m out: List[Tuple[datetime, \u001b[38;5;28mfloat\u001b[39m]] \u001b[38;5;241m=\u001b[39m []\n\u001b[0;32m---> 36\u001b[0m start_iso \u001b[38;5;241m=\u001b[39m _to_utc_iso(start)\n\u001b[1;32m     37\u001b[0m end_iso   \u001b[38;5;241m=\u001b[39m _to_utc_iso(end)\n\u001b[1;32m     39\u001b[0m \u001b[38;5;28;01mwhile\u001b[39;00m \u001b[38;5;28;01mTrue\u001b[39;00m:\n",
      "Cell \u001b[0;32mIn[366], line 11\u001b[0m, in \u001b[0;36m_to_utc_iso\u001b[0;34m(dt_like)\u001b[0m\n\u001b[1;32m      9\u001b[0m ts \u001b[38;5;241m=\u001b[39m pd\u001b[38;5;241m.\u001b[39mto_datetime(dt_like, utc\u001b[38;5;241m=\u001b[39m\u001b[38;5;28;01mTrue\u001b[39;00m)\n\u001b[1;32m     10\u001b[0m \u001b[38;5;66;03m# If user passed a plain date, assume midnight UTC\u001b[39;00m\n\u001b[0;32m---> 11\u001b[0m \u001b[38;5;28;01mif\u001b[39;00m \u001b[38;5;28misinstance\u001b[39m(dt_like, date) \u001b[38;5;129;01mand\u001b[39;00m \u001b[38;5;129;01mnot\u001b[39;00m \u001b[38;5;28misinstance\u001b[39m(dt_like, datetime):\n\u001b[1;32m     12\u001b[0m     ts \u001b[38;5;241m=\u001b[39m ts\u001b[38;5;241m.\u001b[39mnormalize()  \u001b[38;5;66;03m# midnight\u001b[39;00m\n\u001b[1;32m     13\u001b[0m \u001b[38;5;28;01mreturn\u001b[39;00m ts\u001b[38;5;241m.\u001b[39misoformat()\u001b[38;5;241m.\u001b[39mreplace(\u001b[38;5;124m\"\u001b[39m\u001b[38;5;124m+00:00\u001b[39m\u001b[38;5;124m\"\u001b[39m, \u001b[38;5;124m\"\u001b[39m\u001b[38;5;124mZ\u001b[39m\u001b[38;5;124m\"\u001b[39m)\n",
      "\u001b[0;31mTypeError\u001b[0m: isinstance() arg 2 must be a type, a tuple of types, or a union"
     ]
    }
   ],
   "source": [
    "# Example: look back 5 calendar days ending today (UTC)\n",
    "# now = datetime.now(timezone.utc)\n",
    "date = datetime.now(timezone.utc).date()\n",
    "d0 = pd.to_datetime(date)\n",
    "lookback_days = 5\n",
    "window = pd.date_range(d0 - pd.Timedelta(days=lookback_days), d0, freq=\"D\")\n",
    "# fills = get_stop_fills(client, \"BTC-USD\", start=now.replace(hour=0, minute=0, second=0, microsecond=0) - pd.Timedelta(days=5000), end=now)\n",
    "fills = get_stop_fills(client, \"BTC-USD\", start=window, end=d0)\n",
    "# If any exist, the earliest tuple’s timestamp is your breach date\n",
    "breach_date = fills[0][0].date() if fills else None\n"
   ]
  },
  {
   "cell_type": "code",
   "execution_count": 354,
   "id": "e86ac9f7-48c8-4dad-b06d-f978c1c1d0ce",
   "metadata": {},
   "outputs": [
    {
     "data": {
      "text/plain": [
       "[]"
      ]
     },
     "execution_count": 354,
     "metadata": {},
     "output_type": "execute_result"
    }
   ],
   "source": [
    "fills"
   ]
  },
  {
   "cell_type": "code",
   "execution_count": 348,
   "id": "6a3ae6a6-c338-493b-9bdc-a4777ce5deae",
   "metadata": {},
   "outputs": [],
   "source": [
    "breach_date"
   ]
  },
  {
   "cell_type": "markdown",
   "id": "8dae7d1f-c751-4ff8-9c4c-2010270cac7a",
   "metadata": {},
   "source": [
    "## Get Desired Trades to Execute"
   ]
  },
  {
   "cell_type": "code",
   "execution_count": 389,
   "id": "b2db6f7c-588b-4fe5-aeaa-cbec532469c1",
   "metadata": {},
   "outputs": [
    {
     "name": "stdout",
     "output_type": "stream",
     "text": [
      "/Users/adheerchauhan/Documents/git/trend_following/live_strategy/trend_following_strategy_v0.1.0-live/config/trend_strategy_config_v0.1.0.yaml\n",
      "True\n",
      "Generating Volatility Adjusted Trend Signal!!\n",
      "Covariance Matrix Time: 2025-10-12 18:44:02.843383\n",
      "Start Time: 2025-10-12 18:44:02.848937\n",
      "Get Portfolio Equity and Cash Time: 2025-10-12 18:44:03.024206\n",
      "Get Portfolio Position Breakdown Time: 2025-10-12 18:44:03.496906\n",
      "Get Current Positions Time: 2025-10-12 18:44:03.668053\n",
      "Target Volatility Position Sizing Time: 2025-10-12 18:44:08.605139\n",
      "Ticker: SOL-USD, Ticker Mid Price: 197.45499999999998, Stop Loss Price: 225.92664234490724\n",
      "Ticker: AVAX-USD, Ticker Mid Price: 22.555, Stop Loss Price: 31.212119420615206\n"
     ]
    }
   ],
   "source": [
    "# --- Config & Prep -----------------------------------------------------------\n",
    "## Strategy Parameters\n",
    "cfg = load_prod_strategy_config()\n",
    "date = datetime.now(timezone.utc).date()\n",
    "portfolio_name = 'Default'\n",
    "# portfolio_name = cfg['portfolio']['name']\n",
    "\n",
    "## Strategy Inputs\n",
    "ticker_list = cfg['universe']['tickers']\n",
    "initial_capital = cfg['run']['initial_capital']\n",
    "rolling_cov_window = cfg['risk_and_sizing']['rolling_cov_window']\n",
    "rolling_atr_window = cfg['risk_and_sizing']['rolling_atr_window']\n",
    "atr_multiplier = cfg['risk_and_sizing']['atr_multiplier']\n",
    "highest_high_window = cfg['risk_and_sizing']['highest_high_window']\n",
    "cash_buffer_percentage = cfg['risk_and_sizing']['cash_buffer_percentage']\n",
    "annualized_target_volatility = cfg['risk_and_sizing']['annualized_target_volatility']\n",
    "transaction_cost_est = cfg['execution_and_costs']['transaction_cost_est']\n",
    "passive_trade_rate = cfg['execution_and_costs']['passive_trade_rate']\n",
    "notional_threshold_pct = cfg['execution_and_costs']['notional_threshold_pct']\n",
    "min_trade_notional_abs = cfg['execution_and_costs']['min_trade_notional_abs']\n",
    "cooldown_counter_threshold = cfg['execution_and_costs']['cooldown_counter_threshold']\n",
    "annual_trading_days = cfg['run']['annual_trading_days']\n",
    "use_specific_start_date = False\n",
    "signal_start_date = cfg['run']['signal_start_date']\n",
    "portfolio_name = portfolio_name\n",
    "\n",
    "\n",
    "# --- Helpers ----------------------------------------------------------------\n",
    "def _long_stop_for_today(date, ticker, highest_high_window, rolling_atr_window, atr_multiplier):\n",
    "    \"\"\"Chandelier stop (long) for *today*, computed from live ATR & T-1 highest high.\"\"\"\n",
    "    return float(chandelier_stop_long(\n",
    "        date=date,\n",
    "        ticker=ticker,\n",
    "        highest_high_window=highest_high_window,\n",
    "        rolling_atr_window=rolling_atr_window,\n",
    "        atr_multiplier=atr_multiplier\n",
    "    ))\n",
    "\n",
    "def _entry_allowed_long(curr_price, stop_today, eps=0.0):\n",
    "    \"\"\"\n",
    "    Gate for NEW/ADDED long risk:\n",
    "    - allow only if current price is strictly above today's stop (plus optional eps).\n",
    "    \"\"\"\n",
    "    return np.isfinite(curr_price) and np.isfinite(stop_today) and (curr_price > stop_today * (1 + eps))\n",
    "\n",
    "\n",
    "# --- 1) Build signal DF & covariance ----------------------------------------\n",
    "## Generate Strategy Signal from T-1 Data\n",
    "df_signal = get_strategy_trend_signal(cfg)\n",
    "df = df_signal\n",
    "\n",
    "## Get Target Notionals by Ticker in Universe\n",
    "print(f'Covariance Matrix Time: {datetime.now()}')\n",
    "## Calculate the covariance matrix for tickers in the portfolio\n",
    "returns_cols = [f'{ticker}_t_1_close_pct_returns' for ticker in ticker_list]\n",
    "cov_matrix = df[returns_cols].rolling(rolling_cov_window).cov(pairwise=True).dropna()\n",
    "\n",
    "## Delete rows prior to the first available date of the covariance matrix\n",
    "cov_matrix_start_date = cov_matrix.index.get_level_values(0).min()\n",
    "df = df[df.index >= cov_matrix_start_date]\n",
    "\n",
    "\n",
    "# --- 2) Live portfolio state -------------------------------------------------\n",
    "## Get Portfolio Positions and Cash\n",
    "print(f'Start Time: {datetime.now()}')\n",
    "## Create Coinbase Client & Portfolio UUID\n",
    "client = cn.get_coinbase_rest_api_client(portfolio_name=portfolio_name)\n",
    "portfolio_uuid = cn.get_portfolio_uuid(client, portfolio_name=portfolio_name)\n",
    "\n",
    "print(f'Get Portfolio Equity and Cash Time: {datetime.now()}')\n",
    "## Get Live Portfolio Equity\n",
    "portfolio_equity, available_cash = get_live_portfolio_equity_and_cash(client=client, portfolio_name=portfolio_name)\n",
    "\n",
    "print(f'Get Portfolio Position Breakdown Time: {datetime.now()}')\n",
    "## Get Portfolio Breakdown\n",
    "df_portfolio_breakdown = cn.get_portfolio_breakdown(client, portfolio_uuid=portfolio_uuid)\n",
    "\n",
    "print(f'Get Current Positions Time: {datetime.now()}')\n",
    "## Get Current Positions using Mid-Price\n",
    "## TODO: CHECK TO SEE IF THE MID-PRICE BEING CAPTURED IS ACCURATE FROM COINBASE\n",
    "current_positions = get_current_positions_from_portfolio(client, ticker_list=ticker_list, portfolio_name=portfolio_name)\n",
    "\n",
    "## Identify Daily Positions starting from day 2\n",
    "previous_date = df.index[df.index.get_loc(date) - 1]\n",
    "\n",
    "## Reorder dataframe columns\n",
    "for ticker in ticker_list:\n",
    "    df[f'{ticker}_new_position_size'] = 0.0\n",
    "    df[f'{ticker}_new_position_notional'] = 0.0\n",
    "    df[f'{ticker}_open_position_size'] = 0.0\n",
    "    df[f'{ticker}_open_position_notional'] = 0.0\n",
    "    df[f'{ticker}_actual_position_size'] = 0.0\n",
    "    df[f'{ticker}_actual_position_notional'] = 0.0\n",
    "    df[f'{ticker}_short_sale_proceeds'] = 0.0\n",
    "    df[f'{ticker}_new_position_entry_exit_price'] = 0.0\n",
    "    df[f'{ticker}_target_vol_normalized_weight'] = 0.0\n",
    "    df[f'{ticker}_target_notional'] = 0.0\n",
    "    df[f'{ticker}_target_size'] = 0.0\n",
    "    df[f'{ticker}_cash_shrink_factor'] = 0.0\n",
    "    df[f'{ticker}_stop_loss'] = 0.0\n",
    "    df[f'{ticker}_stopout_flag'] = False\n",
    "    df[f'{ticker}_cooldown_counter'] = 0.0\n",
    "    df[f'{ticker}_event'] = np.nan\n",
    "ord_cols = size_bin.reorder_columns_by_ticker(df.columns, ticker_list)\n",
    "df = df[ord_cols]\n",
    "\n",
    "## Portfolio Level Cash and Positions are all set to 0\n",
    "df['daily_portfolio_volatility'] = 0.0\n",
    "df['available_cash'] = 0.0\n",
    "df['count_of_positions'] = 0.0\n",
    "df['total_actual_position_notional'] = 0.0\n",
    "df['total_target_notional'] = 0.0\n",
    "df['total_portfolio_value'] = 0.0\n",
    "df['total_portfolio_value_upper_limit'] = 0.0\n",
    "df['target_vol_scaling_factor'] = 1.0\n",
    "df['cash_scaling_factor'] = 1.0\n",
    "df['cash_shrink_factor'] = 1.0\n",
    "df['final_scaling_factor'] = 1.0\n",
    "\n",
    "## Cash and the Total Portfolio Value on Day 1 is the initial capital for the strategy\n",
    "if use_specific_start_date:\n",
    "    start_index_position = df.index.get_loc(signal_start_date)\n",
    "else:\n",
    "    start_index_position = 0\n",
    "\n",
    "# Seed state (+ carry over T-1 actuals, open notionals, and any existing stop levels)\n",
    "## Assign Live Cash and Positions\n",
    "for ticker in ticker_list:\n",
    "    # Actuals as of T-1\n",
    "    df[f'{ticker}_actual_position_notional'].loc[previous_date] = current_positions[ticker]['ticker_current_notional']\n",
    "    df[f'{ticker}_actual_position_size'].loc[previous_date] = current_positions[ticker]['ticker_qty']\n",
    "    \n",
    "    # Open Positions at T\n",
    "    df[f'{ticker}_open_position_notional'].loc[date] = current_positions[ticker]['ticker_current_notional']\n",
    "    df[f'{ticker}_open_position_size'].loc[date] = current_positions[ticker]['ticker_qty']\n",
    "\n",
    "    # Carry Forward any Open Stop Loss Positions from T-1\n",
    "    open_stop_loss = get_open_stop_price(client, product_id=ticker, client_id_prefix='stop-')\n",
    "    df[f'{ticker}_stop_loss'].loc[previous_date] = np.where(pd.isna(open_stop_loss), 0.0, open_stop_loss).item()\n",
    "    df[f'{ticker}_stop_loss'].loc[previous_date] = 0.0 if pd.isna(open_stop_loss) else float(open_stop_loss)\n",
    "\n",
    "    # Pull in updated Stop Loss Values for Today\n",
    "    df[f'{ticker}_stop_loss'].loc[date] = _long_stop_for_today(date, ticker, highest_high_window, rolling_atr_window, atr_multiplier)\n",
    "\n",
    "## Portfolio Aggregates for today\n",
    "# Update Available Cash based on cash in Coinbase portfolio\n",
    "df['available_cash'].loc[date] = available_cash\n",
    "\n",
    "# Calculate Total Portfolio Value from Portfolio Positions\n",
    "short_sale_proceeds_cols = [f'{ticker}_short_sale_proceeds' for ticker in ticker_list]\n",
    "open_position_notional_cols = [f'{ticker}_open_position_notional' for ticker in ticker_list]\n",
    "df['total_actual_position_notional'].loc[date] = df[open_position_notional_cols].loc[date].sum()\n",
    "total_portfolio_value = (df['available_cash'].loc[date] +\n",
    "                         df[short_sale_proceeds_cols].loc[date].sum() +\n",
    "                         df['total_actual_position_notional'].loc[date])\n",
    "df['total_portfolio_value'].loc[date] = total_portfolio_value\n",
    "\n",
    "# Update Total Portfolio Value Upper Limit based on the Total Portfolio Value\n",
    "total_portfolio_value_upper_limit = (df['total_portfolio_value'].loc[date] *\n",
    "                                     (1 - cash_buffer_percentage))\n",
    "df['total_portfolio_value_upper_limit'].loc[date] = total_portfolio_value_upper_limit\n",
    "\n",
    "\n",
    "# --- 3) Target notionals via target-vol sizing -------------------------------\n",
    "print(f'Target Volatility Position Sizing Time: {datetime.now()}')\n",
    "\n",
    "## Derive the Daily Target Portfolio Volatility\n",
    "daily_target_volatility = annualized_target_volatility / np.sqrt(annual_trading_days)\n",
    "\n",
    "## Calculate the target notional by ticker\n",
    "df = size_cont.get_target_volatility_position_sizing(df, cov_matrix, date, ticker_list, daily_target_volatility,\n",
    "                                                     total_portfolio_value_upper_limit)\n",
    "\n",
    "\n",
    "# --- 4) Build desired trades with STOP-GATE for new/added longs --------------\n",
    "## Get Desired Trades based on Target Notionals and Current Notional Values by Ticker\n",
    "desired_positions = {}\n",
    "cash_debit = 0.0  # buys + fees\n",
    "cash_credit = 0.0  # sells - fees\n",
    "available_cash_for_trading = df['available_cash'].loc[date] * (1 - cash_buffer_percentage)\n",
    "\n",
    "## Estimated Transaction Costs and Fees\n",
    "est_fees = (transaction_cost_est + perf.estimate_fee_per_trade(passive_trade_rate))\n",
    "\n",
    "for ticker in ticker_list:\n",
    "    ## Calculate the cash need from all new target positions\n",
    "    target_notional = df[f'{ticker}_target_notional'].loc[date]\n",
    "    current_notional = df[f'{ticker}_open_position_notional'].loc[date]\n",
    "    new_trade_notional = target_notional - current_notional\n",
    "    trade_fees = abs(new_trade_notional) * est_fees\n",
    "    mid_px = float(current_positions[ticker]['ticker_mid_price'])\n",
    "\n",
    "    ## Calculate notional difference to determine if a trade is warranted\n",
    "    portfolio_equity_trade_threshold = notional_threshold_pct * total_portfolio_value\n",
    "    notional_threshold = notional_threshold_pct * abs(target_notional)\n",
    "    notional_floors_list = [\n",
    "        portfolio_equity_trade_threshold, notional_threshold, min_trade_notional_abs\n",
    "    ]\n",
    "    notional_floor = max(notional_floors_list)\n",
    "\n",
    "    # --- STOP-GATE: block NEW/ADDED long exposure if stop is breached/invalid ---\n",
    "    # We only gate when the delta adds long dollar risk (delta > 0).\n",
    "    if new_trade_notional > 0:\n",
    "        stop_today = df[f'{ticker}_stop_loss'].loc[date]#_long_stop_for_today(ticker)\n",
    "        print(f'Ticker: {ticker}, Ticker Mid Price: {mid_px}, Stop Loss Price: {stop_today}')\n",
    "        if not _entry_allowed_long(curr_price=mid_px, stop_today=stop_today, eps=0.0):\n",
    "            # Block the buy; keep delta at zero but still record the stop for transparency.\n",
    "            df.loc[date, f'{ticker}_stopout_flag'] = True\n",
    "            # df.loc[date, f'{ticker}_stop_loss']    = float(stop_today)\n",
    "            desired_positions[ticker] = {'new_trade_notional': 0.0,\n",
    "                                         'trade_fees': 0.0,\n",
    "                                         'reason': 'stop_breached'}\n",
    "            continue\n",
    "        else:\n",
    "            df.loc[date, f'{ticker}_stopout_flag'] = False\n",
    "            df.loc[date, f'{ticker}_stop_loss']    = float(stop_today)\n",
    "    # For sells or flat, we don’t block: let risk come off if needed.\n",
    "    \n",
    "    if abs(new_trade_notional) > notional_floor:\n",
    "        desired_positions[ticker] = {'new_trade_notional': new_trade_notional,\n",
    "                                     'trade_fees': trade_fees,\n",
    "                                     'reason': 'threshold_pass'}\n",
    "    else:\n",
    "        desired_positions[ticker] = {'new_trade_notional': 0,\n",
    "                                     'trade_fees': 0,\n",
    "                                     'reason': 'below_threshold'}\n",
    "\n",
    "    if new_trade_notional >= 0:\n",
    "        ## Buys\n",
    "        cash_debit = cash_debit + new_trade_notional\n",
    "    else:\n",
    "        ## Sells\n",
    "        net_trade_notional = new_trade_notional + trade_fees\n",
    "        cash_credit = cash_credit + abs(net_trade_notional)\n",
    "\n",
    "## Calculate Cash Shrink Factor for the portfolio for the day\n",
    "net_cash_need = cash_debit - cash_credit\n",
    "if net_cash_need > available_cash_for_trading + 1e-6:\n",
    "    cash_shrink_factor = available_cash_for_trading / net_cash_need  # 0 < shrink < 1\n",
    "else:\n",
    "    cash_shrink_factor = 1.0\n",
    "\n",
    "df[f'cash_shrink_factor'].loc[date] = cash_shrink_factor\n",
    "\n",
    "## Apply Cash Shrink Factor to Desired Positions for Buys Only\n",
    "for ticker in ticker_list:\n",
    "    if desired_positions[ticker]['new_trade_notional'] > 0:\n",
    "        desired_positions[ticker]['new_trade_notional'] = desired_positions[ticker]['new_trade_notional'] * cash_shrink_factor\n",
    "        desired_positions[ticker]['trade_fees'] = desired_positions[ticker]['trade_fees'] * cash_shrink_factor\n",
    "\n",
    "    df[f'{ticker}_new_position_notional'].loc[date] = desired_positions[ticker]['new_trade_notional']\n",
    "    df[f'{ticker}_new_position_size'].loc[date] = desired_positions[ticker]['new_trade_notional'] / current_positions[ticker]['ticker_mid_price']\n",
    "    df[f'{ticker}_actual_position_notional'].loc[date] = df[f'{ticker}_new_position_notional'].loc[date] + df[f'{ticker}_open_position_notional'].loc[date]\n",
    "    df[f'{ticker}_actual_position_size'].loc[date] = df[f'{ticker}_actual_position_notional'].loc[date] / current_positions[ticker]['ticker_mid_price']    "
   ]
  },
  {
   "cell_type": "code",
   "execution_count": 390,
   "id": "95855c15-dc64-43d6-b4a1-89e753ea1b77",
   "metadata": {},
   "outputs": [
    {
     "data": {
      "text/html": [
       "<div>\n",
       "<style scoped>\n",
       "    .dataframe tbody tr th:only-of-type {\n",
       "        vertical-align: middle;\n",
       "    }\n",
       "\n",
       "    .dataframe tbody tr th {\n",
       "        vertical-align: top;\n",
       "    }\n",
       "\n",
       "    .dataframe thead th {\n",
       "        text-align: right;\n",
       "    }\n",
       "</style>\n",
       "<table border=\"1\" class=\"dataframe\">\n",
       "  <thead>\n",
       "    <tr style=\"text-align: right;\">\n",
       "      <th></th>\n",
       "      <th>BTC-USD_stop_loss</th>\n",
       "      <th>ETH-USD_stop_loss</th>\n",
       "      <th>SOL-USD_stop_loss</th>\n",
       "      <th>ADA-USD_stop_loss</th>\n",
       "      <th>AVAX-USD_stop_loss</th>\n",
       "    </tr>\n",
       "    <tr>\n",
       "      <th>date</th>\n",
       "      <th></th>\n",
       "      <th></th>\n",
       "      <th></th>\n",
       "      <th></th>\n",
       "      <th></th>\n",
       "    </tr>\n",
       "  </thead>\n",
       "  <tbody>\n",
       "    <tr>\n",
       "      <th>2025-10-08</th>\n",
       "      <td>0.000000</td>\n",
       "      <td>0.00000</td>\n",
       "      <td>0.000000</td>\n",
       "      <td>0.000000</td>\n",
       "      <td>0.000000</td>\n",
       "    </tr>\n",
       "    <tr>\n",
       "      <th>2025-10-09</th>\n",
       "      <td>0.000000</td>\n",
       "      <td>0.00000</td>\n",
       "      <td>0.000000</td>\n",
       "      <td>0.000000</td>\n",
       "      <td>0.000000</td>\n",
       "    </tr>\n",
       "    <tr>\n",
       "      <th>2025-10-10</th>\n",
       "      <td>0.000000</td>\n",
       "      <td>0.00000</td>\n",
       "      <td>0.000000</td>\n",
       "      <td>0.000000</td>\n",
       "      <td>0.000000</td>\n",
       "    </tr>\n",
       "    <tr>\n",
       "      <th>2025-10-11</th>\n",
       "      <td>0.000000</td>\n",
       "      <td>0.00000</td>\n",
       "      <td>0.000000</td>\n",
       "      <td>0.000000</td>\n",
       "      <td>0.000000</td>\n",
       "    </tr>\n",
       "    <tr>\n",
       "      <th>2025-10-12</th>\n",
       "      <td>118891.803186</td>\n",
       "      <td>4506.92622</td>\n",
       "      <td>225.926642</td>\n",
       "      <td>0.879642</td>\n",
       "      <td>31.212119</td>\n",
       "    </tr>\n",
       "  </tbody>\n",
       "</table>\n",
       "</div>"
      ],
      "text/plain": [
       "            BTC-USD_stop_loss  ETH-USD_stop_loss  SOL-USD_stop_loss  \\\n",
       "date                                                                  \n",
       "2025-10-08           0.000000            0.00000           0.000000   \n",
       "2025-10-09           0.000000            0.00000           0.000000   \n",
       "2025-10-10           0.000000            0.00000           0.000000   \n",
       "2025-10-11           0.000000            0.00000           0.000000   \n",
       "2025-10-12      118891.803186         4506.92622         225.926642   \n",
       "\n",
       "            ADA-USD_stop_loss  AVAX-USD_stop_loss  \n",
       "date                                               \n",
       "2025-10-08           0.000000            0.000000  \n",
       "2025-10-09           0.000000            0.000000  \n",
       "2025-10-10           0.000000            0.000000  \n",
       "2025-10-11           0.000000            0.000000  \n",
       "2025-10-12           0.879642           31.212119  "
      ]
     },
     "execution_count": 390,
     "metadata": {},
     "output_type": "execute_result"
    }
   ],
   "source": [
    "stop_loss_cols = [f'{ticker}_stop_loss' for ticker in cfg['universe']['tickers']]\n",
    "df[stop_loss_cols].tail(5)"
   ]
  },
  {
   "cell_type": "code",
   "execution_count": 391,
   "id": "dbcf9cf3-7f7a-478d-9480-1bb7def7eb53",
   "metadata": {},
   "outputs": [
    {
     "data": {
      "text/html": [
       "<div>\n",
       "<style scoped>\n",
       "    .dataframe tbody tr th:only-of-type {\n",
       "        vertical-align: middle;\n",
       "    }\n",
       "\n",
       "    .dataframe tbody tr th {\n",
       "        vertical-align: top;\n",
       "    }\n",
       "\n",
       "    .dataframe thead th {\n",
       "        text-align: right;\n",
       "    }\n",
       "</style>\n",
       "<table border=\"1\" class=\"dataframe\">\n",
       "  <thead>\n",
       "    <tr style=\"text-align: right;\">\n",
       "      <th></th>\n",
       "      <th>BTC-USD_final_weighted_additive_signal</th>\n",
       "      <th>ETH-USD_final_weighted_additive_signal</th>\n",
       "      <th>SOL-USD_final_weighted_additive_signal</th>\n",
       "      <th>ADA-USD_final_weighted_additive_signal</th>\n",
       "      <th>AVAX-USD_final_weighted_additive_signal</th>\n",
       "    </tr>\n",
       "    <tr>\n",
       "      <th>date</th>\n",
       "      <th></th>\n",
       "      <th></th>\n",
       "      <th></th>\n",
       "      <th></th>\n",
       "      <th></th>\n",
       "    </tr>\n",
       "  </thead>\n",
       "  <tbody>\n",
       "    <tr>\n",
       "      <th>2025-09-23</th>\n",
       "      <td>-0.366255</td>\n",
       "      <td>0.274146</td>\n",
       "      <td>0.449920</td>\n",
       "      <td>0.352454</td>\n",
       "      <td>0.474444</td>\n",
       "    </tr>\n",
       "    <tr>\n",
       "      <th>2025-09-24</th>\n",
       "      <td>-0.383082</td>\n",
       "      <td>0.254831</td>\n",
       "      <td>0.433405</td>\n",
       "      <td>0.331841</td>\n",
       "      <td>0.474714</td>\n",
       "    </tr>\n",
       "    <tr>\n",
       "      <th>2025-09-25</th>\n",
       "      <td>-0.389494</td>\n",
       "      <td>0.236370</td>\n",
       "      <td>0.419294</td>\n",
       "      <td>0.315208</td>\n",
       "      <td>0.469891</td>\n",
       "    </tr>\n",
       "    <tr>\n",
       "      <th>2025-09-26</th>\n",
       "      <td>-0.413688</td>\n",
       "      <td>0.207933</td>\n",
       "      <td>0.397404</td>\n",
       "      <td>0.285061</td>\n",
       "      <td>0.446781</td>\n",
       "    </tr>\n",
       "    <tr>\n",
       "      <th>2025-09-27</th>\n",
       "      <td>-0.430255</td>\n",
       "      <td>0.187207</td>\n",
       "      <td>0.386165</td>\n",
       "      <td>0.268524</td>\n",
       "      <td>0.433106</td>\n",
       "    </tr>\n",
       "    <tr>\n",
       "      <th>2025-09-28</th>\n",
       "      <td>-0.442895</td>\n",
       "      <td>0.166061</td>\n",
       "      <td>0.374068</td>\n",
       "      <td>0.248632</td>\n",
       "      <td>0.422137</td>\n",
       "    </tr>\n",
       "    <tr>\n",
       "      <th>2025-09-29</th>\n",
       "      <td>-0.442226</td>\n",
       "      <td>0.149665</td>\n",
       "      <td>0.365817</td>\n",
       "      <td>0.238124</td>\n",
       "      <td>0.419334</td>\n",
       "    </tr>\n",
       "    <tr>\n",
       "      <th>2025-09-30</th>\n",
       "      <td>-0.430991</td>\n",
       "      <td>0.135138</td>\n",
       "      <td>0.357486</td>\n",
       "      <td>0.222902</td>\n",
       "      <td>0.417859</td>\n",
       "    </tr>\n",
       "    <tr>\n",
       "      <th>2025-10-01</th>\n",
       "      <td>-0.423977</td>\n",
       "      <td>0.118409</td>\n",
       "      <td>0.347161</td>\n",
       "      <td>0.210054</td>\n",
       "      <td>0.413250</td>\n",
       "    </tr>\n",
       "    <tr>\n",
       "      <th>2025-10-02</th>\n",
       "      <td>-0.404124</td>\n",
       "      <td>0.110393</td>\n",
       "      <td>0.348501</td>\n",
       "      <td>0.211424</td>\n",
       "      <td>0.413689</td>\n",
       "    </tr>\n",
       "    <tr>\n",
       "      <th>2025-10-03</th>\n",
       "      <td>-0.376587</td>\n",
       "      <td>0.109123</td>\n",
       "      <td>0.358869</td>\n",
       "      <td>0.214926</td>\n",
       "      <td>0.413526</td>\n",
       "    </tr>\n",
       "    <tr>\n",
       "      <th>2025-10-04</th>\n",
       "      <td>-0.338837</td>\n",
       "      <td>0.107125</td>\n",
       "      <td>0.363015</td>\n",
       "      <td>0.214286</td>\n",
       "      <td>0.413608</td>\n",
       "    </tr>\n",
       "    <tr>\n",
       "      <th>2025-10-05</th>\n",
       "      <td>-0.302023</td>\n",
       "      <td>0.102258</td>\n",
       "      <td>0.361624</td>\n",
       "      <td>0.205091</td>\n",
       "      <td>0.405212</td>\n",
       "    </tr>\n",
       "    <tr>\n",
       "      <th>2025-10-06</th>\n",
       "      <td>-0.257986</td>\n",
       "      <td>0.100486</td>\n",
       "      <td>0.360578</td>\n",
       "      <td>0.196967</td>\n",
       "      <td>0.398286</td>\n",
       "    </tr>\n",
       "    <tr>\n",
       "      <th>2025-10-07</th>\n",
       "      <td>-0.211245</td>\n",
       "      <td>0.110085</td>\n",
       "      <td>0.362298</td>\n",
       "      <td>0.200929</td>\n",
       "      <td>0.395246</td>\n",
       "    </tr>\n",
       "    <tr>\n",
       "      <th>2025-10-08</th>\n",
       "      <td>-0.190972</td>\n",
       "      <td>0.099951</td>\n",
       "      <td>0.349323</td>\n",
       "      <td>0.184708</td>\n",
       "      <td>0.379704</td>\n",
       "    </tr>\n",
       "    <tr>\n",
       "      <th>2025-10-09</th>\n",
       "      <td>-0.152647</td>\n",
       "      <td>0.096325</td>\n",
       "      <td>0.348943</td>\n",
       "      <td>0.179804</td>\n",
       "      <td>0.369596</td>\n",
       "    </tr>\n",
       "    <tr>\n",
       "      <th>2025-10-10</th>\n",
       "      <td>-0.130710</td>\n",
       "      <td>0.082214</td>\n",
       "      <td>0.337653</td>\n",
       "      <td>0.164064</td>\n",
       "      <td>0.359393</td>\n",
       "    </tr>\n",
       "    <tr>\n",
       "      <th>2025-10-11</th>\n",
       "      <td>-0.161040</td>\n",
       "      <td>0.038398</td>\n",
       "      <td>0.301782</td>\n",
       "      <td>0.118295</td>\n",
       "      <td>0.314211</td>\n",
       "    </tr>\n",
       "    <tr>\n",
       "      <th>2025-10-12</th>\n",
       "      <td>-0.209654</td>\n",
       "      <td>0.008394</td>\n",
       "      <td>0.251992</td>\n",
       "      <td>0.068978</td>\n",
       "      <td>0.291623</td>\n",
       "    </tr>\n",
       "  </tbody>\n",
       "</table>\n",
       "</div>"
      ],
      "text/plain": [
       "            BTC-USD_final_weighted_additive_signal  \\\n",
       "date                                                 \n",
       "2025-09-23                               -0.366255   \n",
       "2025-09-24                               -0.383082   \n",
       "2025-09-25                               -0.389494   \n",
       "2025-09-26                               -0.413688   \n",
       "2025-09-27                               -0.430255   \n",
       "2025-09-28                               -0.442895   \n",
       "2025-09-29                               -0.442226   \n",
       "2025-09-30                               -0.430991   \n",
       "2025-10-01                               -0.423977   \n",
       "2025-10-02                               -0.404124   \n",
       "2025-10-03                               -0.376587   \n",
       "2025-10-04                               -0.338837   \n",
       "2025-10-05                               -0.302023   \n",
       "2025-10-06                               -0.257986   \n",
       "2025-10-07                               -0.211245   \n",
       "2025-10-08                               -0.190972   \n",
       "2025-10-09                               -0.152647   \n",
       "2025-10-10                               -0.130710   \n",
       "2025-10-11                               -0.161040   \n",
       "2025-10-12                               -0.209654   \n",
       "\n",
       "            ETH-USD_final_weighted_additive_signal  \\\n",
       "date                                                 \n",
       "2025-09-23                                0.274146   \n",
       "2025-09-24                                0.254831   \n",
       "2025-09-25                                0.236370   \n",
       "2025-09-26                                0.207933   \n",
       "2025-09-27                                0.187207   \n",
       "2025-09-28                                0.166061   \n",
       "2025-09-29                                0.149665   \n",
       "2025-09-30                                0.135138   \n",
       "2025-10-01                                0.118409   \n",
       "2025-10-02                                0.110393   \n",
       "2025-10-03                                0.109123   \n",
       "2025-10-04                                0.107125   \n",
       "2025-10-05                                0.102258   \n",
       "2025-10-06                                0.100486   \n",
       "2025-10-07                                0.110085   \n",
       "2025-10-08                                0.099951   \n",
       "2025-10-09                                0.096325   \n",
       "2025-10-10                                0.082214   \n",
       "2025-10-11                                0.038398   \n",
       "2025-10-12                                0.008394   \n",
       "\n",
       "            SOL-USD_final_weighted_additive_signal  \\\n",
       "date                                                 \n",
       "2025-09-23                                0.449920   \n",
       "2025-09-24                                0.433405   \n",
       "2025-09-25                                0.419294   \n",
       "2025-09-26                                0.397404   \n",
       "2025-09-27                                0.386165   \n",
       "2025-09-28                                0.374068   \n",
       "2025-09-29                                0.365817   \n",
       "2025-09-30                                0.357486   \n",
       "2025-10-01                                0.347161   \n",
       "2025-10-02                                0.348501   \n",
       "2025-10-03                                0.358869   \n",
       "2025-10-04                                0.363015   \n",
       "2025-10-05                                0.361624   \n",
       "2025-10-06                                0.360578   \n",
       "2025-10-07                                0.362298   \n",
       "2025-10-08                                0.349323   \n",
       "2025-10-09                                0.348943   \n",
       "2025-10-10                                0.337653   \n",
       "2025-10-11                                0.301782   \n",
       "2025-10-12                                0.251992   \n",
       "\n",
       "            ADA-USD_final_weighted_additive_signal  \\\n",
       "date                                                 \n",
       "2025-09-23                                0.352454   \n",
       "2025-09-24                                0.331841   \n",
       "2025-09-25                                0.315208   \n",
       "2025-09-26                                0.285061   \n",
       "2025-09-27                                0.268524   \n",
       "2025-09-28                                0.248632   \n",
       "2025-09-29                                0.238124   \n",
       "2025-09-30                                0.222902   \n",
       "2025-10-01                                0.210054   \n",
       "2025-10-02                                0.211424   \n",
       "2025-10-03                                0.214926   \n",
       "2025-10-04                                0.214286   \n",
       "2025-10-05                                0.205091   \n",
       "2025-10-06                                0.196967   \n",
       "2025-10-07                                0.200929   \n",
       "2025-10-08                                0.184708   \n",
       "2025-10-09                                0.179804   \n",
       "2025-10-10                                0.164064   \n",
       "2025-10-11                                0.118295   \n",
       "2025-10-12                                0.068978   \n",
       "\n",
       "            AVAX-USD_final_weighted_additive_signal  \n",
       "date                                                 \n",
       "2025-09-23                                 0.474444  \n",
       "2025-09-24                                 0.474714  \n",
       "2025-09-25                                 0.469891  \n",
       "2025-09-26                                 0.446781  \n",
       "2025-09-27                                 0.433106  \n",
       "2025-09-28                                 0.422137  \n",
       "2025-09-29                                 0.419334  \n",
       "2025-09-30                                 0.417859  \n",
       "2025-10-01                                 0.413250  \n",
       "2025-10-02                                 0.413689  \n",
       "2025-10-03                                 0.413526  \n",
       "2025-10-04                                 0.413608  \n",
       "2025-10-05                                 0.405212  \n",
       "2025-10-06                                 0.398286  \n",
       "2025-10-07                                 0.395246  \n",
       "2025-10-08                                 0.379704  \n",
       "2025-10-09                                 0.369596  \n",
       "2025-10-10                                 0.359393  \n",
       "2025-10-11                                 0.314211  \n",
       "2025-10-12                                 0.291623  "
      ]
     },
     "execution_count": 391,
     "metadata": {},
     "output_type": "execute_result"
    }
   ],
   "source": [
    "raw_signal_cols = [f'{ticker}_final_weighted_additive_signal' for ticker in cfg['universe']['tickers']]\n",
    "df[raw_signal_cols].tail(20)"
   ]
  },
  {
   "cell_type": "code",
   "execution_count": 392,
   "id": "1187a5d8-b661-46e7-a779-06d9cafea010",
   "metadata": {},
   "outputs": [
    {
     "data": {
      "text/html": [
       "<div>\n",
       "<style scoped>\n",
       "    .dataframe tbody tr th:only-of-type {\n",
       "        vertical-align: middle;\n",
       "    }\n",
       "\n",
       "    .dataframe tbody tr th {\n",
       "        vertical-align: top;\n",
       "    }\n",
       "\n",
       "    .dataframe thead th {\n",
       "        text-align: right;\n",
       "    }\n",
       "</style>\n",
       "<table border=\"1\" class=\"dataframe\">\n",
       "  <thead>\n",
       "    <tr style=\"text-align: right;\">\n",
       "      <th></th>\n",
       "      <th>BTC-USD_final_signal</th>\n",
       "      <th>ETH-USD_final_signal</th>\n",
       "      <th>SOL-USD_final_signal</th>\n",
       "      <th>ADA-USD_final_signal</th>\n",
       "      <th>AVAX-USD_final_signal</th>\n",
       "    </tr>\n",
       "    <tr>\n",
       "      <th>date</th>\n",
       "      <th></th>\n",
       "      <th></th>\n",
       "      <th></th>\n",
       "      <th></th>\n",
       "      <th></th>\n",
       "    </tr>\n",
       "  </thead>\n",
       "  <tbody>\n",
       "    <tr>\n",
       "      <th>2025-09-23</th>\n",
       "      <td>0.0</td>\n",
       "      <td>0.240722</td>\n",
       "      <td>0.413157</td>\n",
       "      <td>0.194286</td>\n",
       "      <td>0.331705</td>\n",
       "    </tr>\n",
       "    <tr>\n",
       "      <th>2025-09-24</th>\n",
       "      <td>0.0</td>\n",
       "      <td>0.218403</td>\n",
       "      <td>0.399162</td>\n",
       "      <td>0.176530</td>\n",
       "      <td>0.340118</td>\n",
       "    </tr>\n",
       "    <tr>\n",
       "      <th>2025-09-25</th>\n",
       "      <td>0.0</td>\n",
       "      <td>0.196732</td>\n",
       "      <td>0.385387</td>\n",
       "      <td>0.159912</td>\n",
       "      <td>0.343889</td>\n",
       "    </tr>\n",
       "    <tr>\n",
       "      <th>2025-09-26</th>\n",
       "      <td>0.0</td>\n",
       "      <td>0.165668</td>\n",
       "      <td>0.357341</td>\n",
       "      <td>0.132901</td>\n",
       "      <td>0.226544</td>\n",
       "    </tr>\n",
       "    <tr>\n",
       "      <th>2025-09-27</th>\n",
       "      <td>0.0</td>\n",
       "      <td>0.142289</td>\n",
       "      <td>0.339441</td>\n",
       "      <td>0.113397</td>\n",
       "      <td>0.159669</td>\n",
       "    </tr>\n",
       "    <tr>\n",
       "      <th>2025-09-28</th>\n",
       "      <td>0.0</td>\n",
       "      <td>0.119851</td>\n",
       "      <td>0.320619</td>\n",
       "      <td>0.092945</td>\n",
       "      <td>0.215412</td>\n",
       "    </tr>\n",
       "    <tr>\n",
       "      <th>2025-09-29</th>\n",
       "      <td>0.0</td>\n",
       "      <td>0.102448</td>\n",
       "      <td>0.306076</td>\n",
       "      <td>0.077658</td>\n",
       "      <td>0.307229</td>\n",
       "    </tr>\n",
       "    <tr>\n",
       "      <th>2025-09-30</th>\n",
       "      <td>0.0</td>\n",
       "      <td>0.087741</td>\n",
       "      <td>0.292303</td>\n",
       "      <td>0.061647</td>\n",
       "      <td>0.304104</td>\n",
       "    </tr>\n",
       "    <tr>\n",
       "      <th>2025-10-01</th>\n",
       "      <td>0.0</td>\n",
       "      <td>0.072629</td>\n",
       "      <td>0.276882</td>\n",
       "      <td>0.047326</td>\n",
       "      <td>0.298232</td>\n",
       "    </tr>\n",
       "    <tr>\n",
       "      <th>2025-10-02</th>\n",
       "      <td>0.0</td>\n",
       "      <td>0.064136</td>\n",
       "      <td>0.272844</td>\n",
       "      <td>0.038479</td>\n",
       "      <td>0.296659</td>\n",
       "    </tr>\n",
       "    <tr>\n",
       "      <th>2025-10-03</th>\n",
       "      <td>0.0</td>\n",
       "      <td>0.060335</td>\n",
       "      <td>0.278010</td>\n",
       "      <td>0.031259</td>\n",
       "      <td>0.295069</td>\n",
       "    </tr>\n",
       "    <tr>\n",
       "      <th>2025-10-04</th>\n",
       "      <td>0.0</td>\n",
       "      <td>0.056485</td>\n",
       "      <td>0.279015</td>\n",
       "      <td>0.023524</td>\n",
       "      <td>0.293568</td>\n",
       "    </tr>\n",
       "    <tr>\n",
       "      <th>2025-10-05</th>\n",
       "      <td>0.0</td>\n",
       "      <td>0.051346</td>\n",
       "      <td>0.275595</td>\n",
       "      <td>0.014209</td>\n",
       "      <td>0.284913</td>\n",
       "    </tr>\n",
       "    <tr>\n",
       "      <th>2025-10-06</th>\n",
       "      <td>0.0</td>\n",
       "      <td>0.047986</td>\n",
       "      <td>0.272309</td>\n",
       "      <td>0.006823</td>\n",
       "      <td>0.228925</td>\n",
       "    </tr>\n",
       "    <tr>\n",
       "      <th>2025-10-07</th>\n",
       "      <td>0.0</td>\n",
       "      <td>0.050260</td>\n",
       "      <td>0.228386</td>\n",
       "      <td>0.003480</td>\n",
       "      <td>0.144458</td>\n",
       "    </tr>\n",
       "    <tr>\n",
       "      <th>2025-10-08</th>\n",
       "      <td>0.0</td>\n",
       "      <td>0.043150</td>\n",
       "      <td>0.258447</td>\n",
       "      <td>0.001600</td>\n",
       "      <td>0.187777</td>\n",
       "    </tr>\n",
       "    <tr>\n",
       "      <th>2025-10-09</th>\n",
       "      <td>0.0</td>\n",
       "      <td>0.039191</td>\n",
       "      <td>0.255419</td>\n",
       "      <td>0.000779</td>\n",
       "      <td>0.180480</td>\n",
       "    </tr>\n",
       "    <tr>\n",
       "      <th>2025-10-10</th>\n",
       "      <td>0.0</td>\n",
       "      <td>0.031194</td>\n",
       "      <td>0.242947</td>\n",
       "      <td>0.000355</td>\n",
       "      <td>0.176291</td>\n",
       "    </tr>\n",
       "    <tr>\n",
       "      <th>2025-10-11</th>\n",
       "      <td>0.0</td>\n",
       "      <td>0.011127</td>\n",
       "      <td>0.166734</td>\n",
       "      <td>0.000013</td>\n",
       "      <td>0.016885</td>\n",
       "    </tr>\n",
       "    <tr>\n",
       "      <th>2025-10-12</th>\n",
       "      <td>0.0</td>\n",
       "      <td>0.001610</td>\n",
       "      <td>0.107590</td>\n",
       "      <td>0.000004</td>\n",
       "      <td>0.012277</td>\n",
       "    </tr>\n",
       "  </tbody>\n",
       "</table>\n",
       "</div>"
      ],
      "text/plain": [
       "            BTC-USD_final_signal  ETH-USD_final_signal  SOL-USD_final_signal  \\\n",
       "date                                                                           \n",
       "2025-09-23                   0.0              0.240722              0.413157   \n",
       "2025-09-24                   0.0              0.218403              0.399162   \n",
       "2025-09-25                   0.0              0.196732              0.385387   \n",
       "2025-09-26                   0.0              0.165668              0.357341   \n",
       "2025-09-27                   0.0              0.142289              0.339441   \n",
       "2025-09-28                   0.0              0.119851              0.320619   \n",
       "2025-09-29                   0.0              0.102448              0.306076   \n",
       "2025-09-30                   0.0              0.087741              0.292303   \n",
       "2025-10-01                   0.0              0.072629              0.276882   \n",
       "2025-10-02                   0.0              0.064136              0.272844   \n",
       "2025-10-03                   0.0              0.060335              0.278010   \n",
       "2025-10-04                   0.0              0.056485              0.279015   \n",
       "2025-10-05                   0.0              0.051346              0.275595   \n",
       "2025-10-06                   0.0              0.047986              0.272309   \n",
       "2025-10-07                   0.0              0.050260              0.228386   \n",
       "2025-10-08                   0.0              0.043150              0.258447   \n",
       "2025-10-09                   0.0              0.039191              0.255419   \n",
       "2025-10-10                   0.0              0.031194              0.242947   \n",
       "2025-10-11                   0.0              0.011127              0.166734   \n",
       "2025-10-12                   0.0              0.001610              0.107590   \n",
       "\n",
       "            ADA-USD_final_signal  AVAX-USD_final_signal  \n",
       "date                                                     \n",
       "2025-09-23              0.194286               0.331705  \n",
       "2025-09-24              0.176530               0.340118  \n",
       "2025-09-25              0.159912               0.343889  \n",
       "2025-09-26              0.132901               0.226544  \n",
       "2025-09-27              0.113397               0.159669  \n",
       "2025-09-28              0.092945               0.215412  \n",
       "2025-09-29              0.077658               0.307229  \n",
       "2025-09-30              0.061647               0.304104  \n",
       "2025-10-01              0.047326               0.298232  \n",
       "2025-10-02              0.038479               0.296659  \n",
       "2025-10-03              0.031259               0.295069  \n",
       "2025-10-04              0.023524               0.293568  \n",
       "2025-10-05              0.014209               0.284913  \n",
       "2025-10-06              0.006823               0.228925  \n",
       "2025-10-07              0.003480               0.144458  \n",
       "2025-10-08              0.001600               0.187777  \n",
       "2025-10-09              0.000779               0.180480  \n",
       "2025-10-10              0.000355               0.176291  \n",
       "2025-10-11              0.000013               0.016885  \n",
       "2025-10-12              0.000004               0.012277  "
      ]
     },
     "execution_count": 392,
     "metadata": {},
     "output_type": "execute_result"
    }
   ],
   "source": [
    "signal_cols = [f'{ticker}_final_signal' for ticker in cfg['universe']['tickers']]\n",
    "df[signal_cols].tail(20)"
   ]
  },
  {
   "cell_type": "code",
   "execution_count": 393,
   "id": "b3370faf-458f-442d-b7b2-1303dc0897fb",
   "metadata": {},
   "outputs": [
    {
     "data": {
      "text/plain": [
       "<Axes: xlabel='date'>"
      ]
     },
     "execution_count": 393,
     "metadata": {},
     "output_type": "execute_result"
    },
    {
     "data": {
      "image/png": "[encoded data removed]",
      "text/plain": [
       "<Figure size 1200x1000 with 1 Axes>"
      ]
     },
     "metadata": {},
     "output_type": "display_data"
    }
   ],
   "source": [
    "df[signal_cols].plot(figsize=(12,10))"
   ]
  },
  {
   "cell_type": "markdown",
   "id": "1046897a-ef52-4394-a676-6a0ffa5ea7c0",
   "metadata": {},
   "source": [
    "## Generate Rebalance Orders"
   ]
  },
  {
   "cell_type": "code",
   "execution_count": 400,
   "id": "30c9f23c-2097-4f70-8b48-0b22bce6f2ea",
   "metadata": {},
   "outputs": [],
   "source": [
    "import json\n",
    "import ast\n",
    "\n",
    "# --- MINIMAL HELPERS ---\n",
    "\n",
    "def _order_cfg(o):\n",
    "    if o[\"type\"].lower() == \"market\":\n",
    "        return {\"market_market_ioc\": {\"base_size\": str(o[\"size\"])}}\n",
    "    # limit\n",
    "    lp = o.get(\"limit_price\")\n",
    "    if lp is None:\n",
    "        raise ValueError(\"limit_price required for limit orders\")\n",
    "    tif = (o.get(\"time_in_force\") or \"GTC\").upper()\n",
    "    key = {\"GTC\":\"limit_limit_gtc\",\"GTD\":\"limit_limit_gtd\",\"FOK\":\"limit_limit_fok\",\"IOC\":\"limit_limit_ioc\"}.get(tif,\"limit_limit_gtc\")\n",
    "    return {key: {\"base_size\": str(o[\"size\"]), \"limit_price\": str(lp), \"post_only\": bool(o.get(\"post_only\", False))}}\n",
    "\n",
    "def _preview_payload(o):\n",
    "    return {\"product_id\": o[\"product_id\"], \"side\": str(o[\"side\"]).upper(), \"order_configuration\": _order_cfg(o)}\n",
    "\n",
    "def _create_payload(o):\n",
    "    p = _preview_payload(o); p[\"client_order_id\"] = o[\"client_order_id\"]; return p\n",
    "\n",
    "def _as_dict(resp):\n",
    "    # handle dict, pydantic-like, or stringified dict\n",
    "    if isinstance(resp, dict): return resp\n",
    "    for attr in (\"dict\",\"to_dict\",\"model_dump\"):\n",
    "        fn = getattr(resp, attr, None)\n",
    "        if callable(fn):\n",
    "            try:\n",
    "                d = fn(); \n",
    "                if isinstance(d, dict): return d\n",
    "            except: pass\n",
    "    s = resp if isinstance(resp, str) else str(resp)\n",
    "    try:\n",
    "        return json.loads(s)\n",
    "    except:\n",
    "        try: \n",
    "            d = ast.literal_eval(s); \n",
    "            return d if isinstance(d, dict) else {\"raw\": s}\n",
    "        except: \n",
    "            return {\"raw\": s}\n",
    "\n",
    "def preview_order(client, order):\n",
    "    payload = _preview_payload(order)\n",
    "    r = client.preview_order(**payload)\n",
    "    d = _as_dict(r)\n",
    "    ok = bool(d.get(\"preview_id\") or (isinstance(d.get(\"errs\"), list) and len(d[\"errs\"]) == 0))\n",
    "    return {\"ok\": ok, \"data\": d if ok else None, \"error\": None if ok else d, \"request\": payload}\n",
    "\n",
    "def create_order(client, order, preview_first=False):\n",
    "    if preview_first:\n",
    "        pv = preview_order(client, order)\n",
    "        if not pv[\"ok\"]:\n",
    "            return {\"ok\": False, \"error\": {\"preview_failed\": pv}, \"request\": order}\n",
    "    payload = _create_payload(order)\n",
    "    r = client.create_order(**payload)\n",
    "    d = _as_dict(r)\n",
    "    ok = bool(d.get(\"order_id\") or d.get(\"success\") is True)\n",
    "    return {\"ok\": ok, \"data\": d if ok else None, \"error\": None if ok else d, \"request\": payload}\n",
    "\n",
    "def preview_orders(client, orders):\n",
    "    return [preview_order(client, od) for od in orders]\n",
    "\n",
    "def create_orders(client, orders, preview_first=False):\n",
    "    return [create_order(client, od, preview_first=preview_first) for od in orders]\n"
   ]
  },
  {
   "cell_type": "code",
   "execution_count": 402,
   "id": "ce7e1d9c-1ff9-46c9-b400-cb6dc8a2927c",
   "metadata": {},
   "outputs": [],
   "source": [
    "import math, time, uuid\n",
    "from typing import Dict, Any\n",
    "\n",
    "# your helper\n",
    "def round_to_increment(x, step):\n",
    "    if step is None or step == 0:\n",
    "        return float(x)\n",
    "    return round(round(x / step) * step, int(max(0, -math.log10(step))))\n",
    "\n",
    "def _round_down(x: float, step: float) -> float:\n",
    "    if step is None or step == 0:\n",
    "        return float(x)\n",
    "    return round_to_increment(math.floor(x / step) * step, step)\n",
    "\n",
    "def _round_up(x: float, step: float) -> float:\n",
    "    if step is None or step == 0:\n",
    "        return float(x)\n",
    "    return round_to_increment(math.ceil(x / step) * step, step)\n",
    "\n",
    "\n",
    "def get_product_meta(client, product_id: str):\n",
    "    \"\"\"\n",
    "    Returns increments & mins for sizing/price rounding.\n",
    "    \"\"\"\n",
    "    p = client.get_product(product_id)  # Advanced Trade: /api/v3/brokerage/products/{product_id}\n",
    "    # Public/List Public Products also exposes similar fields.\n",
    "    # Fields include base_increment, quote_increment, base_min_size, quote_min_size, price_increment, etc.\n",
    "    return {\n",
    "        \"base_increment\": float(p.base_increment),                                                    ## Minimum amount base value can be increased or decreased at once.\n",
    "        \"quote_increment\": float(p.quote_increment) if getattr(p, \"quote_increment\", None) else None, ## Minimum amount quote value can be increased or decreased at once\n",
    "        \"base_min_size\": float(p.base_min_size),                                                      ## Minimum size that can be represented of base currency\n",
    "        \"quote_min_size\": float(p.quote_min_size) if getattr(p, \"quote_min_size\", None) else None,    ## Minimum size that can be represented of quote currency\n",
    "        \"price_increment\": float(p.price_increment) if getattr(p, \"price_increment\", None) else None, ## Minimum amount price can be increased or decreased at once\n",
    "    }\n",
    "\n",
    "\n",
    "def build_rebalance_orders(desired_positions, date, current_positions, client, order_type, limit_price_buffer=0.0):\n",
    "    \"\"\"\n",
    "    Build market orders for new trades. You may switch to limit orders.\n",
    "    Returns a list of dicts: {product_id, side, type, size, client_order_id}\n",
    "    \"\"\"\n",
    "    orders = []\n",
    "    today_str = date.strftime(\"%Y%m%d\")\n",
    "    \n",
    "    for ticker, d in desired_positions.items():\n",
    "        raw_notional = float(d.get(\"new_trade_notional\", 0.0))\n",
    "        if abs(raw_notional) < 1e-9:\n",
    "            continue\n",
    "\n",
    "        side = 'buy' if raw_notional > 0 else 'sell'\n",
    "        mid_px = current_positions[ticker]['ticker_mid_price']#price_lookup(t)\n",
    "        if not (np.isfinite(mid_px) and mid_px > 0):\n",
    "            continue\n",
    "\n",
    "        prod_specs = get_product_meta(client, ticker)\n",
    "        base_inc  = prod_specs[\"base_increment\"]\n",
    "        base_min  = prod_specs[\"base_min_size\"]\n",
    "        quote_min = prod_specs[\"quote_min_size\"]    # min notional in quote currency\n",
    "        price_inc = prod_specs[\"price_increment\"]\n",
    "        \n",
    "        # Size in BASE currency: |notional| / price\n",
    "        raw_size = abs(raw_notional) / mid_px\n",
    "\n",
    "        # Quantize size to base_increment\n",
    "        q_size = _round_down(raw_size, base_inc)\n",
    "\n",
    "        # Enforce base_min_size\n",
    "        if q_size < base_min:\n",
    "            # Try rounding up once (only for buys), else skip as dust\n",
    "            if side == \"buy\":\n",
    "                q_size_up = _round_up(raw_size, base_inc)\n",
    "                if q_size_up >= base_min:\n",
    "                    q_size = q_size_up\n",
    "                else:\n",
    "                    # still dust, skip\n",
    "                    continue\n",
    "            else:\n",
    "                # sell smaller than min size => skip (or you may aggregate to a later day)\n",
    "                continue\n",
    "\n",
    "        # Enforce quote_min_size (notional)\n",
    "        q_notional = q_size * mid_px\n",
    "        if quote_min and q_notional < quote_min:\n",
    "            # For buys, see if one more increment clears the bar\n",
    "            if side == \"buy\":\n",
    "                q_size_up = _round_up((quote_min / mid_px), base_inc)\n",
    "                if q_size_up * mid_px >= quote_min:\n",
    "                    q_size = q_size_up\n",
    "                    q_notional = q_size * mid_px\n",
    "                else:\n",
    "                    continue\n",
    "            else:\n",
    "                # for sells, if position leftover < min you might need to fully close later; skip now\n",
    "                continue\n",
    "\n",
    "        # Prepare order dict\n",
    "        cl_order_id = f\"{ticker}-{today_str}-rebalance-{uuid.uuid4().hex[:8]}\"\n",
    "\n",
    "        order = {\n",
    "            \"product_id\": ticker,\n",
    "            \"side\": side,\n",
    "            \"type\": order_type,  # \"market\" (default) or \"limit\"\n",
    "            \"size\": float(q_size),  # BASE units\n",
    "            \"client_order_id\": cl_order_id,\n",
    "        }\n",
    "\n",
    "        if order_type == \"limit\":\n",
    "            # simple passive limit example: improve for real routing\n",
    "            if side == \"buy\":\n",
    "                # pay up to mid*(1 + buffer)\n",
    "                px = mid_px * (1 + abs(limit_price_buffer))\n",
    "            else:\n",
    "                # sell no worse than mid * (1 - buffer)\n",
    "                px = mid_px * (1 - abs(limit_price_buffer))\n",
    "            if price_inc:\n",
    "                px = round_to_increment(px, price_inc)\n",
    "            order[\"limit_price\"] = float(px)\n",
    "            order[\"time_in_force\"] = \"GTC\"\n",
    "\n",
    "        orders.append(order)\n",
    "        \n",
    "    return orders"
   ]
  },
  {
   "cell_type": "code",
   "execution_count": 404,
   "id": "ee372607-2102-419a-ad0f-6ded7e2a1598",
   "metadata": {},
   "outputs": [
    {
     "data": {
      "text/plain": [
       "[{'ok': True,\n",
       "  'data': {'order_total': '5782.3682358026',\n",
       "   'commission_total': '70.2311931474',\n",
       "   'errs': [],\n",
       "   'warning': [],\n",
       "   'quote_size': '5852.59942895',\n",
       "   'base_size': '0.05067271',\n",
       "   'best_bid': '115499.99',\n",
       "   'best_ask': '115500',\n",
       "   'is_max': False,\n",
       "   'order_margin_total': '0',\n",
       "   'leverage': '0',\n",
       "   'long_leverage': '0',\n",
       "   'short_leverage': '0',\n",
       "   'slippage': '0.0000167565411046',\n",
       "   'preview_id': 'df0878f8-8d17-4374-914f-1457e2303584',\n",
       "   'current_liquidation_buffer': '0',\n",
       "   'projected_liquidation_buffer': '0',\n",
       "   'max_leverage': '',\n",
       "   'pnl_configuration': None,\n",
       "   'twap_bucket_metadata': None,\n",
       "   'position_notional_limit': '',\n",
       "   'max_notional_at_requested_leverage': '',\n",
       "   'margin_ratio_data': {'current_margin_ratio': '0',\n",
       "    'projected_margin_ratio': '0'},\n",
       "   'commission_detail_total': {'total_commission': '70.2311931474',\n",
       "    'gst_commission': '0',\n",
       "    'withholding_commission': '0',\n",
       "    'client_commission': '70.2311931474',\n",
       "    'venue_commission': '',\n",
       "    'regulatory_commission': '',\n",
       "    'clearing_commission': ''},\n",
       "   'scaled_metadata': None,\n",
       "   'compliance_limit_data': None,\n",
       "   'equity_order_metadata': None,\n",
       "   'est_average_filled_price': '115498.0546520997199479'},\n",
       "  'error': None,\n",
       "  'request': {'product_id': 'BTC-USD',\n",
       "   'side': 'SELL',\n",
       "   'order_configuration': {'market_market_ioc': {'base_size': '0.05067271'}}}},\n",
       " {'ok': True,\n",
       "  'data': {'order_total': '10232.4205789399412',\n",
       "   'commission_total': '124.2804118899588',\n",
       "   'errs': [],\n",
       "   'warning': [],\n",
       "   'quote_size': '10356.7009908299',\n",
       "   'base_size': '2.49992179',\n",
       "   'best_bid': '4142.81',\n",
       "   'best_ask': '4142.82',\n",
       "   'is_max': False,\n",
       "   'order_margin_total': '0',\n",
       "   'leverage': '0',\n",
       "   'long_leverage': '0',\n",
       "   'short_leverage': '0',\n",
       "   'slippage': '0',\n",
       "   'preview_id': '5f86ff4d-a86d-48e0-ac73-25caff8e8214',\n",
       "   'current_liquidation_buffer': '0',\n",
       "   'projected_liquidation_buffer': '0',\n",
       "   'max_leverage': '',\n",
       "   'pnl_configuration': None,\n",
       "   'twap_bucket_metadata': None,\n",
       "   'position_notional_limit': '',\n",
       "   'max_notional_at_requested_leverage': '',\n",
       "   'margin_ratio_data': {'current_margin_ratio': '0',\n",
       "    'projected_margin_ratio': '0'},\n",
       "   'commission_detail_total': {'total_commission': '124.2804118899588',\n",
       "    'gst_commission': '0',\n",
       "    'withholding_commission': '0',\n",
       "    'client_commission': '124.2804118899588',\n",
       "    'venue_commission': '',\n",
       "    'regulatory_commission': '',\n",
       "    'clearing_commission': ''},\n",
       "   'scaled_metadata': None,\n",
       "   'compliance_limit_data': None,\n",
       "   'equity_order_metadata': None,\n",
       "   'est_average_filled_price': '4142.81'},\n",
       "  'error': None,\n",
       "  'request': {'product_id': 'ETH-USD',\n",
       "   'side': 'SELL',\n",
       "   'order_configuration': {'market_market_ioc': {'base_size': '2.49992179'}}}}]"
      ]
     },
     "execution_count": 404,
     "metadata": {},
     "output_type": "execute_result"
    }
   ],
   "source": [
    "rebal_orders = build_rebalance_orders(desired_positions, date, current_positions, client, order_type='market', limit_price_buffer=0.0)\n",
    "preview_orders(client, rebal_orders)"
   ]
  },
  {
   "cell_type": "code",
   "execution_count": 406,
   "id": "361c75f4-7da1-428a-8c48-c6f2e2874f5e",
   "metadata": {},
   "outputs": [
    {
     "data": {
      "text/plain": [
       "{'BTC-USD': {'ticker_qty': 0.05067271,\n",
       "  'ticker_mid_price': 115461.555,\n",
       "  'ticker_current_notional': 5850.74989266405},\n",
       " 'ETH-USD': {'ticker_qty': 2.538363,\n",
       "  'ticker_mid_price': 4136.655,\n",
       "  'ticker_current_notional': 10500.331995764998},\n",
       " 'SOL-USD': {'ticker_qty': 20.376297,\n",
       "  'ticker_mid_price': 197.45499999999998,\n",
       "  'ticker_current_notional': 4023.4017241349998},\n",
       " 'ADA-USD': {'ticker_qty': 1235.5616,\n",
       "  'ticker_mid_price': 0.69955,\n",
       "  'ticker_current_notional': 864.33711728},\n",
       " 'AVAX-USD': {'ticker_qty': 11.440584,\n",
       "  'ticker_mid_price': 22.555,\n",
       "  'ticker_current_notional': 258.04237212}}"
      ]
     },
     "execution_count": 406,
     "metadata": {},
     "output_type": "execute_result"
    }
   ],
   "source": [
    "current_positions"
   ]
  },
  {
   "cell_type": "code",
   "execution_count": 408,
   "id": "42772839-31a8-42ee-a19e-15af36754d5c",
   "metadata": {},
   "outputs": [
    {
     "data": {
      "text/plain": [
       "{'BTC-USD': {'new_trade_notional': -5850.74989266405,\n",
       "  'trade_fees': 74.30452363683344,\n",
       "  'reason': 'threshold_pass'},\n",
       " 'ETH-USD': {'new_trade_notional': -10341.314010518865,\n",
       "  'trade_fees': 131.33468793358958,\n",
       "  'reason': 'threshold_pass'},\n",
       " 'SOL-USD': {'new_trade_notional': 0.0,\n",
       "  'trade_fees': 0.0,\n",
       "  'reason': 'stop_breached'},\n",
       " 'ADA-USD': {'new_trade_notional': 0,\n",
       "  'trade_fees': 0,\n",
       "  'reason': 'below_threshold'},\n",
       " 'AVAX-USD': {'new_trade_notional': 0.0,\n",
       "  'trade_fees': 0.0,\n",
       "  'reason': 'stop_breached'}}"
      ]
     },
     "execution_count": 408,
     "metadata": {},
     "output_type": "execute_result"
    }
   ],
   "source": [
    "desired_positions"
   ]
  },
  {
   "cell_type": "code",
   "execution_count": 410,
   "id": "842c6539-5950-4c68-a4d2-4289d13f0f52",
   "metadata": {},
   "outputs": [
    {
     "data": {
      "text/html": [
       "<div>\n",
       "<style scoped>\n",
       "    .dataframe tbody tr th:only-of-type {\n",
       "        vertical-align: middle;\n",
       "    }\n",
       "\n",
       "    .dataframe tbody tr th {\n",
       "        vertical-align: top;\n",
       "    }\n",
       "\n",
       "    .dataframe thead th {\n",
       "        text-align: right;\n",
       "    }\n",
       "</style>\n",
       "<table border=\"1\" class=\"dataframe\">\n",
       "  <thead>\n",
       "    <tr style=\"text-align: right;\">\n",
       "      <th></th>\n",
       "      <th>BTC-USD_target_notional</th>\n",
       "      <th>ETH-USD_target_notional</th>\n",
       "      <th>SOL-USD_target_notional</th>\n",
       "      <th>ADA-USD_target_notional</th>\n",
       "      <th>AVAX-USD_target_notional</th>\n",
       "    </tr>\n",
       "    <tr>\n",
       "      <th>date</th>\n",
       "      <th></th>\n",
       "      <th></th>\n",
       "      <th></th>\n",
       "      <th></th>\n",
       "      <th></th>\n",
       "    </tr>\n",
       "  </thead>\n",
       "  <tbody>\n",
       "    <tr>\n",
       "      <th>2025-10-08</th>\n",
       "      <td>0.0</td>\n",
       "      <td>0.000000</td>\n",
       "      <td>0.000000</td>\n",
       "      <td>0.000000</td>\n",
       "      <td>0.00000</td>\n",
       "    </tr>\n",
       "    <tr>\n",
       "      <th>2025-10-09</th>\n",
       "      <td>0.0</td>\n",
       "      <td>0.000000</td>\n",
       "      <td>0.000000</td>\n",
       "      <td>0.000000</td>\n",
       "      <td>0.00000</td>\n",
       "    </tr>\n",
       "    <tr>\n",
       "      <th>2025-10-10</th>\n",
       "      <td>0.0</td>\n",
       "      <td>0.000000</td>\n",
       "      <td>0.000000</td>\n",
       "      <td>0.000000</td>\n",
       "      <td>0.00000</td>\n",
       "    </tr>\n",
       "    <tr>\n",
       "      <th>2025-10-11</th>\n",
       "      <td>0.0</td>\n",
       "      <td>0.000000</td>\n",
       "      <td>0.000000</td>\n",
       "      <td>0.000000</td>\n",
       "      <td>0.00000</td>\n",
       "    </tr>\n",
       "    <tr>\n",
       "      <th>2025-10-12</th>\n",
       "      <td>0.0</td>\n",
       "      <td>159.017985</td>\n",
       "      <td>8374.878083</td>\n",
       "      <td>0.287174</td>\n",
       "      <td>695.46332</td>\n",
       "    </tr>\n",
       "  </tbody>\n",
       "</table>\n",
       "</div>"
      ],
      "text/plain": [
       "            BTC-USD_target_notional  ETH-USD_target_notional  \\\n",
       "date                                                           \n",
       "2025-10-08                      0.0                 0.000000   \n",
       "2025-10-09                      0.0                 0.000000   \n",
       "2025-10-10                      0.0                 0.000000   \n",
       "2025-10-11                      0.0                 0.000000   \n",
       "2025-10-12                      0.0               159.017985   \n",
       "\n",
       "            SOL-USD_target_notional  ADA-USD_target_notional  \\\n",
       "date                                                           \n",
       "2025-10-08                 0.000000                 0.000000   \n",
       "2025-10-09                 0.000000                 0.000000   \n",
       "2025-10-10                 0.000000                 0.000000   \n",
       "2025-10-11                 0.000000                 0.000000   \n",
       "2025-10-12              8374.878083                 0.287174   \n",
       "\n",
       "            AVAX-USD_target_notional  \n",
       "date                                  \n",
       "2025-10-08                   0.00000  \n",
       "2025-10-09                   0.00000  \n",
       "2025-10-10                   0.00000  \n",
       "2025-10-11                   0.00000  \n",
       "2025-10-12                 695.46332  "
      ]
     },
     "execution_count": 410,
     "metadata": {},
     "output_type": "execute_result"
    }
   ],
   "source": [
    "target_notional_cols = [f'{ticker}_target_notional' for ticker in ticker_list]\n",
    "df[target_notional_cols].tail()"
   ]
  },
  {
   "cell_type": "code",
   "execution_count": 222,
   "id": "6b584f3d-f36d-4c37-b433-6d901a6d27e2",
   "metadata": {},
   "outputs": [],
   "source": [
    "## TODO: CANCEL AND OPEN STOP LOSS ORDERS ONCE ORDERS ARE CANCELLED\n",
    "def should_close_dust(df, date, actual_notional, min_notional_abs, pct_of_portfolio=0.002):\n",
    "    total_portfolio_value = float(df.loc[date, 'total_portfolio_value'])\n",
    "    return (abs(actual_notional) < float(min_notional_abs)) or (abs(actual_notional) < pct_of_portfolio * total_portfolio_value)\n",
    "    \n",
    "def build_dust_close_orders(df, date, ticker_list, min_trade_notional_abs):\n",
    "    \"\"\"\n",
    "    Flatten tiny residual positions to zero.\n",
    "    \"\"\"\n",
    "    orders = []\n",
    "    for t in ticker_list:\n",
    "        actual_notional = float(df.loc[date, f'{t}_actual_position_notional'])\n",
    "        if should_close_dust(df, date, actual_notional, min_trade_notional_abs):\n",
    "            size_now = float(df.loc[date, f'{t}_actual_position_size'])\n",
    "            if abs(size_now) < 1e-12:\n",
    "                continue\n",
    "            side = 'sell' if size_now > 0 else 'buy'\n",
    "            orders.append({\n",
    "                \"product_id\": t,\n",
    "                \"side\": side,\n",
    "                \"type\": \"market\",\n",
    "                \"size\": abs(size_now),\n",
    "                \"client_order_id\": f\"{t}-{date}-dustclose-{int(round(abs(actual_notional)))}\"\n",
    "            })\n",
    "            # reflect flatten in df\n",
    "            df.loc[date, f'{t}_actual_position_notional'] = 0.0\n",
    "            df.loc[date, f'{t}_actual_position_size'] = 0.0\n",
    "    return orders"
   ]
  },
  {
   "cell_type": "code",
   "execution_count": 224,
   "id": "ef409e2b-3b5e-41cc-bec1-d48ef56cc54a",
   "metadata": {},
   "outputs": [
    {
     "data": {
      "text/plain": [
       "False"
      ]
     },
     "execution_count": 224,
     "metadata": {},
     "output_type": "execute_result"
    }
   ],
   "source": [
    "should_close_dust(df, date, actual_notional=43.4995522227813, min_notional_abs=10, pct_of_portfolio=0.002)"
   ]
  },
  {
   "cell_type": "code",
   "execution_count": 226,
   "id": "a3e6ef40-55f0-4508-abeb-784dbde085f2",
   "metadata": {},
   "outputs": [
    {
     "data": {
      "text/plain": [
       "[]"
      ]
     },
     "execution_count": 226,
     "metadata": {},
     "output_type": "execute_result"
    }
   ],
   "source": [
    "build_dust_close_orders(df, date, ticker_list, min_trade_notional_abs)"
   ]
  },
  {
   "cell_type": "code",
   "execution_count": 228,
   "id": "31ef0d3c-6744-4a43-85f4-53bd0ca171ee",
   "metadata": {},
   "outputs": [
    {
     "data": {
      "text/plain": [
       "10"
      ]
     },
     "execution_count": 228,
     "metadata": {},
     "output_type": "execute_result"
    }
   ],
   "source": [
    "min_trade_notional_abs"
   ]
  },
  {
   "cell_type": "code",
   "execution_count": 412,
   "id": "941fd27e-c1d6-45d8-9a08-abb1ae37e220",
   "metadata": {},
   "outputs": [],
   "source": [
    "import math\n",
    "from decimal import Decimal\n",
    "\n",
    "def place_stop_limit_order(\n",
    "    client,\n",
    "    product_id,\n",
    "    side,\n",
    "    stop_price,\n",
    "    size,\n",
    "    client_order_id,\n",
    "    *,\n",
    "    buffer_bps=50,\n",
    "    preview=False,\n",
    "    price_increment=0.01,\n",
    "    base_increment=1e-8,\n",
    "    quote_min_size=None\n",
    "):\n",
    "    \"\"\"\n",
    "    Stop-LIMIT (emulates stop-market with buffer) using your round_to_increment.\n",
    "      SELL (long protection): limit = stop * (1 - buffer), stop ↑, limit ↓\n",
    "      BUY  (short protection): limit = stop * (1 + buffer), stop ↓, limit ↑\n",
    "    \"\"\"\n",
    "    side = side.upper()\n",
    "    buf = float(buffer_bps) / 10_000.0\n",
    "\n",
    "    # Directional rounding for prices\n",
    "    if side == \"SELL\":\n",
    "        sp = _round_up(float(stop_price), float(price_increment))\n",
    "        lp = _round_down(sp * (1.0 - buf), float(price_increment))\n",
    "        stop_dir = \"STOP_DIRECTION_STOP_DOWN\"\n",
    "    elif side == \"BUY\":\n",
    "        sp = _round_down(float(stop_price), float(price_increment))\n",
    "        lp = _round_up(sp * (1.0 + buf), float(price_increment))\n",
    "        stop_dir = \"STOP_DIRECTION_STOP_UP\"\n",
    "    else:\n",
    "        raise ValueError(\"side must be 'BUY' or 'SELL'\")\n",
    "\n",
    "    # Base size rounding (↓) and optional min notional enforcement\n",
    "    sz = _round_down(float(size), float(base_increment))\n",
    "    if quote_min_size:\n",
    "        # ensure price*size >= quote_min_size\n",
    "        if sp * sz < float(quote_min_size):\n",
    "            needed = float(quote_min_size) / sp\n",
    "            # bump up, then round down to base_increment (to avoid exceeding increments)\n",
    "            sz = _round_down(needed, float(base_increment))\n",
    "\n",
    "    order_configuration = {\n",
    "        \"stop_limit_stop_limit_gtc\": {\n",
    "            \"base_size\":     f\"{sz}\",\n",
    "            \"limit_price\":   f\"{lp}\",\n",
    "            \"stop_price\":    f\"{sp}\",\n",
    "            \"stop_direction\": stop_dir,\n",
    "        }\n",
    "    }\n",
    "\n",
    "    if preview:\n",
    "        # NOTE: preview must NOT include client_order_id\n",
    "        return client.preview_order(\n",
    "            product_id=product_id,\n",
    "            side=side,\n",
    "            order_configuration=order_configuration,\n",
    "        )\n",
    "\n",
    "    # Live placement: include client_order_id\n",
    "    return client.create_order(\n",
    "        client_order_id=client_order_id,\n",
    "        product_id=product_id,\n",
    "        side=side,\n",
    "        order_configuration=order_configuration,\n",
    "    )\n"
   ]
  },
  {
   "cell_type": "code",
   "execution_count": 416,
   "id": "ec6ee56b-6183-4b9a-897b-9dbd1f6a1f3a",
   "metadata": {},
   "outputs": [],
   "source": [
    "def update_trailing_stop_chandelier(client, df, ticker, date, highest_high_window=56, rolling_atr_window=20, atr_multiplier=2.5, stop_loss_replace_threshold_ticks=1, \n",
    "                                    client_id_prefix=\"stop-\", limit_price_buffer=0.005):\n",
    "\n",
    "    ## Get Product Specs\n",
    "    specs = get_product_meta(client, product_id=ticker)\n",
    "    tick = specs['price_increment']\n",
    "\n",
    "    ## Calculate today's stop loss based on Chandelier logic \n",
    "    stop_today = float(chandelier_stop_long(date, ticker, highest_high_window, rolling_atr_window, atr_multiplier))\n",
    "    \n",
    "    ## Get the max of yesterday's and today's stop loss - no ratchet logic\n",
    "    stop_prev = df.get(f'{ticker}_stop_loss', pd.Series(index=df.index, dtype=float)).shift(1).loc[date]\n",
    "\n",
    "    ## Pick the desired stop (monotone ratchet)\n",
    "    candidates = [x for x in (stop_prev, stop_today) if np.isfinite(x)]\n",
    "    desired_stop = max(candidates) if candidates else stop_today\n",
    "    desired_stop = round_to_increment(desired_stop, specs.get('price_increment'))\n",
    "\n",
    "    ## Decide to replace the stop loss: skip or replace?\n",
    "    ## If we have an open stop, only replace if the new desired is meaningfully higher (>= +min_delta_ticks)\n",
    "    threshold = (stop_prev if np.isfinite(stop_prev) else -np.inf) + (stop_loss_replace_threshold_ticks * tick)\n",
    "    if np.isfinite(stop_prev) and desired_stop < threshold:\n",
    "        # No meaningful ratchet; skip\n",
    "        df.loc[date, f'{ticker}_stop_loss'] = float(stop_prev)  # persist what’s effectively active\n",
    "        return {\n",
    "            \"action\": \"skip\",\n",
    "            \"reason\": \"no_ratchet\",\n",
    "            \"open_stop_price\": float(stop_prev),\n",
    "            \"stop_today\": float(stop_today),\n",
    "            \"desired_stop\": float(desired_stop),\n",
    "            \"tick\": float(tick)\n",
    "        }\n",
    "    else:\n",
    "        ## Cancel existing open stops (avoid duplicates)\n",
    "        try:\n",
    "            open_orders = list_open_stop_orders(client, product_id=ticker)\n",
    "            open_orders = np.where(pd.isna(open_orders), [], open_orders)\n",
    "            for o in open_orders:\n",
    "                otype = str(o['order_type']).lower()\n",
    "                if ('stop' in otype) or (o['stop_price'] is not None):\n",
    "                    # cn.cancel_order(client, o['order_id'])\n",
    "                    print({\n",
    "                        \"action\": \"cancel\",\n",
    "                        \"reason\": \"open stop loss\",\n",
    "                        \"open_stop_price\": f\"{float(stop_prev)}\",\n",
    "                        \"stop_today\": f\"{float(stop_today)}\",\n",
    "                        \"desired_stop\": f\"{float(desired_stop)}\",\n",
    "                        \"tick\": f\"{float(tick)}\"\n",
    "                    })\n",
    "        except Exception as e:\n",
    "            # Log & continue; we still attempt to place the new one\n",
    "            print(f\"[warn] cancel stop failed for {ticker}: {e}\")\n",
    "\n",
    "        # --- compute order params\n",
    "        # Position size to protect:\n",
    "        \n",
    "        # Prefer your df actual size for today; otherwise query your positions wrapper\n",
    "        try:\n",
    "            pos_size = float(df.loc[date, f'{ticker}_actual_position_size'])\n",
    "        except Exception:\n",
    "            pos = (get_current_positions_from_portfolio(client, [ticker]) or {}).get(ticker, {})\n",
    "            pos_size = float(pos[ticker].get('ticker_qty', 0.0))\n",
    "        if pos_size <= 0:\n",
    "            df.loc[date, f'{ticker}_stop_loss'] = float(desired_stop)\n",
    "            return {\n",
    "                \"action\": \"skip\",\n",
    "                \"reason\": \"no_position\",\n",
    "                \"open_stop_price\": float(open_stop_price) if np.isfinite(open_stop_price) else None,\n",
    "                \"stop_new\": float(stop_new),\n",
    "                \"desired_stop\": float(desired_stop),\n",
    "                \"tick\": float(tick)\n",
    "            }\n",
    "    \n",
    "        # Stop-limit buffer for sell stops (long positions)\n",
    "        # limit_price = round_to_increment(desired_stop * (1 - limit_price_buffer), tick)\n",
    "    \n",
    "        # --- place new stop-limit\n",
    "        client_order_id = f\"{client_id_prefix}{ticker}-{date:%Y%m%d}-{int(round(desired_stop / tick))}\"\n",
    "        try:\n",
    "            preview_order = place_stop_limit_order(\n",
    "                client=client,\n",
    "                product_id=ticker,\n",
    "                side=\"sell\",\n",
    "                stop_price=desired_stop,\n",
    "                # limit_price=limit_price,\n",
    "                size=pos_size,\n",
    "                client_order_id=client_order_id,\n",
    "                buffer_bps=50,\n",
    "                preview=True\n",
    "            )\n",
    "        except Exception as e:\n",
    "            print(f\"[error] place stop failed for {ticker}: {e}\")\n",
    "            # Still persist desired stop; next run will retry\n",
    "        df.loc[date, f'{ticker}_stop_loss'] = float(desired_stop)\n",
    "\n",
    "    return preview_order, desired_stop"
   ]
  },
  {
   "cell_type": "code",
   "execution_count": 418,
   "id": "3da8c6a9-8186-4ebb-b9d1-c192ae8dc069",
   "metadata": {},
   "outputs": [
    {
     "data": {
      "text/plain": [
       "({'order_total': '', 'commission_total': '', 'errs': ['PREVIEW_STOP_PRICE_ABOVE_LAST_TRADE_PRICE'], 'warning': [], 'quote_size': '', 'base_size': '', 'best_bid': '', 'best_ask': '', 'is_max': False, 'order_margin_total': '', 'leverage': '', 'long_leverage': '', 'short_leverage': '', 'slippage': '', 'preview_id': 'c1e275cc-ebd0-4c14-9308-14932677ff6d', 'current_liquidation_buffer': '', 'projected_liquidation_buffer': '', 'max_leverage': '', 'pnl_configuration': None, 'twap_bucket_metadata': None, 'position_notional_limit': '', 'max_notional_at_requested_leverage': '', 'margin_ratio_data': None, 'commission_detail_total': None, 'scaled_metadata': None, 'compliance_limit_data': None, 'equity_order_metadata': None, 'est_average_filled_price': ''},\n",
       " 4314.51)"
      ]
     },
     "execution_count": 418,
     "metadata": {},
     "output_type": "execute_result"
    }
   ],
   "source": [
    "ticker = 'ETH-USD'\n",
    "update_trailing_stop_chandelier(client, df, ticker, date, highest_high_window=56, rolling_atr_window=20, atr_multiplier=2.5, stop_loss_replace_threshold_ticks=1, \n",
    "                                client_id_prefix=\"stop-\", limit_price_buffer=0.005)"
   ]
  },
  {
   "cell_type": "code",
   "execution_count": null,
   "id": "35713af9-218d-4eeb-9537-c42fdaaac5a7",
   "metadata": {},
   "outputs": [],
   "source": [
    "highest_high_window=56\n",
    "rolling_atr_window=20\n",
    "atr_multiplier=2.5\n",
    "\n",
    "## Get Average True Range\n",
    "df_atr = calculate_average_true_range_live(date=date, ticker=ticker, rolling_atr_window=rolling_atr_window)\n",
    "atr = df_atr[f'{ticker}_{rolling_atr_window}_avg_true_range_price'].loc[date]\n",
    "\n",
    "## Get the Highest High from previous date\n",
    "highest_high_t_1 = df_atr[f'{ticker}_high'].rolling(highest_high_window).max().shift(1)\n",
    "chandelier_stop = highest_high_t_1 - atr_multiplier * atr\n",
    "chandelier_stop = chandelier_stop.loc[date]"
   ]
  },
  {
   "cell_type": "code",
   "execution_count": null,
   "id": "6a9a2daa-17ed-478b-aa88-31c5752de540",
   "metadata": {},
   "outputs": [],
   "source": [
    "chandelier_stop"
   ]
  },
  {
   "cell_type": "code",
   "execution_count": null,
   "id": "edc3d934-9d6f-4e06-a294-39414159d466",
   "metadata": {},
   "outputs": [],
   "source": [
    "highest_high_t_1"
   ]
  },
  {
   "cell_type": "code",
   "execution_count": null,
   "id": "958db40b-cf28-4877-bf86-c2f349c38ffd",
   "metadata": {},
   "outputs": [],
   "source": [
    "df_atr.tail(60)"
   ]
  },
  {
   "cell_type": "code",
   "execution_count": null,
   "id": "8d95473e-434e-4106-9991-384eb6cd810c",
   "metadata": {},
   "outputs": [],
   "source": [
    "desired_positions"
   ]
  },
  {
   "cell_type": "code",
   "execution_count": null,
   "id": "8678d128-2273-4fdd-949c-9af6ceea6de6",
   "metadata": {},
   "outputs": [],
   "source": [
    "current_positions"
   ]
  },
  {
   "cell_type": "code",
   "execution_count": null,
   "id": "58392938-3861-4d8a-80eb-8cd145f8a115",
   "metadata": {},
   "outputs": [],
   "source": [
    "get_product_meta(client=client, product_id='AVAX-USD')"
   ]
  },
  {
   "cell_type": "code",
   "execution_count": null,
   "id": "0540c296-0fc5-4431-a7cc-ea548377c031",
   "metadata": {},
   "outputs": [],
   "source": [
    "df_atr.head()"
   ]
  },
  {
   "cell_type": "code",
   "execution_count": null,
   "id": "40f07d54-b358-45f0-adbd-a079b270a919",
   "metadata": {},
   "outputs": [],
   "source": [
    "df.tail()"
   ]
  },
  {
   "cell_type": "code",
   "execution_count": null,
   "id": "0b59bd84-0e47-4f1f-83c1-5aebe886ddfc",
   "metadata": {},
   "outputs": [],
   "source": [
    "specs = get_product_meta(client, product_id=ticker)\n",
    "tick = specs['price_increment']\n",
    "client=client,\n",
    "product_id=ticker,\n",
    "side=\"sell\",\n",
    "stop_price=30.06,\n",
    "# limit_price=limit_price,\n",
    "size=pos_size,\n",
    "client_order_id = f\"{client_id_prefix}{ticker}-{date:%Y%m%d}-{int(round(desired_stop / tick))}\"\n",
    "buffer_bps=50,\n",
    "preview=True\n",
    "\n",
    "side = side.upper()\n",
    "sp = Decimal(str(stop_price))\n",
    "buf = Decimal(buffer_bps) / Decimal(10_000)\n",
    "sz = str(size)\n",
    "\n",
    "if side == \"SELL\":\n",
    "    limit_price = sp * (Decimal(1) - buf)\n",
    "    stop_dir = \"STOP_DIRECTION_STOP_DOWN\"\n",
    "elif side == \"BUY\":\n",
    "    limit_price = sp * (Decimal(1) + buf)\n",
    "    stop_dir = \"STOP_DIRECTION_STOP_UP\"\n",
    "else:\n",
    "    raise ValueError(\"side must be 'BUY' or 'SELL'\")\n",
    "\n",
    "payload = {\n",
    "    \"client_order_id\": client_order_id,\n",
    "    \"product_id\": product_id,\n",
    "    \"side\": side,\n",
    "    \"order_configuration\": {\n",
    "        \"stop_limit_stop_limit_gtc\": {\n",
    "            \"base_size\": sz,\n",
    "            \"limit_price\": str(limit_price),\n",
    "            \"stop_price\": str(sp),\n",
    "            \"stop_direction\": stop_dir\n",
    "        }\n",
    "    }\n",
    "}\n",
    "\n",
    "if preview:\n",
    "    # Try SDK preview; fall back to returning the payload\n",
    "    if hasattr(client, \"preview_order\"):\n",
    "        return client.preview_order(**payload)\n"
   ]
  },
  {
   "cell_type": "code",
   "execution_count": null,
   "id": "bd1b7f4b-d368-464d-8be0-e013efd74db3",
   "metadata": {},
   "outputs": [],
   "source": [
    "open_orders = list_open_stop_orders(client, product_id=ticker)\n",
    "open_orders = np.where(pd.isna(open_orders), [], open_orders)"
   ]
  },
  {
   "cell_type": "code",
   "execution_count": null,
   "id": "e3b721dd-da16-4fa7-8068-5a02ebb66bdb",
   "metadata": {},
   "outputs": [],
   "source": [
    "open_orders"
   ]
  },
  {
   "cell_type": "code",
   "execution_count": null,
   "id": "8ef3ecd1-3e0b-44ee-8296-c728f983505a",
   "metadata": {},
   "outputs": [],
   "source": [
    "for o in open_orders:\n",
    "    print(o)"
   ]
  },
  {
   "cell_type": "code",
   "execution_count": null,
   "id": "196b6ce2-8ffb-46df-9973-62ed4bfd2870",
   "metadata": {},
   "outputs": [],
   "source": [
    "get_open_stop_price(client, product_id=ticker)"
   ]
  },
  {
   "cell_type": "code",
   "execution_count": null,
   "id": "71c93d20-a290-42f1-9890-ce9d131d68ba",
   "metadata": {},
   "outputs": [],
   "source": [
    "pos = (get_current_positions_from_portfolio(client, [ticker]) or {}).get(ticker, {})\n",
    "pos_size = float(pos.get('ticker_qty', 0.0))"
   ]
  },
  {
   "cell_type": "code",
   "execution_count": null,
   "id": "802fd87d-619c-46b6-b7b8-9f39fe945422",
   "metadata": {},
   "outputs": [],
   "source": [
    "pos"
   ]
  },
  {
   "cell_type": "code",
   "execution_count": null,
   "id": "101e3199-9716-4039-bb03-627fec8a390b",
   "metadata": {},
   "outputs": [],
   "source": [
    "pos_size"
   ]
  },
  {
   "cell_type": "code",
   "execution_count": null,
   "id": "24bcb2ca-97b0-4b5c-b6ee-ee39c8b86db9",
   "metadata": {},
   "outputs": [],
   "source": [
    "current_positions[ticker].get('ticker_qty')"
   ]
  },
  {
   "cell_type": "code",
   "execution_count": null,
   "id": "9faa578d-6443-48c2-b66b-0cb224821c3d",
   "metadata": {},
   "outputs": [],
   "source": [
    "open_orders = get_open_stop_price(client, product_id=ticker)"
   ]
  },
  {
   "cell_type": "code",
   "execution_count": null,
   "id": "da5c512e-e717-4e75-8bf8-2970c0a38997",
   "metadata": {},
   "outputs": [],
   "source": [
    "np.where(pd.isna(open_orders), [], open_orders)#.item()"
   ]
  },
  {
   "cell_type": "code",
   "execution_count": null,
   "id": "3449cf22-ff63-42f5-bb0f-b4a83f2343cb",
   "metadata": {},
   "outputs": [],
   "source": [
    "update_trailing_stop_chandelier(client, df, ticker, date, highest_high_window=56, roling_atr_window=20, atr_multiplier=2.5)"
   ]
  },
  {
   "cell_type": "code",
   "execution_count": null,
   "id": "9b9da972-b215-476d-8187-fe9390c6126e",
   "metadata": {},
   "outputs": [],
   "source": [
    "res = client.list_orders(product_id=ticker, order_status=['CANCELLED'])\n",
    "raw = res['orders']"
   ]
  },
  {
   "cell_type": "code",
   "execution_count": null,
   "id": "fe9fbc4a-c2a0-40d7-9e0b-854a367e721f",
   "metadata": {},
   "outputs": [],
   "source": [
    "raw"
   ]
  },
  {
   "cell_type": "code",
   "execution_count": null,
   "id": "209ad8b9-0dbd-4bbb-8efa-990fe07801b9",
   "metadata": {},
   "outputs": [],
   "source": [
    "o['order_id']"
   ]
  },
  {
   "cell_type": "code",
   "execution_count": null,
   "id": "025b5289-eb62-4346-9c81-fcecd9dfda4d",
   "metadata": {},
   "outputs": [],
   "source": [
    "o['stop_price']"
   ]
  },
  {
   "cell_type": "code",
   "execution_count": null,
   "id": "4d7c15df-c3d4-4a91-93ac-693a9a875b77",
   "metadata": {},
   "outputs": [],
   "source": [
    "for o in raw:\n",
    "    otype = str(o['order_type']).lower()\n",
    "    if ('stop' in otype) or (o['stop_price'] is not None):\n",
    "        # cn.cancel_order(client, o.get('order_id'))\n",
    "        print({\n",
    "            \"action\": \"cancel\",\n",
    "            \"reason\": \"open stop loss\",\n",
    "            \"open_stop_price\": f\"{float(stop_prev)}\",\n",
    "            \"stop_today\": f\"{float(stop_today)}\",\n",
    "            \"desired_stop\": f\"{float(desired_stop)}\",\n",
    "            \"tick\": f\"{float(tick)}\"\n",
    "        })"
   ]
  },
  {
   "cell_type": "code",
   "execution_count": null,
   "id": "3c650b35-6f4a-46b2-b305-1baf755cf76b",
   "metadata": {},
   "outputs": [],
   "source": [
    "# --- decide: skip or replace?\n",
    "# If we have an open stop, only replace if the new desired is meaningfully higher (>= +min_delta_ticks)\n",
    "tick = specs.get('price_increment')\n",
    "specs = get_product_meta(client, product_id=ticker)\n",
    "stop_today = float(chandelier_stop_long(date, ticker, highest_high_window, rolling_atr_window, atr_multiplier))\n",
    "stop_prev = 50#df.get(f'{ticker}_stop_loss', pd.Series(index=df.index, dtype=float)).shift(1).loc[date]\n",
    "desired_stop = max(stop_today, stop_prev)\n",
    "\n",
    "# --- pick the desired stop (monotone ratchet)\n",
    "candidates = [x for x in [stop_prev, stop_today] if np.isfinite(x)]\n",
    "if not candidates:\n",
    "    desired_stop = stop_today\n",
    "else:\n",
    "    desired_stop = max(candidates)\n",
    "\n",
    "desired_stop = round_to_increment(x=desired_stop, step=specs.get('price_increment'))\n",
    "stop_loss_replace_threshold_ticks=1\n",
    "threshold = (stop_prev if np.isfinite(stop_prev) else -np.inf) + (stop_loss_replace_threshold_ticks * tick)\n",
    "if np.isfinite(stop_prev) and desired_stop < threshold:\n",
    "    # No meaningful ratchet; skip\n",
    "    df.loc[date, f'{ticker}_stop_loss'] = float(stop_prev)  # persist what’s effectively active\n",
    "    print({\n",
    "        \"action\": \"skip\",\n",
    "        \"reason\": \"no_ratchet\",\n",
    "        \"open_stop_price\": float(stop_prev),\n",
    "        # \"prev_df_stop\": float(stop_prev_df) if np.isfinite(stop_prev_df) else None,\n",
    "        \"stop_today\": float(stop_today),\n",
    "        \"desired_stop\": float(desired_stop),\n",
    "        \"tick\": float(tick)\n",
    "    })"
   ]
  },
  {
   "cell_type": "code",
   "execution_count": null,
   "id": "9fd9409e-0de4-4316-8487-e322ef8070f7",
   "metadata": {},
   "outputs": [],
   "source": [
    "df.get(f'{ticker}_stop_loss', pd.Series(index=df.index, dtype=float)).shift(1).loc[date]"
   ]
  },
  {
   "cell_type": "code",
   "execution_count": null,
   "id": "4edcb88d-ee8b-4e32-89e2-3fd0acaa9b86",
   "metadata": {},
   "outputs": [],
   "source": [
    "update_trailing_stop(df, ticker, date, method='chandelier', highest_high_window=cfg['risk_and_sizing']['highest_high_window'], roling_atr_window=20, atr_multiplier=cfg['risk_and_sizing']['atr_multiplier'])"
   ]
  },
  {
   "cell_type": "code",
   "execution_count": null,
   "id": "4f6b1ab0-ee4e-4407-be64-d176f9ba9743",
   "metadata": {},
   "outputs": [],
   "source": [
    "stop_today = float(chandelier_stop_long(date, ticker, highest_high_window, rolling_atr_window, atr_multiplier))\n",
    "stop_prev = df.get(f'{ticker}_stop_loss', pd.Series(index=df.index, dtype=float)).shift(1).loc[date]\n",
    "\n",
    "# --- pick the desired stop (monotone ratchet)\n",
    "candidates = [x for x in [stop_prev, stop_today] if np.isfinite(x)]\n",
    "if not candidates:\n",
    "    desired_stop = stop_today\n",
    "else:\n",
    "    desired_stop = max(candidates)\n",
    "\n",
    "# --- figure tick & rounding\n",
    "min_tick = 0.01\n",
    "tick = min_tick\n",
    "if tick is None:\n",
    "    try:\n",
    "        specs = get_product_meta(client, ticker)  # implement to return increments\n",
    "        # Accept common field names:\n",
    "        tick = float(specs.get('price_increment'))# or specs.get('quote_increment') or specs.get('tick_size') or 0.0)\n",
    "    except Exception:\n",
    "        tick = 0.0\n",
    "tick = tick if (tick and tick > 0) else 1e-6  # safe tiny tick if unknown\n",
    "\n",
    "# desired_stop = round_to_increment(desired_stop, tick)"
   ]
  },
  {
   "cell_type": "code",
   "execution_count": null,
   "id": "e245376d-abe3-4fcf-847c-a4a921d88489",
   "metadata": {},
   "outputs": [],
   "source": [
    "specs = get_product_meta(client, ticker)"
   ]
  },
  {
   "cell_type": "code",
   "execution_count": null,
   "id": "c2e35d7b-1d6f-4643-a519-94717c106480",
   "metadata": {},
   "outputs": [],
   "source": [
    "float(specs.get('price_increment'))"
   ]
  },
  {
   "cell_type": "code",
   "execution_count": null,
   "id": "f5dc394e-c281-4e04-80ed-1afb52ebad0e",
   "metadata": {},
   "outputs": [],
   "source": [
    "specs"
   ]
  },
  {
   "cell_type": "code",
   "execution_count": null,
   "id": "d69b1204-d6d5-42fd-8645-bb5c1a875f5b",
   "metadata": {},
   "outputs": [],
   "source": [
    "tick"
   ]
  },
  {
   "cell_type": "code",
   "execution_count": null,
   "id": "c2aed8c8-083c-4996-be31-fedf36e7e67c",
   "metadata": {},
   "outputs": [],
   "source": [
    "float(specs.get('price_increment') or specs.get('quote_increment') or specs.get('tick_size') or 0.0)"
   ]
  },
  {
   "cell_type": "code",
   "execution_count": null,
   "id": "6c3fe609-cbea-4bc8-8c44-3d926259dac3",
   "metadata": {},
   "outputs": [],
   "source": [
    "def round_to_increment(x, step):\n",
    "    # For prices it’s usually exact multiples; round to nearest multiple.\n",
    "    if step is None or step == 0:\n",
    "        return x\n",
    "    return round(round(x / step) * step, int(max(0, -math.log10(step))))\n",
    "    \n",
    "round_to_increment(desired_stop, tick)"
   ]
  },
  {
   "cell_type": "code",
   "execution_count": null,
   "id": "fc2dc7a4-bdf7-4944-85de-e02e7ccc2637",
   "metadata": {},
   "outputs": [],
   "source": [
    "desired_stop"
   ]
  },
  {
   "cell_type": "code",
   "execution_count": null,
   "id": "f46efaea-9367-44ea-add0-459856e20412",
   "metadata": {},
   "outputs": [],
   "source": [
    "stop_today"
   ]
  },
  {
   "cell_type": "code",
   "execution_count": null,
   "id": "3a997ca8-2a81-4651-a9ad-4628a0560874",
   "metadata": {},
   "outputs": [],
   "source": [
    "stop_prev"
   ]
  },
  {
   "cell_type": "code",
   "execution_count": null,
   "id": "5eff561a-4f39-49b6-a50a-5710a0d51b20",
   "metadata": {},
   "outputs": [],
   "source": [
    "col = f'{ticker}_stop_loss'\n",
    "df[col].get(previous_date, np.nan)"
   ]
  },
  {
   "cell_type": "code",
   "execution_count": null,
   "id": "427f1f7e-93d7-4360-9dde-845bf241e961",
   "metadata": {},
   "outputs": [],
   "source": []
  },
  {
   "cell_type": "code",
   "execution_count": null,
   "id": "b34a43b0-0466-4b19-b6ab-ba9ce6b4e733",
   "metadata": {},
   "outputs": [],
   "source": [
    "import math, time, uuid\n",
    "from typing import Dict, Any\n",
    "\n",
    "def get_product_meta(client, product_id: str):\n",
    "    \"\"\"\n",
    "    Returns increments & mins for sizing/price rounding.\n",
    "    \"\"\"\n",
    "    p = client.get_product(product_id)  # Advanced Trade: /api/v3/brokerage/products/{product_id}\n",
    "    # Public/List Public Products also exposes similar fields.\n",
    "    # Fields include base_increment, quote_increment, base_min_size, quote_min_size, price_increment, etc.\n",
    "    return {\n",
    "        \"base_increment\": float(p.base_increment),                                                    ## Minimum amount base value can be increased or decreased at once.\n",
    "        \"quote_increment\": float(p.quote_increment) if getattr(p, \"quote_increment\", None) else None, ## Minimum amount quote value can be increased or decreased at once\n",
    "        \"base_min_size\": float(p.base_min_size),                                                      ## Minimum size that can be represented of base currency\n",
    "        \"quote_min_size\": float(p.quote_min_size) if getattr(p, \"quote_min_size\", None) else None,    ## Minimum size that can be represented of quote currency\n",
    "        \"price_increment\": float(p.price_increment) if getattr(p, \"price_increment\", None) else None, ## Minimum amount price can be increased or decreased at once\n",
    "    }\n",
    "\n",
    "def round_down(x, step):\n",
    "    if step is None or step == 0:\n",
    "        return x\n",
    "    return math.floor(x / step) * step\n",
    "    \n",
    "\n",
    "def round_to_increment(x, step):\n",
    "    # For prices it’s usually exact multiples; round to nearest multiple.\n",
    "    if step is None or step == 0:\n",
    "        return x\n",
    "    return round(round(x / step) * step, int(max(0, -math.log10(step))))\n",
    "    \n",
    "\n",
    "def current_mid(client, product_id):\n",
    "    \"\"\"\n",
    "    Safer 'now' price: use Best Bid/Ask midpoint.\n",
    "    \"\"\"\n",
    "    bba = client.get_best_bid_ask([product_id]).pricebooks[0]\n",
    "    bid = float(bba['bids'][0]['price'])\n",
    "    ask = float(bba['asks'][0]['price'])\n",
    "    return (bid + ask) / 2.0\n",
    "    \n",
    "    \n",
    "def prev_stop_from_df(df, date, ticker):\n",
    "    col = f'{ticker}_stop_loss'\n",
    "    previous_date = df.index[df.index.get_loc(date) - 1]\n",
    "    if col in df.columns:\n",
    "        v = df[col].shift(1).get(previous_date, np.nan)\n",
    "        return float(v) if np.isfinite(v) else np.nan\n",
    "    return np.nan\n",
    "\n",
    "\n",
    "def refresh_chandelier_stop_for_ticker(\n",
    "    client, df, date, ticker,\n",
    "    highest_high_window=56, rolling_atr_window=20, atr_multiplier=2.5,\n",
    "    client_id_prefix=\"stop-\",\n",
    "    limit_buffer_bps=50,   # e.g., 50 bps buffer => limit_price = stop*(1 - 0.005) on sell stops\n",
    "    min_tick=None,         # if None, fetch from product specs\n",
    "    min_delta_ticks=1,     # ratchet only if >= 1 tick above current stop\n",
    "    pos_size=None          # pass if you already computed; else we'll try df\n",
    "):\n",
    "    \"\"\"\n",
    "    1) Compute today's Chandelier stop (T-1 data)\n",
    "    2) Read yesterday's stop from df\n",
    "    3) Read open stop(s) from exchange\n",
    "    4) desired_stop = max(prev_df_stop, open_stop_price, new_stop)\n",
    "    5) Only cancel&replace if desired_stop >= open_stop_price + min_delta_ticks * tick\n",
    "\n",
    "    Returns: dict(summary) with 'action' in {\"skip\",\"place\"} and the prices used.\n",
    "    \"\"\"\n",
    "\n",
    "    # --- compute today's new stop from T-1 data\n",
    "    stop_new = chandelier_stop_long(date, ticker, highest_high_window, rolling_atr_window, atr_multiplier)\n",
    "\n",
    "    # --- previous stop from your own df (fast path)\n",
    "    stop_prev_df = prev_stop_from_df(df, date, ticker)\n",
    "\n",
    "    # --- open stop on exchange (if any)\n",
    "    open_stop_price = get_open_stop_price(client, product_id=ticker, client_id_prefix=client_id_prefix)\n",
    "\n",
    "    # --- pick the desired stop (monotone ratchet)\n",
    "    candidates = [x for x in [stop_prev_df, open_stop_price, stop_new] if np.isfinite(x)]\n",
    "    if not candidates:\n",
    "        desired_stop = stop_new\n",
    "    else:\n",
    "        desired_stop = max(candidates)\n",
    "\n",
    "    # --- figure tick & rounding\n",
    "    tick = min_tick\n",
    "    if tick is None:\n",
    "        try:\n",
    "            specs = cn.get_product_specs(client, ticker)  # implement to return increments\n",
    "            # Accept common field names:\n",
    "            tick = float(specs.get('price_increment') or specs.get('quote_increment') or specs.get('tick_size') or 0.0)\n",
    "        except Exception:\n",
    "            tick = 0.0\n",
    "    tick = tick if (tick and tick > 0) else 1e-6  # safe tiny tick if unknown\n",
    "\n",
    "    desired_stop = round_to_increment(desired_stop, tick)\n",
    "\n",
    "    # --- decide: skip or replace?\n",
    "    # If we have an open stop, only replace if the new desired is meaningfully higher (>= +min_delta_ticks)\n",
    "    threshold = (open_stop_price if np.isfinite(open_stop_price) else -np.inf) + (min_delta_ticks * tick)\n",
    "    if np.isfinite(open_stop_price) and desired_stop < threshold:\n",
    "        # No meaningful ratchet; skip\n",
    "        df.loc[date, f'{ticker}_stop_loss'] = float(open_stop_price)  # persist what’s effectively active\n",
    "        return {\n",
    "            \"action\": \"skip\",\n",
    "            \"reason\": \"no_ratchet\",\n",
    "            \"open_stop_price\": float(open_stop_price),\n",
    "            \"prev_df_stop\": float(stop_prev_df) if np.isfinite(stop_prev_df) else None,\n",
    "            \"stop_new\": float(stop_new),\n",
    "            \"desired_stop\": float(desired_stop),\n",
    "            \"tick\": float(tick)\n",
    "        }\n",
    "\n",
    "    # --- cancel existing open stops (avoid duplicates)\n",
    "    try:\n",
    "        open_orders = cn.list_open_orders(client, product_id=ticker) or []\n",
    "        for o in open_orders:\n",
    "            otype = str(o.get('type', '')).lower()\n",
    "            if ('stop' in otype) or (o.get('stop_price') is not None):\n",
    "                cn.cancel_order(client, o.get('order_id'))\n",
    "    except Exception as e:\n",
    "        # Log & continue; we still attempt to place the new one\n",
    "        print(f\"[warn] cancel stop failed for {ticker}: {e}\")"
   ]
  },
  {
   "cell_type": "code",
   "execution_count": null,
   "id": "30c2c47f-d973-446e-a33b-66bea0a60ebb",
   "metadata": {},
   "outputs": [],
   "source": [
    "client.list_orders(client, product_id=ticker)"
   ]
  },
  {
   "cell_type": "code",
   "execution_count": null,
   "id": "e391ad2d-e20d-4e1e-a7ac-76d345ce8b91",
   "metadata": {},
   "outputs": [],
   "source": [
    "client.list_o"
   ]
  },
  {
   "cell_type": "code",
   "execution_count": null,
   "id": "85b7e316-0792-4f99-8136-52659e182935",
   "metadata": {},
   "outputs": [],
   "source": [
    "get_product_meta(client, ticker)"
   ]
  },
  {
   "cell_type": "code",
   "execution_count": null,
   "id": "556f3848-dde9-40b1-b647-5a78a87b3b7e",
   "metadata": {},
   "outputs": [],
   "source": [
    "specs = client.get_product_specs(client, ticker)"
   ]
  },
  {
   "cell_type": "code",
   "execution_count": null,
   "id": "cb10800d-e81b-42a5-8869-2c5e68c6a00a",
   "metadata": {},
   "outputs": [],
   "source": [
    "# Close-anchored ATR trail (alternative)\n",
    "atr_series = calculate_average_true_range_live(date=date, ticker=ticker, rolling_atr_window=rolling_atr_window)[f'{ticker}_{rolling_atr_window}_avg_true_range_price']\n",
    "atr = float(atr_series.loc[date])\n",
    "stop_prev = df.get(f'{ticker}_stop_loss', pd.Series(index=df.index, dtype=float)).shift(1).loc[date]\n",
    "t_1_close = float(df[f'{ticker}_close'].shift(1).loc[date])\n",
    "stop_today = max(stop_prev or -np.inf, t_1_close - atr_multiplier * atr)"
   ]
  },
  {
   "cell_type": "code",
   "execution_count": null,
   "id": "2d583d6b-06d2-49e8-b9e7-e788f6ffcff3",
   "metadata": {},
   "outputs": [],
   "source": [
    "stop_today"
   ]
  },
  {
   "cell_type": "code",
   "execution_count": null,
   "id": "272d2b6b-bd56-4810-870c-a3eb70947b3c",
   "metadata": {},
   "outputs": [],
   "source": [
    "float(calculate_average_true_range_live(date=date, ticker=ticker, rolling_atr_window=rolling_atr_window)[f'{ticker}_{rolling_atr_window}_avg_true_range_price'].loc[date])"
   ]
  },
  {
   "cell_type": "code",
   "execution_count": null,
   "id": "287b26b0-2da2-47ad-8ce9-19d8f7dcfdb3",
   "metadata": {},
   "outputs": [],
   "source": [
    "stop_today"
   ]
  },
  {
   "cell_type": "code",
   "execution_count": null,
   "id": "1b1a1ef2-f919-4787-a5f2-ee7fece26e9b",
   "metadata": {},
   "outputs": [],
   "source": [
    "ticker"
   ]
  },
  {
   "cell_type": "code",
   "execution_count": null,
   "id": "9037f630-cea4-43ec-999d-77b420db3960",
   "metadata": {},
   "outputs": [],
   "source": [
    "df.get(f'{ticker}_stop_loss', pd.Series(index=df.index, dtype=float)).shift(1).loc[date]"
   ]
  },
  {
   "cell_type": "code",
   "execution_count": null,
   "id": "87504c28-7add-4cba-ae59-348c4b572f74",
   "metadata": {},
   "outputs": [],
   "source": []
  },
  {
   "cell_type": "code",
   "execution_count": null,
   "id": "a2640a9b-85ac-4e4d-b9b0-5dae9b00d8a7",
   "metadata": {},
   "outputs": [],
   "source": [
    "float(calculate_average_true_range_live(date=date, ticker=ticker, rolling_atr_window=rolling_atr_window)[f'{ticker}_{rolling_atr_window}_avg_true_range_price'].loc[date])"
   ]
  },
  {
   "cell_type": "code",
   "execution_count": null,
   "id": "7ea7cdce-aba2-40fe-b257-bd53d2eccb54",
   "metadata": {},
   "outputs": [],
   "source": [
    "df.get(f'{ticker}_stop_loss', pd.Series(index=df.index, dtype=float))"
   ]
  },
  {
   "cell_type": "code",
   "execution_count": null,
   "id": "023b629b-8652-4962-896a-2d630af6ef17",
   "metadata": {},
   "outputs": [],
   "source": [
    "df.get(f'{ticker}_stop_loss', pd.Series(index=df.index, dtype=float)).shift(1).loc[date]"
   ]
  },
  {
   "cell_type": "code",
   "execution_count": null,
   "id": "a919c609-1d48-44d8-8d66-2e83be3c0993",
   "metadata": {},
   "outputs": [],
   "source": [
    "df_atr_test[f'{ticker}_high'].rolling(rolling_atr_window).max().shift(1)"
   ]
  },
  {
   "cell_type": "code",
   "execution_count": null,
   "id": "6c023e01-b693-4859-a9e3-6303073a9502",
   "metadata": {},
   "outputs": [],
   "source": [
    "df_atr_test[f'{ticker}_high'].rolling(rolling_atr_window).max()"
   ]
  },
  {
   "cell_type": "code",
   "execution_count": null,
   "id": "f796f939-9c7d-4c8a-9c0c-6a6203497e99",
   "metadata": {},
   "outputs": [],
   "source": [
    "highest_high_window = 56\n",
    "chandelier_stop_long(date, ticker, highest_high_window, rolling_atr_window, atr_multiplier)"
   ]
  },
  {
   "cell_type": "code",
   "execution_count": null,
   "id": "ba9af0cd-2f21-46d1-840b-32365a9f64bf",
   "metadata": {},
   "outputs": [],
   "source": [
    "df_atr_test = calculate_average_true_range_live(date, ticker, rolling_atr_window=20)"
   ]
  },
  {
   "cell_type": "code",
   "execution_count": null,
   "id": "f16bdd82-b077-4361-a4f7-11a59a415eba",
   "metadata": {},
   "outputs": [],
   "source": [
    "df_atr_test[f'{ticker}_{rolling_atr_window}_avg_true_range_price'].loc[date]"
   ]
  },
  {
   "cell_type": "code",
   "execution_count": null,
   "id": "80431c47-5362-43f9-845d-e1e60431b9ca",
   "metadata": {},
   "outputs": [],
   "source": [
    "35.82 - 2.5 * 2.1045328294561823"
   ]
  },
  {
   "cell_type": "code",
   "execution_count": null,
   "id": "105ebd9f-182e-4c49-a4c8-9213e45b9c27",
   "metadata": {},
   "outputs": [],
   "source": []
  },
  {
   "cell_type": "code",
   "execution_count": null,
   "id": "3adf0d6c-3f10-4356-ab45-f6412dd85f3c",
   "metadata": {},
   "outputs": [],
   "source": [
    "df_atr_test.tail()"
   ]
  },
  {
   "cell_type": "code",
   "execution_count": null,
   "id": "ac4f9f5d-acd5-4957-8436-bc0757f4b9bb",
   "metadata": {},
   "outputs": [],
   "source": [
    "client.list_orders(product_ids='BTC-USD')"
   ]
  },
  {
   "cell_type": "code",
   "execution_count": null,
   "id": "7a0cc2c2-c1d4-4f62-aea2-4c310ccd8d75",
   "metadata": {},
   "outputs": [],
   "source": [
    "df_atr.tail()"
   ]
  },
  {
   "cell_type": "code",
   "execution_count": null,
   "id": "4119caaf-1c57-42d9-9261-09a3ab1693a3",
   "metadata": {},
   "outputs": [],
   "source": [
    "avg_true_range_cols = [f'{ticker}_20_avg_true_range_price' for ticker in ticker_list]"
   ]
  },
  {
   "cell_type": "code",
   "execution_count": null,
   "id": "69ea9912-b31b-41b3-96d4-64a5e6a3da8f",
   "metadata": {},
   "outputs": [],
   "source": [
    "df[avg_true_range_cols].tail()"
   ]
  },
  {
   "cell_type": "code",
   "execution_count": null,
   "id": "ad1e07db-d338-4dd1-8594-2120f2f6fc49",
   "metadata": {},
   "outputs": [],
   "source": [
    "stop_loss_cols = [f'{ticker}_stop_loss' for ticker in ticker_list]\n",
    "df[stop_loss_cols].tail()"
   ]
  },
  {
   "cell_type": "code",
   "execution_count": null,
   "id": "6e8f9fe7-e373-414b-9778-eba28815b9d0",
   "metadata": {},
   "outputs": [],
   "source": [
    "for t, d in desired_positions.items():\n",
    "    print(t, d)"
   ]
  },
  {
   "cell_type": "code",
   "execution_count": null,
   "id": "53bcc6ce-7169-454c-8734-4d86287498f6",
   "metadata": {},
   "outputs": [],
   "source": [
    "current_positions[t]['ticker_mid_price']"
   ]
  },
  {
   "cell_type": "code",
   "execution_count": null,
   "id": "acced7a3-8663-44c4-9608-89dc967ad67a",
   "metadata": {},
   "outputs": [],
   "source": [
    "np.isfinite(current_positions[t]['ticker_mid_price'])"
   ]
  },
  {
   "cell_type": "code",
   "execution_count": null,
   "id": "924a638b-1266-4ebc-83dd-c5344d607d51",
   "metadata": {},
   "outputs": [],
   "source": [
    "float(d.get('new_trade_notional', 0.0))"
   ]
  },
  {
   "cell_type": "code",
   "execution_count": null,
   "id": "f7b84d42-3cbd-4faa-b899-bbd444c86711",
   "metadata": {},
   "outputs": [],
   "source": [
    "cash_shrink_factor"
   ]
  },
  {
   "cell_type": "code",
   "execution_count": null,
   "id": "7d3106cf-d905-44fc-9478-3db1a044f395",
   "metadata": {},
   "outputs": [],
   "source": [
    "current_positions"
   ]
  },
  {
   "cell_type": "code",
   "execution_count": null,
   "id": "9bf03405-dc7a-4192-bee5-cc4cdee9f999",
   "metadata": {},
   "outputs": [],
   "source": [
    "desired_positions"
   ]
  },
  {
   "cell_type": "code",
   "execution_count": null,
   "id": "fa8f8827-3a47-45b5-a752-e882b2de07bd",
   "metadata": {},
   "outputs": [],
   "source": [
    "current_notional_cols = [f'{ticker}_actual_position_notional' for ticker in ticker_list]\n",
    "target_notional_cols = [f'{ticker}_target_notional' for ticker in ticker_list]"
   ]
  },
  {
   "cell_type": "code",
   "execution_count": null,
   "id": "8c252ca3-0856-4599-87f4-afab5097e540",
   "metadata": {},
   "outputs": [],
   "source": [
    "df[current_notional_cols].tail()"
   ]
  },
  {
   "cell_type": "code",
   "execution_count": null,
   "id": "360b5b45-7c8d-46dd-a344-8c03fadfc632",
   "metadata": {},
   "outputs": [],
   "source": [
    "df[target_notional_cols].tail()"
   ]
  },
  {
   "cell_type": "code",
   "execution_count": null,
   "id": "2cbbba50-dee0-483b-8569-d3e0616ec6ad",
   "metadata": {},
   "outputs": [],
   "source": [
    "signal_cols = [f'{ticker}_final_signal' for ticker in ticker_list]\n",
    "df[signal_cols].tail()"
   ]
  },
  {
   "cell_type": "code",
   "execution_count": null,
   "id": "0db425a7-d670-4667-b1ef-7bd660d487c1",
   "metadata": {},
   "outputs": [],
   "source": [
    "df.tail()"
   ]
  },
  {
   "cell_type": "code",
   "execution_count": null,
   "id": "ff235f86-6593-42c3-af49-55f3259dbfa4",
   "metadata": {},
   "outputs": [],
   "source": [
    "desired_positions = {}\n",
    "cash_debit = 0.0  # buys + fees\n",
    "cash_credit = 0.0  # sells - fees\n",
    "available_cash = df['available_cash'].loc[date] * (1 - cash_buffer_percentage)\n",
    "\n",
    "## Estimated Transaction Costs and Fees\n",
    "est_fees = (transaction_cost_est + perf.estimate_fee_per_trade(passive_trade_rate))\n",
    "\n",
    "for ticker in ticker_list:\n",
    "    ## Calculate the cash need from all new target positions\n",
    "    target_notional = df[f'{ticker}_target_notional'].loc[date]\n",
    "    current_notional = df[f'{ticker}_actual_position_size'].loc[previous_date] * df[f'{ticker}_open'].loc[date]\n",
    "    new_trade_notional = target_notional - current_notional\n",
    "    trade_fees = abs(new_trade_notional) * est_fees\n",
    "\n",
    "    ## Calculate notional difference to determine if a trade is warranted\n",
    "    portfolio_equity_trade_threshold = notional_threshold_pct * total_portfolio_value\n",
    "    notional_threshold = notional_threshold_pct * abs(target_notional)\n",
    "    notional_floors_list = [\n",
    "        portfolio_equity_trade_threshold, notional_threshold, min_trade_notional_abs\n",
    "    ]\n",
    "    notional_floor = max(notional_floors_list)\n",
    "    if abs(new_trade_notional) > notional_floor:\n",
    "        desired_positions[ticker] = {'new_trade_notional': new_trade_notional,\n",
    "                                     'trade_fees': trade_fees}\n",
    "    else:\n",
    "        desired_positions[ticker] = {'new_trade_notional': 0,\n",
    "                                     'trade_fees': 0}\n",
    "\n",
    "    if new_trade_notional >= 0:\n",
    "        ## Buys\n",
    "        cash_debit = cash_debit + new_trade_notional\n",
    "    else:\n",
    "        ## Sells\n",
    "        net_trade_notional = new_trade_notional + trade_fees\n",
    "        cash_credit = cash_credit + abs(net_trade_notional)\n",
    "\n",
    "net_cash_need = cash_debit - cash_credit\n",
    "if net_cash_need > available_cash + 1e-6:\n",
    "    cash_shrink_factor = available_cash / net_cash_need  # 0 < shrink < 1\n",
    "else:\n",
    "    cash_shrink_factor = 1.0\n",
    "\n",
    "df[f'cash_shrink_factor'].loc[date] = cash_shrink_factor"
   ]
  },
  {
   "cell_type": "code",
   "execution_count": null,
   "id": "47cc538e-8cb6-4397-afb7-a3b52fdc0999",
   "metadata": {},
   "outputs": [],
   "source": [
    "cash_shrink_factor"
   ]
  },
  {
   "cell_type": "code",
   "execution_count": null,
   "id": "c89281d7-cf1a-487b-8cc2-70954f23e26d",
   "metadata": {},
   "outputs": [],
   "source": [
    "desired_positions"
   ]
  },
  {
   "cell_type": "code",
   "execution_count": null,
   "id": "650575dc-032b-4043-92bb-519ef70eb76d",
   "metadata": {},
   "outputs": [],
   "source": [
    "current_positions"
   ]
  },
  {
   "cell_type": "code",
   "execution_count": null,
   "id": "e1ca03b7-b77d-404f-b726-002162200d55",
   "metadata": {},
   "outputs": [],
   "source": [
    "target_notional_cols = [f'{ticker}_target_notional' for ticker in ticker_list]\n",
    "df[target_notional_cols].tail()"
   ]
  },
  {
   "cell_type": "code",
   "execution_count": null,
   "id": "b31e442c-7a64-494d-b937-bf1b1d3a28d5",
   "metadata": {},
   "outputs": [],
   "source": [
    "df.tail()"
   ]
  },
  {
   "cell_type": "code",
   "execution_count": null,
   "id": "9b75818d-5ec7-4c22-9eb7-b3c46e48fa19",
   "metadata": {},
   "outputs": [],
   "source": [
    "cash_shrink_factor"
   ]
  },
  {
   "cell_type": "code",
   "execution_count": null,
   "id": "d80ab4eb-dfef-410c-aa02-8dd3de177bff",
   "metadata": {},
   "outputs": [],
   "source": [
    "total_portfolio_value"
   ]
  },
  {
   "cell_type": "code",
   "execution_count": null,
   "id": "ea19b0e0-3d7d-410b-b705-b658babf183f",
   "metadata": {},
   "outputs": [],
   "source": [
    "portfolio_equity"
   ]
  },
  {
   "cell_type": "code",
   "execution_count": null,
   "id": "34bee074-16cc-40f4-951a-45fda07d41cd",
   "metadata": {},
   "outputs": [],
   "source": [
    "available_cash"
   ]
  },
  {
   "cell_type": "code",
   "execution_count": null,
   "id": "f6da6ca3-ab2e-40ad-a69c-eb3f8b6ee650",
   "metadata": {},
   "outputs": [],
   "source": [
    "df.tail()"
   ]
  },
  {
   "cell_type": "code",
   "execution_count": null,
   "id": "271c4714-a864-4c10-943a-479d93c6b62e",
   "metadata": {},
   "outputs": [],
   "source": [
    "new_trade_notional_sum = 0\n",
    "for ticker in cfg['universe']['tickers']:\n",
    "    new_trade_notional_sum += desired_positions[ticker]['new_trade_notional']\n",
    "\n",
    "print(f'Total New Trade Notional: {new_trade_notional_sum}')\n",
    "desired_positions"
   ]
  },
  {
   "cell_type": "code",
   "execution_count": null,
   "id": "aae3dd12-5444-4630-b0e6-5ec9039fa0fc",
   "metadata": {},
   "outputs": [],
   "source": [
    "df_signal.tail()"
   ]
  },
  {
   "cell_type": "code",
   "execution_count": null,
   "id": "44e865dd-d663-4f91-8329-fe0f595c5d72",
   "metadata": {},
   "outputs": [],
   "source": [
    "## Strategy Parameters\n",
    "cfg = load_prod_strategy_config()\n",
    "end_date = datetime.now().date\n",
    "portfolio_name = 'Default'#cfg['portfolio']['name']\n",
    "target_vol_kwargs = {\n",
    "    \"df\": df_signal,\n",
    "    \"date\": end_date,\n",
    "    \"ticker_list\": cfg['universe']['tickers'],\n",
    "    \"initial_capital\": cfg['run']['initial_capital'],\n",
    "    \"rolling_cov_window\": cfg['risk_and_sizing']['rolling_cov_window'],\n",
    "    \"rolling_atr_window\": cfg['risk_and_sizing']['rolling_atr_window'],\n",
    "    \"atr_multiplier\": cfg['risk_and_sizing']['atr_multiplier'],\n",
    "    \"cash_buffer_percentage\": cfg['risk_and_sizing']['cash_buffer_percentage'],\n",
    "    \"annualized_target_volatility\": cfg['risk_and_sizing']['annualized_target_volatility'],\n",
    "    \"transaction_cost_est\": cfg['execution_and_costs']['transaction_cost_est'],\n",
    "    \"passive_trade_rate\": cfg['execution_and_costs']['passive_trade_rate'],\n",
    "    \"notional_threshold_pct\": cfg['execution_and_costs']['notional_threshold_pct'],\n",
    "    \"min_trade_notional_abs\": cfg['execution_and_costs']['min_trade_notional_abs'],\n",
    "    \"cooldown_counter_threshold\": cfg['execution_and_costs']['cooldown_counter_threshold'],\n",
    "    \"annual_trading_days\": cfg['run']['annual_trading_days'],\n",
    "    \"use_specific_start_date\": False,\n",
    "    \"signal_start_date\": cfg['run']['signal_start_date'],\n",
    "    \"portfolio_name\": portfolio_name\n",
    "}\n",
    "\n",
    "df_target_notional, desired_trades, cash_shrink_factor = get_target_notional_by_ticker(**target_vol_kwargs)"
   ]
  },
  {
   "cell_type": "code",
   "execution_count": null,
   "id": "23bc5432-0f54-40d5-b8b6-cc24a35af423",
   "metadata": {},
   "outputs": [],
   "source": [
    "new_trade_notional_sum = 0\n",
    "for ticker in cfg['universe']['tickers']:\n",
    "    new_trade_notional_sum += desired_trades[ticker]['new_trade_notional']\n",
    "\n",
    "print(f'Total New Trade Notional: {new_trade_notional_sum}')\n",
    "desired_trades"
   ]
  },
  {
   "cell_type": "code",
   "execution_count": null,
   "id": "4eab2720-249b-419a-805b-b1db4e18ece7",
   "metadata": {},
   "outputs": [],
   "source": [
    "df_target_notional.shape"
   ]
  },
  {
   "cell_type": "code",
   "execution_count": null,
   "id": "c173c34b-4780-4423-87fd-f98d12439889",
   "metadata": {},
   "outputs": [],
   "source": [
    "df_target_notional.tail()"
   ]
  },
  {
   "cell_type": "markdown",
   "id": "c818fa03-8096-466e-acc8-6576b80202dc",
   "metadata": {},
   "source": [
    "## Build Coinbase Code to Send Orders with the Desired Trades"
   ]
  },
  {
   "cell_type": "code",
   "execution_count": null,
   "id": "cd0fd281-48a3-487d-b276-5d79d5e4f06d",
   "metadata": {},
   "outputs": [],
   "source": [
    "cn_client.get_product(product_id)"
   ]
  },
  {
   "cell_type": "code",
   "execution_count": null,
   "id": "5571720d-6acf-4280-be62-37d3610dbb92",
   "metadata": {},
   "outputs": [],
   "source": [
    "import math, time, uuid\n",
    "from typing import Dict, Any\n",
    "\n",
    "def get_product_meta(client, product_id: str):\n",
    "    \"\"\"\n",
    "    Returns increments & mins for sizing/price rounding.\n",
    "    \"\"\"\n",
    "    p = client.get_product(product_id)  # Advanced Trade: /api/v3/brokerage/products/{product_id}\n",
    "    # Public/List Public Products also exposes similar fields.\n",
    "    # Fields include base_increment, quote_increment, base_min_size, quote_min_size, price_increment, etc.\n",
    "    return {\n",
    "        \"base_increment\": float(p.base_increment),                                                    ## Minimum amount base value can be increased or decreased at once.\n",
    "        \"quote_increment\": float(p.quote_increment) if getattr(p, \"quote_increment\", None) else None, ## Minimum amount quote value can be increased or decreased at once\n",
    "        \"base_min_size\": float(p.base_min_size),                                                      ## Minimum size that can be represented of base currency\n",
    "        \"quote_min_size\": float(p.quote_min_size) if getattr(p, \"quote_min_size\", None) else None,    ## Minimum size that can be represented of quote currency\n",
    "        \"price_increment\": float(p.price_increment) if getattr(p, \"price_increment\", None) else None, ## Minimum amount price can be increased or decreased at once\n",
    "    }"
   ]
  },
  {
   "cell_type": "code",
   "execution_count": null,
   "id": "bce7b176-d63e-4b99-98e4-9687ef906dab",
   "metadata": {},
   "outputs": [],
   "source": [
    "def round_down(x, step):\n",
    "    if step is None or step == 0:\n",
    "        return x\n",
    "    return math.floor(x / step) * step\n",
    "\n",
    "def round_to_increment(x, step):\n",
    "    # For prices it’s usually exact multiples; round to nearest multiple.\n",
    "    if step is None or step == 0:\n",
    "        return x\n",
    "    return round(round(x / step) * step, int(max(0, -math.log10(step))))\n",
    "\n",
    "def current_mid(client, product_id):\n",
    "    \"\"\"\n",
    "    Safer 'now' price: use Best Bid/Ask midpoint.\n",
    "    \"\"\"\n",
    "    bba = client.get_best_bid_ask([product_id]).pricebooks[0]\n",
    "    bid = float(bba['bids'][0]['price'])\n",
    "    ask = float(bba['asks'][0]['price'])\n",
    "    return (bid + ask) / 2.0"
   ]
  },
  {
   "cell_type": "code",
   "execution_count": null,
   "id": "bd7b3ca5-2e11-43d1-93f5-a1202beaf085",
   "metadata": {},
   "outputs": [],
   "source": [
    "## Base = the asset you’re buying/selling (first symbol in the pair).\n",
    "## For BTC-USD, the base is BTC. Quantities in base are “units of the coin.”\n",
    "## Quote = the currency you price the trade in (second symbol).\n",
    "## For BTC-USD, the quote is USD. Prices and notional values are in quote.\n",
    "## Coinbase expects USD amount you want to spend for Buy Orders\n",
    "## Coinbase expects crypto units to sell for Sell Orders\n",
    "\n",
    "def build_order_params(product_id,\n",
    "                       new_trade_notional,  # USD (+ buy, - sell) from your desired_positions[t]['new_trade_notional']\n",
    "                       px_now, meta):\n",
    "    \"\"\"\n",
    "    Returns dict with side and the correct size param, already quantized to increments and mins.\n",
    "    \"\"\"\n",
    "    if new_trade_notional > 0:\n",
    "        side = \"BUY\"\n",
    "        quote_size_raw = abs(new_trade_notional)\n",
    "        # Enforce min & increment on QUOTE\n",
    "        quote_size = max(quote_size_raw, meta[\"quote_min_size\"] or 0.0)\n",
    "        # Some products only enforce funds minimums; quote_increment may be None.\n",
    "        if meta[\"quote_increment\"]:\n",
    "            quote_size = round_down(quote_size, meta[\"quote_increment\"])\n",
    "        if quote_size <= 0:\n",
    "            return {}\n",
    "        return {\"side\": side, \"quote_size\": f\"{quote_size:.8f}\"}\n",
    "    elif new_trade_notional < 0:\n",
    "        side = \"SELL\"\n",
    "        base_size_raw = abs(new_trade_notional) / px_now\n",
    "        # Enforce min & increment on BASE\n",
    "        base_size = max(base_size_raw, meta[\"base_min_size\"])\n",
    "        base_size = round_down(base_size, meta[\"base_increment\"])\n",
    "        if base_size <= 0:\n",
    "            return {}\n",
    "        return {\"side\": side, \"base_size\": f\"{base_size:.8f}\"}\n",
    "    else:\n",
    "        return {}"
   ]
  },
  {
   "cell_type": "code",
   "execution_count": null,
   "id": "26a7bd7e-248d-4a6f-af6e-0b2604c62702",
   "metadata": {},
   "outputs": [],
   "source": [
    "from coinbase.rest import RESTClient\n",
    "\n",
    "def place_primary_order(client: RESTClient,\n",
    "                        product_id: str,\n",
    "                        side: str,\n",
    "                        quote_size: str | None,\n",
    "                        base_size: str | None,\n",
    "                        portfolio_id: str) -> dict:\n",
    "    \"\"\"\n",
    "    Submit a market order. BUY: quote_size; SELL: base_size.\n",
    "    \"\"\"\n",
    "    client_order_id = str(uuid.uuid4())\n",
    "    # Optional: preview first\n",
    "    try:\n",
    "        if side == \"BUY\":\n",
    "            client.preview_market_order_buy(\n",
    "                product_id=product_id,\n",
    "                quote_size=quote_size,\n",
    "                retail_portfolio_id=portfolio_id\n",
    "            )\n",
    "        else:\n",
    "            client.preview_market_order_sell(\n",
    "                product_id=product_id,\n",
    "                base_size=base_size,\n",
    "                retail_portfolio_id=portfolio_id\n",
    "            )\n",
    "    except Exception as e:\n",
    "        raise RuntimeError(f\"Preview failed for {product_id} {side}: {e}\")\n",
    "\n",
    "    # Send the live order\n",
    "    if side == \"BUY\":\n",
    "        resp = client.market_order_buy(\n",
    "            client_order_id=client_order_id,\n",
    "            product_id=product_id,\n",
    "            quote_size=quote_size,\n",
    "            retail_portfolio_id=portfolio_id\n",
    "        )\n",
    "    else:\n",
    "        resp = client.market_order_sell(\n",
    "            client_order_id=client_order_id,\n",
    "            product_id=product_id,\n",
    "            base_size=base_size,\n",
    "            retail_portfolio_id=portfolio_id\n",
    "        )\n",
    "\n",
    "    return {\"client_order_id\": client_order_id, \"response\": resp}\n"
   ]
  },
  {
   "cell_type": "code",
   "execution_count": null,
   "id": "265ab48e-f857-4a41-9f07-a64735cc2748",
   "metadata": {},
   "outputs": [],
   "source": [
    "meta = get_product_meta(cn_client, product_id='ETH-USD')\n",
    "px_now = current_mid(cn_client, product_id='ETH-USD')\n",
    "build_order_params(product_id='ETH-USD', new_trade_notional=desired_trades['ETH-USD']['new_trade_notional'], meta=meta, px_now=px_now)"
   ]
  },
  {
   "cell_type": "code",
   "execution_count": null,
   "id": "3487cb61-a358-431e-82bd-9522d881b4bc",
   "metadata": {},
   "outputs": [],
   "source": [
    "client_order_id = str(uuid.uuid4())\n",
    "product_id = 'ETH-USD'\n",
    "meta_eth = get_product_meta(cn_client, product_id=product_id)\n",
    "eth_px_now = current_mid(cn_client, product_id=product_id)\n",
    "quote_size = build_order_params(product_id=product_id, new_trade_notional=desired_trades[product_id]['new_trade_notional'],\n",
    "                               meta=meta_eth, px_now=eth_px_now)"
   ]
  },
  {
   "cell_type": "code",
   "execution_count": null,
   "id": "6932f2dd-9058-41fe-b304-5ba4491046ed",
   "metadata": {},
   "outputs": [],
   "source": [
    "quote_size"
   ]
  },
  {
   "cell_type": "code",
   "execution_count": null,
   "id": "1c30e8a6-744d-4145-bf51-a00cc7767f4c",
   "metadata": {},
   "outputs": [],
   "source": [
    "meta_eth"
   ]
  },
  {
   "cell_type": "code",
   "execution_count": null,
   "id": "a23933d0-0f7b-4ee0-84cd-0269ec380c2a",
   "metadata": {},
   "outputs": [],
   "source": [
    "portfolio_id = cn.get_portfolio_uuid(client=cn_client, portfolio_name=cfg['portfolio']['name'])"
   ]
  },
  {
   "cell_type": "code",
   "execution_count": null,
   "id": "f396ac26-a7d9-4818-8295-22b739b3b642",
   "metadata": {},
   "outputs": [],
   "source": [
    "cn_client.preview_market_order_buy(product_id=product_id, quote_size=quote_size['quote_size'], retail_portfolio_id=portfolio_id)"
   ]
  },
  {
   "cell_type": "code",
   "execution_count": null,
   "id": "05b18a95-a5c7-45c0-9a0e-5809e26a4405",
   "metadata": {},
   "outputs": [],
   "source": [
    "cn_client.preview_market_order_sell(product_id=product_id, base_size=quote_size['quote_size'], retail_portfolio_id=portfolio_id)"
   ]
  },
  {
   "cell_type": "markdown",
   "id": "b6d58774-beed-44fa-a97d-24e78fa1d03e",
   "metadata": {},
   "source": [
    "## Setting up Test Script to Automatically Pull CLose and Open Prices Daily"
   ]
  },
  {
   "cell_type": "code",
   "execution_count": null,
   "id": "e36bbdc6-a6f0-4bca-83f3-7b6e96895259",
   "metadata": {},
   "outputs": [],
   "source": [
    "pathlib.Path(os.environ.get(\"PRICE_SNAPSHOT_DIR\", \"~/Documents/git/trend_following/data_folder/coinbase_daily\")).expanduser()"
   ]
  },
  {
   "cell_type": "code",
   "execution_count": null,
   "id": "d0a4097d-d8da-4acf-8002-eb55ebb297d2",
   "metadata": {},
   "outputs": [],
   "source": [
    "r = requests.get(f\"{BASE}/time\", timeout=10)\n",
    "r.raise_for_status()\n",
    "js = r.json()"
   ]
  },
  {
   "cell_type": "code",
   "execution_count": null,
   "id": "e64e731f-e65e-4db3-a1fb-ee86fd2f7c9f",
   "metadata": {},
   "outputs": [],
   "source": [
    "r.raise_for_status()"
   ]
  },
  {
   "cell_type": "code",
   "execution_count": null,
   "id": "32d6186f-af11-4e0e-bf78-a6524c331a09",
   "metadata": {},
   "outputs": [],
   "source": [
    "js"
   ]
  },
  {
   "cell_type": "code",
   "execution_count": null,
   "id": "0b7e1511-7e06-459d-a381-5fac955ada9f",
   "metadata": {},
   "outputs": [],
   "source": [
    "flag = DONE_FLAG_DIR / f\"{today_date}.done\"\n",
    "flag.exists()"
   ]
  },
  {
   "cell_type": "code",
   "execution_count": null,
   "id": "098691ab-b4bc-445f-abf5-af9de31dd5bc",
   "metadata": {},
   "outputs": [],
   "source": []
  },
  {
   "cell_type": "code",
   "execution_count": null,
   "id": "d465fb73-bc3d-43cc-b50c-92b0736d4a8d",
   "metadata": {},
   "outputs": [],
   "source": [
    "now = get_server_time_utc()  # Coinbase server time (UTC)\n",
    "today_date = now.date()      # UTC date\n",
    "# Gate: only run between 00:01–00:15 UTC; else exit quietly.\n",
    "if not (now.hour == 0 and 1 <= now.minute <= 15):\n",
    "    print(\"Time False\")\n",
    "    # return\n",
    "\n",
    "flag = DONE_FLAG_DIR / f\"{today_date}.done\"\n",
    "if flag.exists():\n",
    "    print(\"False\")\n",
    "    # return  # already ran today\n",
    "\n",
    "rows = []\n",
    "for pid in UNIVERSE:\n",
    "    yday = get_yday_daily(pid, today_date)\n",
    "    # retry a couple times if the 1m candle isn't posted yet\n",
    "    t_open = None\n",
    "    for _ in range(6):  # up to ~3 minutes\n",
    "        t_open = get_today_open(pid, today_date)\n",
    "        if t_open:\n",
    "            break\n",
    "        time.sleep(30)\n",
    "\n",
    "    rows.append({\n",
    "        \"product_id\": pid,\n",
    "        \"date_utc\": str(today_date),\n",
    "        \"yday_open\": yday[\"yday_open\"] if yday else None,\n",
    "        \"yday_close\": yday[\"yday_close\"] if yday else None,\n",
    "        \"today_open_utc\": t_open[\"today_open\"] if t_open else None,\n",
    "    })\n",
    "\n",
    "df = pd.DataFrame(rows)\n",
    "run_ts = dt.datetime.now(dt.timezone.utc)\n",
    "snap_name = f\"opens_closes_{today_date}_{run_ts.strftime('%H%M%SZ')}.csv\"\n",
    "out_path = SNAP_DIR / snap_name\n",
    "df.to_csv(out_path, index=False)\n",
    "\n",
    "# keep an append-only parquet table for analytics\n",
    "# try:\n",
    "#     if APPEND_PATH.exists():\n",
    "#         old = pd.read_parquet(APPEND_PATH)\n",
    "#         all_df = pd.concat([old, df], ignore_index=True)\n",
    "#         # drop duplicates on (date_utc, product_id)\n",
    "#         all_df = all_df.drop_duplicates(subset=[\"date_utc\", \"product_id\"], keep=\"last\")\n",
    "#         all_df.to_parquet(APPEND_PATH, index=False)\n",
    "#     else:\n",
    "#         df.to_parquet(APPEND_PATH, index=False)\n",
    "# except Exception as e:\n",
    "#     # don't fail the run if parquet is unavailable\n",
    "#     print(\"Parquet append failed:\", e)\n",
    "\n",
    "flag.touch()\n",
    "print(f\"Saved {len(df)} rows to {out_path}\")"
   ]
  },
  {
   "cell_type": "code",
   "execution_count": null,
   "id": "e848fefb-d12a-4135-b6f4-a3142966c373",
   "metadata": {},
   "outputs": [],
   "source": [
    "get_server_time_utc()"
   ]
  },
  {
   "cell_type": "code",
   "execution_count": null,
   "id": "4c3928bf-824a-4272-8a27-b35b828feb1d",
   "metadata": {},
   "outputs": [],
   "source": [
    "os.environ.get(\"PRICE_SNAPSHOT_DIR\", \"~/Documents/git/trend_following/data_folder/coinbase_daily\")"
   ]
  },
  {
   "cell_type": "code",
   "execution_count": null,
   "id": "82be06fa-5321-4b5f-b5f6-e7af03b14401",
   "metadata": {},
   "outputs": [],
   "source": [
    "#!/usr/bin/env python3\n",
    "import os, time, json, pathlib, requests, datetime as dt\n",
    "import pandas as pd\n",
    "\n",
    "BASE = \"https://api.coinbase.com/api/v3/brokerage\"\n",
    "HEADERS = {\"Cache-Control\": \"no-cache\", \"User-Agent\": \"tf-daily-opens/1.0\"}  # bypass 1s cache; be nice to servers\n",
    "UNIVERSE = [\"BTC-USD\", \"ETH-USD\", \"SOL-USD\", \"ADA-USD\", \"AVAX-USD\"]  # edit as needed\n",
    "\n",
    "# ---- storage config ----\n",
    "BASE_DIR = pathlib.Path(os.environ.get(\"PRICE_SNAPSHOT_DIR\", \"~/Documents/git/trend_following/data_folder/coinbase_daily\")).expanduser()\n",
    "SNAP_DIR = BASE_DIR / \"snapshots\"\n",
    "APPEND_PATH = BASE_DIR / \"daily_opens_closes.parquet\"\n",
    "DONE_FLAG_DIR = BASE_DIR / \"done_flags\"       # to avoid double-runs\n",
    "\n",
    "SNAP_DIR.mkdir(parents=True, exist_ok=True)\n",
    "DONE_FLAG_DIR.mkdir(parents=True, exist_ok=True)\n",
    "\n",
    "def get_server_time_utc():\n",
    "    r = requests.get(f\"{BASE}/time\", timeout=10)\n",
    "    r.raise_for_status()\n",
    "    js = r.json()\n",
    "    # API returns iso and epoch strings\n",
    "    return dt.datetime.fromtimestamp(int(js[\"epochSeconds\"]), dt.timezone.utc)\n",
    "\n",
    "def epoch(dt_utc):\n",
    "    return int(dt_utc.replace(tzinfo=dt.timezone.utc).timestamp())\n",
    "\n",
    "def bucket_bounds_utc(day_utc):\n",
    "    start = dt.datetime(day_utc.year, day_utc.month, day_utc.day, tzinfo=dt.timezone.utc)\n",
    "    end   = start + dt.timedelta(days=1)\n",
    "    return start, end\n",
    "\n",
    "def fetch_candles(product_id, start_utc, end_utc, granularity):\n",
    "    params = {\n",
    "        \"start\": str(epoch(start_utc)),\n",
    "        \"end\": str(epoch(end_utc)),\n",
    "        \"granularity\": granularity,  # ONE_DAY or ONE_MINUTE\n",
    "        \"limit\": \"350\"\n",
    "    }\n",
    "    url = f\"{BASE}/market/products/{product_id}/candles\"\n",
    "    for attempt in range(3):\n",
    "        resp = requests.get(url, params=params, headers=HEADERS, timeout=15)\n",
    "        if resp.status_code == 429:\n",
    "            time.sleep(1.5 * (attempt + 1))\n",
    "            continue\n",
    "        resp.raise_for_status()\n",
    "        js = resp.json()\n",
    "        candles = js.get(\"candles\", []) or []\n",
    "        # Normalize order: oldest -> newest\n",
    "        candles.sort(key=lambda c: int(c[\"start\"]))\n",
    "        return candles\n",
    "    return []\n",
    "\n",
    "def get_yday_daily(product_id, today_utc_date):\n",
    "    \"\"\"\n",
    "    Return yesterday's daily open/close for product_id.\n",
    "\n",
    "    Strategy:\n",
    "      1) Ask for the ONE_DAY candle whose start == yesterday 00:00:00 UTC.\n",
    "      2) If missing/empty, fall back to ONE_MINUTE candles over [00:00, 24:00):\n",
    "         open = first 1m candle's open; close = last 1m candle's close.\n",
    "    \"\"\"\n",
    "    yday = today_utc_date - dt.timedelta(days=1)\n",
    "    y_start, y_end = bucket_bounds_utc(yday)\n",
    "    y_start_epoch = epoch(y_start)\n",
    "    y_end_epoch   = epoch(y_end)\n",
    "\n",
    "    # --- Primary: daily candle at exactly yesterday 00:00Z ---\n",
    "    daily = fetch_candles(product_id, y_start, y_end + dt.timedelta(seconds=1), \"ONE_DAY\")  # tiny end buffer\n",
    "    if daily:\n",
    "        # ensure oldest→newest in case fetch_candles doesn't already do this\n",
    "        daily.sort(key=lambda c: int(c[\"start\"]))\n",
    "        # exact midnight match first\n",
    "        pick = next((c for c in daily if int(c[\"start\"]) == y_start_epoch), None)\n",
    "        if pick is None:\n",
    "            # otherwise any candle that starts within [start, end)\n",
    "            elig = [c for c in daily if y_start_epoch <= int(c[\"start\"]) < y_end_epoch]\n",
    "            pick = elig[0] if elig else None\n",
    "        if pick is not None:\n",
    "            return {\n",
    "                \"yday_start\": dt.datetime.fromtimestamp(int(pick[\"start\"]), dt.timezone.utc),\n",
    "                \"yday_open\":  float(pick[\"open\"]),\n",
    "                \"yday_close\": float(pick[\"close\"]),\n",
    "            }\n",
    "\n",
    "    # --- Fallback: derive from 1-minute candles over the day ---\n",
    "    one_min = fetch_candles(product_id, y_start, y_end, \"ONE_MINUTE\")\n",
    "    if not one_min:\n",
    "        return None  # nothing to do (exchange delay or network issue)\n",
    "\n",
    "    one_min.sort(key=lambda c: int(c[\"start\"]))  # oldest→newest\n",
    "    first_c = one_min[0]\n",
    "    last_c  = one_min[-1]\n",
    "    return {\n",
    "        \"yday_start\": dt.datetime.fromtimestamp(int(first_c[\"start\"]), dt.timezone.utc),\n",
    "        \"yday_open\":  float(first_c[\"open\"]),\n",
    "        \"yday_close\": float(last_c[\"close\"]),\n",
    "    }\n",
    "\n",
    "def get_today_open(product_id, today_utc_date):\n",
    "    s, _ = bucket_bounds_utc(today_utc_date)\n",
    "    s_epoch = epoch(s)\n",
    "    deadline = dt.datetime.now(dt.timezone.utc) + dt.timedelta(minutes=3)  # hard stop\n",
    "\n",
    "    while dt.datetime.now(dt.timezone.utc) < deadline:\n",
    "        candles = fetch_candles(product_id, s, s + dt.timedelta(minutes=2), \"ONE_MINUTE\")  # small window\n",
    "        if candles:\n",
    "            candles.sort(key=lambda c: int(c[\"start\"]))  # oldest→newest\n",
    "            pick = next((c for c in candles if int(c[\"start\"]) == s_epoch), None)\n",
    "            if pick:\n",
    "                return {\n",
    "                    \"today_open_time\": dt.datetime.fromtimestamp(int(pick[\"start\"]), dt.timezone.utc),\n",
    "                    \"today_open\": float(pick[\"open\"])\n",
    "                }\n",
    "        time.sleep(2)  # tight poll to minimize delay\n",
    "    return None\n",
    "\n",
    "\n",
    "def main():\n",
    "    now = get_server_time_utc()  # Coinbase server time (UTC)\n",
    "    today_date = now.date()      # UTC date\n",
    "    # Gate: only run between 00:01–00:15 UTC; else exit quietly.\n",
    "    if not (now.hour == 0 and 1 <= now.minute <= 15):\n",
    "        return\n",
    "\n",
    "    flag = DONE_FLAG_DIR / f\"{today_date}.done\"\n",
    "    if flag.exists():\n",
    "        return  # already ran today\n",
    "\n",
    "    rows = []\n",
    "    for pid in UNIVERSE:\n",
    "        yday = get_yday_daily(pid, today_date)\n",
    "        # retry a couple times if the 1m candle isn't posted yet\n",
    "        t_open = None\n",
    "        for _ in range(6):  # up to ~3 minutes\n",
    "            t_open = get_today_open(pid, today_date)\n",
    "            if t_open:\n",
    "                break\n",
    "            time.sleep(30)\n",
    "\n",
    "        rows.append({\n",
    "            \"product_id\": pid,\n",
    "            \"date_utc\": str(today_date),\n",
    "            \"yday_open\": yday[\"yday_open\"] if yday else None,\n",
    "            \"yday_close\": yday[\"yday_close\"] if yday else None,\n",
    "            \"today_open_utc\": t_open[\"today_open\"] if t_open else None,\n",
    "        })\n",
    "\n",
    "    df = pd.DataFrame(rows)\n",
    "    run_ts = dt.datetime.now(dt.timezone.utc)\n",
    "    snap_name = f\"opens_closes_{today_date}_{run_ts.strftime('%H%M%SZ')}.csv\"\n",
    "    out_path = SNAP_DIR / snap_name\n",
    "    df.to_csv(out_path, index=False)\n",
    "\n",
    "    # keep an append-only parquet table for analytics\n",
    "    try:\n",
    "        if APPEND_PATH.exists():\n",
    "            old = pd.read_parquet(APPEND_PATH)\n",
    "            all_df = pd.concat([old, df], ignore_index=True)\n",
    "            # drop duplicates on (date_utc, product_id)\n",
    "            all_df = all_df.drop_duplicates(subset=[\"date_utc\", \"product_id\"], keep=\"last\")\n",
    "            all_df.to_parquet(APPEND_PATH, index=False)\n",
    "        else:\n",
    "            df.to_parquet(APPEND_PATH, index=False)\n",
    "    except Exception as e:\n",
    "        # don't fail the run if parquet is unavailable\n",
    "        print(\"Parquet append failed:\", e)\n",
    "\n",
    "    flag.touch()\n",
    "    print(f\"Saved {len(df)} rows to {out_path}\")\n",
    "\n",
    "if __name__ == \"__main__\":\n",
    "    main()\n"
   ]
  },
  {
   "cell_type": "code",
   "execution_count": null,
   "id": "b30d9b96-7eb1-484e-a55e-469f071ba65f",
   "metadata": {},
   "outputs": [],
   "source": [
    "FORCE_RUN = os.environ.get(\"FORCE_RUN\") == \"1\""
   ]
  },
  {
   "cell_type": "code",
   "execution_count": null,
   "id": "72a07210-0b00-4980-8b71-95faf291d4e9",
   "metadata": {},
   "outputs": [],
   "source": [
    "FORCE_RUN"
   ]
  },
  {
   "cell_type": "code",
   "execution_count": null,
   "id": "db90f11e-0951-4e69-ab56-62a2c5c2e0f9",
   "metadata": {},
   "outputs": [],
   "source": [
    "os.environ[\"MAIL_TO\"]"
   ]
  },
  {
   "cell_type": "code",
   "execution_count": null,
   "id": "58ee1d67-f7a4-4b09-a0c9-3743e70d06c7",
   "metadata": {},
   "outputs": [],
   "source": [
    "import sys, datetime as dt\n",
    "print(f\"[{dt.datetime.utcnow().isoformat()}Z] using: {sys.executable}\", flush=True)"
   ]
  },
  {
   "cell_type": "code",
   "execution_count": null,
   "id": "215782f1-b957-4be2-9140-2a9414a46715",
   "metadata": {},
   "outputs": [],
   "source": [
    "dt.datetime.now(dt.timezone.UTC)"
   ]
  },
  {
   "cell_type": "code",
   "execution_count": null,
   "id": "bad18ca4-0510-43eb-9750-8838331b6d84",
   "metadata": {},
   "outputs": [],
   "source": [
    "dt.datetime.now(dt.timezone.utc)"
   ]
  },
  {
   "cell_type": "code",
   "execution_count": null,
   "id": "1b4c1930-a808-4033-a148-f200255e191f",
   "metadata": {},
   "outputs": [],
   "source": [
    "(base) adheerchauhan@Macmini ~ % crontab -e\n",
    "\n",
    "MAILTO=chauhan4@gmail.com\n",
    "SHELL=/bin/bash\n",
    "\n",
    "# Fire exactly at local times that map to 00:00 UTC year-round\n",
    "0 19 * * * /bin/bash -lc \"$HOME/bin/daily_coinbase_notify.sh\"\n",
    "0 20 * * * /bin/bash -lc \"$HOME/bin/daily_coinbase_notify.sh\"\n"
   ]
  },
  {
   "cell_type": "code",
   "execution_count": null,
   "id": "ab669172-c197-40ed-9532-6099bce2f45c",
   "metadata": {},
   "outputs": [],
   "source": [
    "now = get_server_time_utc()  # Coinbase server time (UTC)\n",
    "today_date = now.date()      # UTC date\n",
    "get_yday_daily(product_id='BTC-USD', today_utc_date=today_date)"
   ]
  },
  {
   "cell_type": "code",
   "execution_count": null,
   "id": "dc20eb1e-c9b6-4e06-bcc7-34fbf5704c27",
   "metadata": {},
   "outputs": [],
   "source": [
    "today_date"
   ]
  },
  {
   "cell_type": "code",
   "execution_count": null,
   "id": "8785c667-7341-4fe2-84a2-3e8f2dfb8da0",
   "metadata": {},
   "outputs": [],
   "source": [
    "FORCE_RUN = os.environ.get(\"FORCE_RUN\") == \"1\""
   ]
  },
  {
   "cell_type": "code",
   "execution_count": null,
   "id": "aefb79dc-9702-41dc-9dca-58c8fee725d2",
   "metadata": {},
   "outputs": [],
   "source": [
    "FORCE_RUN"
   ]
  },
  {
   "cell_type": "code",
   "execution_count": null,
   "id": "ac31609b-4eb5-4c22-8640-b142e6a5277f",
   "metadata": {},
   "outputs": [],
   "source": [
    "now.isoformat()"
   ]
  },
  {
   "cell_type": "code",
   "execution_count": null,
   "id": "e86befa5-e22f-4806-9ce2-865f52810292",
   "metadata": {},
   "outputs": [],
   "source": [
    "now = get_server_time_utc()  # Coinbase server time (UTC)\n",
    "today_date = now.date()      # UTC date\n",
    "# Gate: only run between 00:01–00:15 UTC; else exit quietly.\n",
    "# if not (now.hour == 0 and 1 <= now.minute <= 15):\n",
    "#     return\n",
    "\n",
    "flag = DONE_FLAG_DIR / f\"{today_date}.done\"\n",
    "# if flag.exists():\n",
    "#     return  # already ran today\n",
    "\n",
    "rows = []\n",
    "for pid in UNIVERSE:\n",
    "    yday = get_yday_daily(pid, today_date)\n",
    "    # retry a couple times if the 1m candle isn't posted yet\n",
    "    t_open = None\n",
    "    for _ in range(6):  # up to ~3 minutes\n",
    "        t_open = get_today_open(pid, today_date)\n",
    "        if t_open:\n",
    "            break\n",
    "        time.sleep(30)\n",
    "\n",
    "    rows.append({\n",
    "        \"product_id\": pid,\n",
    "        \"date_utc\": str(today_date),\n",
    "        \"yday_open\": yday[\"yday_open\"] if yday else None,\n",
    "        \"yday_close\": yday[\"yday_close\"] if yday else None,\n",
    "        \"today_open_utc\": t_open[\"today_open\"] if t_open else None,\n",
    "    })\n",
    "\n",
    "df = pd.DataFrame(rows)"
   ]
  },
  {
   "cell_type": "code",
   "execution_count": null,
   "id": "2d4fbd9c-92df-4ed6-ab8e-49b5e06f277f",
   "metadata": {},
   "outputs": [],
   "source": [
    "df"
   ]
  },
  {
   "cell_type": "code",
   "execution_count": null,
   "id": "32dff342-6277-4c7d-a2c2-cc61ee3f1515",
   "metadata": {},
   "outputs": [],
   "source": [
    "end_date"
   ]
  },
  {
   "cell_type": "code",
   "execution_count": null,
   "id": "ab13e726-7597-4080-963b-0bf8c9758bec",
   "metadata": {},
   "outputs": [],
   "source": [
    "df_close = cn.save_historical_crypto_prices_from_coinbase(ticker='AVAX-USD', user_start_date=True, start_date=start_date,\n",
    "                                                          end_date=pd.Timestamp('2025-09-16').date(), save_to_file=False)"
   ]
  },
  {
   "cell_type": "code",
   "execution_count": null,
   "id": "4eafec22-cde7-45f6-bcdb-a38c864c9b2c",
   "metadata": {},
   "outputs": [],
   "source": [
    "df_close.tail()"
   ]
  },
  {
   "cell_type": "code",
   "execution_count": null,
   "id": "60cc1296-3d50-43d1-a952-b74d898f6254",
   "metadata": {},
   "outputs": [],
   "source": [
    "now = get_server_time_utc()  # Coinbase server time (UTC)\n",
    "today_date = now.date()      # UTC date"
   ]
  },
  {
   "cell_type": "code",
   "execution_count": null,
   "id": "26ce62f7-37fd-496e-aa63-cef9fe61af63",
   "metadata": {},
   "outputs": [],
   "source": [
    "today_date"
   ]
  },
  {
   "cell_type": "code",
   "execution_count": null,
   "id": "53a67cb6-f887-4fb9-8166-06ea6de15a64",
   "metadata": {},
   "outputs": [],
   "source": [
    "s, e = bucket_bounds_utc(today_date)\n",
    "# first 1m candle of the day\n",
    "product_id = 'BTC-USD'\n",
    "candles = fetch_candles(product_id, s, s + dt.timedelta(minutes=1), \"ONE_MINUTE\")"
   ]
  },
  {
   "cell_type": "code",
   "execution_count": null,
   "id": "27e7a75a-d9cb-42df-bbe6-b8a7c87b12b4",
   "metadata": {},
   "outputs": [],
   "source": [
    "candles"
   ]
  },
  {
   "cell_type": "code",
   "execution_count": null,
   "id": "c34891e4-b559-471e-95d9-9376e2eac887",
   "metadata": {},
   "outputs": [],
   "source": [
    "candles"
   ]
  },
  {
   "cell_type": "code",
   "execution_count": null,
   "id": "b4d034be-dff2-4da9-9c75-1bd764ee062e",
   "metadata": {},
   "outputs": [],
   "source": [
    "candles"
   ]
  },
  {
   "cell_type": "code",
   "execution_count": null,
   "id": "7122c148-f9dc-47d7-be65-4c83afabe35e",
   "metadata": {},
   "outputs": [],
   "source": [
    "df_close.tail()"
   ]
  },
  {
   "cell_type": "code",
   "execution_count": null,
   "id": "93a8e450-e901-4976-9ef4-c7852f658297",
   "metadata": {},
   "outputs": [],
   "source": [
    "print(s)\n",
    "print(e)"
   ]
  },
  {
   "cell_type": "code",
   "execution_count": null,
   "id": "c680e6bd-22d0-466c-a42a-54539b0bcd4c",
   "metadata": {},
   "outputs": [],
   "source": [
    "candles = fetch_candles(product_id, s, s + dt.timedelta(minutes=1), \"ONE_MINUTE\")"
   ]
  },
  {
   "cell_type": "code",
   "execution_count": null,
   "id": "faeb5c05-bf8a-47c6-ab85-24083287daf4",
   "metadata": {},
   "outputs": [],
   "source": [
    "!echo $HOME"
   ]
  },
  {
   "cell_type": "code",
   "execution_count": null,
   "id": "bec59b61-ac5a-4be6-bd7b-89dec27cc303",
   "metadata": {},
   "outputs": [],
   "source": [
    "Path.home()"
   ]
  },
  {
   "cell_type": "code",
   "execution_count": null,
   "id": "fd377943-e3e3-4d1e-b4e1-3d8a6dc0f63b",
   "metadata": {},
   "outputs": [],
   "source": [
    "get_server_time_utc()"
   ]
  },
  {
   "cell_type": "code",
   "execution_count": null,
   "id": "5521df00-dce6-42c3-a106-6fa44f32443b",
   "metadata": {},
   "outputs": [],
   "source": []
  },
  {
   "cell_type": "code",
   "execution_count": null,
   "id": "d6025ff3-0521-451a-a500-39690e8e86c7",
   "metadata": {},
   "outputs": [],
   "source": []
  },
  {
   "cell_type": "code",
   "execution_count": null,
   "id": "d427ab03-ff9f-4e7a-ba18-e5bf88640d77",
   "metadata": {},
   "outputs": [],
   "source": [
    "402.3299999999999999852/4.7707114624505928852"
   ]
  },
  {
   "cell_type": "code",
   "execution_count": null,
   "id": "f96de97d-1a27-4a1f-b08f-d5a5f40ad878",
   "metadata": {},
   "outputs": [],
   "source": [
    "desired_trades['ETH-USD']['new_trade_notional']"
   ]
  },
  {
   "cell_type": "code",
   "execution_count": null,
   "id": "7f07737f-113b-4aaa-a59b-12820ac74229",
   "metadata": {},
   "outputs": [],
   "source": [
    "px_now"
   ]
  },
  {
   "cell_type": "code",
   "execution_count": null,
   "id": "c15c2cf0-569e-49ce-a4ab-da9f42077eba",
   "metadata": {},
   "outputs": [],
   "source": [
    "meta"
   ]
  },
  {
   "cell_type": "code",
   "execution_count": null,
   "id": "8389c977-89f1-403c-9efb-ea460ca1317f",
   "metadata": {},
   "outputs": [],
   "source": [
    "desired_trades"
   ]
  },
  {
   "cell_type": "code",
   "execution_count": null,
   "id": "8a2f72b0-5985-453f-b0be-d131aed4c54b",
   "metadata": {},
   "outputs": [],
   "source": [
    "get_product_meta(cn_client, product_id='BTC-USD')"
   ]
  },
  {
   "cell_type": "code",
   "execution_count": null,
   "id": "353e211a-9f31-42bd-bfb7-2ed3defc15ee",
   "metadata": {},
   "outputs": [],
   "source": [
    "current_mid(cn_client, product_id='BTC-USD')"
   ]
  },
  {
   "cell_type": "code",
   "execution_count": null,
   "id": "810ad681-e3dc-4c49-a17b-36cf9972e45f",
   "metadata": {},
   "outputs": [],
   "source": []
  },
  {
   "cell_type": "code",
   "execution_count": null,
   "id": "afefcfa2-683f-4c30-ba6d-59260a10e5e6",
   "metadata": {},
   "outputs": [],
   "source": [
    "df_target_notional[target_notional_cols].tail()"
   ]
  },
  {
   "cell_type": "code",
   "execution_count": null,
   "id": "272177f6-af19-4856-8b88-636cca176743",
   "metadata": {},
   "outputs": [],
   "source": [
    "df_target_notional[vol_adj_signal_cols].tail()"
   ]
  },
  {
   "cell_type": "code",
   "execution_count": null,
   "id": "603b3eb3-449c-4ad7-a671-c0fb715a5c0d",
   "metadata": {},
   "outputs": [],
   "source": [
    "cfg"
   ]
  },
  {
   "cell_type": "code",
   "execution_count": null,
   "id": "813eecfe-836c-41ec-93a2-707209a29d2b",
   "metadata": {},
   "outputs": [],
   "source": [
    "df_target_notional[vol_adj_signal_cols].iloc[-1].sum()"
   ]
  },
  {
   "cell_type": "code",
   "execution_count": null,
   "id": "2efe383a-35c4-467b-b0ac-8a8b244bad0f",
   "metadata": {},
   "outputs": [],
   "source": [
    "1/df_target_notional[vol_adj_signal_cols].iloc[-1].sum()"
   ]
  },
  {
   "cell_type": "code",
   "execution_count": null,
   "id": "469d89a1-ab3e-4079-a392-8cd39f172c04",
   "metadata": {},
   "outputs": [],
   "source": [
    "desired_positions"
   ]
  },
  {
   "cell_type": "code",
   "execution_count": null,
   "id": "26a7a210-ad0d-460e-80ff-b768800f5c89",
   "metadata": {},
   "outputs": [],
   "source": [
    "desired_positions"
   ]
  },
  {
   "cell_type": "code",
   "execution_count": null,
   "id": "58abb549-6a55-4da8-a2ea-91d5e6ef932c",
   "metadata": {},
   "outputs": [],
   "source": [
    "desired_positions"
   ]
  },
  {
   "cell_type": "code",
   "execution_count": null,
   "id": "01ea5bd0-1935-4be0-88d1-1cbb410d88e9",
   "metadata": {},
   "outputs": [],
   "source": [
    "cash_shrink_factor"
   ]
  },
  {
   "cell_type": "code",
   "execution_count": null,
   "id": "510328d1-a82b-43e7-9ce1-b6b1b2d85e6c",
   "metadata": {},
   "outputs": [],
   "source": [
    "df_target_notional.tail()"
   ]
  },
  {
   "cell_type": "code",
   "execution_count": null,
   "id": "b50f2007-4a40-4a16-a3ed-e6861df10404",
   "metadata": {},
   "outputs": [],
   "source": [
    "(0.55 / np.sqrt(365)) / 0.034907"
   ]
  },
  {
   "cell_type": "code",
   "execution_count": null,
   "id": "5ab88cbc-2b73-4b1c-a98b-ccf0abae75ef",
   "metadata": {},
   "outputs": [],
   "source": [
    "signal_cols = [f'{ticker}_final_signal' for ticker in cfg['universe']['tickers']]\n",
    "vol_adj_signal_cols = [f'{ticker}_vol_adjusted_trend_signal' for ticker in cfg['universe']['tickers']]\n",
    "df_target_notional[signal_cols + vol_adj_signal_cols].tail()"
   ]
  },
  {
   "cell_type": "code",
   "execution_count": null,
   "id": "73d9a63d-a045-4883-9351-f58ff2962134",
   "metadata": {},
   "outputs": [],
   "source": [
    "actual_position_cols = [f'{ticker}_actual_position_notional' for ticker in cfg['universe']['tickers']]\n",
    "df_target_notional[actual_position_cols].tail()"
   ]
  },
  {
   "cell_type": "code",
   "execution_count": null,
   "id": "fd9fc1c0-4a41-476c-ac8b-fce29cbaefbb",
   "metadata": {},
   "outputs": [],
   "source": [
    "target_notional_cols = [f'{ticker}_target_notional' for ticker in cfg['universe']['tickers']]\n",
    "df_target_notional[target_notional_cols].tail()"
   ]
  },
  {
   "cell_type": "code",
   "execution_count": null,
   "id": "3aa84552-5425-4fcf-ae8b-c3a33cabaffb",
   "metadata": {},
   "outputs": [],
   "source": [
    "283.567516+254.759154+80.725844+12.412111"
   ]
  },
  {
   "cell_type": "code",
   "execution_count": null,
   "id": "b490954e-49d2-4763-ba42-d4cb5444cab3",
   "metadata": {},
   "outputs": [],
   "source": [
    "print('Calculating Volatility Targeted Position Size and Cash Management!!')\n",
    "## Get Target Volatility Position Sizing and Run Cash Management\n",
    "target_vol_kwargs = {\n",
    "    \"df\": df_signal,\n",
    "    \"ticker_list\": cfg['universe']['tickers'],\n",
    "    \"initial_capital\": cfg['run']['initial_capital'],\n",
    "    \"rolling_cov_window\": cfg['risk_and_sizing']['rolling_cov_window'],\n",
    "    \"rolling_atr_window\": cfg['risk_and_sizing']['rolling_atr_window'],\n",
    "    \"atr_multiplier\": cfg['risk_and_sizing']['atr_multiplier'],\n",
    "    \"cash_buffer_percentage\": cfg['risk_and_sizing']['cash_buffer_percentage'],\n",
    "    \"annualized_target_volatility\": cfg['risk_and_sizing']['annualized_target_volatility'],\n",
    "    \"transaction_cost_est\": cfg['execution_and_costs']['transaction_cost_est'],\n",
    "    \"passive_trade_rate\": cfg['execution_and_costs']['passive_trade_rate'],\n",
    "    \"notional_threshold_pct\": cfg['execution_and_costs']['notional_threshold_pct'],\n",
    "    \"min_trade_notional_abs\": cfg['execution_and_costs']['min_trade_notional_abs'],\n",
    "    \"cooldown_counter_threshold\": cfg['execution_and_costs']['cooldown_counter_threshold'],\n",
    "    \"annual_trading_days\": cfg['run']['annual_trading_days'],\n",
    "    \"use_specific_start_date\": False,\n",
    "    \"signal_start_date\": cfg['run']['signal_start_date']\n",
    "}\n",
    "\n",
    "# df_final, desired_positions = get_target_notional_by_ticker(**target_vol_kwargs)\n",
    "df_target_notional = get_target_notional_by_ticker(**target_vol_kwargs)"
   ]
  },
  {
   "cell_type": "code",
   "execution_count": null,
   "id": "5ee6f20c-5522-4f4a-8176-1ba70d947375",
   "metadata": {
    "scrolled": true
   },
   "outputs": [],
   "source": [
    "df_target_notional"
   ]
  },
  {
   "cell_type": "code",
   "execution_count": null,
   "id": "09f7d631-1f3c-4d2f-8136-bb67b6051fd8",
   "metadata": {},
   "outputs": [],
   "source": [
    "df_target_notional.head()"
   ]
  },
  {
   "cell_type": "code",
   "execution_count": null,
   "id": "4a608cfb-8d28-41d6-96f3-0f13904d0dd5",
   "metadata": {},
   "outputs": [],
   "source": [
    "desired_positions"
   ]
  },
  {
   "cell_type": "code",
   "execution_count": null,
   "id": "733d7cc1-6ce7-451d-b341-ec354ca7db69",
   "metadata": {},
   "outputs": [],
   "source": [
    "cash_shrink_factor"
   ]
  },
  {
   "cell_type": "code",
   "execution_count": null,
   "id": "76b0c1bf-6d04-44b8-9381-7750751ef22d",
   "metadata": {},
   "outputs": [],
   "source": [
    "## Calculate the covariance matrix for tickers in the portfolio\n",
    "returns_cols = [f'{ticker}_t_1_close_pct_returns' for ticker in cfg['universe']['tickers']]\n",
    "cov_matrix = df[returns_cols].rolling(cfg['risk_and_sizing']['rolling_cov_window']).cov(pairwise=True).dropna()"
   ]
  },
  {
   "cell_type": "code",
   "execution_count": null,
   "id": "c70680c4-6040-49aa-bd2e-26554c82f715",
   "metadata": {
    "scrolled": true
   },
   "outputs": [],
   "source": [
    "cov_matrix"
   ]
  },
  {
   "cell_type": "code",
   "execution_count": null,
   "id": "a401ef08-3ee4-4246-9af6-e840e5472c97",
   "metadata": {},
   "outputs": [],
   "source": []
  },
  {
   "cell_type": "code",
   "execution_count": null,
   "id": "997874d5-d3d6-4f45-9e27-0a886a3a1c2c",
   "metadata": {},
   "outputs": [],
   "source": [
    "price_map = get_price_map(cn_client, ticker_list=cfg['universe']['tickers'])\n",
    "by_asset = {str(row[\"asset\"]): row for _, row in df_portfolio_positions.iterrows()}\n",
    "out = {}\n",
    "for t in cfg['universe']['tickers']:\n",
    "    base = t.split(\"-\")[0]\n",
    "    row = by_asset.get(base)\n",
    "    qty = float(row[\"total_balance_crypto\"]) if row is not None else 0.0\n",
    "    px  = float(price_map[t])  # best bid/ask mid or last trade\n",
    "    out[t] = {\"qty\": qty, \"notional\": qty * px, \"price\": px}"
   ]
  },
  {
   "cell_type": "code",
   "execution_count": null,
   "id": "a5c7881d-ddf7-40ef-a61d-e2392d660288",
   "metadata": {},
   "outputs": [],
   "source": [
    "float(price_map['BTC-USD']['best_mid_price'])"
   ]
  },
  {
   "cell_type": "code",
   "execution_count": null,
   "id": "01cac70b-b14b-4e87-b7a9-329ca772e251",
   "metadata": {},
   "outputs": [],
   "source": [
    "cn_client.get_best_bid_ask('BTC-USD')['pricebooks'][0]#['bids']"
   ]
  },
  {
   "cell_type": "code",
   "execution_count": null,
   "id": "9c42a198-7861-4afb-b762-c9b44d2b0a73",
   "metadata": {},
   "outputs": [],
   "source": [
    "cn_client.get_product_book('BTC-USD', limit=1)['pricebook']['bids'][0]"
   ]
  },
  {
   "cell_type": "code",
   "execution_count": null,
   "id": "a175d231-a223-4268-9cfa-79b1c9cdffd3",
   "metadata": {},
   "outputs": [],
   "source": [
    "book = cn_client.get_product_book('BTC-USD', limit=1)['pricebook']"
   ]
  },
  {
   "cell_type": "code",
   "execution_count": null,
   "id": "2d05a0b3-3870-4735-bac8-ffe65ffd22ce",
   "metadata": {},
   "outputs": [],
   "source": [
    "def get_price_map(client, ticker_list):\n",
    "    result_dict = {}\n",
    "    for ticker in ticker_list:\n",
    "        ## Get Best Bid and Offer Data\n",
    "        book = client.get_product_book(ticker, limit=1)['pricebook']\n",
    "    \n",
    "        ## Build Price Dictionary\n",
    "        price_dict = {'best_bid_price': float(book['bids'][0]['price']),\n",
    "                      'best_bid_size': float(book['bids'][0]['size']),\n",
    "                      'best_ask_price': float(book['asks'][0]['price']),\n",
    "                      'best_ask_size': float(book['asks'][0]['size']),\n",
    "                      'best_mid_price': (float(book['bids'][0]['price']) + float(book['asks'][0]['price'])) / 2}\n",
    "    \n",
    "        result_dict[ticker] = price_dict\n",
    "\n",
    "    return result_dict"
   ]
  },
  {
   "cell_type": "code",
   "execution_count": null,
   "id": "4b8f4ecf-2f5c-4d80-9f82-4e7f8b4d425a",
   "metadata": {},
   "outputs": [],
   "source": [
    "book_test = cn_client.get_product_book('BTC-USD', limit=1)['pricebook']"
   ]
  },
  {
   "cell_type": "code",
   "execution_count": null,
   "id": "5311b498-a5dd-4a17-9f7a-230f90c6822c",
   "metadata": {},
   "outputs": [],
   "source": [
    "book_test"
   ]
  },
  {
   "cell_type": "code",
   "execution_count": null,
   "id": "22028650-8f08-47ab-bbac-dfd1642e5fa1",
   "metadata": {},
   "outputs": [],
   "source": [
    "getattr(book_test, 'bids', None)"
   ]
  },
  {
   "cell_type": "code",
   "execution_count": null,
   "id": "0a6d663c-582c-4a83-9acc-8b7e0c817844",
   "metadata": {},
   "outputs": [],
   "source": [
    "book_test['bids'][0]"
   ]
  },
  {
   "cell_type": "code",
   "execution_count": null,
   "id": "eba7c825-bbd5-4560-88c9-3675f7ad2079",
   "metadata": {},
   "outputs": [],
   "source": [
    "price_map = get_price_map(client=cn_client, ticker_list=cfg['universe']['tickers'])"
   ]
  },
  {
   "cell_type": "code",
   "execution_count": null,
   "id": "daad30bb-cdc1-4d57-9b99-db67546e0a25",
   "metadata": {},
   "outputs": [],
   "source": [
    "price_map"
   ]
  },
  {
   "cell_type": "code",
   "execution_count": null,
   "id": "de71cb2e-b13a-4c54-b728-510db2807109",
   "metadata": {},
   "outputs": [],
   "source": [
    "result_dict"
   ]
  },
  {
   "cell_type": "code",
   "execution_count": null,
   "id": "8e0acee0-c56f-4958-8104-ba36b05efe2d",
   "metadata": {},
   "outputs": [],
   "source": [
    "price_dict"
   ]
  },
  {
   "cell_type": "code",
   "execution_count": null,
   "id": "16d554fb-fb51-4881-8259-29313fe2148a",
   "metadata": {},
   "outputs": [],
   "source": [
    "float(book['bids'][0]['price'])"
   ]
  },
  {
   "cell_type": "code",
   "execution_count": null,
   "id": "188b0080-3575-4572-8f62-3627bca61482",
   "metadata": {},
   "outputs": [],
   "source": [
    "cn_client.get_product"
   ]
  },
  {
   "cell_type": "code",
   "execution_count": null,
   "id": "a3f80333-015b-4091-9369-c7819c16cea6",
   "metadata": {},
   "outputs": [],
   "source": [
    "by_asset['AMP']"
   ]
  },
  {
   "cell_type": "code",
   "execution_count": null,
   "id": "ac86f623-6c2a-4f89-964e-fd66a226b549",
   "metadata": {},
   "outputs": [],
   "source": [
    "## Get Portfolio UUID\n",
    "cn_client = cn.get_coinbase_rest_api_client(cn.key_location)\n",
    "portfolio_uuid = cn.get_portfolio_uuid(cn_client, portfolio_name='Default')\n",
    "\n",
    "df_portfolio_positions = cn.get_portfolio_breakdown(cn_client, portfolio_uuid)"
   ]
  },
  {
   "cell_type": "code",
   "execution_count": null,
   "id": "543f6fcb-ef31-4e15-b599-4e8a9bb3f1ab",
   "metadata": {},
   "outputs": [],
   "source": [
    "float(df_portfolio_positions['total_balance_fiat'].sum())"
   ]
  },
  {
   "cell_type": "code",
   "execution_count": null,
   "id": "502a7aa9-61d4-4706-9055-9c02f169abc4",
   "metadata": {},
   "outputs": [],
   "source": [
    "portfolio_list = cn_client.get_portfolios()['portfolios']\n",
    "portfolio_name = 'Default'\n",
    "if portfolio_name == 'Trend Following':\n",
    "    portfolio = next((p for p in portfolio_list\n",
    "                      if p['name'] == 'Trend Following' and not p['deleted']), None)\n",
    "else:\n",
    "    portfolio = next((p for p in portfolio_list\n",
    "                      if p['name'] == 'Default' and not p['deleted']), None)"
   ]
  },
  {
   "cell_type": "code",
   "execution_count": null,
   "id": "6c389ee2-a4b2-4545-b1f1-bc7f0a02f8a5",
   "metadata": {},
   "outputs": [],
   "source": [
    "portfolio"
   ]
  },
  {
   "cell_type": "code",
   "execution_count": null,
   "id": "5f936854-4c51-445c-907e-5d69d611a551",
   "metadata": {},
   "outputs": [],
   "source": [
    "portfolios[0]['deleted']"
   ]
  },
  {
   "cell_type": "code",
   "execution_count": null,
   "id": "5a67825b-8db4-43a3-bd9c-f5fcd56ac2b0",
   "metadata": {},
   "outputs": [],
   "source": [
    "cn_client = cn.get_coinbase_rest_api_client(cn.key_location)\n",
    "df_portfolio_positions = cn.get_portfolio_breakdown(cn_client)"
   ]
  },
  {
   "cell_type": "code",
   "execution_count": null,
   "id": "a9660014-c91e-4593-84dd-372c2d1aba1b",
   "metadata": {},
   "outputs": [],
   "source": [
    "cn_client.get_portfolios()['portfolios']"
   ]
  },
  {
   "cell_type": "code",
   "execution_count": null,
   "id": "e3b1ab88-031b-4f4a-89c0-03d368287663",
   "metadata": {},
   "outputs": [],
   "source": [
    "[f'{i[:-4]}' for i in cfg['universe']['tickers']]"
   ]
  },
  {
   "cell_type": "code",
   "execution_count": null,
   "id": "ac883e0e-f31f-42bf-b234-d0bbd87f84a9",
   "metadata": {},
   "outputs": [],
   "source": [
    "df_portfolio_positions[df_portfolio_positions.is_cash]#[df_portfolio_positions.asset.isin([f'{i[:-4]}' for i in cfg['universe']['tickers']])]#.head()"
   ]
  },
  {
   "cell_type": "code",
   "execution_count": null,
   "id": "b3643f7e-f7f7-4b5f-893d-d3b983291084",
   "metadata": {},
   "outputs": [],
   "source": [
    "df_portfolio_positions[df_portfolio_positions.is_cash == True]"
   ]
  },
  {
   "cell_type": "code",
   "execution_count": null,
   "id": "f321f029-b0cb-49d2-b0ea-a2a6dc5cbcf5",
   "metadata": {},
   "outputs": [],
   "source": [
    "print('Calculating Volatility Targeted Position Size and Cash Management!!')\n",
    "## Get Target Volatility Position Sizing and Run Cash Management\n",
    "target_vol_kwargs = {\n",
    "    \"df\": df_signal,\n",
    "    \"ticker_list\": cfg['universe']['tickers'],\n",
    "    \"initial_capital\": cfg['run']['initial_capital'],\n",
    "    \"rolling_cov_window\": cfg['risk_and_sizing']['rolling_cov_window'],\n",
    "    \"rolling_atr_window\": cfg['risk_and_sizing']['rolling_atr_window'],\n",
    "    \"atr_multiplier\": cfg['risk_and_sizing']['atr_multiplier'],\n",
    "    \"cash_buffer_percentage\": cfg['risk_and_sizing']['cash_buffer_percentage'],\n",
    "    \"annualized_target_volatility\": cfg['risk_and_sizing']['annualized_target_volatility'],\n",
    "    \"transaction_cost_est\": cfg['execution_and_costs']['transaction_cost_est'],\n",
    "    \"passive_trade_rate\": cfg['execution_and_costs']['passive_trade_rate'],\n",
    "    \"notional_threshold_pct\": cfg['execution_and_costs']['notional_threshold_pct'],\n",
    "    \"min_trade_notional_abs\": cfg['execution_and_costs']['min_trade_notional_abs'],\n",
    "    \"cooldown_counter_threshold\": cfg['execution_and_costs']['cooldown_counter_threshold'],\n",
    "    \"annual_trading_days\": cfg['run']['annual_trading_days'],\n",
    "    \"use_specific_start_date\": False,\n",
    "    \"signal_start_date\": cfg['run']['signal_start_date']\n",
    "}\n",
    "df = size_cont.get_target_volatility_daily_portfolio_positions(**target_vol_kwargs)\n",
    "# df = size_cont.get_target_volatility_daily_portfolio_positions(\n",
    "#     df_signal, ticker_list=cfg['universe']['tickers'], initial_capital=cfg['run']['initial_capital'], rolling_cov_window=cfg['risk_and_sizing']['rolling_cov_window'],\n",
    "#     rolling_atr_window=cfg['risk_and_sizing']['rolling_atr_window'], atr_multiplier=cfg['risk_and_sizing']['atr_multiplier'],\n",
    "#     cash_buffer_percentage=cfg['risk_and_sizing']['cash_buffer_percentage'], annualized_target_volatility=cfg['risk_and_sizing']['annualized_target_volatility'],\n",
    "#     transaction_cost_est=cfg['execution_and_costs']['transaction_cost_est'], passive_trade_rate=cfg['execution_and_costs']['passive_trade_rate'],\n",
    "#     notional_threshold_pct=cfg['execution_and_costs']['notional_threshold_pct'], cooldown_counter_threshold=cfg['execution_and_costs']['cooldown_counter_threshold'],\n",
    "#     annual_trading_days=cfg['run']['annual_trading_days'], use_specific_start_date=False,\n",
    "#     signal_start_date=start_date)"
   ]
  },
  {
   "cell_type": "code",
   "execution_count": null,
   "id": "b79feab1-39a1-404d-a434-7cd5e5f15573",
   "metadata": {},
   "outputs": [],
   "source": [
    "df_signal.tail()"
   ]
  },
  {
   "cell_type": "code",
   "execution_count": null,
   "id": "d0d46528-b51c-4510-a365-763e33d7126a",
   "metadata": {},
   "outputs": [],
   "source": [
    "df.tail()"
   ]
  },
  {
   "cell_type": "code",
   "execution_count": null,
   "id": "518d3691-f127-45e6-b166-36fbb5e8dd5f",
   "metadata": {},
   "outputs": [],
   "source": [
    "df.tail()"
   ]
  },
  {
   "cell_type": "code",
   "execution_count": null,
   "id": "717bb041-7c89-4664-9bd7-dde0b85080ff",
   "metadata": {},
   "outputs": [],
   "source": [
    "df['AVAX-USD_event']"
   ]
  },
  {
   "cell_type": "code",
   "execution_count": null,
   "id": "cdbc347e-873b-4693-857a-8281a1690137",
   "metadata": {},
   "outputs": [],
   "source": [
    "df[target_notional_cols]"
   ]
  },
  {
   "cell_type": "code",
   "execution_count": null,
   "id": "21bcb8d2-17a6-477a-9cfc-0346d923320f",
   "metadata": {},
   "outputs": [],
   "source": [
    "df.iloc[-1]"
   ]
  },
  {
   "cell_type": "code",
   "execution_count": null,
   "id": "4714f49e-6f8e-4ec8-ae87-5e5ce604eb01",
   "metadata": {},
   "outputs": [],
   "source": [
    "cfg"
   ]
  },
  {
   "cell_type": "code",
   "execution_count": null,
   "id": "ada53c4f-b292-4f74-9ffa-f8dceb44c945",
   "metadata": {},
   "outputs": [],
   "source": [
    "signal_cols = [f'{ticker}_final_signal' for ticker in cfg[\"universe\"][\"tickers\"]]\n",
    "vol_adj_signal_cols = [f'{ticker}_vol_adjusted_trend_signal' for ticker in cfg[\"universe\"][\"tickers\"]]\n",
    "target_notional_cols = [f'{ticker}_target_notional' for ticker in cfg[\"universe\"][\"tickers\"]]\n",
    "df_trend[signal_cols]"
   ]
  },
  {
   "cell_type": "code",
   "execution_count": null,
   "id": "dd9e345e-b006-4b3b-923d-45db43f75ca1",
   "metadata": {},
   "outputs": [],
   "source": [
    "df_trend[vol_adj_signal_cols]"
   ]
  },
  {
   "cell_type": "code",
   "execution_count": null,
   "id": "89483176-1de8-4b8f-aa5f-0767781e9bb1",
   "metadata": {},
   "outputs": [],
   "source": [
    "def apply_target_volatility_position_sizing_continuous_strategy_with_rolling_r_sqr_vol_of_vol(\n",
    "        start_date, end_date, ticker_list, fast_mavg, slow_mavg, mavg_stepsize, mavg_z_score_window,\n",
    "        entry_rolling_donchian_window, exit_rolling_donchian_window, use_donchian_exit_gate,\n",
    "        ma_crossover_signal_weight, donchian_signal_weight, weighted_signal_ewm_window,\n",
    "        rolling_r2_window=30, lower_r_sqr_limit=0.2, upper_r_sqr_limit=0.8, r2_smooth_window=3, r2_confirm_days=0,\n",
    "        log_std_window=14, coef_of_variation_window=30, vol_of_vol_z_score_window=252, vol_of_vol_p_min=0.6,\n",
    "        r2_strong_threshold=0.8, use_activation=True, tanh_activation_constant_dict=None, moving_avg_type='exponential',\n",
    "        long_only=False, price_or_returns_calc='price', initial_capital=15000, rolling_cov_window=20,\n",
    "        volatility_window=20, rolling_atr_window=20, atr_multiplier=0.5, transaction_cost_est=0.001,\n",
    "        passive_trade_rate=0.05, notional_threshold_pct=0.05, cooldown_counter_threshold=3, use_coinbase_data=True,\n",
    "        use_saved_files=True, saved_file_end_date='2025-07-31', rolling_sharpe_window=50, cash_buffer_percentage=0.10,\n",
    "        annualized_target_volatility=0.20, annual_trading_days=365, use_specific_start_date=False,\n",
    "        signal_start_date=None):\n",
    "\n",
    "    ## Check if data is available for all the tickers\n",
    "    date_list = cn.coinbase_start_date_by_ticker_dict\n",
    "    ticker_list = [ticker for ticker in ticker_list if pd.Timestamp(date_list[ticker]).date() < end_date]\n",
    "\n",
    "    print('Generating Moving Average Ribbon Signal!!')\n",
    "    ## Generate Trend Signal for all tickers\n",
    "\n",
    "    df_trend = get_trend_donchian_signal_for_portfolio_with_rolling_r_sqr_vol_of_vol(\n",
    "        start_date=start_date, end_date=end_date, ticker_list=ticker_list, fast_mavg=fast_mavg, slow_mavg=slow_mavg,\n",
    "        mavg_stepsize=mavg_stepsize, mavg_z_score_window=mavg_z_score_window,\n",
    "        entry_rolling_donchian_window=entry_rolling_donchian_window,\n",
    "        exit_rolling_donchian_window=exit_rolling_donchian_window, use_donchian_exit_gate=use_donchian_exit_gate,\n",
    "        ma_crossover_signal_weight=ma_crossover_signal_weight, donchian_signal_weight=donchian_signal_weight,\n",
    "        weighted_signal_ewm_window=weighted_signal_ewm_window, rolling_r2_window=rolling_r2_window,\n",
    "        lower_r_sqr_limit=lower_r_sqr_limit, upper_r_sqr_limit=upper_r_sqr_limit, r2_smooth_window=r2_smooth_window,\n",
    "        r2_confirm_days=r2_confirm_days, log_std_window=log_std_window, coef_of_variation_window=coef_of_variation_window,\n",
    "        vol_of_vol_z_score_window=vol_of_vol_z_score_window, vol_of_vol_p_min=vol_of_vol_p_min,\n",
    "        r2_strong_threshold=r2_strong_threshold, use_activation=use_activation,\n",
    "        tanh_activation_constant_dict=tanh_activation_constant_dict, moving_avg_type=moving_avg_type,\n",
    "        long_only=long_only, price_or_returns_calc=price_or_returns_calc, use_coinbase_data=use_coinbase_data,\n",
    "        use_saved_files=use_saved_files, saved_file_end_date=saved_file_end_date)\n",
    "\n",
    "    print('Generating Volatility Adjusted Trend Signal!!')\n",
    "    ## Get Volatility Adjusted Trend Signal\n",
    "    df_signal = size_cont.get_volatility_adjusted_trend_signal_continuous(df_trend, ticker_list, volatility_window,\n",
    "                                                                          annual_trading_days)\n",
    "\n",
    "    print('Getting Average True Range for Stop Loss Calculation!!')\n",
    "    ## Get Average True Range for Stop Loss Calculation\n",
    "    df_atr = size_cont.get_average_true_range_portfolio(start_date=start_date, end_date=end_date,\n",
    "                                                        ticker_list=ticker_list, rolling_atr_window=rolling_atr_window,\n",
    "                                                        price_or_returns_calc='price',\n",
    "                                                        use_coinbase_data=use_coinbase_data,\n",
    "                                                        use_saved_files=use_saved_files,\n",
    "                                                        saved_file_end_date=saved_file_end_date)\n",
    "    df_signal = pd.merge(df_signal, df_atr, left_index=True, right_index=True, how='left')\n",
    "\n",
    "    print('Calculating Volatility Targeted Position Size and Cash Management!!')\n",
    "    ## Get Target Volatility Position Sizing and Run Cash Management\n",
    "    df = size_cont.get_target_volatility_daily_portfolio_positions(\n",
    "        df_signal, ticker_list=ticker_list, initial_capital=initial_capital, rolling_cov_window=rolling_cov_window,\n",
    "        rolling_atr_window=rolling_atr_window, atr_multiplier=atr_multiplier,\n",
    "        cash_buffer_percentage=cash_buffer_percentage, annualized_target_volatility=annualized_target_volatility,\n",
    "        transaction_cost_est=transaction_cost_est, passive_trade_rate=passive_trade_rate,\n",
    "        notional_threshold_pct=notional_threshold_pct, cooldown_counter_threshold=cooldown_counter_threshold,\n",
    "        annual_trading_days=annual_trading_days, use_specific_start_date=use_specific_start_date,\n",
    "        signal_start_date=signal_start_date)\n",
    "\n",
    "    print('Calculating Portfolio Performance!!')\n",
    "    ## Calculate Portfolio Performance\n",
    "    df = size_bin.calculate_portfolio_returns(df, rolling_sharpe_window)\n",
    "\n",
    "    return df\n"
   ]
  },
  {
   "cell_type": "code",
   "execution_count": null,
   "id": "430d40e6-7bd2-4715-80c2-c351901218a6",
   "metadata": {},
   "outputs": [],
   "source": []
  },
  {
   "cell_type": "code",
   "execution_count": null,
   "id": "f2d4f59d-cf8d-4214-a0fc-1cfc0c5acc8f",
   "metadata": {},
   "outputs": [],
   "source": []
  },
  {
   "cell_type": "code",
   "execution_count": null,
   "id": "ee933072-a899-4c90-bf4c-d0fbe72b53cc",
   "metadata": {},
   "outputs": [],
   "source": []
  },
  {
   "cell_type": "code",
   "execution_count": null,
   "id": "2d45e8fb-bcfa-49da-b0d1-dacfe9d23da0",
   "metadata": {},
   "outputs": [],
   "source": []
  },
  {
   "cell_type": "code",
   "execution_count": null,
   "id": "25d1f174-54f3-4308-b065-ef024fd5eb78",
   "metadata": {},
   "outputs": [],
   "source": []
  },
  {
   "cell_type": "code",
   "execution_count": null,
   "id": "7eed8d55-adbd-4c43-ac4d-51aa3bad3cb1",
   "metadata": {},
   "outputs": [],
   "source": []
  }
 ],
 "metadata": {
  "kernelspec": {
   "display_name": "Python 3 (ipykernel)",
   "language": "python",
   "name": "python3"
  },
  "language_info": {
   "codemirror_mode": {
    "name": "ipython",
    "version": 3
   },
   "file_extension": ".py",
   "mimetype": "text/x-python",
   "name": "python",
   "nbconvert_exporter": "python",
   "pygments_lexer": "ipython3",
   "version": "3.12.2"
  }
 },
 "nbformat": 4,
 "nbformat_minor": 5
}
