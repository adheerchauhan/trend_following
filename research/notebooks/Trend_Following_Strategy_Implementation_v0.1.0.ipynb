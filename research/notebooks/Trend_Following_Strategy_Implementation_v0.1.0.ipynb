{
 "cells": [
  {
   "cell_type": "code",
   "execution_count": 1,
   "id": "a88d5b88-dbf3-487c-91e2-af93603df549",
   "metadata": {},
   "outputs": [],
   "source": [
    "# Import all the necessary modules\n",
    "import os\n",
    "import sys\n",
    "import os, sys\n",
    "# from .../research/notebooks -> go up two levels to repo root\n",
    "repo_root = os.path.abspath(os.path.join(os.getcwd(), \"..\", \"..\"))\n",
    "if repo_root not in sys.path:\n",
    "    sys.path.insert(0, repo_root)\n",
    "\n",
    "import pandas as pd\n",
    "import numpy as np\n",
    "import matplotlib.pyplot as plt\n",
    "import matplotlib as mpl\n",
    "import matplotlib.ticker as mtick\n",
    "from sklearn.decomposition import PCA\n",
    "from sklearn.model_selection import train_test_split\n",
    "from sklearn.preprocessing import StandardScaler\n",
    "from sklearn import linear_model\n",
    "from sklearn.metrics import mean_squared_error, mean_absolute_error, r2_score \n",
    "import pandas_datareader as pdr\n",
    "import math\n",
    "import datetime as dt\n",
    "from datetime import datetime, timezone\n",
    "import itertools\n",
    "import ast\n",
    "import yfinance as yf\n",
    "import seaborn as sn\n",
    "from IPython.display import display, HTML\n",
    "from strategy_signal.trend_following_signal import (\n",
    "    apply_jupyter_fullscreen_css, get_trend_donchian_signal_for_portfolio_with_rolling_r_sqr_vol_of_vol\n",
    ")\n",
    "from portfolio.strategy_performance import (calculate_sharpe_ratio, calculate_calmar_ratio, calculate_CAGR, calculate_risk_and_performance_metrics,\n",
    "                                          calculate_compounded_cumulative_returns, estimate_fee_per_trade, rolling_sharpe_ratio)\n",
    "from utils import coinbase_utils as cn\n",
    "from portfolio import strategy_performance as perf\n",
    "from sizing import position_sizing_binary_utils as size_bin\n",
    "from sizing import position_sizing_continuous_utils as size_cont\n",
    "from strategy_signal import trend_following_signal as tf\n",
    "%matplotlib inline"
   ]
  },
  {
   "cell_type": "code",
   "execution_count": 2,
   "id": "f8921856-5334-4285-ad64-761d480f1e13",
   "metadata": {},
   "outputs": [
    {
     "data": {
      "text/plain": [
       "<module 'sizing.position_sizing_continuous_utils' from '/Users/adheerchauhan/Documents/git/trend_following/sizing/position_sizing_continuous_utils.py'>"
      ]
     },
     "execution_count": 2,
     "metadata": {},
     "output_type": "execute_result"
    }
   ],
   "source": [
    "import importlib\n",
    "importlib.reload(cn)\n",
    "importlib.reload(perf)\n",
    "importlib.reload(tf)\n",
    "importlib.reload(size_bin)\n",
    "importlib.reload(size_cont)"
   ]
  },
  {
   "cell_type": "code",
   "execution_count": 3,
   "id": "c5f85f57-971b-4670-b1df-67cbefec1c34",
   "metadata": {},
   "outputs": [
    {
     "data": {
      "text/html": [
       "<style>:root {\n",
       "    --jp-notebook-max-width: 100% !important; }</style>"
      ],
      "text/plain": [
       "<IPython.core.display.HTML object>"
      ]
     },
     "metadata": {},
     "output_type": "display_data"
    }
   ],
   "source": [
    "import warnings\n",
    "warnings.filterwarnings('ignore')\n",
    "pd.set_option('Display.max_rows', None)\n",
    "pd.set_option('Display.max_columns',None)\n",
    "apply_jupyter_fullscreen_css()"
   ]
  },
  {
   "cell_type": "markdown",
   "id": "7b0c98a2-5ae7-4ae0-8be4-876647fed52a",
   "metadata": {},
   "source": [
    "## Test Production Script"
   ]
  },
  {
   "cell_type": "code",
   "execution_count": 10,
   "id": "d7fc3f9e-044f-4f4e-b047-9a9545b4f1dc",
   "metadata": {},
   "outputs": [],
   "source": [
    "def utc_now():\n",
    "    return datetime.now(timezone.utc)"
   ]
  },
  {
   "cell_type": "code",
   "execution_count": 8,
   "id": "6eeedb34-fa30-448d-a71c-b7fe64c61097",
   "metadata": {},
   "outputs": [],
   "source": [
    "def _utc_ts(d):\n",
    "    \"\"\"Normalize any date/datetime to a UTC tz-aware Timestamp (00:00Z if date).\"\"\"\n",
    "    ts = pd.Timestamp(d)\n",
    "    return ts.tz_localize('UTC') if ts.tzinfo is None else ts.tz_convert('UTC')"
   ]
  },
  {
   "cell_type": "code",
   "execution_count": 12,
   "id": "e7c84a29-c470-495d-a6de-880da6245210",
   "metadata": {},
   "outputs": [],
   "source": [
    "now = utc_now()\n",
    "today = now.date()"
   ]
  },
  {
   "cell_type": "code",
   "execution_count": 16,
   "id": "cd2b0041-fb52-4733-9b37-16b673f137d2",
   "metadata": {},
   "outputs": [],
   "source": [
    "rolling_atr_window=20"
   ]
  },
  {
   "cell_type": "code",
   "execution_count": 18,
   "id": "e6c601f6-4553-45ff-bf1e-9f8860962037",
   "metadata": {},
   "outputs": [],
   "source": [
    "date = today\n",
    "end_ts = _utc_ts(date).floor('D')\n",
    "start_ts = end_ts - pd.Timedelta(days=rolling_atr_window + 200)\n",
    "api_end = end_ts + pd.Timedelta(days=1)"
   ]
  },
  {
   "cell_type": "code",
   "execution_count": 20,
   "id": "c3e2e831-d0d0-499b-8548-840eebd0919d",
   "metadata": {},
   "outputs": [
    {
     "data": {
      "text/plain": [
       "datetime.date(2025, 10, 23)"
      ]
     },
     "execution_count": 20,
     "metadata": {},
     "output_type": "execute_result"
    }
   ],
   "source": [
    "date"
   ]
  },
  {
   "cell_type": "code",
   "execution_count": 22,
   "id": "a8cef899-7d11-465d-b866-c46f2b7824fe",
   "metadata": {},
   "outputs": [
    {
     "data": {
      "text/plain": [
       "Timestamp('2025-10-23 00:00:00+0000', tz='UTC')"
      ]
     },
     "execution_count": 22,
     "metadata": {},
     "output_type": "execute_result"
    }
   ],
   "source": [
    "end_ts"
   ]
  },
  {
   "cell_type": "code",
   "execution_count": 24,
   "id": "20a24212-008b-4223-909f-feeac4ebd133",
   "metadata": {},
   "outputs": [
    {
     "data": {
      "text/plain": [
       "Timestamp('2025-03-17 00:00:00+0000', tz='UTC')"
      ]
     },
     "execution_count": 24,
     "metadata": {},
     "output_type": "execute_result"
    }
   ],
   "source": [
    "start_ts"
   ]
  },
  {
   "cell_type": "code",
   "execution_count": 26,
   "id": "59e746e6-cdb7-49b4-a6c2-3a9a2218fb7e",
   "metadata": {},
   "outputs": [
    {
     "data": {
      "text/plain": [
       "Timestamp('2025-10-24 00:00:00+0000', tz='UTC')"
      ]
     },
     "execution_count": 26,
     "metadata": {},
     "output_type": "execute_result"
    }
   ],
   "source": [
    "api_end"
   ]
  },
  {
   "cell_type": "code",
   "execution_count": null,
   "id": "0f4edbdd-1505-4356-8fa1-716c1e2068e5",
   "metadata": {},
   "outputs": [],
   "source": [
    "from live_strategy.trend_foll"
   ]
  },
  {
   "cell_type": "code",
   "execution_count": 58,
   "id": "1e952ea1-8859-42e5-b3f9-9312547cb443",
   "metadata": {},
   "outputs": [
    {
     "data": {
      "text/plain": [
       "'/Users/adheerchauhan/Documents/git/trend_following/research/notebooks'"
      ]
     },
     "execution_count": 58,
     "metadata": {},
     "output_type": "execute_result"
    }
   ],
   "source": [
    "pwd"
   ]
  },
  {
   "cell_type": "code",
   "execution_count": 62,
   "id": "afa7c548-3a6e-424e-ab09-52dc1641b949",
   "metadata": {},
   "outputs": [],
   "source": [
    "# p = state_dir\n",
    "p = Path(\"/Users/adheerchauhan/Documents/git/trend_following/live_strategy/trend_following_strategy_v0.1.0-live/state\")\n",
    "# file names as per your setup\n",
    "HEARTBEAT_LOG     = p / \"heartbeat.jsonl\"\n",
    "ERR_LOG           = p / \"live_errors.jsonl\"\n",
    "DESIRED_LOG       = p / \"desired_trades_log.jsonl\"\n",
    "ORDER_BUILD_LOG   = p / \"order_build_log.jsonl\"\n",
    "ORDER_SUBMIT_LOG  = p / \"order_submit_log.jsonl\"\n",
    "DUST_BUILD_LOG    = p / \"dust_build_log.jsonl\"\n",
    "DUST_SUBMIT_LOG   = p / \"dust_submit_log.jsonl\"\n",
    "STOP_UPDATE_LOG   = p / \"stop_update_log.jsonl\""
   ]
  },
  {
   "cell_type": "code",
   "execution_count": 68,
   "id": "2aa099c9-95ac-4216-9ca1-7ca9f01bc608",
   "metadata": {},
   "outputs": [],
   "source": [
    "now = datetime.now(timezone.utc)\n",
    "day = now.date()\n",
    "out = {\n",
    "    \"date\": str(day),\n",
    "    \"started_at\": None,\n",
    "    \"completed_at\": None,\n",
    "    \"dry_run\": None,\n",
    "    \"desired_totals\": {\"buys\": 0, \"sells\": 0, \"zeros\": 0},\n",
    "    \"rebalance\": {\"built\": 0, \"submitted\": 0, \"preview\": None},\n",
    "    \"dust\": {\"built\": 0, \"submitted\": 0, \"preview\": None},\n",
    "    \"stops\": {\"replaced\": 0, \"skipped_no_position\": 0, \"skipped_no_ratchet\": 0, \"errors\": 0},\n",
    "    \"errors\": [],\n",
    "}"
   ]
  },
  {
   "cell_type": "code",
   "execution_count": 90,
   "id": "6b671cb4-986e-45c5-89b1-392ed9a2d541",
   "metadata": {},
   "outputs": [
    {
     "data": {
      "text/plain": [
       "datetime.date(2025, 10, 21)"
      ]
     },
     "execution_count": 90,
     "metadata": {},
     "output_type": "execute_result"
    }
   ],
   "source": [
    "day"
   ]
  },
  {
   "cell_type": "code",
   "execution_count": 70,
   "id": "005d783a-f8e2-4148-b25a-8c403943f116",
   "metadata": {},
   "outputs": [
    {
     "data": {
      "text/plain": [
       "{'date': '2025-10-21',\n",
       " 'started_at': None,\n",
       " 'completed_at': None,\n",
       " 'dry_run': None,\n",
       " 'desired_totals': {'buys': 0, 'sells': 0, 'zeros': 0},\n",
       " 'rebalance': {'built': 0, 'submitted': 0, 'preview': None},\n",
       " 'dust': {'built': 0, 'submitted': 0, 'preview': None},\n",
       " 'stops': {'replaced': 0,\n",
       "  'skipped_no_position': 0,\n",
       "  'skipped_no_ratchet': 0,\n",
       "  'errors': 0},\n",
       " 'errors': []}"
      ]
     },
     "execution_count": 70,
     "metadata": {},
     "output_type": "execute_result"
    }
   ],
   "source": [
    "out"
   ]
  },
  {
   "cell_type": "code",
   "execution_count": 80,
   "id": "25a12104-9553-4baa-8350-6ee6b7d054e6",
   "metadata": {},
   "outputs": [],
   "source": [
    "from typing import Iterator, Dict, Any, List, Tuple\n",
    "\n",
    "def _iter_jsonl(path: Path) -> Iterator[Dict[str, Any]]:\n",
    "    if not path.exists():\n",
    "        return\n",
    "    with path.open() as f:\n",
    "        for line in f:\n",
    "            line = line.strip()\n",
    "            if not line or line.startswith(\"#\"):\n",
    "                continue\n",
    "            try:\n",
    "                yield json.loads(line)\n",
    "            except Exception:\n",
    "                # skip malformed\n",
    "                continue\n",
    "\n",
    "def _is_for_day(ts_iso: str, day: date_cls) -> bool:\n",
    "    # Day boundary in UTC\n",
    "    try:\n",
    "        ts = datetime.fromisoformat(ts_iso.replace(\"Z\", \"+00:00\"))\n",
    "        return ts.date() == day\n",
    "    except Exception:\n",
    "        return False"
   ]
  },
  {
   "cell_type": "code",
   "execution_count": 82,
   "id": "1d468d20-b939-49c5-b3d7-fe70fc202439",
   "metadata": {},
   "outputs": [],
   "source": [
    "# heartbeat: start/done + dry_run flag\n",
    "for row in _iter_jsonl(HEARTBEAT_LOG):\n",
    "    ts = row.get(\"ts\")\n",
    "    if not ts or not _is_for_day(ts, day):\n",
    "        continue\n",
    "    ev = row.get(\"event\")\n",
    "    if ev == \"config_loaded\":\n",
    "        out[\"started_at\"] = ts\n",
    "        if \"dry_run\" in row:\n",
    "            out[\"dry_run\"] = bool(row[\"dry_run\"])\n",
    "    elif ev == \"run_complete\":\n",
    "        out[\"completed_at\"] = ts"
   ]
  },
  {
   "cell_type": "code",
   "execution_count": 98,
   "id": "7e09d8e2-8ca0-4e25-a3ad-b86e3f733677",
   "metadata": {},
   "outputs": [],
   "source": [
    "# desired positions\n",
    "# we also pick up totals from heartbeat event if present\n",
    "buys = sells = zeros = 0\n",
    "for row in _iter_jsonl(DESIRED_LOG):\n",
    "    ts = row.get(\"ts\")\n",
    "    if not ts or not _is_for_day(ts, day):\n",
    "        continue\n",
    "    nt = float(row.get(\"new_trade_notional\", 0.0))\n",
    "    if nt > 0:\n",
    "        buys += 1\n",
    "    elif nt < 0:\n",
    "        sells += 1\n",
    "    else:\n",
    "        zeros += 1\n",
    "out[\"desired_totals\"] = {\"buys\": buys, \"sells\": sells, \"zeros\": zeros}"
   ]
  },
  {
   "cell_type": "code",
   "execution_count": 102,
   "id": "d945d3e3-862b-43b3-8c6e-98270124a05c",
   "metadata": {},
   "outputs": [],
   "source": [
    "# rebalance orders\n",
    "for row in _iter_jsonl(ORDER_BUILD_LOG):\n",
    "    ts = row.get(\"ts\")\n",
    "    if ts and _is_for_day(ts, day):\n",
    "        out[\"rebalance\"][\"built\"] += 1\n",
    "for row in _iter_jsonl(ORDER_SUBMIT_LOG):\n",
    "    ts = row.get(\"ts\")\n",
    "    if ts and _is_for_day(ts, day):\n",
    "        out[\"rebalance\"][\"submitted\"] += int(row.get(\"orders_count\") or 0)\n",
    "        if out[\"rebalance\"][\"preview\"] is None and \"preview\" in row:\n",
    "            out[\"rebalance\"][\"preview\"] = bool(row[\"preview\"])\n",
    "\n",
    "# dust\n",
    "for row in _iter_jsonl(DUST_BUILD_LOG):\n",
    "    ts = row.get(\"ts\")\n",
    "    if ts and _is_for_day(ts, day):\n",
    "        out[\"dust\"][\"built\"] += 1\n",
    "for row in _iter_jsonl(DUST_SUBMIT_LOG):\n",
    "    ts = row.get(\"ts\")\n",
    "    if ts and _is_for_day(ts, day):\n",
    "        out[\"dust\"][\"submitted\"] += int(row.get(\"orders_count\") or 0)\n",
    "        if out[\"dust\"][\"preview\"] is None and \"preview\" in row:\n",
    "            out[\"dust\"][\"preview\"] = bool(row[\"preview\"])\n",
    "\n",
    "# stops\n",
    "for row in _iter_jsonl(STOP_UPDATE_LOG):\n",
    "    ts = row.get(\"ts\")\n",
    "    if not ts or not _is_for_day(ts, day):\n",
    "        continue\n",
    "    action = (row.get(\"action\") or \"\").lower()\n",
    "    ok = row.get(\"ok\")\n",
    "    if action == \"replaced\" and ok:\n",
    "        out[\"stops\"][\"replaced\"] += 1\n",
    "    elif action == \"no_position\":\n",
    "        out[\"stops\"][\"skipped_no_position\"] += 1\n",
    "    elif action == \"skip\" and (row.get(\"reason\") == \"no_ratchet\"):\n",
    "        out[\"stops\"][\"skipped_no_ratchet\"] += 1\n",
    "    elif ok is False:\n",
    "        out[\"stops\"][\"errors\"] += 1\n",
    "\n",
    "# errors\n",
    "for row in _iter_jsonl(ERR_LOG):\n",
    "    ts = row.get(\"ts\")\n",
    "    if ts and _is_for_day(ts, day):\n",
    "        out[\"errors\"].append({\n",
    "            \"when\": ts,\n",
    "            \"where\": row.get(\"where\") or \"unknown\",\n",
    "            \"error\": row.get(\"error\"),\n",
    "        })"
   ]
  },
  {
   "cell_type": "code",
   "execution_count": 84,
   "id": "4e447541-6a2d-49ca-b797-940428218814",
   "metadata": {},
   "outputs": [
    {
     "data": {
      "text/plain": [
       "{'ts': '2025-10-21T01:53:25.292616+00:00',\n",
       " 'event': 'run_complete',\n",
       " 'date': '2025-10-21'}"
      ]
     },
     "execution_count": 84,
     "metadata": {},
     "output_type": "execute_result"
    }
   ],
   "source": [
    "row"
   ]
  },
  {
   "cell_type": "code",
   "execution_count": 86,
   "id": "6bc10d87-4f66-4ac4-9521-37a2a4d58a74",
   "metadata": {},
   "outputs": [
    {
     "data": {
      "text/plain": [
       "<generator object _iter_jsonl at 0x15038b3d0>"
      ]
     },
     "execution_count": 86,
     "metadata": {},
     "output_type": "execute_result"
    }
   ],
   "source": [
    "_iter_jsonl(HEARTBEAT_LOG)"
   ]
  },
  {
   "cell_type": "code",
   "execution_count": 88,
   "id": "666b2960-9b8f-452e-8bf4-6c50a645b898",
   "metadata": {},
   "outputs": [
    {
     "data": {
      "text/plain": [
       "True"
      ]
     },
     "execution_count": 88,
     "metadata": {},
     "output_type": "execute_result"
    }
   ],
   "source": [
    "_is_for_day(ts, day)"
   ]
  },
  {
   "cell_type": "code",
   "execution_count": 92,
   "id": "d736e63e-76c4-447d-b96b-8c44c3bd6fb6",
   "metadata": {},
   "outputs": [
    {
     "data": {
      "text/plain": [
       "'2025-10-21T01:53:25.292616+00:00'"
      ]
     },
     "execution_count": 92,
     "metadata": {},
     "output_type": "execute_result"
    }
   ],
   "source": [
    "ts"
   ]
  },
  {
   "cell_type": "code",
   "execution_count": 94,
   "id": "c9cb27d0-c16d-48ae-927b-72824c866d1c",
   "metadata": {},
   "outputs": [
    {
     "data": {
      "text/plain": [
       "'run_complete'"
      ]
     },
     "execution_count": 94,
     "metadata": {},
     "output_type": "execute_result"
    }
   ],
   "source": [
    "ev"
   ]
  },
  {
   "cell_type": "code",
   "execution_count": 104,
   "id": "44554ce2-d5af-4009-90b3-1212682fe9bb",
   "metadata": {},
   "outputs": [
    {
     "data": {
      "text/plain": [
       "{'date': '2025-10-21',\n",
       " 'started_at': '2025-10-21T01:53:07.104328+00:00',\n",
       " 'completed_at': '2025-10-21T01:53:25.292616+00:00',\n",
       " 'dry_run': True,\n",
       " 'desired_totals': {'buys': 0, 'sells': 0, 'zeros': 5},\n",
       " 'rebalance': {'built': 0, 'submitted': 0, 'preview': None},\n",
       " 'dust': {'built': 0, 'submitted': 0, 'preview': None},\n",
       " 'stops': {'replaced': 0,\n",
       "  'skipped_no_position': 0,\n",
       "  'skipped_no_ratchet': 0,\n",
       "  'errors': 0},\n",
       " 'errors': []}"
      ]
     },
     "execution_count": 104,
     "metadata": {},
     "output_type": "execute_result"
    }
   ],
   "source": [
    "out"
   ]
  },
  {
   "cell_type": "markdown",
   "id": "18bc7a62-a8e0-455f-ab01-d6fe3e36345b",
   "metadata": {},
   "source": [
    "## Argument Parser for Production Script"
   ]
  },
  {
   "cell_type": "code",
   "execution_count": 9,
   "id": "81da0ec2-03e8-450f-baf9-fbf806aea5da",
   "metadata": {},
   "outputs": [],
   "source": [
    "import argparse"
   ]
  },
  {
   "cell_type": "code",
   "execution_count": 11,
   "id": "205d23ff-23d9-4c62-8ec7-50d0b0c05b33",
   "metadata": {},
   "outputs": [],
   "source": [
    "def parse_args(argv=None):\n",
    "    ap = argparse.ArgumentParser()\n",
    "    ap.add_argument(\"--force-run\", action=\"store_true\")\n",
    "    ap.add_argument(\"--run-at-utc-hour\", type=int, default=0)\n",
    "    ap.add_argument(\"--gate-minutes\", type=int, default=5)\n",
    "    ap.add_argument(\"--dry-run\", action=\"store_true\")\n",
    "\n",
    "    # Accept unknown args (e.g., Jupyter's -f kernel.json)\n",
    "    args, _ = ap.parse_known_args(argv)\n",
    "    return args"
   ]
  },
  {
   "cell_type": "code",
   "execution_count": 13,
   "id": "36ad4b26-075e-44c7-887d-c3e770bcbb94",
   "metadata": {},
   "outputs": [],
   "source": [
    "args = parse_args()"
   ]
  },
  {
   "cell_type": "code",
   "execution_count": 15,
   "id": "e702cbcd-f771-42f5-b0c2-ba7814fa5dfa",
   "metadata": {},
   "outputs": [
    {
     "data": {
      "text/plain": [
       "Namespace(force_run=False, run_at_utc_hour=0, gate_minutes=5, dry_run=False)"
      ]
     },
     "execution_count": 15,
     "metadata": {},
     "output_type": "execute_result"
    }
   ],
   "source": [
    "args"
   ]
  },
  {
   "cell_type": "code",
   "execution_count": 17,
   "id": "00778e96-b88f-4898-a905-9fa036d4b182",
   "metadata": {},
   "outputs": [
    {
     "name": "stdout",
     "output_type": "stream",
     "text": [
      "True\n"
     ]
    }
   ],
   "source": [
    "if not args.force_run:\n",
    "    print('True')"
   ]
  },
  {
   "cell_type": "code",
   "execution_count": 19,
   "id": "36d00eed-afc8-463b-9b32-2cf4529a6536",
   "metadata": {},
   "outputs": [
    {
     "data": {
      "text/plain": [
       "False"
      ]
     },
     "execution_count": 19,
     "metadata": {},
     "output_type": "execute_result"
    }
   ],
   "source": [
    "args.dry_run"
   ]
  },
  {
   "cell_type": "markdown",
   "id": "20457991-ffa7-485c-ba7f-4b57ca2fd7d8",
   "metadata": {},
   "source": [
    "## Helpers to get Portfolio Attributes"
   ]
  },
  {
   "cell_type": "code",
   "execution_count": 22,
   "id": "e23bb042-f066-4f3f-b0e9-20217a13b96a",
   "metadata": {},
   "outputs": [],
   "source": [
    "from pathlib import Path\n",
    "import yaml\n",
    "\n",
    "## Load Config file for the strategy\n",
    "def load_prod_strategy_config(strategy_version='v0.1.0'):\n",
    "\n",
    "    nb_cwd = Path.cwd()  # git/trend_following/research/notebooks\n",
    "    config_path = (\n",
    "        nb_cwd.parents[1]                    # -> git/trend_following\n",
    "        / \"live_strategy\"\n",
    "        / f\"trend_following_strategy_{strategy_version}-live\"\n",
    "        / \"config\"\n",
    "        / f\"trend_strategy_config_{strategy_version}.yaml\"\n",
    "    )\n",
    "    \n",
    "    print(config_path)            # sanity check\n",
    "    print(config_path.exists())   # should be True\n",
    "    \n",
    "    with open(config_path, \"r\") as f:\n",
    "        cfg = yaml.safe_load(f)\n",
    "\n",
    "    return cfg"
   ]
  },
  {
   "cell_type": "markdown",
   "id": "ccbe1070-da00-4d43-9353-7d6d22e6f622",
   "metadata": {},
   "source": [
    "## Strategy Implementation"
   ]
  },
  {
   "cell_type": "markdown",
   "id": "47ccb7e2-0d39-4504-800e-281c1726404b",
   "metadata": {},
   "source": [
    "### Generate Trend Following Signal"
   ]
  },
  {
   "cell_type": "code",
   "execution_count": 26,
   "id": "5eedf044-fbe0-47bf-aa9e-b75d93f222db",
   "metadata": {},
   "outputs": [],
   "source": [
    "## Generate weighted and scaled final signal\n",
    "def get_strategy_trend_signal(cfg):\n",
    "\n",
    "    end_date = datetime.now(timezone.utc).date()\n",
    "    start_date = end_date - pd.Timedelta(days=cfg['run']['warmup_days'])\n",
    "\n",
    "    # Build kwargs directly from cfg sections\n",
    "    sig_kwargs = {\n",
    "        # Dates\n",
    "        \"start_date\": start_date,\n",
    "        \"end_date\": end_date,\n",
    "\n",
    "        # Universe\n",
    "        \"ticker_list\": cfg[\"universe\"][\"tickers\"],\n",
    "\n",
    "        # Moving Average Signal\n",
    "        \"fast_mavg\": cfg[\"signals\"][\"moving_average\"][\"fast_mavg\"],\n",
    "        \"slow_mavg\": cfg[\"signals\"][\"moving_average\"][\"slow_mavg\"],\n",
    "        \"mavg_stepsize\": cfg[\"signals\"][\"moving_average\"][\"mavg_stepsize\"],\n",
    "        \"mavg_z_score_window\": cfg[\"signals\"][\"moving_average\"][\"mavg_z_score_window\"],\n",
    "\n",
    "        # Donchain Channel Signal\n",
    "        \"entry_rolling_donchian_window\": cfg[\"signals\"][\"donchian\"][\"entry_rolling_donchian_window\"],\n",
    "        \"exit_rolling_donchian_window\": cfg[\"signals\"][\"donchian\"][\"exit_rolling_donchian_window\"],\n",
    "        \"use_donchian_exit_gate\": cfg[\"signals\"][\"donchian\"][\"use_donchian_exit_gate\"],\n",
    "\n",
    "        # Signal Weights\n",
    "        \"ma_crossover_signal_weight\": cfg[\"signals\"][\"weighting\"][\"ma_crossover_signal_weight\"],\n",
    "        \"donchian_signal_weight\": cfg[\"signals\"][\"weighting\"][\"donchian_signal_weight\"],\n",
    "        \"weighted_signal_ewm_window\": cfg[\"signals\"][\"weighting\"][\"weighted_signal_ewm_window\"],\n",
    "        \"rolling_r2_window\": cfg[\"signals\"][\"filters\"][\"rolling_r2\"][\"rolling_r2_window\"],\n",
    "\n",
    "        # Rolling R Squared Filter\n",
    "        \"lower_r_sqr_limit\": cfg[\"signals\"][\"filters\"][\"rolling_r2\"][\"lower_r_sqr_limit\"],\n",
    "        \"upper_r_sqr_limit\": cfg[\"signals\"][\"filters\"][\"rolling_r2\"][\"upper_r_sqr_limit\"],\n",
    "        \"r2_smooth_window\": cfg[\"signals\"][\"filters\"][\"rolling_r2\"][\"r2_smooth_window\"],\n",
    "        \"r2_confirm_days\": cfg[\"signals\"][\"filters\"][\"rolling_r2\"][\"r2_confirm_days\"],\n",
    "\n",
    "        # Vol of Vol Filter\n",
    "        \"log_std_window\": cfg[\"signals\"][\"filters\"][\"vol_of_vol\"][\"log_std_window\"],\n",
    "        \"coef_of_variation_window\": cfg[\"signals\"][\"filters\"][\"vol_of_vol\"][\"coef_of_variation_window\"],\n",
    "        \"vol_of_vol_z_score_window\": cfg[\"signals\"][\"filters\"][\"vol_of_vol\"][\"vol_of_vol_z_score_window\"],\n",
    "        \"vol_of_vol_p_min\": cfg[\"signals\"][\"filters\"][\"vol_of_vol\"][\"vol_of_vol_p_min\"],\n",
    "        \"r2_strong_threshold\": cfg[\"signals\"][\"filters\"][\"rolling_r2\"][\"r2_strong_threshold\"],\n",
    "\n",
    "        # Signal & Data Parameters\n",
    "        \"use_activation\": cfg[\"signals\"][\"activation\"][\"use_activation\"],\n",
    "        \"tanh_activation_constant_dict\": cfg[\"signals\"][\"activation\"][\"tanh_activation_constant_dict\"],\n",
    "        \"moving_avg_type\": cfg[\"data\"][\"moving_avg_type\"],\n",
    "        \"long_only\": cfg[\"run\"][\"long_only\"],\n",
    "        \"price_or_returns_calc\": cfg[\"data\"][\"price_or_returns_calc\"],\n",
    "        \"use_coinbase_data\": cfg[\"data\"][\"use_coinbase_data\"],\n",
    "        \"use_saved_files\": False,\n",
    "        \"saved_file_end_date\": None #cfg[\"data\"][\"saved_file_end_date\"]\n",
    "    }\n",
    "    \n",
    "    df_trend = get_trend_donchian_signal_for_portfolio_with_rolling_r_sqr_vol_of_vol(**sig_kwargs)\n",
    "\n",
    "    print('Generating Volatility Adjusted Trend Signal!!')\n",
    "    ## Get Volatility Adjusted Trend Signal\n",
    "    df_signal = size_cont.get_volatility_adjusted_trend_signal_continuous(df_trend, ticker_list=cfg['universe']['tickers'],\n",
    "                                                                          volatility_window=cfg['risk_and_sizing']['volatility_window'],\n",
    "                                                                          annual_trading_days=cfg['run']['annual_trading_days'])\n",
    "\n",
    "    return df_signal"
   ]
  },
  {
   "cell_type": "markdown",
   "id": "969a9e78-9ff4-4827-a846-ebb59506fcba",
   "metadata": {},
   "source": [
    "### Get Stop Losses by Ticker"
   ]
  },
  {
   "cell_type": "code",
   "execution_count": 29,
   "id": "9eb75446-9caf-48b9-ae7a-b0f42b818aed",
   "metadata": {},
   "outputs": [],
   "source": [
    "def calculate_average_true_range_live(date, ticker, rolling_atr_window=20):\n",
    "\n",
    "    end_date = date\n",
    "    start_date = date - pd.Timedelta(days=(rolling_atr_window + 200))\n",
    "    df = cn.save_historical_crypto_prices_from_coinbase(ticker=ticker, user_start_date=True, start_date=start_date, end_date=date, save_to_file=False)\n",
    "    df.columns = [f'{ticker}_{x}' for x in df.columns]\n",
    "    \n",
    "    ## Get T-1 Close Price\n",
    "    df[f'{ticker}_t_1_close'] = df[f'{ticker}_close'].shift(1)\n",
    "\n",
    "    # Calculate the True Range (TR) and Average True Range (ATR)\n",
    "    df[f'{ticker}_high-low'] = df[f'{ticker}_high'] - df[f'{ticker}_low']\n",
    "    df[f'{ticker}_high-close'] = np.abs(df[f'{ticker}_high'] - df[f'{ticker}_close'].shift(1))\n",
    "    df[f'{ticker}_low-close'] = np.abs(df[f'{ticker}_low'] - df[f'{ticker}_close'].shift(1))\n",
    "    df[f'{ticker}_true_range_price'] = df[\n",
    "        [f'{ticker}_high-low', f'{ticker}_high-close', f'{ticker}_low-close']].max(axis=1)\n",
    "    df[f'{ticker}_{rolling_atr_window}_avg_true_range_price'] = df[f'{ticker}_true_range_price'].ewm(\n",
    "        span=rolling_atr_window, adjust=False).mean()\n",
    "\n",
    "    ## Shift by 1 to avoid look-ahead bias\n",
    "    df[f'{ticker}_{rolling_atr_window}_avg_true_range_price'] = df[\n",
    "        f'{ticker}_{rolling_atr_window}_avg_true_range_price'].shift(1)\n",
    "\n",
    "    return df"
   ]
  },
  {
   "cell_type": "code",
   "execution_count": 31,
   "id": "ae2b3b1f-7819-4537-b929-445c6049d23f",
   "metadata": {},
   "outputs": [],
   "source": [
    "def chandelier_stop_long(date, ticker, highest_high_window, rolling_atr_window, atr_multiplier):\n",
    "    \n",
    "    ## Get Average True Range\n",
    "    df_atr = calculate_average_true_range_live(date=date, ticker=ticker, rolling_atr_window=rolling_atr_window)\n",
    "    atr = df_atr[f'{ticker}_{rolling_atr_window}_avg_true_range_price'].loc[date]\n",
    "\n",
    "    ## Get the Highest High from previous date\n",
    "    highest_high_t_1 = df_atr[f'{ticker}_high'].rolling(highest_high_window).max().shift(1)\n",
    "    chandelier_stop = highest_high_t_1 - atr_multiplier * atr\n",
    "    chandelier_stop = chandelier_stop.loc[date]\n",
    "    \n",
    "    return chandelier_stop"
   ]
  },
  {
   "cell_type": "markdown",
   "id": "7ce5bbfe-4a04-4ee7-823a-439beef830b6",
   "metadata": {},
   "source": [
    "### Check for Stop Loss Breach and Cooldown Counter"
   ]
  },
  {
   "cell_type": "code",
   "execution_count": 34,
   "id": "4e21d551-8fba-41a3-9843-251b82eb8dd6",
   "metadata": {},
   "outputs": [],
   "source": [
    "# cooldown_state.py\n",
    "import json, os\n",
    "from datetime import datetime, timedelta, timezone, date as date_cls\n",
    "from pathlib import Path\n",
    "from typing import Dict, Tuple, Optional\n",
    "\n",
    "DEFAULT_COOLDOWN_DAYS = 7\n",
    "\n",
    "# ---------- basic utils ----------\n",
    "def _as_utc_date(x) -> date_cls:\n",
    "    if isinstance(x, datetime):\n",
    "        return x.astimezone(timezone.utc).date()\n",
    "    return x  # assume it's already a date\n",
    "\n",
    "def _iso_date(d: date_cls) -> str:\n",
    "    return d.isoformat()\n",
    "\n",
    "def _from_iso_date(s: str) -> date_cls:\n",
    "    return datetime.fromisoformat(s).date()\n",
    "\n",
    "# ---------- state file I/O ----------\n",
    "def load_state(path: Path) -> dict:\n",
    "    if not path.exists():\n",
    "        return {}\n",
    "    try:\n",
    "        with open(path, \"r\") as f:\n",
    "            content = f.read().strip()\n",
    "            if not content:  # empty file\n",
    "                return {}\n",
    "            return json.loads(content)\n",
    "    except json.JSONDecodeError:\n",
    "        # optionally quarantine the bad file so it doesn't keep breaking runs\n",
    "        try:\n",
    "            bad = path.with_suffix(\".corrupt-\" + datetime.now(timezone.utc).strftime(\"%Y%m%dT%H%M%SZ\"))\n",
    "            os.replace(path, bad)\n",
    "            print(f\"[warn] State file was invalid JSON. Moved to: {bad}\")\n",
    "        except Exception:\n",
    "            # if we can't move it, just ignore and continue with empty state\n",
    "            pass\n",
    "        return {}\n",
    "\n",
    "def save_state(path: Path, state: Dict[str, dict]) -> None:\n",
    "    path.parent.mkdir(parents=True, exist_ok=True)\n",
    "    tmp = path.with_suffix(\".tmp\")\n",
    "    with open(tmp, \"w\") as f:\n",
    "        json.dump(state, f, indent=2, sort_keys=True)\n",
    "    os.replace(tmp, path)  # atomic on POSIX\n",
    "\n",
    "# ---------- append-only event log (optional) ----------\n",
    "def append_event_log(path: Path, record: dict) -> None:\n",
    "    path.parent.mkdir(parents=True, exist_ok=True)\n",
    "    with open(path, \"a\") as f:\n",
    "        f.write(json.dumps(record, default=str) + \"\\n\")\n",
    "\n",
    "# ---------- API ----------\n",
    "def start_cooldown(\n",
    "    state_path: Path,\n",
    "    ticker: str,\n",
    "    breach_date,\n",
    "    cooldown_counter_threshold: int = DEFAULT_COOLDOWN_DAYS,\n",
    "    note: str = \"\",\n",
    "    log_path: Optional[Path] = None\n",
    ") -> dict:\n",
    "    \"\"\"Start/refresh cooldown from breach_date (UTC date).\"\"\"\n",
    "    state = load_state(state_path)\n",
    "    bdate = _as_utc_date(breach_date)\n",
    "    until = bdate + timedelta(days=cooldown_counter_threshold)  # buys allowed on/after 'until'\n",
    "    rec = {\n",
    "        \"last_breach_date\": _iso_date(bdate),\n",
    "        \"cooldown_until\":   _iso_date(until),\n",
    "        \"note\":             note or \"stop_breached\"\n",
    "    }\n",
    "    state[ticker] = rec\n",
    "    save_state(state_path, state)\n",
    "\n",
    "    if log_path:\n",
    "        append_event_log(log_path, {\n",
    "            \"ts\": datetime.now(timezone.utc).isoformat(),\n",
    "            \"ticker\": ticker,\n",
    "            \"event\": \"start_cooldown\",\n",
    "            \"breach_date\": _iso_date(bdate),\n",
    "            \"cooldown_until\": _iso_date(until),\n",
    "            \"note\": note,\n",
    "        })\n",
    "    return rec\n",
    "\n",
    "def is_in_cooldown(state_path: Path, ticker: str, today) -> Tuple[bool, int]:\n",
    "    \"\"\"Return (active, days_remaining). days_remaining >= 0 while active.\"\"\"\n",
    "    state = load_state(state_path)\n",
    "    rec = state.get(ticker)\n",
    "    if not rec:\n",
    "        return False, 0\n",
    "    today_d = _as_utc_date(today)\n",
    "    until_d = _from_iso_date(rec[\"cooldown_until\"])\n",
    "    if today_d < until_d:\n",
    "        return True, (until_d - today_d).days\n",
    "    return False, 0\n"
   ]
  },
  {
   "cell_type": "code",
   "execution_count": 36,
   "id": "e21c8d4f-92c8-4d83-b57f-0d39f1d8d17d",
   "metadata": {},
   "outputs": [],
   "source": [
    "# cooldown_from_fills.py\n",
    "from datetime import timedelta\n",
    "from pathlib import Path\n",
    "from typing import Iterable\n",
    "# from cooldown_state import start_cooldown\n",
    "\n",
    "def refresh_cooldowns_from_stop_fills(\n",
    "    client,\n",
    "    tickers: Iterable[str],\n",
    "    today_date,\n",
    "    state_file: Path,\n",
    "    log_file: Path,\n",
    "    get_stop_fills_fn=cn.get_stop_fills,         # inject coinbase_utils.get_stop_fills\n",
    "    cooldown_counter_threshold: int = 7,\n",
    "    lookback_days: int = 10,   # scan recent window for safety\n",
    "    effective_recent_days: int = 2  # treat fills in last N days as trigger (covers “not obvious for 4–5 days” in time series)\n",
    "):\n",
    "    \"\"\"\n",
    "    - Pull STOP fills over a lookback window.\n",
    "    - If any fill is within the last 'effective_recent_days' (e.g., yesterday/today), start/refresh cooldown.\n",
    "    \"\"\"\n",
    "    fills_start = today_date - timedelta(days=lookback_days)\n",
    "    recent_cutoff = today_date - timedelta(days=effective_recent_days - 1)  # e.g., if N=2, cutoff is (today - 1)\n",
    "\n",
    "    for ticker in tickers:\n",
    "        try:\n",
    "            fills = get_stop_fills_fn(\n",
    "                client=client,\n",
    "                product_id=ticker,\n",
    "                start=fills_start,\n",
    "                end=today_date,\n",
    "                client_id_prefix=\"stop-\"\n",
    "            )\n",
    "            print(fills)\n",
    "            # 'fills' is [(ts, price), ...] sorted ascending\n",
    "            for ts, px in reversed(fills):\n",
    "                # recent STOP fill ⇒ start cooldown dated to fill date\n",
    "                if ts.date() >= recent_cutoff:\n",
    "                    print('date > recent_cutoff')\n",
    "                    start_cooldown(\n",
    "                        state_path=state_file,\n",
    "                        ticker=ticker,\n",
    "                        breach_date=ts.date(),\n",
    "                        cooldown_counter_threshold=cooldown_counter_threshold,\n",
    "                        note=f\"stop_fill@{px}\",\n",
    "                        log_path=log_file\n",
    "                    )\n",
    "                    break  # only the most recent recent fill matters\n",
    "        except Exception as e:\n",
    "            print(f\"[warn] refresh_cooldowns_from_stop_fills({ticker}) failed: {e}\", flush=True)\n"
   ]
  },
  {
   "cell_type": "code",
   "execution_count": 38,
   "id": "dd6dd927-fc6d-445c-a3f6-310809288181",
   "metadata": {},
   "outputs": [],
   "source": [
    "from pathlib import Path\n",
    "# from cooldown_state import is_in_cooldown, start_cooldown\n",
    "# from cooldown_from_fills import refresh_cooldowns_from_stop_fills\n",
    "# import coinbase_utils as cn  # where your get_stop_fills lives\n",
    "\n",
    "STATE_DIR = Path(\"/Users/adheerchauhan/Documents/git/trend_following/live_strategy/trend_following_strategy_v0.1.0-live/state\")\n",
    "COOLDOWN_STATE_FILE = STATE_DIR / \"stop_loss_breach_cooldown_state.json\"\n",
    "COOLDOWN_LOG_FILE   = STATE_DIR / \"stop_loss_breach_cooldown_log.jsonl\"\n"
   ]
  },
  {
   "cell_type": "code",
   "execution_count": 47,
   "id": "1556d84c-0b7f-414c-8712-4da3f994d913",
   "metadata": {},
   "outputs": [
    {
     "name": "stdout",
     "output_type": "stream",
     "text": [
      "/Users/adheerchauhan/Documents/git/trend_following/live_strategy/trend_following_strategy_v0.1.0-live/config/trend_strategy_config_v0.1.0.yaml\n",
      "True\n"
     ]
    }
   ],
   "source": [
    "# --- Config & Prep -----------------------------------------------------------\n",
    "## Strategy Parameters\n",
    "cfg = load_prod_strategy_config()\n",
    "date = datetime.now(timezone.utc).date()\n",
    "ticker_list = cfg[\"universe\"][\"tickers\"]\n",
    "cooldown_counter_threshold = cfg['execution_and_costs']['cooldown_counter_threshold']"
   ]
  },
  {
   "cell_type": "code",
   "execution_count": 49,
   "id": "bdf40378-27d1-4f05-8c70-ab5a86dff26b",
   "metadata": {},
   "outputs": [
    {
     "ename": "NameError",
     "evalue": "name 'client' is not defined",
     "output_type": "error",
     "traceback": [
      "\u001b[0;31m---------------------------------------------------------------------------\u001b[0m",
      "\u001b[0;31mNameError\u001b[0m                                 Traceback (most recent call last)",
      "Cell \u001b[0;32mIn[49], line 2\u001b[0m\n\u001b[1;32m      1\u001b[0m refresh_cooldowns_from_stop_fills(\n\u001b[0;32m----> 2\u001b[0m     client\u001b[38;5;241m=\u001b[39mclient,\n\u001b[1;32m      3\u001b[0m     tickers\u001b[38;5;241m=\u001b[39mticker_list,\n\u001b[1;32m      4\u001b[0m     today_date\u001b[38;5;241m=\u001b[39mdate,\n\u001b[1;32m      5\u001b[0m     state_file\u001b[38;5;241m=\u001b[39mCOOLDOWN_STATE_FILE,\n\u001b[1;32m      6\u001b[0m     log_file\u001b[38;5;241m=\u001b[39mCOOLDOWN_LOG_FILE,\n\u001b[1;32m      7\u001b[0m     get_stop_fills_fn\u001b[38;5;241m=\u001b[39mcn\u001b[38;5;241m.\u001b[39mget_stop_fills,  \u001b[38;5;66;03m# your function\u001b[39;00m\n\u001b[1;32m      8\u001b[0m     cooldown_counter_threshold\u001b[38;5;241m=\u001b[39mcooldown_counter_threshold,\n\u001b[1;32m      9\u001b[0m     lookback_days\u001b[38;5;241m=\u001b[39m\u001b[38;5;241m10\u001b[39m,\n\u001b[1;32m     10\u001b[0m     effective_recent_days\u001b[38;5;241m=\u001b[39m\u001b[38;5;241m2\u001b[39m\n\u001b[1;32m     11\u001b[0m )\n",
      "\u001b[0;31mNameError\u001b[0m: name 'client' is not defined"
     ]
    }
   ],
   "source": [
    "refresh_cooldowns_from_stop_fills(\n",
    "    client=client,\n",
    "    tickers=ticker_list,\n",
    "    today_date=date,\n",
    "    state_file=COOLDOWN_STATE_FILE,\n",
    "    log_file=COOLDOWN_LOG_FILE,\n",
    "    get_stop_fills_fn=cn.get_stop_fills,  # your function\n",
    "    cooldown_counter_threshold=cooldown_counter_threshold,\n",
    "    lookback_days=10,\n",
    "    effective_recent_days=2\n",
    ")"
   ]
  },
  {
   "cell_type": "code",
   "execution_count": null,
   "id": "10e5186a-0dd7-4aaf-9aa4-0153b0e06c68",
   "metadata": {},
   "outputs": [],
   "source": [
    "client = cn.get_coinbase_rest_api_client(portfolio_name='Trend Following')\n",
    "lookback_days = 10\n",
    "effective_recent_days = 2\n",
    "today_date = datetime.now(timezone.utc).date()\n",
    "fills_start = today_date - timedelta(days=lookback_days)\n",
    "recent_cutoff = today_date - timedelta(days=effective_recent_days - 1)  # e.g., if N=2, cutoff is (today - 1)\n",
    "fills = cn.get_stop_fills(\n",
    "    client=client,\n",
    "    product_id='SOL-USD',\n",
    "    start=fills_start,\n",
    "    end=today_date,\n",
    "    client_id_prefix=\"stop-\")\n",
    "fills"
   ]
  },
  {
   "cell_type": "code",
   "execution_count": null,
   "id": "9f45158e-f61f-46ab-a056-d982739df54f",
   "metadata": {},
   "outputs": [],
   "source": [
    "fills[0][0].date()"
   ]
  },
  {
   "cell_type": "code",
   "execution_count": null,
   "id": "35b467e4-c913-48b8-b980-1303e5a22a96",
   "metadata": {},
   "outputs": [],
   "source": [
    "recent_cutoff = date - timedelta(days=effective_recent_days - 1)\n",
    "recent_cutoff"
   ]
  },
  {
   "cell_type": "code",
   "execution_count": null,
   "id": "74186dda-dab0-46b2-928f-61428275495b",
   "metadata": {},
   "outputs": [],
   "source": [
    "client = cn.get_coinbase_rest_api_client(portfolio_name='Trend Following')\n",
    "lookback_days = 10\n",
    "effective_recent_days = 2\n",
    "today_date = datetime.now(timezone.utc).date()\n",
    "fills_start = today_date - timedelta(days=lookback_days)\n",
    "recent_cutoff = today_date - timedelta(days=effective_recent_days - 1)  # e.g., if N=2, cutoff is (today - 1)\n",
    "fills = cn.get_stop_fills(\n",
    "    client=client,\n",
    "    product_id='AVAX-USD',\n",
    "    start=fills_start,\n",
    "    end=today_date,\n",
    "    client_id_prefix=\"stop-\")\n",
    "fills"
   ]
  },
  {
   "cell_type": "code",
   "execution_count": null,
   "id": "312e23fc-a1ca-4caa-aa90-cbef8ea378e9",
   "metadata": {},
   "outputs": [],
   "source": [
    "cooldown_active, days_left = is_in_cooldown(COOLDOWN_STATE_FILE, ticker='AVAX-USD', today=date)"
   ]
  },
  {
   "cell_type": "code",
   "execution_count": null,
   "id": "effcae97-17e5-4f3f-be60-a69e214c67f6",
   "metadata": {},
   "outputs": [],
   "source": [
    "cooldown_active"
   ]
  },
  {
   "cell_type": "code",
   "execution_count": null,
   "id": "b14562ec-f1f1-4c33-bdd7-b9590525ae12",
   "metadata": {},
   "outputs": [],
   "source": [
    "COOLDOWN_LOG_FILE"
   ]
  },
  {
   "cell_type": "markdown",
   "id": "8dae7d1f-c751-4ff8-9c4c-2010270cac7a",
   "metadata": {},
   "source": [
    "## Get Desired Trades to Execute"
   ]
  },
  {
   "cell_type": "code",
   "execution_count": 42,
   "id": "ebbedbfe-6b45-46a6-99e7-3a8c7a8d0d84",
   "metadata": {},
   "outputs": [],
   "source": [
    "# --- Helpers ----------------------------------------------------------------\n",
    "def _long_stop_for_today(date, ticker, highest_high_window, rolling_atr_window, atr_multiplier):\n",
    "    \"\"\"Chandelier stop (long) for *today*, computed from live ATR & T-1 highest high.\"\"\"\n",
    "    return float(chandelier_stop_long(\n",
    "        date=date,\n",
    "        ticker=ticker,\n",
    "        highest_high_window=highest_high_window,\n",
    "        rolling_atr_window=rolling_atr_window,\n",
    "        atr_multiplier=atr_multiplier\n",
    "    ))\n",
    "\n",
    "def _entry_allowed_long(curr_price, stop_today, eps=0.0):\n",
    "    \"\"\"\n",
    "    Gate for NEW/ADDED long risk:\n",
    "    - allow only if current price is strictly above today's stop (plus optional eps).\n",
    "    \"\"\"\n",
    "    return np.isfinite(curr_price) and np.isfinite(stop_today) and (curr_price > stop_today * (1 + eps))\n",
    "\n",
    "def get_desired_trades_from_target_notional(df, date, ticker_list, current_positions, transaction_cost_est, passive_trade_rate, notional_threshold_pct,\n",
    "                                            total_portfolio_value, cash_buffer_percentage, min_trade_notional_abs, cooldown_counter_threshold):\n",
    "\n",
    "    # --- 4) Build desired trades with STOP-GATE for new/added longs --------------\n",
    "    ## Get Desired Trades based on Target Notionals and Current Notional Values by Ticker\n",
    "    desired_positions = {}\n",
    "    cash_debit = 0.0  # buys + fees\n",
    "    cash_credit = 0.0  # sells - fees\n",
    "    available_cash_for_trading = df['available_cash'].loc[date] * (1 - cash_buffer_percentage)\n",
    "    \n",
    "    ## Estimated Transaction Costs and Fees\n",
    "    est_fees = (transaction_cost_est + perf.estimate_fee_per_trade(passive_trade_rate))\n",
    "    \n",
    "    for ticker in ticker_list:\n",
    "        ## Calculate the cash need from all new target positions\n",
    "        target_notional = df[f'{ticker}_target_notional'].loc[date]\n",
    "        current_notional = df[f'{ticker}_open_position_notional'].loc[date]\n",
    "        new_trade_notional = target_notional - current_notional\n",
    "        trade_fees = abs(new_trade_notional) * est_fees\n",
    "        mid_px = float(current_positions[ticker]['ticker_mid_price'])\n",
    "    \n",
    "        ## Calculate notional difference to determine if a trade is warranted\n",
    "        portfolio_equity_trade_threshold = notional_threshold_pct * total_portfolio_value\n",
    "        notional_threshold = notional_threshold_pct * abs(target_notional)\n",
    "        notional_floors_list = [\n",
    "            portfolio_equity_trade_threshold, notional_threshold, min_trade_notional_abs\n",
    "        ]\n",
    "        notional_floor = max(notional_floors_list)\n",
    "    \n",
    "        # --- STOP-GATE: block NEW/ADDED long exposure if stop is breached/invalid ---\n",
    "        # We only gate when the delta adds long dollar risk (delta > 0).\n",
    "        if new_trade_notional > 0:\n",
    "            cooldown_active, days_left = is_in_cooldown(COOLDOWN_STATE_FILE, ticker, today=date)\n",
    "            if cooldown_active:\n",
    "                df.loc[date, f'{ticker}_stopout_flag']   = True\n",
    "                df.loc[date, f'{ticker}_cooldown_counter'] = float(days_left)\n",
    "                df.loc[date, f'{ticker}_event'] = f'cooldown_active({int(days_left)}d_left)'\n",
    "                desired_positions[ticker] = {'new_trade_notional': 0.0,\n",
    "                                             'trade_fees': 0.0,\n",
    "                                             'reason': 'cooldown_active'}\n",
    "                continue\n",
    "            \n",
    "            stop_today = df[f'{ticker}_stop_loss'].loc[date]#_long_stop_for_today(ticker)\n",
    "            print(f'Ticker: {ticker}, Ticker Mid Price: {mid_px}, Stop Loss Price: {stop_today}')\n",
    "            if not _entry_allowed_long(curr_price=mid_px, stop_today=stop_today, eps=0.0):\n",
    "                # Block the buy; keep delta at zero but still record the stop for transparency.\n",
    "                df.loc[date, f'{ticker}_stopout_flag'] = True\n",
    "                df.loc[date, f'{ticker}_event'] = 'Stop Breached'\n",
    "                # df.loc[date, f'{ticker}_stop_loss']    = float(stop_today)\n",
    "                # Start cooldown (and log it); buys will be blocked from now on.\n",
    "                start_cooldown(\n",
    "                    state_path=COOLDOWN_STATE_FILE,\n",
    "                    ticker=ticker,\n",
    "                    breach_date=date,\n",
    "                    cooldown_counter_threshold=cooldown_counter_threshold,\n",
    "                    note=f\"gate_block@{mid_px}\",\n",
    "                    log_path=COOLDOWN_LOG_FILE\n",
    "                )\n",
    "                _, days_left = is_in_cooldown(COOLDOWN_STATE_FILE, ticker, today=date)\n",
    "                df.loc[date, f'{ticker}_cooldown_counter'] = float(days_left)\n",
    "                desired_positions[ticker] = {'new_trade_notional': 0.0,\n",
    "                                             'trade_fees': 0.0,\n",
    "                                             'reason': 'stop_breached'}\n",
    "                continue\n",
    "            else:\n",
    "                df.loc[date, f'{ticker}_stopout_flag'] = False\n",
    "                df.loc[date, f'{ticker}_stop_loss']    = float(stop_today)\n",
    "                df.loc[date, f'{ticker}_cooldown_counter'] = 0.0\n",
    "        # For sells or flat, we don’t block: let risk come off if needed.\n",
    "        \n",
    "        if abs(new_trade_notional) > notional_floor:\n",
    "            desired_positions[ticker] = {'new_trade_notional': new_trade_notional,\n",
    "                                         'trade_fees': trade_fees,\n",
    "                                         'reason': 'threshold_pass'}\n",
    "        else:\n",
    "            desired_positions[ticker] = {'new_trade_notional': 0,\n",
    "                                         'trade_fees': 0,\n",
    "                                         'reason': 'below_threshold'}\n",
    "    \n",
    "        if new_trade_notional >= 0:\n",
    "            ## Buys\n",
    "            cash_debit = cash_debit + new_trade_notional\n",
    "        else:\n",
    "            ## Sells\n",
    "            net_trade_notional = new_trade_notional + trade_fees\n",
    "            cash_credit = cash_credit + abs(net_trade_notional)\n",
    "    \n",
    "    ## Calculate Cash Shrink Factor for the portfolio for the day\n",
    "    net_cash_need = cash_debit - cash_credit\n",
    "    if net_cash_need > available_cash_for_trading + 1e-6:\n",
    "        cash_shrink_factor = available_cash_for_trading / net_cash_need  # 0 < shrink < 1\n",
    "    else:\n",
    "        cash_shrink_factor = 1.0\n",
    "    \n",
    "    df[f'cash_shrink_factor'].loc[date] = cash_shrink_factor\n",
    "    \n",
    "    ## Apply Cash Shrink Factor to Desired Positions for Buys Only\n",
    "    for ticker in ticker_list:\n",
    "        if desired_positions[ticker]['new_trade_notional'] > 0:\n",
    "            desired_positions[ticker]['new_trade_notional'] = desired_positions[ticker]['new_trade_notional'] * cash_shrink_factor\n",
    "            desired_positions[ticker]['trade_fees'] = desired_positions[ticker]['trade_fees'] * cash_shrink_factor\n",
    "    \n",
    "        df[f'{ticker}_new_position_notional'].loc[date] = desired_positions[ticker]['new_trade_notional']\n",
    "        df[f'{ticker}_new_position_size'].loc[date] = desired_positions[ticker]['new_trade_notional'] / current_positions[ticker]['ticker_mid_price']\n",
    "        df[f'{ticker}_actual_position_notional'].loc[date] = df[f'{ticker}_new_position_notional'].loc[date] + df[f'{ticker}_open_position_notional'].loc[date]\n",
    "        df[f'{ticker}_actual_position_size'].loc[date] = df[f'{ticker}_actual_position_notional'].loc[date] / current_positions[ticker]['ticker_mid_price']\n",
    "\n",
    "    return df, desired_positions\n",
    "\n",
    "def get_desired_trades_by_ticker(cfg, date):\n",
    "    \n",
    "    ## Strategy Inputs\n",
    "    ticker_list = cfg['universe']['tickers']\n",
    "    initial_capital = cfg['run']['initial_capital']\n",
    "    rolling_cov_window = cfg['risk_and_sizing']['rolling_cov_window']\n",
    "    rolling_atr_window = cfg['risk_and_sizing']['rolling_atr_window']\n",
    "    atr_multiplier = cfg['risk_and_sizing']['atr_multiplier']\n",
    "    highest_high_window = cfg['risk_and_sizing']['highest_high_window']\n",
    "    cash_buffer_percentage = cfg['risk_and_sizing']['cash_buffer_percentage']\n",
    "    annualized_target_volatility = cfg['risk_and_sizing']['annualized_target_volatility']\n",
    "    transaction_cost_est = cfg['execution_and_costs']['transaction_cost_est']\n",
    "    passive_trade_rate = cfg['execution_and_costs']['passive_trade_rate']\n",
    "    notional_threshold_pct = cfg['execution_and_costs']['notional_threshold_pct']\n",
    "    min_trade_notional_abs = cfg['execution_and_costs']['min_trade_notional_abs']\n",
    "    cooldown_counter_threshold = cfg['execution_and_costs']['cooldown_counter_threshold']\n",
    "    annual_trading_days = cfg['run']['annual_trading_days']\n",
    "    portfolio_name = cfg['portfolio']['name']\n",
    "    cooldown_counter_threshold = cfg['execution_and_costs']['cooldown_counter_threshold']\n",
    "\n",
    "    # --- 1) Build signal DF & covariance ----------------------------------------\n",
    "    ## Generate Strategy Signal from T-1 Data\n",
    "    df = get_strategy_trend_signal(cfg)\n",
    "    \n",
    "    ## Get Target Notionals by Ticker in Universe\n",
    "    print(f'Covariance Matrix Time: {datetime.now()}')\n",
    "    ## Calculate the covariance matrix for tickers in the portfolio\n",
    "    returns_cols = [f'{ticker}_t_1_close_pct_returns' for ticker in ticker_list]\n",
    "    cov_matrix = df[returns_cols].rolling(rolling_cov_window).cov(pairwise=True).dropna()\n",
    "    \n",
    "    ## Delete rows prior to the first available date of the covariance matrix\n",
    "    cov_matrix_start_date = cov_matrix.index.get_level_values(0).min()\n",
    "    df = df[df.index >= cov_matrix_start_date]\n",
    "    \n",
    "    \n",
    "    # --- 2) Live portfolio state -------------------------------------------------\n",
    "    ## Get Portfolio Positions and Cash\n",
    "    print(f'Start Time: {datetime.now()}')\n",
    "    ## Create Coinbase Client & Portfolio UUID\n",
    "    client = cn.get_coinbase_rest_api_client(portfolio_name=portfolio_name)\n",
    "    portfolio_uuid = cn.get_portfolio_uuid(client, portfolio_name=portfolio_name)\n",
    "    \n",
    "    print(f'Get Portfolio Equity and Cash Time: {datetime.now()}')\n",
    "    ## Get Live Portfolio Equity\n",
    "    portfolio_equity, available_cash = cn.get_live_portfolio_equity_and_cash(client=client, portfolio_name=portfolio_name)\n",
    "    \n",
    "    print(f'Get Current Positions Time: {datetime.now()}')\n",
    "    ## Get Current Positions using Mid-Price\n",
    "    ## TODO: CHECK TO SEE IF THE MID-PRICE BEING CAPTURED IS ACCURATE FROM COINBASE\n",
    "    current_positions = cn.get_current_positions_from_portfolio(client, ticker_list=ticker_list, portfolio_name=portfolio_name)\n",
    "\n",
    "    # --- Refresh cooldowns from actual STOP fills (robust source of truth) ------\n",
    "    refresh_cooldowns_from_stop_fills(\n",
    "        client=client,\n",
    "        tickers=ticker_list,\n",
    "        today_date=date,\n",
    "        state_file=COOLDOWN_STATE_FILE,\n",
    "        log_file=COOLDOWN_LOG_FILE,\n",
    "        get_stop_fills_fn=cn.get_stop_fills,  # your function\n",
    "        cooldown_counter_threshold=cooldown_counter_threshold,\n",
    "        lookback_days=10,\n",
    "        effective_recent_days=2\n",
    "    )\n",
    "\n",
    "    ## Identify Daily Positions starting from day 2\n",
    "    previous_date = df.index[df.index.get_loc(date) - 1]\n",
    "    \n",
    "    ## Reorder dataframe columns\n",
    "    for ticker in ticker_list:\n",
    "        df[f'{ticker}_new_position_size'] = 0.0\n",
    "        df[f'{ticker}_new_position_notional'] = 0.0\n",
    "        df[f'{ticker}_open_position_size'] = 0.0\n",
    "        df[f'{ticker}_open_position_notional'] = 0.0\n",
    "        df[f'{ticker}_actual_position_size'] = 0.0\n",
    "        df[f'{ticker}_actual_position_notional'] = 0.0\n",
    "        df[f'{ticker}_short_sale_proceeds'] = 0.0\n",
    "        df[f'{ticker}_new_position_entry_exit_price'] = 0.0\n",
    "        df[f'{ticker}_target_vol_normalized_weight'] = 0.0\n",
    "        df[f'{ticker}_target_notional'] = 0.0\n",
    "        df[f'{ticker}_target_size'] = 0.0\n",
    "        df[f'{ticker}_cash_shrink_factor'] = 0.0\n",
    "        df[f'{ticker}_stop_loss'] = 0.0\n",
    "        df[f'{ticker}_stopout_flag'] = False\n",
    "        df[f'{ticker}_cooldown_counter'] = 0.0\n",
    "        df[f'{ticker}_event'] = np.nan\n",
    "    ord_cols = size_bin.reorder_columns_by_ticker(df.columns, ticker_list)\n",
    "    df = df[ord_cols]\n",
    "    \n",
    "    ## Portfolio Level Cash and Positions are all set to 0\n",
    "    df['daily_portfolio_volatility'] = 0.0\n",
    "    df['available_cash'] = 0.0\n",
    "    df['count_of_positions'] = 0.0\n",
    "    df['total_actual_position_notional'] = 0.0\n",
    "    df['total_target_notional'] = 0.0\n",
    "    df['total_portfolio_value'] = 0.0\n",
    "    df['total_portfolio_value_upper_limit'] = 0.0\n",
    "    df['target_vol_scaling_factor'] = 1.0\n",
    "    df['cash_scaling_factor'] = 1.0\n",
    "    df['cash_shrink_factor'] = 1.0\n",
    "    df['final_scaling_factor'] = 1.0\n",
    "    \n",
    "    # Seed state (+ carry over T-1 actuals, open notionals, and any existing stop levels)\n",
    "    ## Assign Live Cash and Positions\n",
    "    for ticker in ticker_list:\n",
    "        # Actuals as of T-1\n",
    "        df[f'{ticker}_actual_position_notional'].loc[previous_date] = current_positions[ticker]['ticker_current_notional']\n",
    "        df[f'{ticker}_actual_position_size'].loc[previous_date] = current_positions[ticker]['ticker_qty']\n",
    "        \n",
    "        # Open Positions at T\n",
    "        df[f'{ticker}_open_position_notional'].loc[date] = current_positions[ticker]['ticker_current_notional']\n",
    "        df[f'{ticker}_open_position_size'].loc[date] = current_positions[ticker]['ticker_qty']\n",
    "    \n",
    "        # Carry Forward any Open Stop Loss Positions from T-1\n",
    "        open_stop_loss = cn.get_open_stop_price(client, product_id=ticker, client_id_prefix='stop-')\n",
    "        df[f'{ticker}_stop_loss'].loc[previous_date] = np.where(pd.isna(open_stop_loss), 0.0, float(open_stop_loss)).item()\n",
    "    \n",
    "        # Pull in updated Stop Loss Values for Today\n",
    "        df[f'{ticker}_stop_loss'].loc[date] = _long_stop_for_today(date, ticker, highest_high_window, rolling_atr_window, atr_multiplier)\n",
    "    \n",
    "    ## Portfolio Aggregates for today\n",
    "    # Update Available Cash based on cash in Coinbase portfolio\n",
    "    df['available_cash'].loc[date] = available_cash\n",
    "    \n",
    "    # Calculate Total Portfolio Value from Portfolio Positions\n",
    "    short_sale_proceeds_cols = [f'{ticker}_short_sale_proceeds' for ticker in ticker_list]\n",
    "    open_position_notional_cols = [f'{ticker}_open_position_notional' for ticker in ticker_list]\n",
    "    df['total_actual_position_notional'].loc[date] = df[open_position_notional_cols].loc[date].sum()\n",
    "    total_portfolio_value = (df['available_cash'].loc[date] +\n",
    "                             df[short_sale_proceeds_cols].loc[date].sum() +\n",
    "                             df['total_actual_position_notional'].loc[date])\n",
    "    df['total_portfolio_value'].loc[date] = total_portfolio_value\n",
    "    \n",
    "    # Update Total Portfolio Value Upper Limit based on the Total Portfolio Value\n",
    "    total_portfolio_value_upper_limit = (df['total_portfolio_value'].loc[date] *\n",
    "                                         (1 - cash_buffer_percentage))\n",
    "    df['total_portfolio_value_upper_limit'].loc[date] = total_portfolio_value_upper_limit\n",
    "    \n",
    "    \n",
    "    # --- 3) Target notionals via target-vol sizing -------------------------------\n",
    "    print(f'Target Volatility Position Sizing Time: {datetime.now()}')\n",
    "    \n",
    "    ## Derive the Daily Target Portfolio Volatility\n",
    "    daily_target_volatility = annualized_target_volatility / np.sqrt(annual_trading_days)\n",
    "    \n",
    "    ## Calculate the target notional by ticker\n",
    "    df = size_cont.get_target_volatility_position_sizing(df, cov_matrix, date, ticker_list, daily_target_volatility,\n",
    "                                                         total_portfolio_value_upper_limit)\n",
    "    \n",
    "    \n",
    "    # --- 4) Build desired trades with STOP-GATE for new/added longs --------------\n",
    "    ## Get Desired Trades based on Target Notionals and Current Notional Values by Ticker\n",
    "    df, desired_positions = get_desired_trades_from_target_notional(df, date, ticker_list, current_positions, transaction_cost_est, passive_trade_rate, notional_threshold_pct,\n",
    "                                                                    total_portfolio_value, cash_buffer_percentage, min_trade_notional_abs, cooldown_counter_threshold)\n",
    "\n",
    "    return df, desired_positions"
   ]
  },
  {
   "cell_type": "code",
   "execution_count": 44,
   "id": "602a17c3-74c2-4922-b2eb-0fdb36d6aff3",
   "metadata": {},
   "outputs": [
    {
     "name": "stdout",
     "output_type": "stream",
     "text": [
      "/Users/adheerchauhan/Documents/git/trend_following/live_strategy/trend_following_strategy_v0.1.0-live/config/trend_strategy_config_v0.1.0.yaml\n",
      "True\n",
      "Generating Volatility Adjusted Trend Signal!!\n",
      "Covariance Matrix Time: 2025-10-20 20:51:06.124081\n",
      "Start Time: 2025-10-20 20:51:06.133862\n",
      "Get Portfolio Equity and Cash Time: 2025-10-20 20:51:06.345740\n",
      "Get Current Positions Time: 2025-10-20 20:51:06.607051\n",
      "[]\n",
      "[]\n",
      "[(datetime.datetime(2025, 10, 14, 4, 39, 19, 349976, tzinfo=datetime.timezone.utc), 203.12)]\n",
      "[]\n",
      "[]\n",
      "Target Volatility Position Sizing Time: 2025-10-20 20:51:12.367185\n"
     ]
    }
   ],
   "source": [
    "# --- Config & Prep -----------------------------------------------------------\n",
    "## Strategy Parameters\n",
    "cfg = load_prod_strategy_config()\n",
    "date = datetime.now(timezone.utc).date()\n",
    "df_final, desired_trades = get_desired_trades_by_ticker(cfg, date)"
   ]
  },
  {
   "cell_type": "code",
   "execution_count": 46,
   "id": "900f2579-0929-4782-ac9a-41c78917ce95",
   "metadata": {},
   "outputs": [
    {
     "data": {
      "text/plain": [
       "{'BTC-USD': {'new_trade_notional': 0,\n",
       "  'trade_fees': 0,\n",
       "  'reason': 'below_threshold'},\n",
       " 'ETH-USD': {'new_trade_notional': 0,\n",
       "  'trade_fees': 0,\n",
       "  'reason': 'below_threshold'},\n",
       " 'SOL-USD': {'new_trade_notional': 0,\n",
       "  'trade_fees': 0,\n",
       "  'reason': 'below_threshold'},\n",
       " 'ADA-USD': {'new_trade_notional': 0,\n",
       "  'trade_fees': 0,\n",
       "  'reason': 'below_threshold'},\n",
       " 'AVAX-USD': {'new_trade_notional': 0,\n",
       "  'trade_fees': 0,\n",
       "  'reason': 'below_threshold'}}"
      ]
     },
     "execution_count": 46,
     "metadata": {},
     "output_type": "execute_result"
    }
   ],
   "source": [
    "desired_trades"
   ]
  },
  {
   "cell_type": "code",
   "execution_count": 48,
   "id": "95855c15-dc64-43d6-b4a1-89e753ea1b77",
   "metadata": {},
   "outputs": [
    {
     "data": {
      "text/html": [
       "<div>\n",
       "<style scoped>\n",
       "    .dataframe tbody tr th:only-of-type {\n",
       "        vertical-align: middle;\n",
       "    }\n",
       "\n",
       "    .dataframe tbody tr th {\n",
       "        vertical-align: top;\n",
       "    }\n",
       "\n",
       "    .dataframe thead th {\n",
       "        text-align: right;\n",
       "    }\n",
       "</style>\n",
       "<table border=\"1\" class=\"dataframe\">\n",
       "  <thead>\n",
       "    <tr style=\"text-align: right;\">\n",
       "      <th></th>\n",
       "      <th>BTC-USD_stop_loss</th>\n",
       "      <th>ETH-USD_stop_loss</th>\n",
       "      <th>SOL-USD_stop_loss</th>\n",
       "      <th>ADA-USD_stop_loss</th>\n",
       "      <th>AVAX-USD_stop_loss</th>\n",
       "    </tr>\n",
       "    <tr>\n",
       "      <th>date</th>\n",
       "      <th></th>\n",
       "      <th></th>\n",
       "      <th></th>\n",
       "      <th></th>\n",
       "      <th></th>\n",
       "    </tr>\n",
       "  </thead>\n",
       "  <tbody>\n",
       "    <tr>\n",
       "      <th>2025-10-17</th>\n",
       "      <td>0.000000</td>\n",
       "      <td>0.000000</td>\n",
       "      <td>0.000000</td>\n",
       "      <td>0.000000</td>\n",
       "      <td>0.00000</td>\n",
       "    </tr>\n",
       "    <tr>\n",
       "      <th>2025-10-18</th>\n",
       "      <td>0.000000</td>\n",
       "      <td>0.000000</td>\n",
       "      <td>0.000000</td>\n",
       "      <td>0.000000</td>\n",
       "      <td>0.00000</td>\n",
       "    </tr>\n",
       "    <tr>\n",
       "      <th>2025-10-19</th>\n",
       "      <td>0.000000</td>\n",
       "      <td>0.000000</td>\n",
       "      <td>0.000000</td>\n",
       "      <td>0.000000</td>\n",
       "      <td>0.00000</td>\n",
       "    </tr>\n",
       "    <tr>\n",
       "      <th>2025-10-20</th>\n",
       "      <td>0.000000</td>\n",
       "      <td>0.000000</td>\n",
       "      <td>0.000000</td>\n",
       "      <td>0.000000</td>\n",
       "      <td>0.00000</td>\n",
       "    </tr>\n",
       "    <tr>\n",
       "      <th>2025-10-21</th>\n",
       "      <td>119158.847974</td>\n",
       "      <td>4325.411773</td>\n",
       "      <td>227.710503</td>\n",
       "      <td>0.858888</td>\n",
       "      <td>32.51556</td>\n",
       "    </tr>\n",
       "  </tbody>\n",
       "</table>\n",
       "</div>"
      ],
      "text/plain": [
       "            BTC-USD_stop_loss  ETH-USD_stop_loss  SOL-USD_stop_loss  \\\n",
       "date                                                                  \n",
       "2025-10-17           0.000000           0.000000           0.000000   \n",
       "2025-10-18           0.000000           0.000000           0.000000   \n",
       "2025-10-19           0.000000           0.000000           0.000000   \n",
       "2025-10-20           0.000000           0.000000           0.000000   \n",
       "2025-10-21      119158.847974        4325.411773         227.710503   \n",
       "\n",
       "            ADA-USD_stop_loss  AVAX-USD_stop_loss  \n",
       "date                                               \n",
       "2025-10-17           0.000000             0.00000  \n",
       "2025-10-18           0.000000             0.00000  \n",
       "2025-10-19           0.000000             0.00000  \n",
       "2025-10-20           0.000000             0.00000  \n",
       "2025-10-21           0.858888            32.51556  "
      ]
     },
     "execution_count": 48,
     "metadata": {},
     "output_type": "execute_result"
    }
   ],
   "source": [
    "stop_loss_cols = [f'{ticker}_stop_loss' for ticker in cfg['universe']['tickers']]\n",
    "df_final[stop_loss_cols].tail(5)"
   ]
  },
  {
   "cell_type": "code",
   "execution_count": 50,
   "id": "dbcf9cf3-7f7a-478d-9480-1bb7def7eb53",
   "metadata": {},
   "outputs": [
    {
     "data": {
      "text/html": [
       "<div>\n",
       "<style scoped>\n",
       "    .dataframe tbody tr th:only-of-type {\n",
       "        vertical-align: middle;\n",
       "    }\n",
       "\n",
       "    .dataframe tbody tr th {\n",
       "        vertical-align: top;\n",
       "    }\n",
       "\n",
       "    .dataframe thead th {\n",
       "        text-align: right;\n",
       "    }\n",
       "</style>\n",
       "<table border=\"1\" class=\"dataframe\">\n",
       "  <thead>\n",
       "    <tr style=\"text-align: right;\">\n",
       "      <th></th>\n",
       "      <th>BTC-USD_final_weighted_additive_signal</th>\n",
       "      <th>ETH-USD_final_weighted_additive_signal</th>\n",
       "      <th>SOL-USD_final_weighted_additive_signal</th>\n",
       "      <th>ADA-USD_final_weighted_additive_signal</th>\n",
       "      <th>AVAX-USD_final_weighted_additive_signal</th>\n",
       "    </tr>\n",
       "    <tr>\n",
       "      <th>date</th>\n",
       "      <th></th>\n",
       "      <th></th>\n",
       "      <th></th>\n",
       "      <th></th>\n",
       "      <th></th>\n",
       "    </tr>\n",
       "  </thead>\n",
       "  <tbody>\n",
       "    <tr>\n",
       "      <th>2025-10-02</th>\n",
       "      <td>-0.408620</td>\n",
       "      <td>0.099501</td>\n",
       "      <td>0.347249</td>\n",
       "      <td>0.203068</td>\n",
       "      <td>0.414301</td>\n",
       "    </tr>\n",
       "    <tr>\n",
       "      <th>2025-10-03</th>\n",
       "      <td>-0.382659</td>\n",
       "      <td>0.098231</td>\n",
       "      <td>0.357627</td>\n",
       "      <td>0.205616</td>\n",
       "      <td>0.414121</td>\n",
       "    </tr>\n",
       "    <tr>\n",
       "      <th>2025-10-04</th>\n",
       "      <td>-0.347149</td>\n",
       "      <td>0.096228</td>\n",
       "      <td>0.361839</td>\n",
       "      <td>0.204519</td>\n",
       "      <td>0.414189</td>\n",
       "    </tr>\n",
       "    <tr>\n",
       "      <th>2025-10-05</th>\n",
       "      <td>-0.313036</td>\n",
       "      <td>0.091325</td>\n",
       "      <td>0.360497</td>\n",
       "      <td>0.196728</td>\n",
       "      <td>0.405755</td>\n",
       "    </tr>\n",
       "    <tr>\n",
       "      <th>2025-10-06</th>\n",
       "      <td>-0.272171</td>\n",
       "      <td>0.089506</td>\n",
       "      <td>0.359485</td>\n",
       "      <td>0.189390</td>\n",
       "      <td>0.398771</td>\n",
       "    </tr>\n",
       "    <tr>\n",
       "      <th>2025-10-07</th>\n",
       "      <td>-0.229032</td>\n",
       "      <td>0.099142</td>\n",
       "      <td>0.361251</td>\n",
       "      <td>0.192222</td>\n",
       "      <td>0.395669</td>\n",
       "    </tr>\n",
       "    <tr>\n",
       "      <th>2025-10-08</th>\n",
       "      <td>-0.211640</td>\n",
       "      <td>0.088937</td>\n",
       "      <td>0.348227</td>\n",
       "      <td>0.176876</td>\n",
       "      <td>0.379984</td>\n",
       "    </tr>\n",
       "    <tr>\n",
       "      <th>2025-10-09</th>\n",
       "      <td>-0.176049</td>\n",
       "      <td>0.085221</td>\n",
       "      <td>0.347809</td>\n",
       "      <td>0.172438</td>\n",
       "      <td>0.369699</td>\n",
       "    </tr>\n",
       "    <tr>\n",
       "      <th>2025-10-10</th>\n",
       "      <td>-0.156208</td>\n",
       "      <td>0.070662</td>\n",
       "      <td>0.336415</td>\n",
       "      <td>0.156541</td>\n",
       "      <td>0.359274</td>\n",
       "    </tr>\n",
       "    <tr>\n",
       "      <th>2025-10-11</th>\n",
       "      <td>-0.185032</td>\n",
       "      <td>0.026360</td>\n",
       "      <td>0.299806</td>\n",
       "      <td>0.108080</td>\n",
       "      <td>0.313329</td>\n",
       "    </tr>\n",
       "    <tr>\n",
       "      <th>2025-10-12</th>\n",
       "      <td>-0.231239</td>\n",
       "      <td>-0.004362</td>\n",
       "      <td>0.248924</td>\n",
       "      <td>0.056025</td>\n",
       "      <td>0.288567</td>\n",
       "    </tr>\n",
       "    <tr>\n",
       "      <th>2025-10-13</th>\n",
       "      <td>-0.248658</td>\n",
       "      <td>-0.020927</td>\n",
       "      <td>0.223777</td>\n",
       "      <td>0.027702</td>\n",
       "      <td>0.263686</td>\n",
       "    </tr>\n",
       "    <tr>\n",
       "      <th>2025-10-14</th>\n",
       "      <td>-0.263370</td>\n",
       "      <td>-0.033684</td>\n",
       "      <td>0.209568</td>\n",
       "      <td>0.009996</td>\n",
       "      <td>0.241092</td>\n",
       "    </tr>\n",
       "    <tr>\n",
       "      <th>2025-10-15</th>\n",
       "      <td>-0.289159</td>\n",
       "      <td>-0.051218</td>\n",
       "      <td>0.190445</td>\n",
       "      <td>-0.020061</td>\n",
       "      <td>0.213108</td>\n",
       "    </tr>\n",
       "    <tr>\n",
       "      <th>2025-10-16</th>\n",
       "      <td>-0.324933</td>\n",
       "      <td>-0.074739</td>\n",
       "      <td>0.163542</td>\n",
       "      <td>-0.062514</td>\n",
       "      <td>0.179260</td>\n",
       "    </tr>\n",
       "    <tr>\n",
       "      <th>2025-10-17</th>\n",
       "      <td>-0.363478</td>\n",
       "      <td>-0.100620</td>\n",
       "      <td>0.127566</td>\n",
       "      <td>-0.109908</td>\n",
       "      <td>0.137318</td>\n",
       "    </tr>\n",
       "    <tr>\n",
       "      <th>2025-10-18</th>\n",
       "      <td>-0.397663</td>\n",
       "      <td>-0.128070</td>\n",
       "      <td>0.086077</td>\n",
       "      <td>-0.157405</td>\n",
       "      <td>0.087432</td>\n",
       "    </tr>\n",
       "    <tr>\n",
       "      <th>2025-10-19</th>\n",
       "      <td>-0.419261</td>\n",
       "      <td>-0.152908</td>\n",
       "      <td>0.051932</td>\n",
       "      <td>-0.196652</td>\n",
       "      <td>0.040607</td>\n",
       "    </tr>\n",
       "    <tr>\n",
       "      <th>2025-10-20</th>\n",
       "      <td>-0.431626</td>\n",
       "      <td>-0.172721</td>\n",
       "      <td>0.019678</td>\n",
       "      <td>-0.224677</td>\n",
       "      <td>-0.001172</td>\n",
       "    </tr>\n",
       "    <tr>\n",
       "      <th>2025-10-21</th>\n",
       "      <td>-0.433368</td>\n",
       "      <td>-0.188916</td>\n",
       "      <td>-0.008889</td>\n",
       "      <td>-0.243924</td>\n",
       "      <td>-0.042447</td>\n",
       "    </tr>\n",
       "  </tbody>\n",
       "</table>\n",
       "</div>"
      ],
      "text/plain": [
       "            BTC-USD_final_weighted_additive_signal  \\\n",
       "date                                                 \n",
       "2025-10-02                               -0.408620   \n",
       "2025-10-03                               -0.382659   \n",
       "2025-10-04                               -0.347149   \n",
       "2025-10-05                               -0.313036   \n",
       "2025-10-06                               -0.272171   \n",
       "2025-10-07                               -0.229032   \n",
       "2025-10-08                               -0.211640   \n",
       "2025-10-09                               -0.176049   \n",
       "2025-10-10                               -0.156208   \n",
       "2025-10-11                               -0.185032   \n",
       "2025-10-12                               -0.231239   \n",
       "2025-10-13                               -0.248658   \n",
       "2025-10-14                               -0.263370   \n",
       "2025-10-15                               -0.289159   \n",
       "2025-10-16                               -0.324933   \n",
       "2025-10-17                               -0.363478   \n",
       "2025-10-18                               -0.397663   \n",
       "2025-10-19                               -0.419261   \n",
       "2025-10-20                               -0.431626   \n",
       "2025-10-21                               -0.433368   \n",
       "\n",
       "            ETH-USD_final_weighted_additive_signal  \\\n",
       "date                                                 \n",
       "2025-10-02                                0.099501   \n",
       "2025-10-03                                0.098231   \n",
       "2025-10-04                                0.096228   \n",
       "2025-10-05                                0.091325   \n",
       "2025-10-06                                0.089506   \n",
       "2025-10-07                                0.099142   \n",
       "2025-10-08                                0.088937   \n",
       "2025-10-09                                0.085221   \n",
       "2025-10-10                                0.070662   \n",
       "2025-10-11                                0.026360   \n",
       "2025-10-12                               -0.004362   \n",
       "2025-10-13                               -0.020927   \n",
       "2025-10-14                               -0.033684   \n",
       "2025-10-15                               -0.051218   \n",
       "2025-10-16                               -0.074739   \n",
       "2025-10-17                               -0.100620   \n",
       "2025-10-18                               -0.128070   \n",
       "2025-10-19                               -0.152908   \n",
       "2025-10-20                               -0.172721   \n",
       "2025-10-21                               -0.188916   \n",
       "\n",
       "            SOL-USD_final_weighted_additive_signal  \\\n",
       "date                                                 \n",
       "2025-10-02                                0.347249   \n",
       "2025-10-03                                0.357627   \n",
       "2025-10-04                                0.361839   \n",
       "2025-10-05                                0.360497   \n",
       "2025-10-06                                0.359485   \n",
       "2025-10-07                                0.361251   \n",
       "2025-10-08                                0.348227   \n",
       "2025-10-09                                0.347809   \n",
       "2025-10-10                                0.336415   \n",
       "2025-10-11                                0.299806   \n",
       "2025-10-12                                0.248924   \n",
       "2025-10-13                                0.223777   \n",
       "2025-10-14                                0.209568   \n",
       "2025-10-15                                0.190445   \n",
       "2025-10-16                                0.163542   \n",
       "2025-10-17                                0.127566   \n",
       "2025-10-18                                0.086077   \n",
       "2025-10-19                                0.051932   \n",
       "2025-10-20                                0.019678   \n",
       "2025-10-21                               -0.008889   \n",
       "\n",
       "            ADA-USD_final_weighted_additive_signal  \\\n",
       "date                                                 \n",
       "2025-10-02                                0.203068   \n",
       "2025-10-03                                0.205616   \n",
       "2025-10-04                                0.204519   \n",
       "2025-10-05                                0.196728   \n",
       "2025-10-06                                0.189390   \n",
       "2025-10-07                                0.192222   \n",
       "2025-10-08                                0.176876   \n",
       "2025-10-09                                0.172438   \n",
       "2025-10-10                                0.156541   \n",
       "2025-10-11                                0.108080   \n",
       "2025-10-12                                0.056025   \n",
       "2025-10-13                                0.027702   \n",
       "2025-10-14                                0.009996   \n",
       "2025-10-15                               -0.020061   \n",
       "2025-10-16                               -0.062514   \n",
       "2025-10-17                               -0.109908   \n",
       "2025-10-18                               -0.157405   \n",
       "2025-10-19                               -0.196652   \n",
       "2025-10-20                               -0.224677   \n",
       "2025-10-21                               -0.243924   \n",
       "\n",
       "            AVAX-USD_final_weighted_additive_signal  \n",
       "date                                                 \n",
       "2025-10-02                                 0.414301  \n",
       "2025-10-03                                 0.414121  \n",
       "2025-10-04                                 0.414189  \n",
       "2025-10-05                                 0.405755  \n",
       "2025-10-06                                 0.398771  \n",
       "2025-10-07                                 0.395669  \n",
       "2025-10-08                                 0.379984  \n",
       "2025-10-09                                 0.369699  \n",
       "2025-10-10                                 0.359274  \n",
       "2025-10-11                                 0.313329  \n",
       "2025-10-12                                 0.288567  \n",
       "2025-10-13                                 0.263686  \n",
       "2025-10-14                                 0.241092  \n",
       "2025-10-15                                 0.213108  \n",
       "2025-10-16                                 0.179260  \n",
       "2025-10-17                                 0.137318  \n",
       "2025-10-18                                 0.087432  \n",
       "2025-10-19                                 0.040607  \n",
       "2025-10-20                                -0.001172  \n",
       "2025-10-21                                -0.042447  "
      ]
     },
     "execution_count": 50,
     "metadata": {},
     "output_type": "execute_result"
    }
   ],
   "source": [
    "raw_signal_cols = [f'{ticker}_final_weighted_additive_signal' for ticker in cfg['universe']['tickers']]\n",
    "df_final[raw_signal_cols].tail(20)"
   ]
  },
  {
   "cell_type": "code",
   "execution_count": 52,
   "id": "1187a5d8-b661-46e7-a779-06d9cafea010",
   "metadata": {},
   "outputs": [
    {
     "data": {
      "text/html": [
       "<div>\n",
       "<style scoped>\n",
       "    .dataframe tbody tr th:only-of-type {\n",
       "        vertical-align: middle;\n",
       "    }\n",
       "\n",
       "    .dataframe tbody tr th {\n",
       "        vertical-align: top;\n",
       "    }\n",
       "\n",
       "    .dataframe thead th {\n",
       "        text-align: right;\n",
       "    }\n",
       "</style>\n",
       "<table border=\"1\" class=\"dataframe\">\n",
       "  <thead>\n",
       "    <tr style=\"text-align: right;\">\n",
       "      <th></th>\n",
       "      <th>BTC-USD_final_signal</th>\n",
       "      <th>ETH-USD_final_signal</th>\n",
       "      <th>SOL-USD_final_signal</th>\n",
       "      <th>ADA-USD_final_signal</th>\n",
       "      <th>AVAX-USD_final_signal</th>\n",
       "    </tr>\n",
       "    <tr>\n",
       "      <th>date</th>\n",
       "      <th></th>\n",
       "      <th></th>\n",
       "      <th></th>\n",
       "      <th></th>\n",
       "      <th></th>\n",
       "    </tr>\n",
       "  </thead>\n",
       "  <tbody>\n",
       "    <tr>\n",
       "      <th>2025-10-02</th>\n",
       "      <td>0.0</td>\n",
       "      <td>0.057808</td>\n",
       "      <td>0.271864</td>\n",
       "      <td>3.695842e-02</td>\n",
       "      <td>0.297098</td>\n",
       "    </tr>\n",
       "    <tr>\n",
       "      <th>2025-10-03</th>\n",
       "      <td>0.0</td>\n",
       "      <td>0.054312</td>\n",
       "      <td>0.277048</td>\n",
       "      <td>2.990531e-02</td>\n",
       "      <td>0.295494</td>\n",
       "    </tr>\n",
       "    <tr>\n",
       "      <th>2025-10-04</th>\n",
       "      <td>0.0</td>\n",
       "      <td>0.050739</td>\n",
       "      <td>0.278111</td>\n",
       "      <td>2.245223e-02</td>\n",
       "      <td>0.293980</td>\n",
       "    </tr>\n",
       "    <tr>\n",
       "      <th>2025-10-05</th>\n",
       "      <td>0.0</td>\n",
       "      <td>0.045856</td>\n",
       "      <td>0.274736</td>\n",
       "      <td>1.362939e-02</td>\n",
       "      <td>0.285295</td>\n",
       "    </tr>\n",
       "    <tr>\n",
       "      <th>2025-10-06</th>\n",
       "      <td>0.0</td>\n",
       "      <td>0.042743</td>\n",
       "      <td>0.271484</td>\n",
       "      <td>6.560519e-03</td>\n",
       "      <td>0.229204</td>\n",
       "    </tr>\n",
       "    <tr>\n",
       "      <th>2025-10-07</th>\n",
       "      <td>0.0</td>\n",
       "      <td>0.045263</td>\n",
       "      <td>0.227726</td>\n",
       "      <td>3.329300e-03</td>\n",
       "      <td>0.144613</td>\n",
       "    </tr>\n",
       "    <tr>\n",
       "      <th>2025-10-08</th>\n",
       "      <td>0.0</td>\n",
       "      <td>0.038395</td>\n",
       "      <td>0.257636</td>\n",
       "      <td>1.531755e-03</td>\n",
       "      <td>0.187916</td>\n",
       "    </tr>\n",
       "    <tr>\n",
       "      <th>2025-10-09</th>\n",
       "      <td>0.0</td>\n",
       "      <td>0.034673</td>\n",
       "      <td>0.254589</td>\n",
       "      <td>7.466608e-04</td>\n",
       "      <td>0.180530</td>\n",
       "    </tr>\n",
       "    <tr>\n",
       "      <th>2025-10-10</th>\n",
       "      <td>0.0</td>\n",
       "      <td>0.026811</td>\n",
       "      <td>0.242056</td>\n",
       "      <td>3.389124e-04</td>\n",
       "      <td>0.176233</td>\n",
       "    </tr>\n",
       "    <tr>\n",
       "      <th>2025-10-11</th>\n",
       "      <td>0.0</td>\n",
       "      <td>0.007639</td>\n",
       "      <td>0.165642</td>\n",
       "      <td>1.169973e-05</td>\n",
       "      <td>0.016838</td>\n",
       "    </tr>\n",
       "    <tr>\n",
       "      <th>2025-10-12</th>\n",
       "      <td>0.0</td>\n",
       "      <td>0.000000</td>\n",
       "      <td>0.106279</td>\n",
       "      <td>3.032395e-06</td>\n",
       "      <td>0.012148</td>\n",
       "    </tr>\n",
       "    <tr>\n",
       "      <th>2025-10-13</th>\n",
       "      <td>0.0</td>\n",
       "      <td>0.000000</td>\n",
       "      <td>0.011703</td>\n",
       "      <td>7.496958e-07</td>\n",
       "      <td>0.008059</td>\n",
       "    </tr>\n",
       "    <tr>\n",
       "      <th>2025-10-14</th>\n",
       "      <td>0.0</td>\n",
       "      <td>0.000000</td>\n",
       "      <td>0.009822</td>\n",
       "      <td>1.352595e-07</td>\n",
       "      <td>0.004899</td>\n",
       "    </tr>\n",
       "    <tr>\n",
       "      <th>2025-10-15</th>\n",
       "      <td>0.0</td>\n",
       "      <td>0.000000</td>\n",
       "      <td>0.007924</td>\n",
       "      <td>0.000000e+00</td>\n",
       "      <td>0.002165</td>\n",
       "    </tr>\n",
       "    <tr>\n",
       "      <th>2025-10-16</th>\n",
       "      <td>0.0</td>\n",
       "      <td>0.000000</td>\n",
       "      <td>0.005779</td>\n",
       "      <td>0.000000e+00</td>\n",
       "      <td>0.000911</td>\n",
       "    </tr>\n",
       "    <tr>\n",
       "      <th>2025-10-17</th>\n",
       "      <td>0.0</td>\n",
       "      <td>0.000000</td>\n",
       "      <td>0.003472</td>\n",
       "      <td>0.000000e+00</td>\n",
       "      <td>0.000349</td>\n",
       "    </tr>\n",
       "    <tr>\n",
       "      <th>2025-10-18</th>\n",
       "      <td>0.0</td>\n",
       "      <td>0.000000</td>\n",
       "      <td>0.001536</td>\n",
       "      <td>0.000000e+00</td>\n",
       "      <td>0.000111</td>\n",
       "    </tr>\n",
       "    <tr>\n",
       "      <th>2025-10-19</th>\n",
       "      <td>0.0</td>\n",
       "      <td>0.000000</td>\n",
       "      <td>0.000470</td>\n",
       "      <td>0.000000e+00</td>\n",
       "      <td>0.000026</td>\n",
       "    </tr>\n",
       "    <tr>\n",
       "      <th>2025-10-20</th>\n",
       "      <td>0.0</td>\n",
       "      <td>0.000000</td>\n",
       "      <td>0.000089</td>\n",
       "      <td>0.000000e+00</td>\n",
       "      <td>0.000000</td>\n",
       "    </tr>\n",
       "    <tr>\n",
       "      <th>2025-10-21</th>\n",
       "      <td>0.0</td>\n",
       "      <td>0.000000</td>\n",
       "      <td>0.000000</td>\n",
       "      <td>0.000000e+00</td>\n",
       "      <td>0.000000</td>\n",
       "    </tr>\n",
       "  </tbody>\n",
       "</table>\n",
       "</div>"
      ],
      "text/plain": [
       "            BTC-USD_final_signal  ETH-USD_final_signal  SOL-USD_final_signal  \\\n",
       "date                                                                           \n",
       "2025-10-02                   0.0              0.057808              0.271864   \n",
       "2025-10-03                   0.0              0.054312              0.277048   \n",
       "2025-10-04                   0.0              0.050739              0.278111   \n",
       "2025-10-05                   0.0              0.045856              0.274736   \n",
       "2025-10-06                   0.0              0.042743              0.271484   \n",
       "2025-10-07                   0.0              0.045263              0.227726   \n",
       "2025-10-08                   0.0              0.038395              0.257636   \n",
       "2025-10-09                   0.0              0.034673              0.254589   \n",
       "2025-10-10                   0.0              0.026811              0.242056   \n",
       "2025-10-11                   0.0              0.007639              0.165642   \n",
       "2025-10-12                   0.0              0.000000              0.106279   \n",
       "2025-10-13                   0.0              0.000000              0.011703   \n",
       "2025-10-14                   0.0              0.000000              0.009822   \n",
       "2025-10-15                   0.0              0.000000              0.007924   \n",
       "2025-10-16                   0.0              0.000000              0.005779   \n",
       "2025-10-17                   0.0              0.000000              0.003472   \n",
       "2025-10-18                   0.0              0.000000              0.001536   \n",
       "2025-10-19                   0.0              0.000000              0.000470   \n",
       "2025-10-20                   0.0              0.000000              0.000089   \n",
       "2025-10-21                   0.0              0.000000              0.000000   \n",
       "\n",
       "            ADA-USD_final_signal  AVAX-USD_final_signal  \n",
       "date                                                     \n",
       "2025-10-02          3.695842e-02               0.297098  \n",
       "2025-10-03          2.990531e-02               0.295494  \n",
       "2025-10-04          2.245223e-02               0.293980  \n",
       "2025-10-05          1.362939e-02               0.285295  \n",
       "2025-10-06          6.560519e-03               0.229204  \n",
       "2025-10-07          3.329300e-03               0.144613  \n",
       "2025-10-08          1.531755e-03               0.187916  \n",
       "2025-10-09          7.466608e-04               0.180530  \n",
       "2025-10-10          3.389124e-04               0.176233  \n",
       "2025-10-11          1.169973e-05               0.016838  \n",
       "2025-10-12          3.032395e-06               0.012148  \n",
       "2025-10-13          7.496958e-07               0.008059  \n",
       "2025-10-14          1.352595e-07               0.004899  \n",
       "2025-10-15          0.000000e+00               0.002165  \n",
       "2025-10-16          0.000000e+00               0.000911  \n",
       "2025-10-17          0.000000e+00               0.000349  \n",
       "2025-10-18          0.000000e+00               0.000111  \n",
       "2025-10-19          0.000000e+00               0.000026  \n",
       "2025-10-20          0.000000e+00               0.000000  \n",
       "2025-10-21          0.000000e+00               0.000000  "
      ]
     },
     "execution_count": 52,
     "metadata": {},
     "output_type": "execute_result"
    }
   ],
   "source": [
    "signal_cols = [f'{ticker}_final_signal' for ticker in cfg['universe']['tickers']]\n",
    "df_final[signal_cols].tail(20)"
   ]
  },
  {
   "cell_type": "code",
   "execution_count": 54,
   "id": "b3370faf-458f-442d-b7b2-1303dc0897fb",
   "metadata": {},
   "outputs": [
    {
     "data": {
      "text/plain": [
       "<Axes: xlabel='date'>"
      ]
     },
     "execution_count": 54,
     "metadata": {},
     "output_type": "execute_result"
    },
    {
     "data": {
      "image/png": "[encoded data removed]",
      "text/plain": [
       "<Figure size 1200x1000 with 1 Axes>"
      ]
     },
     "metadata": {},
     "output_type": "display_data"
    }
   ],
   "source": [
    "df_final[signal_cols].plot(figsize=(12,10))"
   ]
  },
  {
   "cell_type": "code",
   "execution_count": 79,
   "id": "3b771cd8-6c76-4ac7-bc30-85404a046880",
   "metadata": {},
   "outputs": [
    {
     "data": {
      "text/plain": [
       "datetime.date(2025, 10, 19)"
      ]
     },
     "execution_count": 79,
     "metadata": {},
     "output_type": "execute_result"
    }
   ],
   "source": [
    "datetime.now(timezone.utc).date()"
   ]
  },
  {
   "cell_type": "code",
   "execution_count": 99,
   "id": "bd02f0db-0835-47e2-82b0-0681ba974842",
   "metadata": {},
   "outputs": [
    {
     "data": {
      "text/plain": [
       "Timestamp('2025-10-15 00:00:00+0000', tz='UTC')"
      ]
     },
     "execution_count": 99,
     "metadata": {},
     "output_type": "execute_result"
    }
   ],
   "source": [
    "pd.Timestamp('2025-10-15', tz='UTC').normalize()#.isoformat().replace('+00:00', 'Z')#.date()"
   ]
  },
  {
   "cell_type": "code",
   "execution_count": null,
   "id": "2c024ba1-3708-4287-a480-44c4b562f734",
   "metadata": {},
   "outputs": [],
   "source": [
    "now = utc_now()\n",
    "today = now.date()"
   ]
  },
  {
   "cell_type": "code",
   "execution_count": 111,
   "id": "79bae6bf-42c4-4177-98a4-9954b60916db",
   "metadata": {},
   "outputs": [],
   "source": [
    "granularity = 'ONE_DAY'  # daily enum expected by SDK\n",
    "\n",
    "client = cn.get_coinbase_rest_api_client(portfolio_name='Trend Following')\n",
    "\n",
    "# Inclusive start-of-day on the 15th; end is exclusive => add one day to include the 17th\n",
    "start_dt = pd.Timestamp('2025-10-15', tz='UTC').normalize()\n",
    "end_dt   = pd.Timestamp('2025-10-18', tz='UTC').normalize()  # exclusive\n",
    "\n",
    "start_unix = int(start_dt.timestamp())  # e.g., 1739558400\n",
    "end_unix   = int(end_dt.timestamp())    # e.g., 1739817600\n",
    "\n",
    "candle_list = client.get_candles(\n",
    "    product_id='BTC-USD',\n",
    "    start=str(start_unix),   # pass as str or int; both work\n",
    "    end=str(end_unix),\n",
    "    granularity=granularity,\n",
    ").candles\n",
    "\n",
    "# Process candle data\n",
    "candle_data = []\n",
    "for candles in candle_list:\n",
    "    candle_info = {\n",
    "        'date': candles['start'],\n",
    "        'low': float(candles['low']),\n",
    "        'high': float(candles['high']),\n",
    "        'open': float(candles['open']),\n",
    "        'close': float(candles['close']),\n",
    "        'volume': float(candles['volume'])\n",
    "    }\n",
    "    candle_data.append(candle_info)\n",
    "\n",
    "# Convert to DataFrame\n",
    "df_candles = pd.DataFrame(candle_data).sort_values('date')\n",
    "# df_candles['date'] = pd.to_datetime(df_candles['date'], unit='s').dt.date\n",
    "# df_candles = df_candles.set_index('date')"
   ]
  },
  {
   "cell_type": "code",
   "execution_count": 115,
   "id": "a97e34d8-a603-493a-aa62-5d99e55c361b",
   "metadata": {},
   "outputs": [],
   "source": [
    "df_candles['date'] = (\n",
    "    pd.to_datetime(pd.to_numeric(df_candles['date'], errors='coerce'), unit='s', utc=True)\n",
    "      .dt.tz_convert(None)   # optional: drop tz\n",
    "      .dt.date               # if you truly want Python date objects\n",
    ")"
   ]
  },
  {
   "cell_type": "code",
   "execution_count": 117,
   "id": "e96302bd-1547-491b-b145-01e10918527d",
   "metadata": {},
   "outputs": [
    {
     "data": {
      "text/html": [
       "<div>\n",
       "<style scoped>\n",
       "    .dataframe tbody tr th:only-of-type {\n",
       "        vertical-align: middle;\n",
       "    }\n",
       "\n",
       "    .dataframe tbody tr th {\n",
       "        vertical-align: top;\n",
       "    }\n",
       "\n",
       "    .dataframe thead th {\n",
       "        text-align: right;\n",
       "    }\n",
       "</style>\n",
       "<table border=\"1\" class=\"dataframe\">\n",
       "  <thead>\n",
       "    <tr style=\"text-align: right;\">\n",
       "      <th></th>\n",
       "      <th>date</th>\n",
       "      <th>low</th>\n",
       "      <th>high</th>\n",
       "      <th>open</th>\n",
       "      <th>close</th>\n",
       "      <th>volume</th>\n",
       "    </tr>\n",
       "  </thead>\n",
       "  <tbody>\n",
       "    <tr>\n",
       "      <th>3</th>\n",
       "      <td>2025-10-15</td>\n",
       "      <td>110185.87</td>\n",
       "      <td>113671.99</td>\n",
       "      <td>113072.18</td>\n",
       "      <td>110804.12</td>\n",
       "      <td>7440.037825</td>\n",
       "    </tr>\n",
       "    <tr>\n",
       "      <th>2</th>\n",
       "      <td>2025-10-16</td>\n",
       "      <td>107464.53</td>\n",
       "      <td>112021.07</td>\n",
       "      <td>110804.11</td>\n",
       "      <td>108198.00</td>\n",
       "      <td>14792.787545</td>\n",
       "    </tr>\n",
       "    <tr>\n",
       "      <th>1</th>\n",
       "      <td>2025-10-17</td>\n",
       "      <td>103516.75</td>\n",
       "      <td>109269.97</td>\n",
       "      <td>108197.99</td>\n",
       "      <td>106463.30</td>\n",
       "      <td>13824.344635</td>\n",
       "    </tr>\n",
       "    <tr>\n",
       "      <th>0</th>\n",
       "      <td>2025-10-18</td>\n",
       "      <td>106357.69</td>\n",
       "      <td>107535.68</td>\n",
       "      <td>106462.09</td>\n",
       "      <td>107208.91</td>\n",
       "      <td>3552.609595</td>\n",
       "    </tr>\n",
       "  </tbody>\n",
       "</table>\n",
       "</div>"
      ],
      "text/plain": [
       "         date        low       high       open      close        volume\n",
       "3  2025-10-15  110185.87  113671.99  113072.18  110804.12   7440.037825\n",
       "2  2025-10-16  107464.53  112021.07  110804.11  108198.00  14792.787545\n",
       "1  2025-10-17  103516.75  109269.97  108197.99  106463.30  13824.344635\n",
       "0  2025-10-18  106357.69  107535.68  106462.09  107208.91   3552.609595"
      ]
     },
     "execution_count": 117,
     "metadata": {},
     "output_type": "execute_result"
    }
   ],
   "source": [
    "df_candles"
   ]
  },
  {
   "cell_type": "code",
   "execution_count": 119,
   "id": "65882560-5721-40fe-a56a-881ff28b9e54",
   "metadata": {},
   "outputs": [
    {
     "data": {
      "text/plain": [
       "datetime.date(2025, 10, 15)"
      ]
     },
     "execution_count": 119,
     "metadata": {},
     "output_type": "execute_result"
    }
   ],
   "source": [
    "df_candles.date.iloc[0]"
   ]
  },
  {
   "cell_type": "code",
   "execution_count": 125,
   "id": "5a9ed8de-83f4-4fe3-a7b3-0da5f19d9872",
   "metadata": {},
   "outputs": [],
   "source": [
    "df_atr = calculate_average_true_range_live(date=date, ticker='BTC-USD', rolling_atr_window=20)"
   ]
  },
  {
   "cell_type": "code",
   "execution_count": 137,
   "id": "e6215c5d-12c9-497e-b58b-22319bb81ccd",
   "metadata": {},
   "outputs": [
    {
     "data": {
      "text/html": [
       "<div>\n",
       "<style scoped>\n",
       "    .dataframe tbody tr th:only-of-type {\n",
       "        vertical-align: middle;\n",
       "    }\n",
       "\n",
       "    .dataframe tbody tr th {\n",
       "        vertical-align: top;\n",
       "    }\n",
       "\n",
       "    .dataframe thead th {\n",
       "        text-align: right;\n",
       "    }\n",
       "</style>\n",
       "<table border=\"1\" class=\"dataframe\">\n",
       "  <thead>\n",
       "    <tr style=\"text-align: right;\">\n",
       "      <th></th>\n",
       "      <th>BTC-USD_low</th>\n",
       "      <th>BTC-USD_high</th>\n",
       "      <th>BTC-USD_open</th>\n",
       "      <th>BTC-USD_close</th>\n",
       "      <th>BTC-USD_volume</th>\n",
       "      <th>BTC-USD_t_1_close</th>\n",
       "      <th>BTC-USD_high-low</th>\n",
       "      <th>BTC-USD_high-close</th>\n",
       "      <th>BTC-USD_low-close</th>\n",
       "      <th>BTC-USD_true_range_price</th>\n",
       "      <th>BTC-USD_20_avg_true_range_price</th>\n",
       "    </tr>\n",
       "    <tr>\n",
       "      <th>date</th>\n",
       "      <th></th>\n",
       "      <th></th>\n",
       "      <th></th>\n",
       "      <th></th>\n",
       "      <th></th>\n",
       "      <th></th>\n",
       "      <th></th>\n",
       "      <th></th>\n",
       "      <th></th>\n",
       "      <th></th>\n",
       "      <th></th>\n",
       "    </tr>\n",
       "  </thead>\n",
       "  <tbody>\n",
       "    <tr>\n",
       "      <th>2025-10-15</th>\n",
       "      <td>110185.87</td>\n",
       "      <td>113671.99</td>\n",
       "      <td>113072.18</td>\n",
       "      <td>110804.12</td>\n",
       "      <td>7440.037825</td>\n",
       "      <td>113068.00</td>\n",
       "      <td>3486.12</td>\n",
       "      <td>603.99</td>\n",
       "      <td>2882.13</td>\n",
       "      <td>3486.12</td>\n",
       "      <td>4349.027971</td>\n",
       "    </tr>\n",
       "    <tr>\n",
       "      <th>2025-10-16</th>\n",
       "      <td>107464.53</td>\n",
       "      <td>112021.07</td>\n",
       "      <td>110804.11</td>\n",
       "      <td>108198.00</td>\n",
       "      <td>14792.787545</td>\n",
       "      <td>110804.12</td>\n",
       "      <td>4556.54</td>\n",
       "      <td>1216.95</td>\n",
       "      <td>3339.59</td>\n",
       "      <td>4556.54</td>\n",
       "      <td>4266.846259</td>\n",
       "    </tr>\n",
       "    <tr>\n",
       "      <th>2025-10-17</th>\n",
       "      <td>103516.75</td>\n",
       "      <td>109269.97</td>\n",
       "      <td>108197.99</td>\n",
       "      <td>106463.30</td>\n",
       "      <td>13824.344635</td>\n",
       "      <td>108198.00</td>\n",
       "      <td>5753.22</td>\n",
       "      <td>1071.97</td>\n",
       "      <td>4681.25</td>\n",
       "      <td>5753.22</td>\n",
       "      <td>4294.436139</td>\n",
       "    </tr>\n",
       "    <tr>\n",
       "      <th>2025-10-18</th>\n",
       "      <td>106357.69</td>\n",
       "      <td>107535.68</td>\n",
       "      <td>106462.09</td>\n",
       "      <td>107208.91</td>\n",
       "      <td>3552.609595</td>\n",
       "      <td>106463.30</td>\n",
       "      <td>1177.99</td>\n",
       "      <td>1072.38</td>\n",
       "      <td>105.61</td>\n",
       "      <td>1177.99</td>\n",
       "      <td>4433.367936</td>\n",
       "    </tr>\n",
       "    <tr>\n",
       "      <th>2025-10-19</th>\n",
       "      <td>106091.25</td>\n",
       "      <td>109499.00</td>\n",
       "      <td>107208.91</td>\n",
       "      <td>108864.93</td>\n",
       "      <td>4756.816338</td>\n",
       "      <td>107208.91</td>\n",
       "      <td>3407.75</td>\n",
       "      <td>2290.09</td>\n",
       "      <td>1117.66</td>\n",
       "      <td>3407.75</td>\n",
       "      <td>4123.331942</td>\n",
       "    </tr>\n",
       "  </tbody>\n",
       "</table>\n",
       "</div>"
      ],
      "text/plain": [
       "            BTC-USD_low  BTC-USD_high  BTC-USD_open  BTC-USD_close  \\\n",
       "date                                                                 \n",
       "2025-10-15    110185.87     113671.99     113072.18      110804.12   \n",
       "2025-10-16    107464.53     112021.07     110804.11      108198.00   \n",
       "2025-10-17    103516.75     109269.97     108197.99      106463.30   \n",
       "2025-10-18    106357.69     107535.68     106462.09      107208.91   \n",
       "2025-10-19    106091.25     109499.00     107208.91      108864.93   \n",
       "\n",
       "            BTC-USD_volume  BTC-USD_t_1_close  BTC-USD_high-low  \\\n",
       "date                                                              \n",
       "2025-10-15     7440.037825          113068.00           3486.12   \n",
       "2025-10-16    14792.787545          110804.12           4556.54   \n",
       "2025-10-17    13824.344635          108198.00           5753.22   \n",
       "2025-10-18     3552.609595          106463.30           1177.99   \n",
       "2025-10-19     4756.816338          107208.91           3407.75   \n",
       "\n",
       "            BTC-USD_high-close  BTC-USD_low-close  BTC-USD_true_range_price  \\\n",
       "date                                                                          \n",
       "2025-10-15              603.99            2882.13                   3486.12   \n",
       "2025-10-16             1216.95            3339.59                   4556.54   \n",
       "2025-10-17             1071.97            4681.25                   5753.22   \n",
       "2025-10-18             1072.38             105.61                   1177.99   \n",
       "2025-10-19             2290.09            1117.66                   3407.75   \n",
       "\n",
       "            BTC-USD_20_avg_true_range_price  \n",
       "date                                         \n",
       "2025-10-15                      4349.027971  \n",
       "2025-10-16                      4266.846259  \n",
       "2025-10-17                      4294.436139  \n",
       "2025-10-18                      4433.367936  \n",
       "2025-10-19                      4123.331942  "
      ]
     },
     "execution_count": 137,
     "metadata": {},
     "output_type": "execute_result"
    }
   ],
   "source": [
    "df_atr.tail()"
   ]
  },
  {
   "cell_type": "code",
   "execution_count": 139,
   "id": "65158da1-e770-4b9e-836c-40ee31517504",
   "metadata": {},
   "outputs": [],
   "source": [
    "atr = df_atr.loc[date, f'{'BTC-USD'}_{20}_avg_true_range_price']"
   ]
  },
  {
   "cell_type": "code",
   "execution_count": 131,
   "id": "57b59950-a8c8-44a2-ac52-b425be977843",
   "metadata": {},
   "outputs": [],
   "source": [
    "atr = df_atr[f'{'BTC-USD'}_{20}_avg_true_range_price'].loc[date]"
   ]
  },
  {
   "cell_type": "code",
   "execution_count": 141,
   "id": "68bb13da-c216-4208-8187-25b66fcac253",
   "metadata": {},
   "outputs": [
    {
     "data": {
      "text/plain": [
       "4123.331941793534"
      ]
     },
     "execution_count": 141,
     "metadata": {},
     "output_type": "execute_result"
    }
   ],
   "source": [
    "atr"
   ]
  },
  {
   "cell_type": "markdown",
   "id": "1046897a-ef52-4394-a676-6a0ffa5ea7c0",
   "metadata": {},
   "source": [
    "## Generate Rebalance Orders"
   ]
  },
  {
   "cell_type": "code",
   "execution_count": null,
   "id": "ce7e1d9c-1ff9-46c9-b400-cb6dc8a2927c",
   "metadata": {},
   "outputs": [],
   "source": [
    "def build_rebalance_orders(desired_positions, date, current_positions, client, order_type, limit_price_buffer=0.0):\n",
    "    \"\"\"\n",
    "    Build market orders for new trades. You may switch to limit orders.\n",
    "    Returns a list of dicts: {product_id, side, type, size, client_order_id}\n",
    "    \"\"\"\n",
    "    orders = []\n",
    "    today_str = date.strftime(\"%Y%m%d\")\n",
    "    \n",
    "    for ticker, d in desired_positions.items():\n",
    "        raw_notional = float(d.get(\"new_trade_notional\", 0.0))\n",
    "        if abs(raw_notional) < 1e-9:\n",
    "            continue\n",
    "\n",
    "        side = 'buy' if raw_notional > 0 else 'sell'\n",
    "        mid_px = current_positions[ticker]['ticker_mid_price']#price_lookup(t)\n",
    "        if not (np.isfinite(mid_px) and mid_px > 0):\n",
    "            continue\n",
    "\n",
    "        prod_specs = cn.get_product_meta(client, ticker)\n",
    "        base_inc  = prod_specs[\"base_increment\"]\n",
    "        base_min  = prod_specs[\"base_min_size\"]\n",
    "        quote_min = prod_specs[\"quote_min_size\"]    # min notional in quote currency\n",
    "        price_inc = prod_specs[\"price_increment\"]\n",
    "        \n",
    "        # Size in BASE currency: |notional| / price\n",
    "        raw_size = abs(raw_notional) / mid_px\n",
    "\n",
    "        # Quantize size to base_increment\n",
    "        q_size = cn.round_down(raw_size, base_inc)\n",
    "\n",
    "        # Enforce base_min_size\n",
    "        if q_size < base_min:\n",
    "            # Try rounding up once (only for buys), else skip as dust\n",
    "            if side == \"buy\":\n",
    "                q_size_up = cn.round_up(raw_size, base_inc)\n",
    "                if q_size_up >= base_min:\n",
    "                    q_size = q_size_up\n",
    "                else:\n",
    "                    # still dust, skip\n",
    "                    continue\n",
    "            else:\n",
    "                # sell smaller than min size => skip (or you may aggregate to a later day)\n",
    "                continue\n",
    "\n",
    "        # Enforce quote_min_size (notional)\n",
    "        q_notional = q_size * mid_px\n",
    "        if quote_min and q_notional < quote_min:\n",
    "            # For buys, see if one more increment clears the bar\n",
    "            if side == \"buy\":\n",
    "                q_size_up = cn.round_up((quote_min / mid_px), base_inc)\n",
    "                if q_size_up * mid_px >= quote_min:\n",
    "                    q_size = q_size_up\n",
    "                    q_notional = q_size * mid_px\n",
    "                else:\n",
    "                    continue\n",
    "            else:\n",
    "                # for sells, if position leftover < min you might need to fully close later; skip now\n",
    "                continue\n",
    "\n",
    "        # Prepare order dict\n",
    "        cl_order_id = f\"{ticker}-{today_str}-rebalance-{uuid.uuid4().hex[:8]}\"\n",
    "\n",
    "        order = {\n",
    "            \"product_id\": ticker,\n",
    "            \"side\": side,\n",
    "            \"type\": order_type,  # \"market\" (default) or \"limit\"\n",
    "            \"size\": float(q_size),  # BASE units\n",
    "            \"client_order_id\": cl_order_id,\n",
    "        }\n",
    "\n",
    "        if order_type == \"limit\":\n",
    "            # simple passive limit example: improve for real routing\n",
    "            if side == \"buy\":\n",
    "                # pay up to mid*(1 + buffer)\n",
    "                px = mid_px * (1 + abs(limit_price_buffer))\n",
    "            else:\n",
    "                # sell no worse than mid * (1 - buffer)\n",
    "                px = mid_px * (1 - abs(limit_price_buffer))\n",
    "            if price_inc:\n",
    "                px = cn.round_to_increment(px, price_inc)\n",
    "            order[\"limit_price\"] = float(px)\n",
    "            order[\"time_in_force\"] = \"GTC\"\n",
    "\n",
    "        orders.append(order)\n",
    "        \n",
    "    return orders\n",
    "\n",
    "def submit_daily_rebalance_orders(client, orders, *, preview=True):\n",
    "    results = []\n",
    "    for od in orders:\n",
    "        try:\n",
    "            if preview:\n",
    "                r = client.preview_order(\n",
    "                    product_id=od[\"product_id\"],\n",
    "                    side=od[\"side\"],\n",
    "                    order_configuration=od[\"order_configuration\"],\n",
    "                )\n",
    "            else:\n",
    "                r = client.create_order(\n",
    "                    client_order_id=od[\"client_order_id\"],\n",
    "                    product_id=od[\"product_id\"],\n",
    "                    side=od[\"side\"],\n",
    "                    order_configuration=od[\"order_configuration\"],\n",
    "                )\n",
    "            results.append({\"ok\": True, \"request\": od, \"response\": cn._as_dict(r)})\n",
    "        except Exception as e:\n",
    "            results.append({\"ok\": False, \"request\": od, \"error\": f\"{type(e).__name__}: {e}\"})\n",
    "    return results"
   ]
  },
  {
   "cell_type": "code",
   "execution_count": null,
   "id": "b216bcb2-586a-45d5-a6e3-5cf902481e31",
   "metadata": {},
   "outputs": [],
   "source": [
    "ticker_list = cfg['universe']['tickers']\n",
    "portfolio_name = cfg['portfolio']['name']\n",
    "\n",
    "# --- 2) Live portfolio state -------------------------------------------------\n",
    "## Get Portfolio Positions and Cash\n",
    "print(f'Start Time: {datetime.now()}')\n",
    "## Create Coinbase Client & Portfolio UUID\n",
    "client = cn.get_coinbase_rest_api_client(portfolio_name=portfolio_name)\n",
    "portfolio_uuid = cn.get_portfolio_uuid(client, portfolio_name=portfolio_name)\n",
    "\n",
    "print(f'Get Portfolio Equity and Cash Time: {datetime.now()}')\n",
    "## Get Live Portfolio Equity\n",
    "portfolio_equity, available_cash = cn.get_live_portfolio_equity_and_cash(client=client, portfolio_name=portfolio_name)\n",
    "\n",
    "print(f'Get Current Positions Time: {datetime.now()}')\n",
    "## Get Current Positions using Mid-Price\n",
    "## TODO: CHECK TO SEE IF THE MID-PRICE BEING CAPTURED IS ACCURATE FROM COINBASE\n",
    "current_positions = cn.get_current_positions_from_portfolio(client, ticker_list=ticker_list, portfolio_name=portfolio_name)"
   ]
  },
  {
   "cell_type": "code",
   "execution_count": null,
   "id": "ee372607-2102-419a-ad0f-6ded7e2a1598",
   "metadata": {},
   "outputs": [],
   "source": [
    "rebal_orders = build_rebalance_orders(desired_trades, date, current_positions, client, order_type='market', limit_price_buffer=0.0)\n",
    "cn.preview_orders(client, rebal_orders)"
   ]
  },
  {
   "cell_type": "code",
   "execution_count": null,
   "id": "d002f027-e954-4ebe-bd05-6c91ca76e02c",
   "metadata": {},
   "outputs": [],
   "source": [
    "submit_daily_rebalance_orders(client, rebal_orders, preview=True)"
   ]
  },
  {
   "cell_type": "code",
   "execution_count": null,
   "id": "361c75f4-7da1-428a-8c48-c6f2e2874f5e",
   "metadata": {},
   "outputs": [],
   "source": [
    "current_positions"
   ]
  },
  {
   "cell_type": "code",
   "execution_count": null,
   "id": "42772839-31a8-42ee-a19e-15af36754d5c",
   "metadata": {},
   "outputs": [],
   "source": [
    "desired_trades"
   ]
  },
  {
   "cell_type": "code",
   "execution_count": null,
   "id": "842c6539-5950-4c68-a4d2-4289d13f0f52",
   "metadata": {},
   "outputs": [],
   "source": [
    "target_notional_cols = [f'{ticker}_target_notional' for ticker in ticker_list]\n",
    "df_final[target_notional_cols].tail()"
   ]
  },
  {
   "cell_type": "markdown",
   "id": "57a38811-e21a-4317-88f8-56f8fa001f98",
   "metadata": {},
   "source": [
    "## Close Dust Positions"
   ]
  },
  {
   "cell_type": "code",
   "execution_count": null,
   "id": "473e63c8-9fdd-4405-8ba2-3eab73ef506b",
   "metadata": {},
   "outputs": [],
   "source": [
    "def should_close_dust(df, date, actual_notional, min_notional_abs, pct_of_portfolio=0.002):\n",
    "    \"\"\"Close if notional is very small in absolute terms OR as a % of portfolio.\"\"\"\n",
    "    total_portfolio_value = float(df.loc[date, 'total_portfolio_value'])\n",
    "    return (abs(actual_notional) < float(min_notional_abs)) or (abs(actual_notional) < pct_of_portfolio * total_portfolio_value)\n",
    "\n",
    "def estimated_close_cost_usd(notional_usd, transaction_cost_est, passive_trade_rate, extra_slippage_bp=0.0):\n",
    "    \"\"\"\n",
    "    Estimated T-Cost in USD\n",
    "    \"\"\"\n",
    "    est_fees = (transaction_cost_est + perf.estimate_fee_per_trade(passive_trade_rate))\n",
    "    fee_cost = notional_usd * est_fees\n",
    "    return fee_cost\n",
    "\n",
    "def build_dust_close_orders(client, df, date, ticker_list, min_trade_notional_abs, \n",
    "                            max_cost_usd=0.05,               # don't spend >$0.05 to clean dust\n",
    "                            transaction_cost_est=0.001,\n",
    "                            passive_trade_rate=0.05,\n",
    "                            use_ioc=True):\n",
    "    \"\"\"\n",
    "    Flatten tiny residual positions to zero, but only if expected cost is tiny.\n",
    "    Sends marketable LIMIT IOC (safer) when use_ioc=True; else MARKET.\n",
    "    \"\"\"\n",
    "    orders = []\n",
    "    price_map = cn.get_price_map(client, ticker_list)\n",
    "    for ticker in ticker_list:\n",
    "        actual_notional = float(df.loc[date, f'{ticker}_actual_position_notional'])\n",
    "        if not should_close_dust(df, date, actual_notional, min_trade_notional_abs):\n",
    "            continue\n",
    "\n",
    "        size_now = float(df.loc[date, f'{ticker}_actual_position_size'])\n",
    "        if abs(size_now) < 1e-12:\n",
    "            continue\n",
    "\n",
    "        # Check product constraints\n",
    "        specs = cn.get_product_meta(client, ticker)  # should return price_increment, base_increment, quote_min_size, best_bid/ask if you include it\n",
    "        quote_min = float(specs.get('quote_min_size') or 0.0)\n",
    "        if abs(actual_notional) < quote_min:\n",
    "            # below exchange min; skip (or accumulate until above)\n",
    "            continue\n",
    "\n",
    "        # Cost guardrail\n",
    "        est_cost = estimated_close_cost_usd(abs(actual_notional), transaction_cost_est, passive_trade_rate, extra_slippage_bp=0.0)\n",
    "        if est_cost > max_cost_usd:\n",
    "            continue\n",
    "\n",
    "        side = 'sell' if size_now > 0 else 'buy'\n",
    "        base_sz = cn.round_to_increment(abs(size_now), float(specs['base_increment']))\n",
    "\n",
    "        if use_ioc:\n",
    "            # marketable limit: cross the spread slightly to fill now, avoid wild prints\n",
    "            # You'll need a fresh price; if your specs() doesn’t return bid/ask, fetch your own last/quote.\n",
    "            best_bid = float(price_map[ticker]['best_bid_price'] or 0.0)\n",
    "            best_ask = float(price_map[ticker]['best_ask_price'] or 0.0)\n",
    "            inc = float(specs['price_increment'])\n",
    "            if side == 'sell':\n",
    "                limit_px = cn.round_down(best_bid if best_bid else 0, inc)\n",
    "                tif = \"IOC\"\n",
    "                order_cfg = {\"limit_limit_ioc\": {\"base_size\": f\"{base_sz}\", \"limit_price\": f\"{limit_px}\", \"post_only\": False}}\n",
    "                otype = \"limit\"\n",
    "            else:\n",
    "                limit_px = cn.round_up(best_ask if best_ask else 0, inc)\n",
    "                tif = \"IOC\"\n",
    "                order_cfg = {\"limit_limit_ioc\": {\"base_size\": f\"{base_sz}\", \"limit_price\": f\"{limit_px}\", \"post_only\": False}}\n",
    "                otype = \"limit\"\n",
    "        else:\n",
    "            # pure market\n",
    "            order_cfg = {\"market_market_ioc\": {\"base_size\": f\"{base_sz}\"}}\n",
    "            otype = \"market\"\n",
    "\n",
    "        orders.append({\n",
    "            \"product_id\": ticker,\n",
    "            \"side\": side.upper(),\n",
    "            \"type\": otype,\n",
    "            \"size\": base_sz,\n",
    "            \"client_order_id\": f\"{ticker}-{pd.Timestamp(date).strftime('%Y%m%d')}-dustclose\",\n",
    "            # If you use your create_order helpers, you can pass the generic dict,\n",
    "            # or directly call client.create_order with order_configuration:\n",
    "            \"order_configuration\": order_cfg,\n",
    "        })\n",
    "\n",
    "        # Reflect intended flatten in df (optional; you might prefer to do this post-trade)\n",
    "        df.loc[date, f'{ticker}_actual_position_notional'] = 0.0\n",
    "        df.loc[date, f'{ticker}_actual_position_size'] = 0.0\n",
    "\n",
    "    return orders\n",
    "\n",
    "\n",
    "def submit_dust_close_orders(client, orders, preview=True):\n",
    "    \"\"\"\n",
    "    Use your helpers directly if you want; here we call Coinbase endpoints\n",
    "    with the already-built order_configuration.\n",
    "    Returns a list of per-order results.\n",
    "    \"\"\"\n",
    "    results = []\n",
    "    for od in orders:\n",
    "        try:\n",
    "            if preview:\n",
    "                r = client.preview_order(\n",
    "                    product_id=od[\"product_id\"],\n",
    "                    side=od[\"side\"],\n",
    "                    order_configuration=od[\"order_configuration\"],\n",
    "                )\n",
    "            else:\n",
    "                r = client.create_order(\n",
    "                    client_order_id=od[\"client_order_id\"],\n",
    "                    product_id=od[\"product_id\"],\n",
    "                    side=od[\"side\"],\n",
    "                    order_configuration=od[\"order_configuration\"],\n",
    "                )\n",
    "            results.append({\"ok\": True, \"request\": od, \"response\": r})\n",
    "        except Exception as e:\n",
    "            results.append({\"ok\": False, \"request\": od, \"error\": f\"{type(e).__name__}: {e}\"})\n",
    "    return results"
   ]
  },
  {
   "cell_type": "code",
   "execution_count": null,
   "id": "ef409e2b-3b5e-41cc-bec1-d48ef56cc54a",
   "metadata": {},
   "outputs": [],
   "source": [
    "should_close_dust(df_final, date, actual_notional=43.4995522227813, min_notional_abs=10, pct_of_portfolio=0.002)"
   ]
  },
  {
   "cell_type": "code",
   "execution_count": null,
   "id": "a3e6ef40-55f0-4508-abeb-784dbde085f2",
   "metadata": {},
   "outputs": [],
   "source": [
    "min_trade_notional_abs = cfg['execution_and_costs']['min_trade_notional_abs']\n",
    "dust_close_orders = build_dust_close_orders(client, df_final, date, ticker_list, min_trade_notional_abs)\n",
    "dust_close_orders"
   ]
  },
  {
   "cell_type": "code",
   "execution_count": null,
   "id": "31ef0d3c-6744-4a43-85f4-53bd0ca171ee",
   "metadata": {},
   "outputs": [],
   "source": [
    "min_trade_notional_abs"
   ]
  },
  {
   "cell_type": "code",
   "execution_count": null,
   "id": "acaafa12-ddc0-485a-80f9-c4c21ba25c05",
   "metadata": {},
   "outputs": [],
   "source": [
    "submit_dust_close_orders(client, dust_close_orders, preview=True)"
   ]
  },
  {
   "cell_type": "markdown",
   "id": "e8478221-83df-40c3-90a2-0b9a25562806",
   "metadata": {},
   "source": [
    "## Send/Update Stop Limit Order"
   ]
  },
  {
   "cell_type": "code",
   "execution_count": null,
   "id": "ada8955f-b1a5-4b00-acb3-bb312bd960f4",
   "metadata": {},
   "outputs": [],
   "source": [
    "cn.list_open_stop_orders(client, product_id='SOL-USD')"
   ]
  },
  {
   "cell_type": "code",
   "execution_count": null,
   "id": "d8c04e74-5183-4e6b-9407-52fe5fd41bfd",
   "metadata": {},
   "outputs": [],
   "source": [
    "def update_trailing_stop_chandelier(\n",
    "    client, df, ticker, date,\n",
    "    highest_high_window=56, rolling_atr_window=20, atr_multiplier=2.5,\n",
    "    stop_loss_replace_threshold_ticks=1, client_id_prefix=\"stop-\",\n",
    "    limit_price_buffer=0.005\n",
    "):\n",
    "    # --- specs & compute desired stop ---\n",
    "    specs = cn.get_product_meta(client, product_id=ticker)\n",
    "    tick  = float(specs['price_increment'])\n",
    "    result_dict = {}\n",
    "\n",
    "    stop_today = float(chandelier_stop_long(date, ticker, highest_high_window, rolling_atr_window, atr_multiplier))\n",
    "    stop_prev  = df.get(f'{ticker}_stop_loss', pd.Series(index=df.index, dtype=float)).shift(1).loc[date]\n",
    "\n",
    "    # monotone ratchet\n",
    "    candidates   = [x for x in (stop_prev, stop_today) if np.isfinite(x)]\n",
    "    desired_stop = max(candidates) if candidates else stop_today\n",
    "    desired_stop = cn.round_to_increment(desired_stop, tick)\n",
    "\n",
    "    # skip if not a meaningful ratchet\n",
    "    threshold = (stop_prev if np.isfinite(stop_prev) else -np.inf) + (stop_loss_replace_threshold_ticks * tick)\n",
    "    if np.isfinite(stop_prev) and desired_stop < threshold:\n",
    "        df.loc[date, f'{ticker}_stop_loss'] = float(stop_prev)\n",
    "        result_dict = {\n",
    "            \"ok\": True,\n",
    "            \"action\": \"skip\",\n",
    "            \"reason\": \"no_ratchet\",\n",
    "            \"open_stop_price\": float(stop_prev),\n",
    "            \"stop_today\": float(stop_today),\n",
    "            \"desired_stop\": float(desired_stop),\n",
    "            \"tick\": float(tick)\n",
    "        }\n",
    "        return result_dict\n",
    "\n",
    "    # position size\n",
    "    try:\n",
    "        pos_size = float(df.loc[date, f'{ticker}_actual_position_size'])\n",
    "    except Exception:\n",
    "        pos_map = (cn.get_current_positions_from_portfolio(client, [ticker]) or {}).get(ticker, {})\n",
    "        pos_size = float(pos_map.get('ticker_qty', 0.0))\n",
    "    if pos_size <= 0:\n",
    "        df.loc[date, f'{ticker}_stop_loss'] = float(desired_stop)\n",
    "        result_dict = {\n",
    "            \"ok\": True,\n",
    "            \"action\": \"skip\",\n",
    "            \"reason\": \"no_position\",\n",
    "            \"open_stop_price\": float(stop_prev) if np.isfinite(stop_prev) else None,\n",
    "            \"stop_today\": float(stop_today),\n",
    "            \"desired_stop\": float(desired_stop),\n",
    "            \"tick\": float(tick)\n",
    "        }\n",
    "        return result_dict\n",
    "\n",
    "    client_order_id = f\"{client_id_prefix}{ticker}-{date:%Y%m%d}-{int(round(desired_stop / tick))}\"\n",
    "\n",
    "    # --- PREVIEW FIRST (do NOT cancel yet) ---\n",
    "    pv = cn.place_stop_limit_order(\n",
    "        client=client,\n",
    "        product_id=ticker,\n",
    "        side=\"sell\",\n",
    "        stop_price=desired_stop,\n",
    "        size=pos_size,\n",
    "        client_order_id=client_order_id,\n",
    "        buffer_bps=50,\n",
    "        preview=True,\n",
    "        price_increment=specs[\"price_increment\"],\n",
    "        base_increment=specs[\"base_increment\"],\n",
    "        quote_min_size=specs[\"quote_min_size\"]\n",
    "    )\n",
    "    pv_d = _as_dict(pv)\n",
    "    errs = pv_d.get(\"errs\") or []\n",
    "\n",
    "    if errs:\n",
    "        # keep old stop; report clearly\n",
    "        df.loc[date, f'{ticker}_stop_loss'] = float(stop_prev)  # persist your computed target for next run\n",
    "        result_dict = {\n",
    "            \"ok\": False,\n",
    "            \"action\": \"no_change\",\n",
    "            \"reason\": \"preview_error\",\n",
    "            \"preview_errors\": errs,  # e.g., [\"PREVIEW_STOP_PRICE_ABOVE_LAST_TRADE_PRICE\"]\n",
    "            \"open_stop_price\": float(stop_prev) if np.isfinite(stop_prev) else None,\n",
    "            \"stop_today\": float(stop_today),\n",
    "            \"desired_stop\": float(desired_stop),\n",
    "            \"tick\": float(tick),\n",
    "            \"preview_id\": pv_d.get(\"preview_id\")\n",
    "        }\n",
    "        return result_dict\n",
    "\n",
    "    # --- PREVIEW OK → now cancel existing stops, then place live ---\n",
    "    try:\n",
    "        open_orders = cn.list_open_stop_orders(client, product_id=ticker) or []\n",
    "        for o in open_orders:\n",
    "            otype = str(o.get('type') or '').lower()\n",
    "            if ('stop' in otype) or (o.get('stop_price') is not None):\n",
    "                cancel_order_by_id(client, order_id=o['order_id'])\n",
    "    except Exception as e:\n",
    "        # still attempt to place the new one\n",
    "        print(f\"[warn] cancel stop failed for {ticker}: {e}\")\n",
    "\n",
    "    cr = place_stop_limit_order(\n",
    "        client=client,\n",
    "        product_id=ticker,\n",
    "        side=\"sell\",\n",
    "        stop_price=desired_stop,\n",
    "        size=pos_size,\n",
    "        client_order_id=client_order_id,\n",
    "        buffer_bps=50,\n",
    "        preview=False,  # LIVE\n",
    "        price_increment=specs[\"price_increment\"],\n",
    "        base_increment=specs[\"base_increment\"],\n",
    "        quote_min_size=specs[\"quote_min_size\"]\n",
    "    )\n",
    "    cr_d = _as_dict(cr)\n",
    "\n",
    "    df.loc[date, f'{ticker}_stop_loss'] = float(desired_stop)\n",
    "    result_dict = {\n",
    "        \"ok\": True,\n",
    "        \"action\": \"replaced\",\n",
    "        \"client_order_id\": client_order_id,\n",
    "        \"new_order_id\": cr_d.get(\"response\", {}).get(\"order_id\") or cr_d.get(\"order_id\"),\n",
    "        \"desired_stop\": float(desired_stop),\n",
    "        \"pos_size\": float(pos_size),\n",
    "    }\n",
    "    \n",
    "    return result_dict"
   ]
  },
  {
   "cell_type": "code",
   "execution_count": null,
   "id": "a4909b2e-6443-4727-bf0a-f31fadcfa573",
   "metadata": {},
   "outputs": [],
   "source": [
    "cfg = load_prod_strategy_config(strategy_version='v0.1.0')\n",
    "highest_high_window = cfg['risk_and_sizing']['highest_high_window']\n",
    "rolling_atr_window = cfg['risk_and_sizing']['rolling_atr_window']\n",
    "atr_multiplier = cfg['risk_and_sizing']['atr_multiplier']\n",
    "for ticker in ticker_list:\n",
    "    result_dict = update_trailing_stop_chandelier(client, df_final, ticker, date, highest_high_window=highest_high_window, rolling_atr_window=rolling_atr_window, atr_multiplier=atr_multiplier, stop_loss_replace_threshold_ticks=1, \n",
    "                                                  client_id_prefix=\"stop-\", limit_price_buffer=0.005)\n",
    "    print(ticker, result_dict)"
   ]
  },
  {
   "cell_type": "code",
   "execution_count": null,
   "id": "b45f97b7-172e-4d3c-96e9-134331b495b6",
   "metadata": {},
   "outputs": [],
   "source": [
    "date = datetime.now(timezone.utc).date()"
   ]
  },
  {
   "cell_type": "markdown",
   "id": "b0724056-08df-403f-b5f2-def3960883c0",
   "metadata": {},
   "source": [
    "# Coinbase Tests for Order Placement"
   ]
  },
  {
   "cell_type": "code",
   "execution_count": null,
   "id": "3b3a87ef-a53f-43d2-9eab-cc42abdaa0c0",
   "metadata": {},
   "outputs": [],
   "source": [
    "# Cell 10 — compute micro size that meets min notional but stays small\n",
    "\n",
    "def compute_test_size(client, product_id, max_usd=5.0):\n",
    "    specs = get_product_meta(client, product_id)\n",
    "    # Pull latest ticker price\n",
    "    t = client.get_product(product_id=product_id)  # if you have a ticker endpoint, prefer that\n",
    "    # last = float((t.get(\"price\") or t.get(\"last\") or t.get(\"mark_price\") or 0.0) if isinstance(t, dict) else 0.0)\n",
    "    last = float(getattr(t, 'price'))\n",
    "    last = last if last > 0 else 5.0  # fallback\n",
    "    \n",
    "    # meet quote_min_size and max_usd\n",
    "    min_quote = float(specs[\"quote_min_size\"])\n",
    "    price_inc = float(specs[\"price_increment\"])\n",
    "    base_inc  = float(specs[\"base_increment\"])\n",
    "    target_quote = max(min_quote, min(max_usd, 10*min_quote))  # pick something small but safe\n",
    "    \n",
    "    raw_size = target_quote / last\n",
    "    size = _round_down(raw_size, base_inc)\n",
    "    return size, specs, last\n"
   ]
  },
  {
   "cell_type": "code",
   "execution_count": null,
   "id": "9883a590-def3-4711-b16f-13d18d5db563",
   "metadata": {},
   "outputs": [],
   "source": [
    "compute_test_size(client, product_id='BTC-USD')"
   ]
  },
  {
   "cell_type": "code",
   "execution_count": null,
   "id": "732b937e-a91b-40fc-a7c4-00b30aaa6a62",
   "metadata": {},
   "outputs": [],
   "source": [
    "4.378e-05 * 114205.22"
   ]
  },
  {
   "cell_type": "markdown",
   "id": "4561bff7-9ba6-42bb-b337-092f8705319c",
   "metadata": {},
   "source": [
    "## Test 1: Preview & Create tiny LIMIT Buy Order"
   ]
  },
  {
   "cell_type": "code",
   "execution_count": null,
   "id": "c660ee4e-fe37-4dc7-8e68-58064660b517",
   "metadata": {},
   "outputs": [],
   "source": [
    "portfolio_name = cfg['portfolio']['name']\n",
    "client = cn.get_coinbase_rest_api_client(portfolio_name=portfolio_name)\n",
    "\n",
    "# Choose a small-notional product (low price helps); SOL-USD or ADA-USD are good.\n",
    "PRODUCT_ID = \"SOL-USD\"\n",
    "\n",
    "# Safety: keep sizes tiny for live testing\n",
    "MAX_TEST_USD = 5.00"
   ]
  },
  {
   "cell_type": "code",
   "execution_count": null,
   "id": "62a1643a-13b6-4943-84e3-af343e4fcb92",
   "metadata": {},
   "outputs": [],
   "source": [
    "## Get Live Portfolio Equity\n",
    "portfolio_equity, available_cash = get_live_portfolio_equity_and_cash(client=client, portfolio_name=portfolio_name)\n",
    "\n",
    "## Get Portfolio Breakdown\n",
    "df_portfolio_breakdown = cn.get_portfolio_breakdown(client, portfolio_uuid=portfolio_uuid)\n",
    "\n",
    "## Get Current Positions using Mid-Price\n",
    "## TODO: CHECK TO SEE IF THE MID-PRICE BEING CAPTURED IS ACCURATE FROM COINBASE\n",
    "current_positions = get_current_positions_from_portfolio(client, ticker_list=ticker_list,\n",
    "                                                         portfolio_name=portfolio_name)"
   ]
  },
  {
   "cell_type": "code",
   "execution_count": null,
   "id": "64d1524f-7a01-4cc7-a9cc-91ff7db12fd0",
   "metadata": {},
   "outputs": [],
   "source": [
    "print(f'Portfolio Equity: {portfolio_equity}, Available Cash: {available_cash}')"
   ]
  },
  {
   "cell_type": "code",
   "execution_count": null,
   "id": "58e091fd-41ed-40c4-ac04-83419b289e01",
   "metadata": {},
   "outputs": [],
   "source": [
    "df_portfolio_breakdown"
   ]
  },
  {
   "cell_type": "code",
   "execution_count": null,
   "id": "1274a3bb-d2ad-458d-9af6-dfee7dfc0e81",
   "metadata": {},
   "outputs": [],
   "source": [
    "current_positions"
   ]
  },
  {
   "cell_type": "code",
   "execution_count": null,
   "id": "3a011a5f-31a0-40b1-a1ee-4d3c88627fe8",
   "metadata": {},
   "outputs": [],
   "source": [
    "# Cell 11 — Preview & Create (LIMIT buy)\n",
    "\n",
    "size, specs, last = compute_test_size(client, PRODUCT_ID, max_usd=MAX_TEST_USD)\n",
    "limit_price = _round_down(last * 0.98, specs[\"price_increment\"])  # try to get filled eventually; tweak as you like\n",
    "\n",
    "order = {\n",
    "    \"product_id\": PRODUCT_ID,\n",
    "    \"side\": \"BUY\",\n",
    "    \"type\": \"limit\",\n",
    "    \"size\": size,\n",
    "    \"limit_price\": limit_price,\n",
    "    \"time_in_force\": \"GTC\",\n",
    "    \"post_only\": False,\n",
    "    \"client_order_id\": f\"test-{PRODUCT_ID}-{int(time.time())}\"\n",
    "}\n",
    "\n",
    "print(\"Preview:\")\n",
    "pv = preview_order(client, order)\n",
    "print(json.dumps(pv, indent=2))\n",
    "\n",
    "if pv[\"ok\"]:\n",
    "    print(\"\\nCreate:\")\n",
    "    cr = create_order(client, order, preview_first=False)\n",
    "    print(json.dumps(cr, indent=2))\n",
    "else:\n",
    "    print(\"Preview failed; not creating.\")\n"
   ]
  },
  {
   "cell_type": "markdown",
   "id": "69d13c2f-c0e9-4408-bc85-01dee8dcebf5",
   "metadata": {},
   "source": [
    "## List Open Orders"
   ]
  },
  {
   "cell_type": "code",
   "execution_count": null,
   "id": "b8f6fdbd-9b08-4e20-b6ed-cff0bd85e977",
   "metadata": {},
   "outputs": [],
   "source": [
    "open_orders = list_open_stop_orders(client, product_id=PRODUCT_ID)\n",
    "open_orders"
   ]
  },
  {
   "cell_type": "code",
   "execution_count": null,
   "id": "45d75f14-e2d7-4399-8ba0-feae8ab490c2",
   "metadata": {},
   "outputs": [],
   "source": [
    "try:\n",
    "    # Path A: some SDKs use list_orders(product_id=..., order_status=[...])\n",
    "    res = client.list_orders(product_id=PRODUCT_ID, order_status=['OPEN'])\n",
    "    raw = res['orders']\n",
    "except Exception:\n",
    "    raw = []"
   ]
  },
  {
   "cell_type": "code",
   "execution_count": null,
   "id": "ef782325-aecd-4757-a64d-086a2b54bae3",
   "metadata": {},
   "outputs": [],
   "source": [
    "res"
   ]
  },
  {
   "cell_type": "code",
   "execution_count": null,
   "id": "70d72ddd-c2dd-45f3-9f65-99430e5093ae",
   "metadata": {},
   "outputs": [],
   "source": [
    "raw"
   ]
  },
  {
   "cell_type": "code",
   "execution_count": null,
   "id": "0733348a-d9b1-42b6-ac3e-81896c19645d",
   "metadata": {},
   "outputs": [],
   "source": [
    "# 2) Normalize & filter only stops\n",
    "orders = []\n",
    "for o in raw:\n",
    "    otype      = o['order_type'].lower()\n",
    "    stop_price = o['stop_price'] or o['stopPrice']\n",
    "    # if ('stop' in otype) or (stop_price is not None):\n",
    "    orders.append({\n",
    "        'order_id'       : o['order_id'] or o['id'],\n",
    "        'client_order_id': o['client_order_id'] or o['clientOrderId'],\n",
    "        'product_id'     : o['product_id'] or o['productId'] or product_id,\n",
    "        'side'           : o['side'],\n",
    "        'type'           : o['order_type'] or o['type'],\n",
    "        'stop_price'     : float(stop_price) if stop_price is not None else np.nan,\n",
    "        'created_at'     : o['created_time'] or o['created_at'],\n",
    "    })"
   ]
  },
  {
   "cell_type": "code",
   "execution_count": null,
   "id": "7ba56e69-e382-44d9-a24a-03fa06eb5eee",
   "metadata": {},
   "outputs": [],
   "source": [
    "orders"
   ]
  },
  {
   "cell_type": "markdown",
   "id": "2eb1a2cd-947f-4565-9186-a86db0cb7d4b",
   "metadata": {},
   "source": [
    "## Cancel Open Order"
   ]
  },
  {
   "cell_type": "code",
   "execution_count": null,
   "id": "688d7245-cecf-464d-8d89-fe66b8bd2cb8",
   "metadata": {},
   "outputs": [],
   "source": [
    "# --- SIMPLE Coinbase Advanced Trade order helpers (object-attribute style) ---\n",
    "\n",
    "def _flatten_cfg(order):\n",
    "    \"\"\"\n",
    "    Pull common fields from order.order_configuration without guessing types.\n",
    "    Looks at the first (and usually only) sub-config present.\n",
    "    \"\"\"\n",
    "    cfg = getattr(order, \"order_configuration\", None) or {}\n",
    "    if not isinstance(cfg, dict) or not cfg:\n",
    "        return {}\n",
    "\n",
    "    # take the first sub-config dict (e.g., 'limit_limit_gtc', 'stop_limit_stop_limit_gtc', etc.)\n",
    "    key, sub = next(iter(cfg.items()))\n",
    "    if not isinstance(sub, dict):\n",
    "        return {}\n",
    "\n",
    "    # extract common fields if present\n",
    "    out = {}\n",
    "    if \"base_size\"   in sub: out[\"base_size\"]   = sub[\"base_size\"]\n",
    "    if \"limit_price\" in sub: out[\"limit_price\"] = sub[\"limit_price\"]\n",
    "    if \"stop_price\"  in sub: out[\"stop_price\"]  = sub[\"stop_price\"]\n",
    "    if \"stop_direction\" in sub: out[\"stop_direction\"] = sub[\"stop_direction\"]\n",
    "    if \"post_only\"   in sub: out[\"post_only\"]   = sub[\"post_only\"]\n",
    "    out[\"config_key\"] = key  # helpful to know which config it was\n",
    "    return out\n",
    "\n",
    "def norm_order(o):\n",
    "    \"\"\"Normalize a coinbase.rest.types.common_types.Order into a plain dict.\"\"\"\n",
    "    data = {\n",
    "        \"order_id\":        o.order_id,\n",
    "        \"client_order_id\": getattr(o, \"client_order_id\", None),\n",
    "        \"product_id\":      getattr(o, \"product_id\", None),\n",
    "        \"side\":            getattr(o, \"side\", None),\n",
    "        \"type\":            getattr(o, \"order_type\", None),\n",
    "        \"status\":          getattr(o, \"status\", None),\n",
    "        \"time_in_force\":   getattr(o, \"time_in_force\", None),\n",
    "        \"created_time\":    getattr(o, \"created_time\", None),\n",
    "        \"filled_size\":     getattr(o, \"filled_size\", None),\n",
    "        \"average_price\":   getattr(o, \"average_filled_price\", None),\n",
    "    }\n",
    "    data.update(_flatten_cfg(o))\n",
    "    return data\n",
    "\n",
    "def list_open_orders(client, product_id: str | None = None):\n",
    "    out, cursor = [], None\n",
    "    while True:\n",
    "        kw = {\"order_status\": [\"OPEN\"]}\n",
    "        if product_id: kw[\"product_id\"] = product_id\n",
    "        if cursor:     kw[\"cursor\"] = cursor\n",
    "\n",
    "        res = client.list_orders(**kw)           # {'orders': [Order,...], 'cursor': '', 'has_next': False}\n",
    "        orders = res['orders']\n",
    "        out.extend({\n",
    "            \"order_id\":        o.order_id,\n",
    "            \"client_order_id\": getattr(o, \"client_order_id\", None),\n",
    "            \"product_id\":      getattr(o, \"product_id\", None),\n",
    "            \"side\":            getattr(o, \"side\", None),\n",
    "            \"type\":            getattr(o, \"order_type\", None),\n",
    "            \"status\":          getattr(o, \"status\", None),\n",
    "            \"time_in_force\":   getattr(o, \"time_in_force\", None),\n",
    "            \"created_time\":    getattr(o, \"created_time\", None),\n",
    "            \"filled_size\":     getattr(o, \"filled_size\", None),\n",
    "            \"average_price\":   getattr(o, \"average_filled_price\", None),\n",
    "        } for o in orders)\n",
    "\n",
    "        cursor   = res['cursor']#res.get(\"cursor\") or None     # '' -> None\n",
    "        has_next = bool(res[\"has_next\"])#bool(res.get(\"has_next\", False))\n",
    "        if not cursor or not has_next:\n",
    "            break\n",
    "    return out\n",
    "\n",
    "def find_open_by_client_id(client, client_order_id: str, product_id: str | None = None):\n",
    "    \"\"\"Find one OPEN order by your client_order_id.\"\"\"\n",
    "    for o in list_open_orders(client, product_id=product_id):\n",
    "        if o.get(\"client_order_id\") == client_order_id:\n",
    "            return o\n",
    "    return None\n",
    "\n",
    "def cancel_order_by_id(client, order_id: str):\n",
    "    # MUST be a list\n",
    "    return client.cancel_orders(order_ids=[order_id])\n",
    "\n",
    "def cancel_order_by_client_id(client, client_order_id: str, product_id: str | None = None):\n",
    "    # find the open order, then cancel by order_id\n",
    "    for o in list_open_orders(client, product_id=product_id):\n",
    "        if o[\"client_order_id\"] == client_order_id:\n",
    "            return cancel_order_by_id(client, o[\"order_id\"])\n",
    "    return {\"ok\": False, \"error\": \"not_found\", \"client_order_id\": client_order_id}\n",
    "\n",
    "def cancel_all_open_orders(client, product_id: str | None = None):\n",
    "    \"\"\"Cancel every OPEN order (optionally for a single product).\"\"\"\n",
    "    orders = list_open_orders(client, product_id=product_id)\n",
    "    results = []\n",
    "    for o in orders:\n",
    "        oid = o.get(\"order_id\")\n",
    "        if oid:\n",
    "            results.append(cancel_order_by_id(client, oid))\n",
    "    return results\n"
   ]
  },
  {
   "cell_type": "code",
   "execution_count": null,
   "id": "7f662286-e3dd-4ffa-a012-a8bd0a957bfe",
   "metadata": {},
   "outputs": [],
   "source": [
    "o = find_open_by_client_id(client, client_order_id, product_id=product_id)"
   ]
  },
  {
   "cell_type": "code",
   "execution_count": null,
   "id": "da9f3bf8-ba49-415f-a8f9-403f4c229c63",
   "metadata": {},
   "outputs": [],
   "source": [
    "o[\"order_id\"]"
   ]
  },
  {
   "cell_type": "code",
   "execution_count": null,
   "id": "b7d224d4-aeb9-4111-85eb-3edf1ba3f79f",
   "metadata": {},
   "outputs": [],
   "source": [
    "for o in open_orders:\n",
    "    oid = o.get(\"order_id\")\n",
    "    print(oid)"
   ]
  },
  {
   "cell_type": "code",
   "execution_count": null,
   "id": "98425d42-843b-4444-b9e2-a168a5f25796",
   "metadata": {},
   "outputs": [],
   "source": [
    "open_orders = list_open_orders(client, product_id='SOL-USD')"
   ]
  },
  {
   "cell_type": "code",
   "execution_count": null,
   "id": "b49aca4b-b5cc-4557-b445-2a8182b611f1",
   "metadata": {},
   "outputs": [],
   "source": [
    "open_orders"
   ]
  },
  {
   "cell_type": "code",
   "execution_count": null,
   "id": "1d890665-53a9-4bd0-b6ce-8a4c84bec571",
   "metadata": {},
   "outputs": [],
   "source": [
    "client_order_id = 'test-SOL-USD-1760369132'"
   ]
  },
  {
   "cell_type": "code",
   "execution_count": null,
   "id": "60ad2a5e-b12c-4089-859f-79b9b1359a4c",
   "metadata": {},
   "outputs": [],
   "source": [
    "client_order_id = find_open_by_client_id(client, client_order_id, product_id=None)['client_order_id']"
   ]
  },
  {
   "cell_type": "code",
   "execution_count": null,
   "id": "6e1682f9-586a-4f51-b6d9-69074a6c1217",
   "metadata": {},
   "outputs": [],
   "source": [
    "client_order_id"
   ]
  },
  {
   "cell_type": "code",
   "execution_count": null,
   "id": "310a65ff-73bc-4b77-971c-12ac3e596141",
   "metadata": {},
   "outputs": [],
   "source": [
    "find_open_by_client_id(client, client_order_id, product_id=None)"
   ]
  },
  {
   "cell_type": "code",
   "execution_count": null,
   "id": "909e87c3-2cff-4c87-bd37-caec759dddda",
   "metadata": {},
   "outputs": [],
   "source": [
    "find_open_by_client_id(client, client_order_id=None, product_id=PRODUCT_ID)"
   ]
  },
  {
   "cell_type": "code",
   "execution_count": null,
   "id": "92fbc9ba-4bb6-4c0f-a205-4f4ba75fd9b7",
   "metadata": {},
   "outputs": [],
   "source": [
    "## Cancel Order by Client Order Id\n",
    "cancel_order_by_client_id(client, client_order_id, product_id=None)"
   ]
  },
  {
   "cell_type": "code",
   "execution_count": null,
   "id": "9a8cc6c6-2d96-439d-8971-9db9cbb19300",
   "metadata": {},
   "outputs": [],
   "source": [
    "## Cancel Order by Client Order Id\n",
    "cancel_order_by_client_id(client, client_order_id, product_id=None)"
   ]
  },
  {
   "cell_type": "code",
   "execution_count": null,
   "id": "487b5a56-c5ee-4fe3-9ab9-0b07d13ba0a1",
   "metadata": {},
   "outputs": [],
   "source": [
    "list_open_stop_orders(client, product_id=PRODUCT_ID)"
   ]
  },
  {
   "cell_type": "markdown",
   "id": "80a4d5d8-ff71-4e89-be23-bb405f85d2e2",
   "metadata": {},
   "source": [
    "## Test 2: Create a STOP-LIMIT sell to protect the tiny position"
   ]
  },
  {
   "cell_type": "code",
   "execution_count": null,
   "id": "e0107e64-ea5b-44d7-b421-a133cec90dba",
   "metadata": {},
   "outputs": [],
   "source": [
    "current_positions = get_current_positions_from_portfolio(client, ticker_list=ticker_list,\n",
    "                                                         portfolio_name=portfolio_name)"
   ]
  },
  {
   "cell_type": "code",
   "execution_count": null,
   "id": "c0060727-a99c-47b0-a528-b89ff0e7ac8e",
   "metadata": {},
   "outputs": [],
   "source": [
    "current_positions"
   ]
  },
  {
   "cell_type": "code",
   "execution_count": null,
   "id": "bb71d4c5-682b-4ea9-9a4e-e391a5b5a24c",
   "metadata": {},
   "outputs": [],
   "source": [
    "# Cancel the old order if you have its id:\n",
    "# client.cancel_order(order_id=\"<your_order_id>\")\n",
    "\n",
    "# Compute a tiny, valid size (≈ $5 notional, rounded to increments)\n",
    "size, specs, last = compute_test_size(client, PRODUCT_ID, max_usd=5.00)\n",
    "\n",
    "# Place a small MARKET buy\n",
    "mrk = create_order(client, {\n",
    "    \"product_id\": PRODUCT_ID,\n",
    "    \"side\": \"BUY\",\n",
    "    \"type\": \"market\",\n",
    "    \"size\": size,\n",
    "    \"client_order_id\": f\"test-mkt-{PRODUCT_ID}-{int(time.time())}\"\n",
    "}, preview_first=False)\n",
    "print(mrk)"
   ]
  },
  {
   "cell_type": "code",
   "execution_count": null,
   "id": "117345e7-9d43-44e0-885e-b55aabc48604",
   "metadata": {},
   "outputs": [],
   "source": [
    "current_positions = get_current_positions_from_portfolio(client, ticker_list=ticker_list,\n",
    "                                                         portfolio_name=portfolio_name)\n",
    "avail_qty = float(current_positions[PRODUCT_ID].get(\"ticker_qty\", 0.0))\n",
    "print(\"Available SOL:\", avail_qty)\n",
    "current_positions"
   ]
  },
  {
   "cell_type": "code",
   "execution_count": null,
   "id": "ddb75f24-6fd9-4359-9634-7d28271bb8e6",
   "metadata": {},
   "outputs": [],
   "source": [
    "## Preview Stop Limit Order\n",
    "\n",
    "specs = get_product_meta(client, PRODUCT_ID)\n",
    "# choose a stop ~2% below current price\n",
    "stop_price = _round_down(last * 0.98, specs[\"price_increment\"])\n",
    "pos_size   = _round_down(avail_qty, specs[\"base_increment\"])\n",
    "cid = f\"stop-{PRODUCT_ID}-{int(time.time())}\"\n",
    "\n",
    "pv = place_stop_limit_order(\n",
    "    client=client,\n",
    "    product_id=PRODUCT_ID,\n",
    "    side=\"SELL\",\n",
    "    stop_price=stop_price,\n",
    "    size=pos_size,\n",
    "    client_order_id=cid,\n",
    "    buffer_bps=50,\n",
    "    preview=True,\n",
    "    price_increment=specs[\"price_increment\"],\n",
    "    base_increment=specs[\"base_increment\"],\n",
    "    quote_min_size=specs[\"quote_min_size\"],\n",
    ")\n",
    "print(_as_dict(pv))\n",
    "\n",
    "# If ok, place live:\n",
    "# cr = place_stop_limit_order(..., preview=False, ...)\n",
    "# print(_as_dict(cr))\n"
   ]
  },
  {
   "cell_type": "code",
   "execution_count": null,
   "id": "8330fc9a-49e0-4ca6-84f4-dbb0db14fb5b",
   "metadata": {},
   "outputs": [],
   "source": [
    "## Place Stop Limit Order\n",
    "\n",
    "specs = get_product_meta(client, PRODUCT_ID)\n",
    "# choose a stop ~2% below current price\n",
    "stop_price = _round_down(last * 0.98, specs[\"price_increment\"])\n",
    "pos_size   = _round_down(avail_qty, specs[\"base_increment\"])\n",
    "cid = f\"stop-{PRODUCT_ID}-{int(time.time())}\"\n",
    "\n",
    "pv = place_stop_limit_order(\n",
    "    client=client,\n",
    "    product_id=PRODUCT_ID,\n",
    "    side=\"SELL\",\n",
    "    stop_price=stop_price,\n",
    "    size=pos_size,\n",
    "    client_order_id=cid,\n",
    "    buffer_bps=50,\n",
    "    preview=False,\n",
    "    price_increment=specs[\"price_increment\"],\n",
    "    base_increment=specs[\"base_increment\"],\n",
    "    quote_min_size=specs[\"quote_min_size\"],\n",
    ")\n",
    "print(_as_dict(pv))\n",
    "\n",
    "# If ok, place live:\n",
    "# cr = place_stop_limit_order(..., preview=False, ...)\n",
    "# print(_as_dict(cr))\n"
   ]
  },
  {
   "cell_type": "code",
   "execution_count": null,
   "id": "5b634782-ce27-4125-a84e-a04ce41f3914",
   "metadata": {},
   "outputs": [],
   "source": [
    "0.04/(0.01691215*204.52)"
   ]
  },
  {
   "cell_type": "markdown",
   "id": "6ec26bfa-c0c1-46a8-b042-cf598175d091",
   "metadata": {},
   "source": [
    "## Test 3: List Open Stop Orders"
   ]
  },
  {
   "cell_type": "code",
   "execution_count": null,
   "id": "24258433-8cac-4b10-8cd1-bcbd84bb001c",
   "metadata": {},
   "outputs": [],
   "source": [
    "list_open_stop_orders(client, product_id=PRODUCT_ID)"
   ]
  },
  {
   "cell_type": "code",
   "execution_count": null,
   "id": "581bac31-494b-4239-96bd-45087643f48d",
   "metadata": {},
   "outputs": [],
   "source": []
  },
  {
   "cell_type": "markdown",
   "id": "97d4be0d-5aee-4a85-a8ac-88f46b29740e",
   "metadata": {},
   "source": [
    "## Test 4: Get Fills for Test Window"
   ]
  },
  {
   "cell_type": "code",
   "execution_count": null,
   "id": "499a1655-1289-49b2-a174-89f8af2be43e",
   "metadata": {},
   "outputs": [],
   "source": [
    "end = dt.datetime.now(dt.timezone.utc)\n",
    "start = end - dt.timedelta(days=5000)\n",
    "fills = get_fills_with_client_ids(client, \"SOL-USD\", start, end, client_id_prefix=None)\n",
    "fills"
   ]
  },
  {
   "cell_type": "code",
   "execution_count": null,
   "id": "66363a46-834f-4a65-b562-d779c68e5e01",
   "metadata": {},
   "outputs": [],
   "source": [
    "## Fills from Stop Loss Breach\n",
    "end = dt.datetime.now(dt.timezone.utc)\n",
    "start = end - dt.timedelta(days=5)\n",
    "fills = get_fills_with_client_ids(client, \"SOL-USD\", start, end, client_id_prefix='stop')\n",
    "fills"
   ]
  },
  {
   "cell_type": "code",
   "execution_count": null,
   "id": "2b4fdcf5-a08f-40c5-87a8-7a5ae7927dc9",
   "metadata": {},
   "outputs": [],
   "source": []
  },
  {
   "cell_type": "markdown",
   "id": "3a513bb0-b6a0-40fa-b11c-5c24c777425c",
   "metadata": {},
   "source": [
    "## Test 5: Update/Replace a trailing stop (Chandelier)"
   ]
  },
  {
   "cell_type": "code",
   "execution_count": null,
   "id": "0bd724de-380d-4f94-863d-c9f325be9ba2",
   "metadata": {},
   "outputs": [],
   "source": [
    "PRODUCT_ID = \"SOL-USD\"\n",
    "PREFIX = \"stop-\"  # your function already uses this\n",
    "client = cn.get_coinbase_rest_api_client(portfolio_name=portfolio_name)\n",
    "\n",
    "# sanity: you do have a live position\n",
    "pos = get_current_positions_from_portfolio(client, ticker_list=[PRODUCT_ID], portfolio_name=portfolio_name)[PRODUCT_ID]\n",
    "print(\"qty:\", pos[\"ticker_qty\"], \"avg:\", pos[\"ticker_mid_price\"])\n"
   ]
  },
  {
   "cell_type": "code",
   "execution_count": null,
   "id": "9400ad20-f2c3-4db1-b29f-803885774302",
   "metadata": {},
   "outputs": [],
   "source": [
    "pos"
   ]
  },
  {
   "cell_type": "code",
   "execution_count": null,
   "id": "3da8c6a9-8186-4ebb-b9d1-c192ae8dc069",
   "metadata": {},
   "outputs": [],
   "source": [
    "ticker = 'SOL-USD'\n",
    "update_trailing_stop_chandelier(client, df, ticker, date, highest_high_window=56, rolling_atr_window=20, atr_multiplier=2.5, stop_loss_replace_threshold_ticks=1, \n",
    "                                client_id_prefix=\"stop-\", limit_price_buffer=0.005)"
   ]
  },
  {
   "cell_type": "code",
   "execution_count": null,
   "id": "920cb453-4941-4aa6-b7fd-577ca7ce64d0",
   "metadata": {},
   "outputs": [],
   "source": [
    "ticker = 'SOL-USD'\n",
    "update_trailing_stop_chandelier(client, df, ticker, date, highest_high_window=56, rolling_atr_window=20, atr_multiplier=2.5, stop_loss_replace_threshold_ticks=1, \n",
    "                                client_id_prefix=\"stop-\", limit_price_buffer=0.005)"
   ]
  },
  {
   "cell_type": "code",
   "execution_count": null,
   "id": "189f9241-2494-4e5e-96a0-7f9607cb8aa5",
   "metadata": {},
   "outputs": [],
   "source": [
    "print(f'Get Portfolio Equity and Cash Time: {datetime.now()}')\n",
    "## Get Live Portfolio Equity\n",
    "portfolio_equity, available_cash = get_live_portfolio_equity_and_cash(client=client, portfolio_name=portfolio_name)\n",
    "\n",
    "print(f'Get Portfolio Position Breakdown Time: {datetime.now()}')\n",
    "## Get Portfolio Breakdown\n",
    "df_portfolio_breakdown = cn.get_portfolio_breakdown(client, portfolio_uuid=portfolio_uuid)\n",
    "\n",
    "print(f'Get Current Positions Time: {datetime.now()}')\n",
    "## Get Current Positions using Mid-Price\n",
    "## TODO: CHECK TO SEE IF THE MID-PRICE BEING CAPTURED IS ACCURATE FROM COINBASE\n",
    "current_positions = get_current_positions_from_portfolio(client, ticker_list=ticker_list, portfolio_name=portfolio_name)"
   ]
  },
  {
   "cell_type": "code",
   "execution_count": null,
   "id": "49d488b2-06b3-4f4d-8bc0-a6180f5b1bae",
   "metadata": {},
   "outputs": [],
   "source": [
    "actual_position_size_cols = [f'{ticker}_actual_position_size' for ticker in ticker_list]\n",
    "actual_position_notional_cols = [f'{ticker}_actual_position_notional' for ticker in ticker_list]\n",
    "df[actual_position_cols + actual_position_notional_cols].tail()"
   ]
  },
  {
   "cell_type": "code",
   "execution_count": null,
   "id": "642a8ed3-bb6e-4159-a8be-54d524ffb687",
   "metadata": {},
   "outputs": [],
   "source": [
    "df[stop_loss_cols].tail()"
   ]
  },
  {
   "cell_type": "code",
   "execution_count": null,
   "id": "c448b184-3ca0-4b0b-88ab-f09bea65c26c",
   "metadata": {},
   "outputs": [],
   "source": [
    "# OPTIONAL: a one-line clamp to ensure preview fails (stop above last)\n",
    "last = float(get_product_meta(client, PRODUCT_ID)[\"last\"]) if \"last\" in get_product_meta(client, PRODUCT_ID) else None\n",
    "# or fetch your last via your own price function\n",
    "# desired_stop = max(desired_stop, last + 0.5)  # force fail; remove after test\n",
    "last"
   ]
  },
  {
   "cell_type": "code",
   "execution_count": null,
   "id": "4319d429-711e-45f7-9b9d-6e6f61bff535",
   "metadata": {},
   "outputs": [],
   "source": [
    "get_product_meta(client, PRODUCT_ID)"
   ]
  },
  {
   "cell_type": "code",
   "execution_count": null,
   "id": "e6ad1b67-0419-4f63-9360-7eb00c9ac8a0",
   "metadata": {},
   "outputs": [],
   "source": [
    "date = pd.Timestamp('2025-10-13').date()#datetime.now(timezone.utc).date()"
   ]
  },
  {
   "cell_type": "code",
   "execution_count": null,
   "id": "afff98a1-98e6-4384-8b86-fdf1cdad1ed1",
   "metadata": {},
   "outputs": [],
   "source": [
    "date"
   ]
  },
  {
   "cell_type": "code",
   "execution_count": null,
   "id": "1eeaff90-e873-46a2-af56-cabebe372851",
   "metadata": {},
   "outputs": [],
   "source": [
    "res = update_trailing_stop_chandelier(\n",
    "    client, df, ticker=PRODUCT_ID, date=date,\n",
    "    highest_high_window=56, rolling_atr_window=20, atr_multiplier=2.5,\n",
    "    stop_loss_replace_threshold_ticks=1, client_id_prefix=PREFIX\n",
    ")\n",
    "res\n"
   ]
  },
  {
   "cell_type": "code",
   "execution_count": null,
   "id": "1b8698fe-426b-47ea-990b-26b4db8e0d15",
   "metadata": {},
   "outputs": [],
   "source": [
    "res = update_trailing_stop_chandelier(\n",
    "    client, df, ticker=PRODUCT_ID, date=date,\n",
    "    highest_high_window=56, rolling_atr_window=20, atr_multiplier=3,\n",
    "    stop_loss_replace_threshold_ticks=1, client_id_prefix=PREFIX\n",
    ")\n",
    "res\n"
   ]
  },
  {
   "cell_type": "code",
   "execution_count": null,
   "id": "418b4e16-1506-4084-80c5-c430e84dbcc7",
   "metadata": {},
   "outputs": [],
   "source": [
    "float(chandelier_stop_long(date, ticker, highest_high_window, rolling_atr_window, atr_multiplier=3))"
   ]
  },
  {
   "cell_type": "code",
   "execution_count": null,
   "id": "6599a03a-7633-453a-9f19-5c9dc96d691b",
   "metadata": {},
   "outputs": [],
   "source": [
    "open_stops = list_open_stop_orders(client, PRODUCT_ID)\n",
    "open_stops  # you should see stop_price, limit_price, base_size, etc.\n"
   ]
  },
  {
   "cell_type": "code",
   "execution_count": null,
   "id": "2cb23424-75f2-498d-9119-563e6cf0e69a",
   "metadata": {},
   "outputs": [],
   "source": [
    "import datetime as dt\n",
    "end = dt.datetime.now(dt.timezone.utc)\n",
    "start = end - dt.timedelta(days=1)\n",
    "fills = get_fills_with_client_ids(client, PRODUCT_ID, start, end, client_id_prefix=PREFIX)\n",
    "fills  # will show trade_id, order_id, client_order_id=stop-..., price/size/time\n"
   ]
  },
  {
   "cell_type": "code",
   "execution_count": null,
   "id": "ff928a8f-d7ca-465f-a538-375e2a14f453",
   "metadata": {},
   "outputs": [],
   "source": [
    "df[stop_loss_cols].tail()"
   ]
  },
  {
   "cell_type": "code",
   "execution_count": null,
   "id": "14f1e7a6-17b8-473c-96c2-0a577d59d012",
   "metadata": {},
   "outputs": [],
   "source": [
    "df_portfolio_breakdown"
   ]
  },
  {
   "cell_type": "code",
   "execution_count": null,
   "id": "72244e82-24da-4301-b3e4-941064dd61c3",
   "metadata": {},
   "outputs": [],
   "source": [
    "current_positions"
   ]
  },
  {
   "cell_type": "code",
   "execution_count": null,
   "id": "86a21fb2-5d34-45a5-8833-caf7cd002209",
   "metadata": {},
   "outputs": [],
   "source": []
  },
  {
   "cell_type": "code",
   "execution_count": null,
   "id": "3b4f5849-1cfe-4c03-9cea-35f0fca8698c",
   "metadata": {},
   "outputs": [],
   "source": [
    "# Cell 12 — Stop-LIMIT (sell) for the tiny buy\n",
    "\n",
    "# Get a fresh price anchor\n",
    "_, specs, last = compute_test_size(client, PRODUCT_ID, max_usd=MAX_TEST_USD)\n",
    "\n",
    "# Aim stop ~2% below last, limit 0.5% further via buffer_bps=50\n",
    "stop_price = _round_down(last * 0.98, specs[\"price_increment\"])\n",
    "pos_size = size  # protect what we (expect to) own\n",
    "\n",
    "client_order_id = f\"stop-{PRODUCT_ID}-{int(time.time())}\"\n",
    "print(\"Preview stop-limit:\")\n",
    "st_pv = place_stop_limit_order(\n",
    "    client=client,\n",
    "    product_id=PRODUCT_ID,\n",
    "    side=\"SELL\",\n",
    "    stop_price=stop_price,\n",
    "    size=pos_size,\n",
    "    client_order_id=client_order_id,\n",
    "    buffer_bps=50,\n",
    "    preview=True,\n",
    "    price_increment=specs[\"price_increment\"],\n",
    "    base_increment=specs[\"base_increment\"],\n",
    "    quote_min_size=specs[\"quote_min_size\"]\n",
    ")\n",
    "print(json.dumps(_as_dict(st_pv), indent=2))\n",
    "\n",
    "# If preview looks good, uncomment to create live:\n",
    "# st_cr = place_stop_limit_order(\n",
    "#     client=client,\n",
    "#     product_id=PRODUCT_ID,\n",
    "#     side=\"SELL\",\n",
    "#     stop_price=stop_price,\n",
    "#     size=pos_size,\n",
    "#     client_order_id=client_order_id,\n",
    "#     buffer_bps=50,\n",
    "#     preview=False,\n",
    "#     price_increment=specs[\"price_increment\"],\n",
    "#     base_increment=specs[\"base_increment\"],\n",
    "#     quote_min_size=specs[\"quote_min_size\"]\n",
    "# )\n",
    "# print(json.dumps(_as_dict(st_cr), indent=2))\n"
   ]
  },
  {
   "cell_type": "code",
   "execution_count": null,
   "id": "5649ad81-1ee4-499c-8372-b4f40f939954",
   "metadata": {},
   "outputs": [],
   "source": []
  },
  {
   "cell_type": "code",
   "execution_count": null,
   "id": "e18fa2cb-7a11-4ffa-ad39-8afe8f7c947c",
   "metadata": {},
   "outputs": [],
   "source": []
  },
  {
   "cell_type": "code",
   "execution_count": null,
   "id": "427f1f7e-93d7-4360-9dde-845bf241e961",
   "metadata": {},
   "outputs": [],
   "source": []
  },
  {
   "cell_type": "code",
   "execution_count": null,
   "id": "b34a43b0-0466-4b19-b6ab-ba9ce6b4e733",
   "metadata": {},
   "outputs": [],
   "source": [
    "import math, time, uuid\n",
    "from typing import Dict, Any\n",
    "\n",
    "def get_product_meta(client, product_id: str):\n",
    "    \"\"\"\n",
    "    Returns increments & mins for sizing/price rounding.\n",
    "    \"\"\"\n",
    "    p = client.get_product(product_id)  # Advanced Trade: /api/v3/brokerage/products/{product_id}\n",
    "    # Public/List Public Products also exposes similar fields.\n",
    "    # Fields include base_increment, quote_increment, base_min_size, quote_min_size, price_increment, etc.\n",
    "    return {\n",
    "        \"base_increment\": float(p.base_increment),                                                    ## Minimum amount base value can be increased or decreased at once.\n",
    "        \"quote_increment\": float(p.quote_increment) if getattr(p, \"quote_increment\", None) else None, ## Minimum amount quote value can be increased or decreased at once\n",
    "        \"base_min_size\": float(p.base_min_size),                                                      ## Minimum size that can be represented of base currency\n",
    "        \"quote_min_size\": float(p.quote_min_size) if getattr(p, \"quote_min_size\", None) else None,    ## Minimum size that can be represented of quote currency\n",
    "        \"price_increment\": float(p.price_increment) if getattr(p, \"price_increment\", None) else None, ## Minimum amount price can be increased or decreased at once\n",
    "    }\n",
    "\n",
    "def round_down(x, step):\n",
    "    if step is None or step == 0:\n",
    "        return x\n",
    "    return math.floor(x / step) * step\n",
    "    \n",
    "\n",
    "def round_to_increment(x, step):\n",
    "    # For prices it’s usually exact multiples; round to nearest multiple.\n",
    "    if step is None or step == 0:\n",
    "        return x\n",
    "    return round(round(x / step) * step, int(max(0, -math.log10(step))))\n",
    "    \n",
    "\n",
    "def current_mid(client, product_id):\n",
    "    \"\"\"\n",
    "    Safer 'now' price: use Best Bid/Ask midpoint.\n",
    "    \"\"\"\n",
    "    bba = client.get_best_bid_ask([product_id]).pricebooks[0]\n",
    "    bid = float(bba['bids'][0]['price'])\n",
    "    ask = float(bba['asks'][0]['price'])\n",
    "    return (bid + ask) / 2.0\n",
    "    \n",
    "    \n",
    "def prev_stop_from_df(df, date, ticker):\n",
    "    col = f'{ticker}_stop_loss'\n",
    "    previous_date = df.index[df.index.get_loc(date) - 1]\n",
    "    if col in df.columns:\n",
    "        v = df[col].shift(1).get(previous_date, np.nan)\n",
    "        return float(v) if np.isfinite(v) else np.nan\n",
    "    return np.nan\n",
    "\n",
    "\n",
    "def refresh_chandelier_stop_for_ticker(\n",
    "    client, df, date, ticker,\n",
    "    highest_high_window=56, rolling_atr_window=20, atr_multiplier=2.5,\n",
    "    client_id_prefix=\"stop-\",\n",
    "    limit_buffer_bps=50,   # e.g., 50 bps buffer => limit_price = stop*(1 - 0.005) on sell stops\n",
    "    min_tick=None,         # if None, fetch from product specs\n",
    "    min_delta_ticks=1,     # ratchet only if >= 1 tick above current stop\n",
    "    pos_size=None          # pass if you already computed; else we'll try df\n",
    "):\n",
    "    \"\"\"\n",
    "    1) Compute today's Chandelier stop (T-1 data)\n",
    "    2) Read yesterday's stop from df\n",
    "    3) Read open stop(s) from exchange\n",
    "    4) desired_stop = max(prev_df_stop, open_stop_price, new_stop)\n",
    "    5) Only cancel&replace if desired_stop >= open_stop_price + min_delta_ticks * tick\n",
    "\n",
    "    Returns: dict(summary) with 'action' in {\"skip\",\"place\"} and the prices used.\n",
    "    \"\"\"\n",
    "\n",
    "    # --- compute today's new stop from T-1 data\n",
    "    stop_new = chandelier_stop_long(date, ticker, highest_high_window, rolling_atr_window, atr_multiplier)\n",
    "\n",
    "    # --- previous stop from your own df (fast path)\n",
    "    stop_prev_df = prev_stop_from_df(df, date, ticker)\n",
    "\n",
    "    # --- open stop on exchange (if any)\n",
    "    open_stop_price = get_open_stop_price(client, product_id=ticker, client_id_prefix=client_id_prefix)\n",
    "\n",
    "    # --- pick the desired stop (monotone ratchet)\n",
    "    candidates = [x for x in [stop_prev_df, open_stop_price, stop_new] if np.isfinite(x)]\n",
    "    if not candidates:\n",
    "        desired_stop = stop_new\n",
    "    else:\n",
    "        desired_stop = max(candidates)\n",
    "\n",
    "    # --- figure tick & rounding\n",
    "    tick = min_tick\n",
    "    if tick is None:\n",
    "        try:\n",
    "            specs = cn.get_product_specs(client, ticker)  # implement to return increments\n",
    "            # Accept common field names:\n",
    "            tick = float(specs.get('price_increment') or specs.get('quote_increment') or specs.get('tick_size') or 0.0)\n",
    "        except Exception:\n",
    "            tick = 0.0\n",
    "    tick = tick if (tick and tick > 0) else 1e-6  # safe tiny tick if unknown\n",
    "\n",
    "    desired_stop = round_to_increment(desired_stop, tick)\n",
    "\n",
    "    # --- decide: skip or replace?\n",
    "    # If we have an open stop, only replace if the new desired is meaningfully higher (>= +min_delta_ticks)\n",
    "    threshold = (open_stop_price if np.isfinite(open_stop_price) else -np.inf) + (min_delta_ticks * tick)\n",
    "    if np.isfinite(open_stop_price) and desired_stop < threshold:\n",
    "        # No meaningful ratchet; skip\n",
    "        df.loc[date, f'{ticker}_stop_loss'] = float(open_stop_price)  # persist what’s effectively active\n",
    "        return {\n",
    "            \"action\": \"skip\",\n",
    "            \"reason\": \"no_ratchet\",\n",
    "            \"open_stop_price\": float(open_stop_price),\n",
    "            \"prev_df_stop\": float(stop_prev_df) if np.isfinite(stop_prev_df) else None,\n",
    "            \"stop_new\": float(stop_new),\n",
    "            \"desired_stop\": float(desired_stop),\n",
    "            \"tick\": float(tick)\n",
    "        }\n",
    "\n",
    "    # --- cancel existing open stops (avoid duplicates)\n",
    "    try:\n",
    "        open_orders = cn.list_open_orders(client, product_id=ticker) or []\n",
    "        for o in open_orders:\n",
    "            otype = str(o.get('type', '')).lower()\n",
    "            if ('stop' in otype) or (o.get('stop_price') is not None):\n",
    "                cn.cancel_order(client, o.get('order_id'))\n",
    "    except Exception as e:\n",
    "        # Log & continue; we still attempt to place the new one\n",
    "        print(f\"[warn] cancel stop failed for {ticker}: {e}\")"
   ]
  },
  {
   "cell_type": "code",
   "execution_count": null,
   "id": "30c2c47f-d973-446e-a33b-66bea0a60ebb",
   "metadata": {},
   "outputs": [],
   "source": [
    "client.list_orders(client, product_id=ticker)"
   ]
  },
  {
   "cell_type": "code",
   "execution_count": null,
   "id": "e391ad2d-e20d-4e1e-a7ac-76d345ce8b91",
   "metadata": {},
   "outputs": [],
   "source": [
    "client.list_o"
   ]
  },
  {
   "cell_type": "code",
   "execution_count": null,
   "id": "85b7e316-0792-4f99-8136-52659e182935",
   "metadata": {},
   "outputs": [],
   "source": [
    "get_product_meta(client, ticker)"
   ]
  },
  {
   "cell_type": "code",
   "execution_count": null,
   "id": "556f3848-dde9-40b1-b647-5a78a87b3b7e",
   "metadata": {},
   "outputs": [],
   "source": [
    "specs = client.get_product_specs(client, ticker)"
   ]
  },
  {
   "cell_type": "code",
   "execution_count": null,
   "id": "cb10800d-e81b-42a5-8869-2c5e68c6a00a",
   "metadata": {},
   "outputs": [],
   "source": [
    "# Close-anchored ATR trail (alternative)\n",
    "atr_series = calculate_average_true_range_live(date=date, ticker=ticker, rolling_atr_window=rolling_atr_window)[f'{ticker}_{rolling_atr_window}_avg_true_range_price']\n",
    "atr = float(atr_series.loc[date])\n",
    "stop_prev = df.get(f'{ticker}_stop_loss', pd.Series(index=df.index, dtype=float)).shift(1).loc[date]\n",
    "t_1_close = float(df[f'{ticker}_close'].shift(1).loc[date])\n",
    "stop_today = max(stop_prev or -np.inf, t_1_close - atr_multiplier * atr)"
   ]
  },
  {
   "cell_type": "code",
   "execution_count": null,
   "id": "2d583d6b-06d2-49e8-b9e7-e788f6ffcff3",
   "metadata": {},
   "outputs": [],
   "source": [
    "stop_today"
   ]
  },
  {
   "cell_type": "code",
   "execution_count": null,
   "id": "272d2b6b-bd56-4810-870c-a3eb70947b3c",
   "metadata": {},
   "outputs": [],
   "source": [
    "float(calculate_average_true_range_live(date=date, ticker=ticker, rolling_atr_window=rolling_atr_window)[f'{ticker}_{rolling_atr_window}_avg_true_range_price'].loc[date])"
   ]
  },
  {
   "cell_type": "code",
   "execution_count": null,
   "id": "287b26b0-2da2-47ad-8ce9-19d8f7dcfdb3",
   "metadata": {},
   "outputs": [],
   "source": [
    "stop_today"
   ]
  },
  {
   "cell_type": "code",
   "execution_count": null,
   "id": "1b1a1ef2-f919-4787-a5f2-ee7fece26e9b",
   "metadata": {},
   "outputs": [],
   "source": [
    "ticker"
   ]
  },
  {
   "cell_type": "code",
   "execution_count": null,
   "id": "9037f630-cea4-43ec-999d-77b420db3960",
   "metadata": {},
   "outputs": [],
   "source": [
    "df.get(f'{ticker}_stop_loss', pd.Series(index=df.index, dtype=float)).shift(1).loc[date]"
   ]
  },
  {
   "cell_type": "code",
   "execution_count": null,
   "id": "87504c28-7add-4cba-ae59-348c4b572f74",
   "metadata": {},
   "outputs": [],
   "source": []
  },
  {
   "cell_type": "code",
   "execution_count": null,
   "id": "a2640a9b-85ac-4e4d-b9b0-5dae9b00d8a7",
   "metadata": {},
   "outputs": [],
   "source": [
    "float(calculate_average_true_range_live(date=date, ticker=ticker, rolling_atr_window=rolling_atr_window)[f'{ticker}_{rolling_atr_window}_avg_true_range_price'].loc[date])"
   ]
  },
  {
   "cell_type": "code",
   "execution_count": null,
   "id": "7ea7cdce-aba2-40fe-b257-bd53d2eccb54",
   "metadata": {},
   "outputs": [],
   "source": [
    "df.get(f'{ticker}_stop_loss', pd.Series(index=df.index, dtype=float))"
   ]
  },
  {
   "cell_type": "code",
   "execution_count": null,
   "id": "023b629b-8652-4962-896a-2d630af6ef17",
   "metadata": {},
   "outputs": [],
   "source": [
    "df.get(f'{ticker}_stop_loss', pd.Series(index=df.index, dtype=float)).shift(1).loc[date]"
   ]
  },
  {
   "cell_type": "code",
   "execution_count": null,
   "id": "a919c609-1d48-44d8-8d66-2e83be3c0993",
   "metadata": {},
   "outputs": [],
   "source": [
    "df_atr_test[f'{ticker}_high'].rolling(rolling_atr_window).max().shift(1)"
   ]
  },
  {
   "cell_type": "code",
   "execution_count": null,
   "id": "6c023e01-b693-4859-a9e3-6303073a9502",
   "metadata": {},
   "outputs": [],
   "source": [
    "df_atr_test[f'{ticker}_high'].rolling(rolling_atr_window).max()"
   ]
  },
  {
   "cell_type": "code",
   "execution_count": null,
   "id": "f796f939-9c7d-4c8a-9c0c-6a6203497e99",
   "metadata": {},
   "outputs": [],
   "source": [
    "highest_high_window = 56\n",
    "chandelier_stop_long(date, ticker, highest_high_window, rolling_atr_window, atr_multiplier)"
   ]
  },
  {
   "cell_type": "code",
   "execution_count": null,
   "id": "ba9af0cd-2f21-46d1-840b-32365a9f64bf",
   "metadata": {},
   "outputs": [],
   "source": [
    "df_atr_test = calculate_average_true_range_live(date, ticker, rolling_atr_window=20)"
   ]
  },
  {
   "cell_type": "code",
   "execution_count": null,
   "id": "f16bdd82-b077-4361-a4f7-11a59a415eba",
   "metadata": {},
   "outputs": [],
   "source": [
    "df_atr_test[f'{ticker}_{rolling_atr_window}_avg_true_range_price'].loc[date]"
   ]
  },
  {
   "cell_type": "code",
   "execution_count": null,
   "id": "80431c47-5362-43f9-845d-e1e60431b9ca",
   "metadata": {},
   "outputs": [],
   "source": [
    "35.82 - 2.5 * 2.1045328294561823"
   ]
  },
  {
   "cell_type": "code",
   "execution_count": null,
   "id": "105ebd9f-182e-4c49-a4c8-9213e45b9c27",
   "metadata": {},
   "outputs": [],
   "source": []
  },
  {
   "cell_type": "code",
   "execution_count": null,
   "id": "3adf0d6c-3f10-4356-ab45-f6412dd85f3c",
   "metadata": {},
   "outputs": [],
   "source": [
    "df_atr_test.tail()"
   ]
  },
  {
   "cell_type": "code",
   "execution_count": null,
   "id": "ac4f9f5d-acd5-4957-8436-bc0757f4b9bb",
   "metadata": {},
   "outputs": [],
   "source": [
    "client.list_orders(product_ids='BTC-USD')"
   ]
  },
  {
   "cell_type": "code",
   "execution_count": null,
   "id": "7a0cc2c2-c1d4-4f62-aea2-4c310ccd8d75",
   "metadata": {},
   "outputs": [],
   "source": [
    "df_atr.tail()"
   ]
  },
  {
   "cell_type": "code",
   "execution_count": null,
   "id": "4119caaf-1c57-42d9-9261-09a3ab1693a3",
   "metadata": {},
   "outputs": [],
   "source": [
    "avg_true_range_cols = [f'{ticker}_20_avg_true_range_price' for ticker in ticker_list]"
   ]
  },
  {
   "cell_type": "code",
   "execution_count": null,
   "id": "69ea9912-b31b-41b3-96d4-64a5e6a3da8f",
   "metadata": {},
   "outputs": [],
   "source": [
    "df[avg_true_range_cols].tail()"
   ]
  },
  {
   "cell_type": "code",
   "execution_count": null,
   "id": "ad1e07db-d338-4dd1-8594-2120f2f6fc49",
   "metadata": {},
   "outputs": [],
   "source": [
    "stop_loss_cols = [f'{ticker}_stop_loss' for ticker in ticker_list]\n",
    "df[stop_loss_cols].tail()"
   ]
  },
  {
   "cell_type": "code",
   "execution_count": null,
   "id": "6e8f9fe7-e373-414b-9778-eba28815b9d0",
   "metadata": {},
   "outputs": [],
   "source": [
    "for t, d in desired_positions.items():\n",
    "    print(t, d)"
   ]
  },
  {
   "cell_type": "code",
   "execution_count": null,
   "id": "53bcc6ce-7169-454c-8734-4d86287498f6",
   "metadata": {},
   "outputs": [],
   "source": [
    "current_positions[t]['ticker_mid_price']"
   ]
  },
  {
   "cell_type": "code",
   "execution_count": null,
   "id": "acced7a3-8663-44c4-9608-89dc967ad67a",
   "metadata": {},
   "outputs": [],
   "source": [
    "np.isfinite(current_positions[t]['ticker_mid_price'])"
   ]
  },
  {
   "cell_type": "code",
   "execution_count": null,
   "id": "924a638b-1266-4ebc-83dd-c5344d607d51",
   "metadata": {},
   "outputs": [],
   "source": [
    "float(d.get('new_trade_notional', 0.0))"
   ]
  },
  {
   "cell_type": "code",
   "execution_count": null,
   "id": "f7b84d42-3cbd-4faa-b899-bbd444c86711",
   "metadata": {},
   "outputs": [],
   "source": [
    "cash_shrink_factor"
   ]
  },
  {
   "cell_type": "code",
   "execution_count": null,
   "id": "7d3106cf-d905-44fc-9478-3db1a044f395",
   "metadata": {},
   "outputs": [],
   "source": [
    "current_positions"
   ]
  },
  {
   "cell_type": "code",
   "execution_count": null,
   "id": "9bf03405-dc7a-4192-bee5-cc4cdee9f999",
   "metadata": {},
   "outputs": [],
   "source": [
    "desired_positions"
   ]
  },
  {
   "cell_type": "code",
   "execution_count": null,
   "id": "fa8f8827-3a47-45b5-a752-e882b2de07bd",
   "metadata": {},
   "outputs": [],
   "source": [
    "current_notional_cols = [f'{ticker}_actual_position_notional' for ticker in ticker_list]\n",
    "target_notional_cols = [f'{ticker}_target_notional' for ticker in ticker_list]"
   ]
  },
  {
   "cell_type": "code",
   "execution_count": null,
   "id": "8c252ca3-0856-4599-87f4-afab5097e540",
   "metadata": {},
   "outputs": [],
   "source": [
    "df[current_notional_cols].tail()"
   ]
  },
  {
   "cell_type": "code",
   "execution_count": null,
   "id": "360b5b45-7c8d-46dd-a344-8c03fadfc632",
   "metadata": {},
   "outputs": [],
   "source": [
    "df[target_notional_cols].tail()"
   ]
  },
  {
   "cell_type": "code",
   "execution_count": null,
   "id": "2cbbba50-dee0-483b-8569-d3e0616ec6ad",
   "metadata": {},
   "outputs": [],
   "source": [
    "signal_cols = [f'{ticker}_final_signal' for ticker in ticker_list]\n",
    "df[signal_cols].tail()"
   ]
  },
  {
   "cell_type": "code",
   "execution_count": null,
   "id": "0db425a7-d670-4667-b1ef-7bd660d487c1",
   "metadata": {},
   "outputs": [],
   "source": [
    "df.tail()"
   ]
  },
  {
   "cell_type": "code",
   "execution_count": null,
   "id": "ff235f86-6593-42c3-af49-55f3259dbfa4",
   "metadata": {},
   "outputs": [],
   "source": [
    "desired_positions = {}\n",
    "cash_debit = 0.0  # buys + fees\n",
    "cash_credit = 0.0  # sells - fees\n",
    "available_cash = df['available_cash'].loc[date] * (1 - cash_buffer_percentage)\n",
    "\n",
    "## Estimated Transaction Costs and Fees\n",
    "est_fees = (transaction_cost_est + perf.estimate_fee_per_trade(passive_trade_rate))\n",
    "\n",
    "for ticker in ticker_list:\n",
    "    ## Calculate the cash need from all new target positions\n",
    "    target_notional = df[f'{ticker}_target_notional'].loc[date]\n",
    "    current_notional = df[f'{ticker}_actual_position_size'].loc[previous_date] * df[f'{ticker}_open'].loc[date]\n",
    "    new_trade_notional = target_notional - current_notional\n",
    "    trade_fees = abs(new_trade_notional) * est_fees\n",
    "\n",
    "    ## Calculate notional difference to determine if a trade is warranted\n",
    "    portfolio_equity_trade_threshold = notional_threshold_pct * total_portfolio_value\n",
    "    notional_threshold = notional_threshold_pct * abs(target_notional)\n",
    "    notional_floors_list = [\n",
    "        portfolio_equity_trade_threshold, notional_threshold, min_trade_notional_abs\n",
    "    ]\n",
    "    notional_floor = max(notional_floors_list)\n",
    "    if abs(new_trade_notional) > notional_floor:\n",
    "        desired_positions[ticker] = {'new_trade_notional': new_trade_notional,\n",
    "                                     'trade_fees': trade_fees}\n",
    "    else:\n",
    "        desired_positions[ticker] = {'new_trade_notional': 0,\n",
    "                                     'trade_fees': 0}\n",
    "\n",
    "    if new_trade_notional >= 0:\n",
    "        ## Buys\n",
    "        cash_debit = cash_debit + new_trade_notional\n",
    "    else:\n",
    "        ## Sells\n",
    "        net_trade_notional = new_trade_notional + trade_fees\n",
    "        cash_credit = cash_credit + abs(net_trade_notional)\n",
    "\n",
    "net_cash_need = cash_debit - cash_credit\n",
    "if net_cash_need > available_cash + 1e-6:\n",
    "    cash_shrink_factor = available_cash / net_cash_need  # 0 < shrink < 1\n",
    "else:\n",
    "    cash_shrink_factor = 1.0\n",
    "\n",
    "df[f'cash_shrink_factor'].loc[date] = cash_shrink_factor"
   ]
  },
  {
   "cell_type": "code",
   "execution_count": null,
   "id": "47cc538e-8cb6-4397-afb7-a3b52fdc0999",
   "metadata": {},
   "outputs": [],
   "source": [
    "cash_shrink_factor"
   ]
  },
  {
   "cell_type": "code",
   "execution_count": null,
   "id": "c89281d7-cf1a-487b-8cc2-70954f23e26d",
   "metadata": {},
   "outputs": [],
   "source": [
    "desired_positions"
   ]
  },
  {
   "cell_type": "code",
   "execution_count": null,
   "id": "650575dc-032b-4043-92bb-519ef70eb76d",
   "metadata": {},
   "outputs": [],
   "source": [
    "current_positions"
   ]
  },
  {
   "cell_type": "code",
   "execution_count": null,
   "id": "e1ca03b7-b77d-404f-b726-002162200d55",
   "metadata": {},
   "outputs": [],
   "source": [
    "target_notional_cols = [f'{ticker}_target_notional' for ticker in ticker_list]\n",
    "df[target_notional_cols].tail()"
   ]
  },
  {
   "cell_type": "code",
   "execution_count": null,
   "id": "b31e442c-7a64-494d-b937-bf1b1d3a28d5",
   "metadata": {},
   "outputs": [],
   "source": [
    "df.tail()"
   ]
  },
  {
   "cell_type": "code",
   "execution_count": null,
   "id": "9b75818d-5ec7-4c22-9eb7-b3c46e48fa19",
   "metadata": {},
   "outputs": [],
   "source": [
    "cash_shrink_factor"
   ]
  },
  {
   "cell_type": "code",
   "execution_count": null,
   "id": "d80ab4eb-dfef-410c-aa02-8dd3de177bff",
   "metadata": {},
   "outputs": [],
   "source": [
    "total_portfolio_value"
   ]
  },
  {
   "cell_type": "code",
   "execution_count": null,
   "id": "ea19b0e0-3d7d-410b-b705-b658babf183f",
   "metadata": {},
   "outputs": [],
   "source": [
    "portfolio_equity"
   ]
  },
  {
   "cell_type": "code",
   "execution_count": null,
   "id": "34bee074-16cc-40f4-951a-45fda07d41cd",
   "metadata": {},
   "outputs": [],
   "source": [
    "available_cash"
   ]
  },
  {
   "cell_type": "code",
   "execution_count": null,
   "id": "f6da6ca3-ab2e-40ad-a69c-eb3f8b6ee650",
   "metadata": {},
   "outputs": [],
   "source": [
    "df.tail()"
   ]
  },
  {
   "cell_type": "code",
   "execution_count": null,
   "id": "271c4714-a864-4c10-943a-479d93c6b62e",
   "metadata": {},
   "outputs": [],
   "source": [
    "new_trade_notional_sum = 0\n",
    "for ticker in cfg['universe']['tickers']:\n",
    "    new_trade_notional_sum += desired_positions[ticker]['new_trade_notional']\n",
    "\n",
    "print(f'Total New Trade Notional: {new_trade_notional_sum}')\n",
    "desired_positions"
   ]
  },
  {
   "cell_type": "code",
   "execution_count": null,
   "id": "aae3dd12-5444-4630-b0e6-5ec9039fa0fc",
   "metadata": {},
   "outputs": [],
   "source": [
    "df_signal.tail()"
   ]
  },
  {
   "cell_type": "code",
   "execution_count": null,
   "id": "44e865dd-d663-4f91-8329-fe0f595c5d72",
   "metadata": {},
   "outputs": [],
   "source": [
    "## Strategy Parameters\n",
    "cfg = load_prod_strategy_config()\n",
    "end_date = datetime.now().date\n",
    "portfolio_name = 'Default'#cfg['portfolio']['name']\n",
    "target_vol_kwargs = {\n",
    "    \"df\": df_signal,\n",
    "    \"date\": end_date,\n",
    "    \"ticker_list\": cfg['universe']['tickers'],\n",
    "    \"initial_capital\": cfg['run']['initial_capital'],\n",
    "    \"rolling_cov_window\": cfg['risk_and_sizing']['rolling_cov_window'],\n",
    "    \"rolling_atr_window\": cfg['risk_and_sizing']['rolling_atr_window'],\n",
    "    \"atr_multiplier\": cfg['risk_and_sizing']['atr_multiplier'],\n",
    "    \"cash_buffer_percentage\": cfg['risk_and_sizing']['cash_buffer_percentage'],\n",
    "    \"annualized_target_volatility\": cfg['risk_and_sizing']['annualized_target_volatility'],\n",
    "    \"transaction_cost_est\": cfg['execution_and_costs']['transaction_cost_est'],\n",
    "    \"passive_trade_rate\": cfg['execution_and_costs']['passive_trade_rate'],\n",
    "    \"notional_threshold_pct\": cfg['execution_and_costs']['notional_threshold_pct'],\n",
    "    \"min_trade_notional_abs\": cfg['execution_and_costs']['min_trade_notional_abs'],\n",
    "    \"cooldown_counter_threshold\": cfg['execution_and_costs']['cooldown_counter_threshold'],\n",
    "    \"annual_trading_days\": cfg['run']['annual_trading_days'],\n",
    "    \"use_specific_start_date\": False,\n",
    "    \"signal_start_date\": cfg['run']['signal_start_date'],\n",
    "    \"portfolio_name\": portfolio_name\n",
    "}\n",
    "\n",
    "df_target_notional, desired_trades, cash_shrink_factor = get_target_notional_by_ticker(**target_vol_kwargs)"
   ]
  },
  {
   "cell_type": "code",
   "execution_count": null,
   "id": "23bc5432-0f54-40d5-b8b6-cc24a35af423",
   "metadata": {},
   "outputs": [],
   "source": [
    "new_trade_notional_sum = 0\n",
    "for ticker in cfg['universe']['tickers']:\n",
    "    new_trade_notional_sum += desired_trades[ticker]['new_trade_notional']\n",
    "\n",
    "print(f'Total New Trade Notional: {new_trade_notional_sum}')\n",
    "desired_trades"
   ]
  },
  {
   "cell_type": "code",
   "execution_count": null,
   "id": "4eab2720-249b-419a-805b-b1db4e18ece7",
   "metadata": {},
   "outputs": [],
   "source": [
    "df_target_notional.shape"
   ]
  },
  {
   "cell_type": "code",
   "execution_count": null,
   "id": "c173c34b-4780-4423-87fd-f98d12439889",
   "metadata": {},
   "outputs": [],
   "source": [
    "df_target_notional.tail()"
   ]
  },
  {
   "cell_type": "markdown",
   "id": "c818fa03-8096-466e-acc8-6576b80202dc",
   "metadata": {},
   "source": [
    "## Build Coinbase Code to Send Orders with the Desired Trades"
   ]
  },
  {
   "cell_type": "code",
   "execution_count": null,
   "id": "cd0fd281-48a3-487d-b276-5d79d5e4f06d",
   "metadata": {},
   "outputs": [],
   "source": [
    "cn_client.get_product(product_id)"
   ]
  },
  {
   "cell_type": "code",
   "execution_count": null,
   "id": "5571720d-6acf-4280-be62-37d3610dbb92",
   "metadata": {},
   "outputs": [],
   "source": [
    "import math, time, uuid\n",
    "from typing import Dict, Any\n",
    "\n",
    "def get_product_meta(client, product_id: str):\n",
    "    \"\"\"\n",
    "    Returns increments & mins for sizing/price rounding.\n",
    "    \"\"\"\n",
    "    p = client.get_product(product_id)  # Advanced Trade: /api/v3/brokerage/products/{product_id}\n",
    "    # Public/List Public Products also exposes similar fields.\n",
    "    # Fields include base_increment, quote_increment, base_min_size, quote_min_size, price_increment, etc.\n",
    "    return {\n",
    "        \"base_increment\": float(p.base_increment),                                                    ## Minimum amount base value can be increased or decreased at once.\n",
    "        \"quote_increment\": float(p.quote_increment) if getattr(p, \"quote_increment\", None) else None, ## Minimum amount quote value can be increased or decreased at once\n",
    "        \"base_min_size\": float(p.base_min_size),                                                      ## Minimum size that can be represented of base currency\n",
    "        \"quote_min_size\": float(p.quote_min_size) if getattr(p, \"quote_min_size\", None) else None,    ## Minimum size that can be represented of quote currency\n",
    "        \"price_increment\": float(p.price_increment) if getattr(p, \"price_increment\", None) else None, ## Minimum amount price can be increased or decreased at once\n",
    "    }"
   ]
  },
  {
   "cell_type": "code",
   "execution_count": null,
   "id": "bce7b176-d63e-4b99-98e4-9687ef906dab",
   "metadata": {},
   "outputs": [],
   "source": [
    "def round_down(x, step):\n",
    "    if step is None or step == 0:\n",
    "        return x\n",
    "    return math.floor(x / step) * step\n",
    "\n",
    "def round_to_increment(x, step):\n",
    "    # For prices it’s usually exact multiples; round to nearest multiple.\n",
    "    if step is None or step == 0:\n",
    "        return x\n",
    "    return round(round(x / step) * step, int(max(0, -math.log10(step))))\n",
    "\n",
    "def current_mid(client, product_id):\n",
    "    \"\"\"\n",
    "    Safer 'now' price: use Best Bid/Ask midpoint.\n",
    "    \"\"\"\n",
    "    bba = client.get_best_bid_ask([product_id]).pricebooks[0]\n",
    "    bid = float(bba['bids'][0]['price'])\n",
    "    ask = float(bba['asks'][0]['price'])\n",
    "    return (bid + ask) / 2.0"
   ]
  },
  {
   "cell_type": "code",
   "execution_count": null,
   "id": "bd7b3ca5-2e11-43d1-93f5-a1202beaf085",
   "metadata": {},
   "outputs": [],
   "source": [
    "## Base = the asset you’re buying/selling (first symbol in the pair).\n",
    "## For BTC-USD, the base is BTC. Quantities in base are “units of the coin.”\n",
    "## Quote = the currency you price the trade in (second symbol).\n",
    "## For BTC-USD, the quote is USD. Prices and notional values are in quote.\n",
    "## Coinbase expects USD amount you want to spend for Buy Orders\n",
    "## Coinbase expects crypto units to sell for Sell Orders\n",
    "\n",
    "def build_order_params(product_id,\n",
    "                       new_trade_notional,  # USD (+ buy, - sell) from your desired_positions[t]['new_trade_notional']\n",
    "                       px_now, meta):\n",
    "    \"\"\"\n",
    "    Returns dict with side and the correct size param, already quantized to increments and mins.\n",
    "    \"\"\"\n",
    "    if new_trade_notional > 0:\n",
    "        side = \"BUY\"\n",
    "        quote_size_raw = abs(new_trade_notional)\n",
    "        # Enforce min & increment on QUOTE\n",
    "        quote_size = max(quote_size_raw, meta[\"quote_min_size\"] or 0.0)\n",
    "        # Some products only enforce funds minimums; quote_increment may be None.\n",
    "        if meta[\"quote_increment\"]:\n",
    "            quote_size = round_down(quote_size, meta[\"quote_increment\"])\n",
    "        if quote_size <= 0:\n",
    "            return {}\n",
    "        return {\"side\": side, \"quote_size\": f\"{quote_size:.8f}\"}\n",
    "    elif new_trade_notional < 0:\n",
    "        side = \"SELL\"\n",
    "        base_size_raw = abs(new_trade_notional) / px_now\n",
    "        # Enforce min & increment on BASE\n",
    "        base_size = max(base_size_raw, meta[\"base_min_size\"])\n",
    "        base_size = round_down(base_size, meta[\"base_increment\"])\n",
    "        if base_size <= 0:\n",
    "            return {}\n",
    "        return {\"side\": side, \"base_size\": f\"{base_size:.8f}\"}\n",
    "    else:\n",
    "        return {}"
   ]
  },
  {
   "cell_type": "code",
   "execution_count": null,
   "id": "26a7bd7e-248d-4a6f-af6e-0b2604c62702",
   "metadata": {},
   "outputs": [],
   "source": [
    "from coinbase.rest import RESTClient\n",
    "\n",
    "def place_primary_order(client: RESTClient,\n",
    "                        product_id: str,\n",
    "                        side: str,\n",
    "                        quote_size: str | None,\n",
    "                        base_size: str | None,\n",
    "                        portfolio_id: str) -> dict:\n",
    "    \"\"\"\n",
    "    Submit a market order. BUY: quote_size; SELL: base_size.\n",
    "    \"\"\"\n",
    "    client_order_id = str(uuid.uuid4())\n",
    "    # Optional: preview first\n",
    "    try:\n",
    "        if side == \"BUY\":\n",
    "            client.preview_market_order_buy(\n",
    "                product_id=product_id,\n",
    "                quote_size=quote_size,\n",
    "                retail_portfolio_id=portfolio_id\n",
    "            )\n",
    "        else:\n",
    "            client.preview_market_order_sell(\n",
    "                product_id=product_id,\n",
    "                base_size=base_size,\n",
    "                retail_portfolio_id=portfolio_id\n",
    "            )\n",
    "    except Exception as e:\n",
    "        raise RuntimeError(f\"Preview failed for {product_id} {side}: {e}\")\n",
    "\n",
    "    # Send the live order\n",
    "    if side == \"BUY\":\n",
    "        resp = client.market_order_buy(\n",
    "            client_order_id=client_order_id,\n",
    "            product_id=product_id,\n",
    "            quote_size=quote_size,\n",
    "            retail_portfolio_id=portfolio_id\n",
    "        )\n",
    "    else:\n",
    "        resp = client.market_order_sell(\n",
    "            client_order_id=client_order_id,\n",
    "            product_id=product_id,\n",
    "            base_size=base_size,\n",
    "            retail_portfolio_id=portfolio_id\n",
    "        )\n",
    "\n",
    "    return {\"client_order_id\": client_order_id, \"response\": resp}\n"
   ]
  },
  {
   "cell_type": "code",
   "execution_count": null,
   "id": "265ab48e-f857-4a41-9f07-a64735cc2748",
   "metadata": {},
   "outputs": [],
   "source": [
    "meta = get_product_meta(cn_client, product_id='ETH-USD')\n",
    "px_now = current_mid(cn_client, product_id='ETH-USD')\n",
    "build_order_params(product_id='ETH-USD', new_trade_notional=desired_trades['ETH-USD']['new_trade_notional'], meta=meta, px_now=px_now)"
   ]
  },
  {
   "cell_type": "code",
   "execution_count": null,
   "id": "3487cb61-a358-431e-82bd-9522d881b4bc",
   "metadata": {},
   "outputs": [],
   "source": [
    "client_order_id = str(uuid.uuid4())\n",
    "product_id = 'ETH-USD'\n",
    "meta_eth = get_product_meta(cn_client, product_id=product_id)\n",
    "eth_px_now = current_mid(cn_client, product_id=product_id)\n",
    "quote_size = build_order_params(product_id=product_id, new_trade_notional=desired_trades[product_id]['new_trade_notional'],\n",
    "                               meta=meta_eth, px_now=eth_px_now)"
   ]
  },
  {
   "cell_type": "code",
   "execution_count": null,
   "id": "6932f2dd-9058-41fe-b304-5ba4491046ed",
   "metadata": {},
   "outputs": [],
   "source": [
    "quote_size"
   ]
  },
  {
   "cell_type": "code",
   "execution_count": null,
   "id": "1c30e8a6-744d-4145-bf51-a00cc7767f4c",
   "metadata": {},
   "outputs": [],
   "source": [
    "meta_eth"
   ]
  },
  {
   "cell_type": "code",
   "execution_count": null,
   "id": "a23933d0-0f7b-4ee0-84cd-0269ec380c2a",
   "metadata": {},
   "outputs": [],
   "source": [
    "portfolio_id = cn.get_portfolio_uuid(client=cn_client, portfolio_name=cfg['portfolio']['name'])"
   ]
  },
  {
   "cell_type": "code",
   "execution_count": null,
   "id": "f396ac26-a7d9-4818-8295-22b739b3b642",
   "metadata": {},
   "outputs": [],
   "source": [
    "cn_client.preview_market_order_buy(product_id=product_id, quote_size=quote_size['quote_size'], retail_portfolio_id=portfolio_id)"
   ]
  },
  {
   "cell_type": "code",
   "execution_count": null,
   "id": "05b18a95-a5c7-45c0-9a0e-5809e26a4405",
   "metadata": {},
   "outputs": [],
   "source": [
    "cn_client.preview_market_order_sell(product_id=product_id, base_size=quote_size['quote_size'], retail_portfolio_id=portfolio_id)"
   ]
  },
  {
   "cell_type": "markdown",
   "id": "b6d58774-beed-44fa-a97d-24e78fa1d03e",
   "metadata": {},
   "source": [
    "## Setting up Test Script to Automatically Pull CLose and Open Prices Daily"
   ]
  },
  {
   "cell_type": "code",
   "execution_count": null,
   "id": "908d4b09-d4d9-4810-9645-8213b731ead5",
   "metadata": {},
   "outputs": [],
   "source": [
    "client = cn.get_coinbase_rest_api_client(portfolio_name=portfolio_name)\n",
    "\n",
    "start_ts = str(int(pd.Timestamp('2025-10-01', tz='UTC').timestamp()))  # '1759276800'\n",
    "end_ts   = str(int(pd.Timestamp('2025-10-14', tz='UTC').timestamp()))  # '1759536000'\n",
    "\n",
    "df_ticker = cn.get_coinbase_daily_historical_price_data(\n",
    "    client,\n",
    "    ticker='BTC-USD',\n",
    "    start_timestamp=start_ts,\n",
    "    end_timestamp=end_ts\n",
    ")\n"
   ]
  },
  {
   "cell_type": "code",
   "execution_count": null,
   "id": "f8d89df6-f390-445b-a37e-54314295a21d",
   "metadata": {},
   "outputs": [],
   "source": [
    "df_ticker"
   ]
  },
  {
   "cell_type": "code",
   "execution_count": null,
   "id": "e36bbdc6-a6f0-4bca-83f3-7b6e96895259",
   "metadata": {},
   "outputs": [],
   "source": [
    "pathlib.Path(os.environ.get(\"PRICE_SNAPSHOT_DIR\", \"~/Documents/git/trend_following/data_folder/coinbase_daily\")).expanduser()"
   ]
  },
  {
   "cell_type": "code",
   "execution_count": null,
   "id": "d0a4097d-d8da-4acf-8002-eb55ebb297d2",
   "metadata": {},
   "outputs": [],
   "source": [
    "r = requests.get(f\"{BASE}/time\", timeout=10)\n",
    "r.raise_for_status()\n",
    "js = r.json()"
   ]
  },
  {
   "cell_type": "code",
   "execution_count": null,
   "id": "e64e731f-e65e-4db3-a1fb-ee86fd2f7c9f",
   "metadata": {},
   "outputs": [],
   "source": [
    "r.raise_for_status()"
   ]
  },
  {
   "cell_type": "code",
   "execution_count": null,
   "id": "32d6186f-af11-4e0e-bf78-a6524c331a09",
   "metadata": {},
   "outputs": [],
   "source": [
    "js"
   ]
  },
  {
   "cell_type": "code",
   "execution_count": null,
   "id": "0b7e1511-7e06-459d-a381-5fac955ada9f",
   "metadata": {},
   "outputs": [],
   "source": [
    "flag = DONE_FLAG_DIR / f\"{today_date}.done\"\n",
    "flag.exists()"
   ]
  },
  {
   "cell_type": "code",
   "execution_count": null,
   "id": "098691ab-b4bc-445f-abf5-af9de31dd5bc",
   "metadata": {},
   "outputs": [],
   "source": []
  },
  {
   "cell_type": "code",
   "execution_count": null,
   "id": "d465fb73-bc3d-43cc-b50c-92b0736d4a8d",
   "metadata": {},
   "outputs": [],
   "source": [
    "now = get_server_time_utc()  # Coinbase server time (UTC)\n",
    "today_date = now.date()      # UTC date\n",
    "# Gate: only run between 00:01–00:15 UTC; else exit quietly.\n",
    "if not (now.hour == 0 and 1 <= now.minute <= 15):\n",
    "    print(\"Time False\")\n",
    "    # return\n",
    "\n",
    "flag = DONE_FLAG_DIR / f\"{today_date}.done\"\n",
    "if flag.exists():\n",
    "    print(\"False\")\n",
    "    # return  # already ran today\n",
    "\n",
    "rows = []\n",
    "for pid in UNIVERSE:\n",
    "    yday = get_yday_daily(pid, today_date)\n",
    "    # retry a couple times if the 1m candle isn't posted yet\n",
    "    t_open = None\n",
    "    for _ in range(6):  # up to ~3 minutes\n",
    "        t_open = get_today_open(pid, today_date)\n",
    "        if t_open:\n",
    "            break\n",
    "        time.sleep(30)\n",
    "\n",
    "    rows.append({\n",
    "        \"product_id\": pid,\n",
    "        \"date_utc\": str(today_date),\n",
    "        \"yday_open\": yday[\"yday_open\"] if yday else None,\n",
    "        \"yday_close\": yday[\"yday_close\"] if yday else None,\n",
    "        \"today_open_utc\": t_open[\"today_open\"] if t_open else None,\n",
    "    })\n",
    "\n",
    "df = pd.DataFrame(rows)\n",
    "run_ts = dt.datetime.now(dt.timezone.utc)\n",
    "snap_name = f\"opens_closes_{today_date}_{run_ts.strftime('%H%M%SZ')}.csv\"\n",
    "out_path = SNAP_DIR / snap_name\n",
    "df.to_csv(out_path, index=False)\n",
    "\n",
    "# keep an append-only parquet table for analytics\n",
    "# try:\n",
    "#     if APPEND_PATH.exists():\n",
    "#         old = pd.read_parquet(APPEND_PATH)\n",
    "#         all_df = pd.concat([old, df], ignore_index=True)\n",
    "#         # drop duplicates on (date_utc, product_id)\n",
    "#         all_df = all_df.drop_duplicates(subset=[\"date_utc\", \"product_id\"], keep=\"last\")\n",
    "#         all_df.to_parquet(APPEND_PATH, index=False)\n",
    "#     else:\n",
    "#         df.to_parquet(APPEND_PATH, index=False)\n",
    "# except Exception as e:\n",
    "#     # don't fail the run if parquet is unavailable\n",
    "#     print(\"Parquet append failed:\", e)\n",
    "\n",
    "flag.touch()\n",
    "print(f\"Saved {len(df)} rows to {out_path}\")"
   ]
  },
  {
   "cell_type": "code",
   "execution_count": null,
   "id": "e848fefb-d12a-4135-b6f4-a3142966c373",
   "metadata": {},
   "outputs": [],
   "source": [
    "get_server_time_utc()"
   ]
  },
  {
   "cell_type": "code",
   "execution_count": null,
   "id": "4c3928bf-824a-4272-8a27-b35b828feb1d",
   "metadata": {},
   "outputs": [],
   "source": [
    "os.environ.get(\"PRICE_SNAPSHOT_DIR\", \"~/Documents/git/trend_following/data_folder/coinbase_daily\")"
   ]
  },
  {
   "cell_type": "code",
   "execution_count": null,
   "id": "82be06fa-5321-4b5f-b5f6-e7af03b14401",
   "metadata": {},
   "outputs": [],
   "source": [
    "#!/usr/bin/env python3\n",
    "import os, time, json, pathlib, requests, datetime as dt\n",
    "import pandas as pd\n",
    "\n",
    "BASE = \"https://api.coinbase.com/api/v3/brokerage\"\n",
    "HEADERS = {\"Cache-Control\": \"no-cache\", \"User-Agent\": \"tf-daily-opens/1.0\"}  # bypass 1s cache; be nice to servers\n",
    "UNIVERSE = [\"BTC-USD\", \"ETH-USD\", \"SOL-USD\", \"ADA-USD\", \"AVAX-USD\"]  # edit as needed\n",
    "\n",
    "# ---- storage config ----\n",
    "BASE_DIR = pathlib.Path(os.environ.get(\"PRICE_SNAPSHOT_DIR\", \"~/Documents/git/trend_following/data_folder/coinbase_daily\")).expanduser()\n",
    "SNAP_DIR = BASE_DIR / \"snapshots\"\n",
    "APPEND_PATH = BASE_DIR / \"daily_opens_closes.parquet\"\n",
    "DONE_FLAG_DIR = BASE_DIR / \"done_flags\"       # to avoid double-runs\n",
    "\n",
    "SNAP_DIR.mkdir(parents=True, exist_ok=True)\n",
    "DONE_FLAG_DIR.mkdir(parents=True, exist_ok=True)\n",
    "\n",
    "def get_server_time_utc():\n",
    "    r = requests.get(f\"{BASE}/time\", timeout=10)\n",
    "    r.raise_for_status()\n",
    "    js = r.json()\n",
    "    # API returns iso and epoch strings\n",
    "    return dt.datetime.fromtimestamp(int(js[\"epochSeconds\"]), dt.timezone.utc)\n",
    "\n",
    "def epoch(dt_utc):\n",
    "    return int(dt_utc.replace(tzinfo=dt.timezone.utc).timestamp())\n",
    "\n",
    "def bucket_bounds_utc(day_utc):\n",
    "    start = dt.datetime(day_utc.year, day_utc.month, day_utc.day, tzinfo=dt.timezone.utc)\n",
    "    end   = start + dt.timedelta(days=1)\n",
    "    return start, end\n",
    "\n",
    "def fetch_candles(product_id, start_utc, end_utc, granularity):\n",
    "    params = {\n",
    "        \"start\": str(epoch(start_utc)),\n",
    "        \"end\": str(epoch(end_utc)),\n",
    "        \"granularity\": granularity,  # ONE_DAY or ONE_MINUTE\n",
    "        \"limit\": \"350\"\n",
    "    }\n",
    "    url = f\"{BASE}/market/products/{product_id}/candles\"\n",
    "    for attempt in range(3):\n",
    "        resp = requests.get(url, params=params, headers=HEADERS, timeout=15)\n",
    "        if resp.status_code == 429:\n",
    "            time.sleep(1.5 * (attempt + 1))\n",
    "            continue\n",
    "        resp.raise_for_status()\n",
    "        js = resp.json()\n",
    "        candles = js.get(\"candles\", []) or []\n",
    "        # Normalize order: oldest -> newest\n",
    "        candles.sort(key=lambda c: int(c[\"start\"]))\n",
    "        return candles\n",
    "    return []\n",
    "\n",
    "def get_yday_daily(product_id, today_utc_date):\n",
    "    \"\"\"\n",
    "    Return yesterday's daily open/close for product_id.\n",
    "\n",
    "    Strategy:\n",
    "      1) Ask for the ONE_DAY candle whose start == yesterday 00:00:00 UTC.\n",
    "      2) If missing/empty, fall back to ONE_MINUTE candles over [00:00, 24:00):\n",
    "         open = first 1m candle's open; close = last 1m candle's close.\n",
    "    \"\"\"\n",
    "    yday = today_utc_date - dt.timedelta(days=1)\n",
    "    y_start, y_end = bucket_bounds_utc(yday)\n",
    "    y_start_epoch = epoch(y_start)\n",
    "    y_end_epoch   = epoch(y_end)\n",
    "\n",
    "    # --- Primary: daily candle at exactly yesterday 00:00Z ---\n",
    "    daily = fetch_candles(product_id, y_start, y_end + dt.timedelta(seconds=1), \"ONE_DAY\")  # tiny end buffer\n",
    "    if daily:\n",
    "        # ensure oldest→newest in case fetch_candles doesn't already do this\n",
    "        daily.sort(key=lambda c: int(c[\"start\"]))\n",
    "        # exact midnight match first\n",
    "        pick = next((c for c in daily if int(c[\"start\"]) == y_start_epoch), None)\n",
    "        if pick is None:\n",
    "            # otherwise any candle that starts within [start, end)\n",
    "            elig = [c for c in daily if y_start_epoch <= int(c[\"start\"]) < y_end_epoch]\n",
    "            pick = elig[0] if elig else None\n",
    "        if pick is not None:\n",
    "            return {\n",
    "                \"yday_start\": dt.datetime.fromtimestamp(int(pick[\"start\"]), dt.timezone.utc),\n",
    "                \"yday_open\":  float(pick[\"open\"]),\n",
    "                \"yday_close\": float(pick[\"close\"]),\n",
    "            }\n",
    "\n",
    "    # --- Fallback: derive from 1-minute candles over the day ---\n",
    "    one_min = fetch_candles(product_id, y_start, y_end, \"ONE_MINUTE\")\n",
    "    if not one_min:\n",
    "        return None  # nothing to do (exchange delay or network issue)\n",
    "\n",
    "    one_min.sort(key=lambda c: int(c[\"start\"]))  # oldest→newest\n",
    "    first_c = one_min[0]\n",
    "    last_c  = one_min[-1]\n",
    "    return {\n",
    "        \"yday_start\": dt.datetime.fromtimestamp(int(first_c[\"start\"]), dt.timezone.utc),\n",
    "        \"yday_open\":  float(first_c[\"open\"]),\n",
    "        \"yday_close\": float(last_c[\"close\"]),\n",
    "    }\n",
    "\n",
    "def get_today_open(product_id, today_utc_date):\n",
    "    s, _ = bucket_bounds_utc(today_utc_date)\n",
    "    s_epoch = epoch(s)\n",
    "    deadline = dt.datetime.now(dt.timezone.utc) + dt.timedelta(minutes=3)  # hard stop\n",
    "\n",
    "    while dt.datetime.now(dt.timezone.utc) < deadline:\n",
    "        candles = fetch_candles(product_id, s, s + dt.timedelta(minutes=2), \"ONE_MINUTE\")  # small window\n",
    "        if candles:\n",
    "            candles.sort(key=lambda c: int(c[\"start\"]))  # oldest→newest\n",
    "            pick = next((c for c in candles if int(c[\"start\"]) == s_epoch), None)\n",
    "            if pick:\n",
    "                return {\n",
    "                    \"today_open_time\": dt.datetime.fromtimestamp(int(pick[\"start\"]), dt.timezone.utc),\n",
    "                    \"today_open\": float(pick[\"open\"])\n",
    "                }\n",
    "        time.sleep(2)  # tight poll to minimize delay\n",
    "    return None\n",
    "\n",
    "\n",
    "def main():\n",
    "    now = get_server_time_utc()  # Coinbase server time (UTC)\n",
    "    today_date = now.date()      # UTC date\n",
    "    # Gate: only run between 00:01–00:15 UTC; else exit quietly.\n",
    "    if not (now.hour == 0 and 1 <= now.minute <= 15):\n",
    "        return\n",
    "\n",
    "    flag = DONE_FLAG_DIR / f\"{today_date}.done\"\n",
    "    if flag.exists():\n",
    "        return  # already ran today\n",
    "\n",
    "    rows = []\n",
    "    for pid in UNIVERSE:\n",
    "        yday = get_yday_daily(pid, today_date)\n",
    "        # retry a couple times if the 1m candle isn't posted yet\n",
    "        t_open = None\n",
    "        for _ in range(6):  # up to ~3 minutes\n",
    "            t_open = get_today_open(pid, today_date)\n",
    "            if t_open:\n",
    "                break\n",
    "            time.sleep(30)\n",
    "\n",
    "        rows.append({\n",
    "            \"product_id\": pid,\n",
    "            \"date_utc\": str(today_date),\n",
    "            \"yday_open\": yday[\"yday_open\"] if yday else None,\n",
    "            \"yday_close\": yday[\"yday_close\"] if yday else None,\n",
    "            \"today_open_utc\": t_open[\"today_open\"] if t_open else None,\n",
    "        })\n",
    "\n",
    "    df = pd.DataFrame(rows)\n",
    "    run_ts = dt.datetime.now(dt.timezone.utc)\n",
    "    snap_name = f\"opens_closes_{today_date}_{run_ts.strftime('%H%M%SZ')}.csv\"\n",
    "    out_path = SNAP_DIR / snap_name\n",
    "    df.to_csv(out_path, index=False)\n",
    "\n",
    "    # keep an append-only parquet table for analytics\n",
    "    try:\n",
    "        if APPEND_PATH.exists():\n",
    "            old = pd.read_parquet(APPEND_PATH)\n",
    "            all_df = pd.concat([old, df], ignore_index=True)\n",
    "            # drop duplicates on (date_utc, product_id)\n",
    "            all_df = all_df.drop_duplicates(subset=[\"date_utc\", \"product_id\"], keep=\"last\")\n",
    "            all_df.to_parquet(APPEND_PATH, index=False)\n",
    "        else:\n",
    "            df.to_parquet(APPEND_PATH, index=False)\n",
    "    except Exception as e:\n",
    "        # don't fail the run if parquet is unavailable\n",
    "        print(\"Parquet append failed:\", e)\n",
    "\n",
    "    flag.touch()\n",
    "    print(f\"Saved {len(df)} rows to {out_path}\")\n",
    "\n",
    "if __name__ == \"__main__\":\n",
    "    main()\n"
   ]
  },
  {
   "cell_type": "code",
   "execution_count": null,
   "id": "b30d9b96-7eb1-484e-a55e-469f071ba65f",
   "metadata": {},
   "outputs": [],
   "source": [
    "FORCE_RUN = os.environ.get(\"FORCE_RUN\") == \"1\""
   ]
  },
  {
   "cell_type": "code",
   "execution_count": null,
   "id": "72a07210-0b00-4980-8b71-95faf291d4e9",
   "metadata": {},
   "outputs": [],
   "source": [
    "FORCE_RUN"
   ]
  },
  {
   "cell_type": "code",
   "execution_count": null,
   "id": "db90f11e-0951-4e69-ab56-62a2c5c2e0f9",
   "metadata": {},
   "outputs": [],
   "source": [
    "os.environ[\"MAIL_TO\"]"
   ]
  },
  {
   "cell_type": "code",
   "execution_count": null,
   "id": "58ee1d67-f7a4-4b09-a0c9-3743e70d06c7",
   "metadata": {},
   "outputs": [],
   "source": [
    "import sys, datetime as dt\n",
    "print(f\"[{dt.datetime.utcnow().isoformat()}Z] using: {sys.executable}\", flush=True)"
   ]
  },
  {
   "cell_type": "code",
   "execution_count": null,
   "id": "215782f1-b957-4be2-9140-2a9414a46715",
   "metadata": {},
   "outputs": [],
   "source": [
    "dt.datetime.now(dt.timezone.UTC)"
   ]
  },
  {
   "cell_type": "code",
   "execution_count": null,
   "id": "bad18ca4-0510-43eb-9750-8838331b6d84",
   "metadata": {},
   "outputs": [],
   "source": [
    "dt.datetime.now(dt.timezone.utc)"
   ]
  },
  {
   "cell_type": "code",
   "execution_count": null,
   "id": "1b4c1930-a808-4033-a148-f200255e191f",
   "metadata": {},
   "outputs": [],
   "source": [
    "(base) adheerchauhan@Macmini ~ % crontab -e\n",
    "\n",
    "MAILTO=chauhan4@gmail.com\n",
    "SHELL=/bin/bash\n",
    "\n",
    "# Fire exactly at local times that map to 00:00 UTC year-round\n",
    "0 19 * * * /bin/bash -lc \"$HOME/bin/daily_coinbase_notify.sh\"\n",
    "0 20 * * * /bin/bash -lc \"$HOME/bin/daily_coinbase_notify.sh\"\n"
   ]
  },
  {
   "cell_type": "code",
   "execution_count": null,
   "id": "ab669172-c197-40ed-9532-6099bce2f45c",
   "metadata": {},
   "outputs": [],
   "source": [
    "now = get_server_time_utc()  # Coinbase server time (UTC)\n",
    "today_date = now.date()      # UTC date\n",
    "get_yday_daily(product_id='BTC-USD', today_utc_date=today_date)"
   ]
  },
  {
   "cell_type": "code",
   "execution_count": null,
   "id": "dc20eb1e-c9b6-4e06-bcc7-34fbf5704c27",
   "metadata": {},
   "outputs": [],
   "source": [
    "today_date"
   ]
  },
  {
   "cell_type": "code",
   "execution_count": null,
   "id": "8785c667-7341-4fe2-84a2-3e8f2dfb8da0",
   "metadata": {},
   "outputs": [],
   "source": [
    "FORCE_RUN = os.environ.get(\"FORCE_RUN\") == \"1\""
   ]
  },
  {
   "cell_type": "code",
   "execution_count": null,
   "id": "aefb79dc-9702-41dc-9dca-58c8fee725d2",
   "metadata": {},
   "outputs": [],
   "source": [
    "FORCE_RUN"
   ]
  },
  {
   "cell_type": "code",
   "execution_count": null,
   "id": "ac31609b-4eb5-4c22-8640-b142e6a5277f",
   "metadata": {},
   "outputs": [],
   "source": [
    "now.isoformat()"
   ]
  },
  {
   "cell_type": "code",
   "execution_count": null,
   "id": "e86befa5-e22f-4806-9ce2-865f52810292",
   "metadata": {},
   "outputs": [],
   "source": [
    "now = get_server_time_utc()  # Coinbase server time (UTC)\n",
    "today_date = now.date()      # UTC date\n",
    "# Gate: only run between 00:01–00:15 UTC; else exit quietly.\n",
    "# if not (now.hour == 0 and 1 <= now.minute <= 15):\n",
    "#     return\n",
    "\n",
    "flag = DONE_FLAG_DIR / f\"{today_date}.done\"\n",
    "# if flag.exists():\n",
    "#     return  # already ran today\n",
    "\n",
    "rows = []\n",
    "for pid in UNIVERSE:\n",
    "    yday = get_yday_daily(pid, today_date)\n",
    "    # retry a couple times if the 1m candle isn't posted yet\n",
    "    t_open = None\n",
    "    for _ in range(6):  # up to ~3 minutes\n",
    "        t_open = get_today_open(pid, today_date)\n",
    "        if t_open:\n",
    "            break\n",
    "        time.sleep(30)\n",
    "\n",
    "    rows.append({\n",
    "        \"product_id\": pid,\n",
    "        \"date_utc\": str(today_date),\n",
    "        \"yday_open\": yday[\"yday_open\"] if yday else None,\n",
    "        \"yday_close\": yday[\"yday_close\"] if yday else None,\n",
    "        \"today_open_utc\": t_open[\"today_open\"] if t_open else None,\n",
    "    })\n",
    "\n",
    "df = pd.DataFrame(rows)"
   ]
  },
  {
   "cell_type": "code",
   "execution_count": null,
   "id": "2d4fbd9c-92df-4ed6-ab8e-49b5e06f277f",
   "metadata": {},
   "outputs": [],
   "source": [
    "df"
   ]
  },
  {
   "cell_type": "code",
   "execution_count": null,
   "id": "32dff342-6277-4c7d-a2c2-cc61ee3f1515",
   "metadata": {},
   "outputs": [],
   "source": [
    "end_date"
   ]
  },
  {
   "cell_type": "code",
   "execution_count": null,
   "id": "ab13e726-7597-4080-963b-0bf8c9758bec",
   "metadata": {},
   "outputs": [],
   "source": [
    "df_close = cn.save_historical_crypto_prices_from_coinbase(ticker='AVAX-USD', user_start_date=True, start_date=start_date,\n",
    "                                                          end_date=pd.Timestamp('2025-09-16').date(), save_to_file=False)"
   ]
  },
  {
   "cell_type": "code",
   "execution_count": null,
   "id": "4eafec22-cde7-45f6-bcdb-a38c864c9b2c",
   "metadata": {},
   "outputs": [],
   "source": [
    "df_close.tail()"
   ]
  },
  {
   "cell_type": "code",
   "execution_count": null,
   "id": "60cc1296-3d50-43d1-a952-b74d898f6254",
   "metadata": {},
   "outputs": [],
   "source": [
    "now = get_server_time_utc()  # Coinbase server time (UTC)\n",
    "today_date = now.date()      # UTC date"
   ]
  },
  {
   "cell_type": "code",
   "execution_count": null,
   "id": "26ce62f7-37fd-496e-aa63-cef9fe61af63",
   "metadata": {},
   "outputs": [],
   "source": [
    "today_date"
   ]
  },
  {
   "cell_type": "code",
   "execution_count": null,
   "id": "53a67cb6-f887-4fb9-8166-06ea6de15a64",
   "metadata": {},
   "outputs": [],
   "source": [
    "s, e = bucket_bounds_utc(today_date)\n",
    "# first 1m candle of the day\n",
    "product_id = 'BTC-USD'\n",
    "candles = fetch_candles(product_id, s, s + dt.timedelta(minutes=1), \"ONE_MINUTE\")"
   ]
  },
  {
   "cell_type": "code",
   "execution_count": null,
   "id": "27e7a75a-d9cb-42df-bbe6-b8a7c87b12b4",
   "metadata": {},
   "outputs": [],
   "source": [
    "candles"
   ]
  },
  {
   "cell_type": "code",
   "execution_count": null,
   "id": "c34891e4-b559-471e-95d9-9376e2eac887",
   "metadata": {},
   "outputs": [],
   "source": [
    "candles"
   ]
  },
  {
   "cell_type": "code",
   "execution_count": null,
   "id": "b4d034be-dff2-4da9-9c75-1bd764ee062e",
   "metadata": {},
   "outputs": [],
   "source": [
    "candles"
   ]
  },
  {
   "cell_type": "code",
   "execution_count": null,
   "id": "7122c148-f9dc-47d7-be65-4c83afabe35e",
   "metadata": {},
   "outputs": [],
   "source": [
    "df_close.tail()"
   ]
  },
  {
   "cell_type": "code",
   "execution_count": null,
   "id": "93a8e450-e901-4976-9ef4-c7852f658297",
   "metadata": {},
   "outputs": [],
   "source": [
    "print(s)\n",
    "print(e)"
   ]
  },
  {
   "cell_type": "code",
   "execution_count": null,
   "id": "c680e6bd-22d0-466c-a42a-54539b0bcd4c",
   "metadata": {},
   "outputs": [],
   "source": [
    "candles = fetch_candles(product_id, s, s + dt.timedelta(minutes=1), \"ONE_MINUTE\")"
   ]
  },
  {
   "cell_type": "code",
   "execution_count": null,
   "id": "faeb5c05-bf8a-47c6-ab85-24083287daf4",
   "metadata": {},
   "outputs": [],
   "source": [
    "!echo $HOME"
   ]
  },
  {
   "cell_type": "code",
   "execution_count": null,
   "id": "bec59b61-ac5a-4be6-bd7b-89dec27cc303",
   "metadata": {},
   "outputs": [],
   "source": [
    "Path.home()"
   ]
  },
  {
   "cell_type": "code",
   "execution_count": null,
   "id": "fd377943-e3e3-4d1e-b4e1-3d8a6dc0f63b",
   "metadata": {},
   "outputs": [],
   "source": [
    "get_server_time_utc()"
   ]
  },
  {
   "cell_type": "code",
   "execution_count": null,
   "id": "5521df00-dce6-42c3-a106-6fa44f32443b",
   "metadata": {},
   "outputs": [],
   "source": []
  },
  {
   "cell_type": "code",
   "execution_count": null,
   "id": "d6025ff3-0521-451a-a500-39690e8e86c7",
   "metadata": {},
   "outputs": [],
   "source": []
  },
  {
   "cell_type": "code",
   "execution_count": null,
   "id": "d427ab03-ff9f-4e7a-ba18-e5bf88640d77",
   "metadata": {},
   "outputs": [],
   "source": [
    "402.3299999999999999852/4.7707114624505928852"
   ]
  },
  {
   "cell_type": "code",
   "execution_count": null,
   "id": "f96de97d-1a27-4a1f-b08f-d5a5f40ad878",
   "metadata": {},
   "outputs": [],
   "source": [
    "desired_trades['ETH-USD']['new_trade_notional']"
   ]
  },
  {
   "cell_type": "code",
   "execution_count": null,
   "id": "7f07737f-113b-4aaa-a59b-12820ac74229",
   "metadata": {},
   "outputs": [],
   "source": [
    "px_now"
   ]
  },
  {
   "cell_type": "code",
   "execution_count": null,
   "id": "c15c2cf0-569e-49ce-a4ab-da9f42077eba",
   "metadata": {},
   "outputs": [],
   "source": [
    "meta"
   ]
  },
  {
   "cell_type": "code",
   "execution_count": null,
   "id": "8389c977-89f1-403c-9efb-ea460ca1317f",
   "metadata": {},
   "outputs": [],
   "source": [
    "desired_trades"
   ]
  },
  {
   "cell_type": "code",
   "execution_count": null,
   "id": "8a2f72b0-5985-453f-b0be-d131aed4c54b",
   "metadata": {},
   "outputs": [],
   "source": [
    "get_product_meta(cn_client, product_id='BTC-USD')"
   ]
  },
  {
   "cell_type": "code",
   "execution_count": null,
   "id": "353e211a-9f31-42bd-bfb7-2ed3defc15ee",
   "metadata": {},
   "outputs": [],
   "source": [
    "current_mid(cn_client, product_id='BTC-USD')"
   ]
  },
  {
   "cell_type": "code",
   "execution_count": null,
   "id": "810ad681-e3dc-4c49-a17b-36cf9972e45f",
   "metadata": {},
   "outputs": [],
   "source": []
  },
  {
   "cell_type": "code",
   "execution_count": null,
   "id": "afefcfa2-683f-4c30-ba6d-59260a10e5e6",
   "metadata": {},
   "outputs": [],
   "source": [
    "df_target_notional[target_notional_cols].tail()"
   ]
  },
  {
   "cell_type": "code",
   "execution_count": null,
   "id": "272177f6-af19-4856-8b88-636cca176743",
   "metadata": {},
   "outputs": [],
   "source": [
    "df_target_notional[vol_adj_signal_cols].tail()"
   ]
  },
  {
   "cell_type": "code",
   "execution_count": null,
   "id": "603b3eb3-449c-4ad7-a671-c0fb715a5c0d",
   "metadata": {},
   "outputs": [],
   "source": [
    "cfg"
   ]
  },
  {
   "cell_type": "code",
   "execution_count": null,
   "id": "813eecfe-836c-41ec-93a2-707209a29d2b",
   "metadata": {},
   "outputs": [],
   "source": [
    "df_target_notional[vol_adj_signal_cols].iloc[-1].sum()"
   ]
  },
  {
   "cell_type": "code",
   "execution_count": null,
   "id": "2efe383a-35c4-467b-b0ac-8a8b244bad0f",
   "metadata": {},
   "outputs": [],
   "source": [
    "1/df_target_notional[vol_adj_signal_cols].iloc[-1].sum()"
   ]
  },
  {
   "cell_type": "code",
   "execution_count": null,
   "id": "469d89a1-ab3e-4079-a392-8cd39f172c04",
   "metadata": {},
   "outputs": [],
   "source": [
    "desired_positions"
   ]
  },
  {
   "cell_type": "code",
   "execution_count": null,
   "id": "26a7a210-ad0d-460e-80ff-b768800f5c89",
   "metadata": {},
   "outputs": [],
   "source": [
    "desired_positions"
   ]
  },
  {
   "cell_type": "code",
   "execution_count": null,
   "id": "58abb549-6a55-4da8-a2ea-91d5e6ef932c",
   "metadata": {},
   "outputs": [],
   "source": [
    "desired_positions"
   ]
  },
  {
   "cell_type": "code",
   "execution_count": null,
   "id": "01ea5bd0-1935-4be0-88d1-1cbb410d88e9",
   "metadata": {},
   "outputs": [],
   "source": [
    "cash_shrink_factor"
   ]
  },
  {
   "cell_type": "code",
   "execution_count": null,
   "id": "510328d1-a82b-43e7-9ce1-b6b1b2d85e6c",
   "metadata": {},
   "outputs": [],
   "source": [
    "df_target_notional.tail()"
   ]
  },
  {
   "cell_type": "code",
   "execution_count": null,
   "id": "b50f2007-4a40-4a16-a3ed-e6861df10404",
   "metadata": {},
   "outputs": [],
   "source": [
    "(0.55 / np.sqrt(365)) / 0.034907"
   ]
  },
  {
   "cell_type": "code",
   "execution_count": null,
   "id": "5ab88cbc-2b73-4b1c-a98b-ccf0abae75ef",
   "metadata": {},
   "outputs": [],
   "source": [
    "signal_cols = [f'{ticker}_final_signal' for ticker in cfg['universe']['tickers']]\n",
    "vol_adj_signal_cols = [f'{ticker}_vol_adjusted_trend_signal' for ticker in cfg['universe']['tickers']]\n",
    "df_target_notional[signal_cols + vol_adj_signal_cols].tail()"
   ]
  },
  {
   "cell_type": "code",
   "execution_count": null,
   "id": "73d9a63d-a045-4883-9351-f58ff2962134",
   "metadata": {},
   "outputs": [],
   "source": [
    "actual_position_cols = [f'{ticker}_actual_position_notional' for ticker in cfg['universe']['tickers']]\n",
    "df_target_notional[actual_position_cols].tail()"
   ]
  },
  {
   "cell_type": "code",
   "execution_count": null,
   "id": "fd9fc1c0-4a41-476c-ac8b-fce29cbaefbb",
   "metadata": {},
   "outputs": [],
   "source": [
    "target_notional_cols = [f'{ticker}_target_notional' for ticker in cfg['universe']['tickers']]\n",
    "df_target_notional[target_notional_cols].tail()"
   ]
  },
  {
   "cell_type": "code",
   "execution_count": null,
   "id": "3aa84552-5425-4fcf-ae8b-c3a33cabaffb",
   "metadata": {},
   "outputs": [],
   "source": [
    "283.567516+254.759154+80.725844+12.412111"
   ]
  },
  {
   "cell_type": "code",
   "execution_count": null,
   "id": "b490954e-49d2-4763-ba42-d4cb5444cab3",
   "metadata": {},
   "outputs": [],
   "source": [
    "print('Calculating Volatility Targeted Position Size and Cash Management!!')\n",
    "## Get Target Volatility Position Sizing and Run Cash Management\n",
    "target_vol_kwargs = {\n",
    "    \"df\": df_signal,\n",
    "    \"ticker_list\": cfg['universe']['tickers'],\n",
    "    \"initial_capital\": cfg['run']['initial_capital'],\n",
    "    \"rolling_cov_window\": cfg['risk_and_sizing']['rolling_cov_window'],\n",
    "    \"rolling_atr_window\": cfg['risk_and_sizing']['rolling_atr_window'],\n",
    "    \"atr_multiplier\": cfg['risk_and_sizing']['atr_multiplier'],\n",
    "    \"cash_buffer_percentage\": cfg['risk_and_sizing']['cash_buffer_percentage'],\n",
    "    \"annualized_target_volatility\": cfg['risk_and_sizing']['annualized_target_volatility'],\n",
    "    \"transaction_cost_est\": cfg['execution_and_costs']['transaction_cost_est'],\n",
    "    \"passive_trade_rate\": cfg['execution_and_costs']['passive_trade_rate'],\n",
    "    \"notional_threshold_pct\": cfg['execution_and_costs']['notional_threshold_pct'],\n",
    "    \"min_trade_notional_abs\": cfg['execution_and_costs']['min_trade_notional_abs'],\n",
    "    \"cooldown_counter_threshold\": cfg['execution_and_costs']['cooldown_counter_threshold'],\n",
    "    \"annual_trading_days\": cfg['run']['annual_trading_days'],\n",
    "    \"use_specific_start_date\": False,\n",
    "    \"signal_start_date\": cfg['run']['signal_start_date']\n",
    "}\n",
    "\n",
    "# df_final, desired_positions = get_target_notional_by_ticker(**target_vol_kwargs)\n",
    "df_target_notional = get_target_notional_by_ticker(**target_vol_kwargs)"
   ]
  },
  {
   "cell_type": "code",
   "execution_count": null,
   "id": "5ee6f20c-5522-4f4a-8176-1ba70d947375",
   "metadata": {
    "scrolled": true
   },
   "outputs": [],
   "source": [
    "df_target_notional"
   ]
  },
  {
   "cell_type": "code",
   "execution_count": null,
   "id": "09f7d631-1f3c-4d2f-8136-bb67b6051fd8",
   "metadata": {},
   "outputs": [],
   "source": [
    "df_target_notional.head()"
   ]
  },
  {
   "cell_type": "code",
   "execution_count": null,
   "id": "4a608cfb-8d28-41d6-96f3-0f13904d0dd5",
   "metadata": {},
   "outputs": [],
   "source": [
    "desired_positions"
   ]
  },
  {
   "cell_type": "code",
   "execution_count": null,
   "id": "733d7cc1-6ce7-451d-b341-ec354ca7db69",
   "metadata": {},
   "outputs": [],
   "source": [
    "cash_shrink_factor"
   ]
  },
  {
   "cell_type": "code",
   "execution_count": null,
   "id": "76b0c1bf-6d04-44b8-9381-7750751ef22d",
   "metadata": {},
   "outputs": [],
   "source": [
    "## Calculate the covariance matrix for tickers in the portfolio\n",
    "returns_cols = [f'{ticker}_t_1_close_pct_returns' for ticker in cfg['universe']['tickers']]\n",
    "cov_matrix = df[returns_cols].rolling(cfg['risk_and_sizing']['rolling_cov_window']).cov(pairwise=True).dropna()"
   ]
  },
  {
   "cell_type": "code",
   "execution_count": null,
   "id": "c70680c4-6040-49aa-bd2e-26554c82f715",
   "metadata": {
    "scrolled": true
   },
   "outputs": [],
   "source": [
    "cov_matrix"
   ]
  },
  {
   "cell_type": "code",
   "execution_count": null,
   "id": "a401ef08-3ee4-4246-9af6-e840e5472c97",
   "metadata": {},
   "outputs": [],
   "source": []
  },
  {
   "cell_type": "code",
   "execution_count": null,
   "id": "997874d5-d3d6-4f45-9e27-0a886a3a1c2c",
   "metadata": {},
   "outputs": [],
   "source": [
    "price_map = get_price_map(cn_client, ticker_list=cfg['universe']['tickers'])\n",
    "by_asset = {str(row[\"asset\"]): row for _, row in df_portfolio_positions.iterrows()}\n",
    "out = {}\n",
    "for t in cfg['universe']['tickers']:\n",
    "    base = t.split(\"-\")[0]\n",
    "    row = by_asset.get(base)\n",
    "    qty = float(row[\"total_balance_crypto\"]) if row is not None else 0.0\n",
    "    px  = float(price_map[t])  # best bid/ask mid or last trade\n",
    "    out[t] = {\"qty\": qty, \"notional\": qty * px, \"price\": px}"
   ]
  },
  {
   "cell_type": "code",
   "execution_count": null,
   "id": "a5c7881d-ddf7-40ef-a61d-e2392d660288",
   "metadata": {},
   "outputs": [],
   "source": [
    "float(price_map['BTC-USD']['best_mid_price'])"
   ]
  },
  {
   "cell_type": "code",
   "execution_count": null,
   "id": "01cac70b-b14b-4e87-b7a9-329ca772e251",
   "metadata": {},
   "outputs": [],
   "source": [
    "cn_client.get_best_bid_ask('BTC-USD')['pricebooks'][0]#['bids']"
   ]
  },
  {
   "cell_type": "code",
   "execution_count": null,
   "id": "9c42a198-7861-4afb-b762-c9b44d2b0a73",
   "metadata": {},
   "outputs": [],
   "source": [
    "cn_client.get_product_book('BTC-USD', limit=1)['pricebook']['bids'][0]"
   ]
  },
  {
   "cell_type": "code",
   "execution_count": null,
   "id": "a175d231-a223-4268-9cfa-79b1c9cdffd3",
   "metadata": {},
   "outputs": [],
   "source": [
    "book = cn_client.get_product_book('BTC-USD', limit=1)['pricebook']"
   ]
  },
  {
   "cell_type": "code",
   "execution_count": null,
   "id": "2d05a0b3-3870-4735-bac8-ffe65ffd22ce",
   "metadata": {},
   "outputs": [],
   "source": [
    "def get_price_map(client, ticker_list):\n",
    "    result_dict = {}\n",
    "    for ticker in ticker_list:\n",
    "        ## Get Best Bid and Offer Data\n",
    "        book = client.get_product_book(ticker, limit=1)['pricebook']\n",
    "    \n",
    "        ## Build Price Dictionary\n",
    "        price_dict = {'best_bid_price': float(book['bids'][0]['price']),\n",
    "                      'best_bid_size': float(book['bids'][0]['size']),\n",
    "                      'best_ask_price': float(book['asks'][0]['price']),\n",
    "                      'best_ask_size': float(book['asks'][0]['size']),\n",
    "                      'best_mid_price': (float(book['bids'][0]['price']) + float(book['asks'][0]['price'])) / 2}\n",
    "    \n",
    "        result_dict[ticker] = price_dict\n",
    "\n",
    "    return result_dict"
   ]
  },
  {
   "cell_type": "code",
   "execution_count": null,
   "id": "4b8f4ecf-2f5c-4d80-9f82-4e7f8b4d425a",
   "metadata": {},
   "outputs": [],
   "source": [
    "book_test = cn_client.get_product_book('BTC-USD', limit=1)['pricebook']"
   ]
  },
  {
   "cell_type": "code",
   "execution_count": null,
   "id": "5311b498-a5dd-4a17-9f7a-230f90c6822c",
   "metadata": {},
   "outputs": [],
   "source": [
    "book_test"
   ]
  },
  {
   "cell_type": "code",
   "execution_count": null,
   "id": "22028650-8f08-47ab-bbac-dfd1642e5fa1",
   "metadata": {},
   "outputs": [],
   "source": [
    "getattr(book_test, 'bids', None)"
   ]
  },
  {
   "cell_type": "code",
   "execution_count": null,
   "id": "0a6d663c-582c-4a83-9acc-8b7e0c817844",
   "metadata": {},
   "outputs": [],
   "source": [
    "book_test['bids'][0]"
   ]
  },
  {
   "cell_type": "code",
   "execution_count": null,
   "id": "eba7c825-bbd5-4560-88c9-3675f7ad2079",
   "metadata": {},
   "outputs": [],
   "source": [
    "price_map = get_price_map(client=cn_client, ticker_list=cfg['universe']['tickers'])"
   ]
  },
  {
   "cell_type": "code",
   "execution_count": null,
   "id": "daad30bb-cdc1-4d57-9b99-db67546e0a25",
   "metadata": {},
   "outputs": [],
   "source": [
    "price_map"
   ]
  },
  {
   "cell_type": "code",
   "execution_count": null,
   "id": "de71cb2e-b13a-4c54-b728-510db2807109",
   "metadata": {},
   "outputs": [],
   "source": [
    "result_dict"
   ]
  },
  {
   "cell_type": "code",
   "execution_count": null,
   "id": "8e0acee0-c56f-4958-8104-ba36b05efe2d",
   "metadata": {},
   "outputs": [],
   "source": [
    "price_dict"
   ]
  },
  {
   "cell_type": "code",
   "execution_count": null,
   "id": "16d554fb-fb51-4881-8259-29313fe2148a",
   "metadata": {},
   "outputs": [],
   "source": [
    "float(book['bids'][0]['price'])"
   ]
  },
  {
   "cell_type": "code",
   "execution_count": null,
   "id": "188b0080-3575-4572-8f62-3627bca61482",
   "metadata": {},
   "outputs": [],
   "source": [
    "cn_client.get_product"
   ]
  },
  {
   "cell_type": "code",
   "execution_count": null,
   "id": "a3f80333-015b-4091-9369-c7819c16cea6",
   "metadata": {},
   "outputs": [],
   "source": [
    "by_asset['AMP']"
   ]
  },
  {
   "cell_type": "code",
   "execution_count": null,
   "id": "ac86f623-6c2a-4f89-964e-fd66a226b549",
   "metadata": {},
   "outputs": [],
   "source": [
    "## Get Portfolio UUID\n",
    "cn_client = cn.get_coinbase_rest_api_client(cn.key_location)\n",
    "portfolio_uuid = cn.get_portfolio_uuid(cn_client, portfolio_name='Default')\n",
    "\n",
    "df_portfolio_positions = cn.get_portfolio_breakdown(cn_client, portfolio_uuid)"
   ]
  },
  {
   "cell_type": "code",
   "execution_count": null,
   "id": "543f6fcb-ef31-4e15-b599-4e8a9bb3f1ab",
   "metadata": {},
   "outputs": [],
   "source": [
    "float(df_portfolio_positions['total_balance_fiat'].sum())"
   ]
  },
  {
   "cell_type": "code",
   "execution_count": null,
   "id": "502a7aa9-61d4-4706-9055-9c02f169abc4",
   "metadata": {},
   "outputs": [],
   "source": [
    "portfolio_list = cn_client.get_portfolios()['portfolios']\n",
    "portfolio_name = 'Default'\n",
    "if portfolio_name == 'Trend Following':\n",
    "    portfolio = next((p for p in portfolio_list\n",
    "                      if p['name'] == 'Trend Following' and not p['deleted']), None)\n",
    "else:\n",
    "    portfolio = next((p for p in portfolio_list\n",
    "                      if p['name'] == 'Default' and not p['deleted']), None)"
   ]
  },
  {
   "cell_type": "code",
   "execution_count": null,
   "id": "6c389ee2-a4b2-4545-b1f1-bc7f0a02f8a5",
   "metadata": {},
   "outputs": [],
   "source": [
    "portfolio"
   ]
  },
  {
   "cell_type": "code",
   "execution_count": null,
   "id": "5f936854-4c51-445c-907e-5d69d611a551",
   "metadata": {},
   "outputs": [],
   "source": [
    "portfolios[0]['deleted']"
   ]
  },
  {
   "cell_type": "code",
   "execution_count": null,
   "id": "5a67825b-8db4-43a3-bd9c-f5fcd56ac2b0",
   "metadata": {},
   "outputs": [],
   "source": [
    "cn_client = cn.get_coinbase_rest_api_client(cn.key_location)\n",
    "df_portfolio_positions = cn.get_portfolio_breakdown(cn_client)"
   ]
  },
  {
   "cell_type": "code",
   "execution_count": null,
   "id": "a9660014-c91e-4593-84dd-372c2d1aba1b",
   "metadata": {},
   "outputs": [],
   "source": [
    "cn_client.get_portfolios()['portfolios']"
   ]
  },
  {
   "cell_type": "code",
   "execution_count": null,
   "id": "e3b1ab88-031b-4f4a-89c0-03d368287663",
   "metadata": {},
   "outputs": [],
   "source": [
    "[f'{i[:-4]}' for i in cfg['universe']['tickers']]"
   ]
  },
  {
   "cell_type": "code",
   "execution_count": null,
   "id": "ac883e0e-f31f-42bf-b234-d0bbd87f84a9",
   "metadata": {},
   "outputs": [],
   "source": [
    "df_portfolio_positions[df_portfolio_positions.is_cash]#[df_portfolio_positions.asset.isin([f'{i[:-4]}' for i in cfg['universe']['tickers']])]#.head()"
   ]
  },
  {
   "cell_type": "code",
   "execution_count": null,
   "id": "b3643f7e-f7f7-4b5f-893d-d3b983291084",
   "metadata": {},
   "outputs": [],
   "source": [
    "df_portfolio_positions[df_portfolio_positions.is_cash == True]"
   ]
  },
  {
   "cell_type": "code",
   "execution_count": null,
   "id": "f321f029-b0cb-49d2-b0ea-a2a6dc5cbcf5",
   "metadata": {},
   "outputs": [],
   "source": [
    "print('Calculating Volatility Targeted Position Size and Cash Management!!')\n",
    "## Get Target Volatility Position Sizing and Run Cash Management\n",
    "target_vol_kwargs = {\n",
    "    \"df\": df_signal,\n",
    "    \"ticker_list\": cfg['universe']['tickers'],\n",
    "    \"initial_capital\": cfg['run']['initial_capital'],\n",
    "    \"rolling_cov_window\": cfg['risk_and_sizing']['rolling_cov_window'],\n",
    "    \"rolling_atr_window\": cfg['risk_and_sizing']['rolling_atr_window'],\n",
    "    \"atr_multiplier\": cfg['risk_and_sizing']['atr_multiplier'],\n",
    "    \"cash_buffer_percentage\": cfg['risk_and_sizing']['cash_buffer_percentage'],\n",
    "    \"annualized_target_volatility\": cfg['risk_and_sizing']['annualized_target_volatility'],\n",
    "    \"transaction_cost_est\": cfg['execution_and_costs']['transaction_cost_est'],\n",
    "    \"passive_trade_rate\": cfg['execution_and_costs']['passive_trade_rate'],\n",
    "    \"notional_threshold_pct\": cfg['execution_and_costs']['notional_threshold_pct'],\n",
    "    \"min_trade_notional_abs\": cfg['execution_and_costs']['min_trade_notional_abs'],\n",
    "    \"cooldown_counter_threshold\": cfg['execution_and_costs']['cooldown_counter_threshold'],\n",
    "    \"annual_trading_days\": cfg['run']['annual_trading_days'],\n",
    "    \"use_specific_start_date\": False,\n",
    "    \"signal_start_date\": cfg['run']['signal_start_date']\n",
    "}\n",
    "df = size_cont.get_target_volatility_daily_portfolio_positions(**target_vol_kwargs)\n",
    "# df = size_cont.get_target_volatility_daily_portfolio_positions(\n",
    "#     df_signal, ticker_list=cfg['universe']['tickers'], initial_capital=cfg['run']['initial_capital'], rolling_cov_window=cfg['risk_and_sizing']['rolling_cov_window'],\n",
    "#     rolling_atr_window=cfg['risk_and_sizing']['rolling_atr_window'], atr_multiplier=cfg['risk_and_sizing']['atr_multiplier'],\n",
    "#     cash_buffer_percentage=cfg['risk_and_sizing']['cash_buffer_percentage'], annualized_target_volatility=cfg['risk_and_sizing']['annualized_target_volatility'],\n",
    "#     transaction_cost_est=cfg['execution_and_costs']['transaction_cost_est'], passive_trade_rate=cfg['execution_and_costs']['passive_trade_rate'],\n",
    "#     notional_threshold_pct=cfg['execution_and_costs']['notional_threshold_pct'], cooldown_counter_threshold=cfg['execution_and_costs']['cooldown_counter_threshold'],\n",
    "#     annual_trading_days=cfg['run']['annual_trading_days'], use_specific_start_date=False,\n",
    "#     signal_start_date=start_date)"
   ]
  },
  {
   "cell_type": "code",
   "execution_count": null,
   "id": "b79feab1-39a1-404d-a434-7cd5e5f15573",
   "metadata": {},
   "outputs": [],
   "source": [
    "df_signal.tail()"
   ]
  },
  {
   "cell_type": "code",
   "execution_count": null,
   "id": "d0d46528-b51c-4510-a365-763e33d7126a",
   "metadata": {},
   "outputs": [],
   "source": [
    "df.tail()"
   ]
  },
  {
   "cell_type": "code",
   "execution_count": null,
   "id": "518d3691-f127-45e6-b166-36fbb5e8dd5f",
   "metadata": {},
   "outputs": [],
   "source": [
    "df.tail()"
   ]
  },
  {
   "cell_type": "code",
   "execution_count": null,
   "id": "717bb041-7c89-4664-9bd7-dde0b85080ff",
   "metadata": {},
   "outputs": [],
   "source": [
    "df['AVAX-USD_event']"
   ]
  },
  {
   "cell_type": "code",
   "execution_count": null,
   "id": "cdbc347e-873b-4693-857a-8281a1690137",
   "metadata": {},
   "outputs": [],
   "source": [
    "df[target_notional_cols]"
   ]
  },
  {
   "cell_type": "code",
   "execution_count": null,
   "id": "21bcb8d2-17a6-477a-9cfc-0346d923320f",
   "metadata": {},
   "outputs": [],
   "source": [
    "df.iloc[-1]"
   ]
  },
  {
   "cell_type": "code",
   "execution_count": null,
   "id": "4714f49e-6f8e-4ec8-ae87-5e5ce604eb01",
   "metadata": {},
   "outputs": [],
   "source": [
    "cfg"
   ]
  },
  {
   "cell_type": "code",
   "execution_count": null,
   "id": "ada53c4f-b292-4f74-9ffa-f8dceb44c945",
   "metadata": {},
   "outputs": [],
   "source": [
    "signal_cols = [f'{ticker}_final_signal' for ticker in cfg[\"universe\"][\"tickers\"]]\n",
    "vol_adj_signal_cols = [f'{ticker}_vol_adjusted_trend_signal' for ticker in cfg[\"universe\"][\"tickers\"]]\n",
    "target_notional_cols = [f'{ticker}_target_notional' for ticker in cfg[\"universe\"][\"tickers\"]]\n",
    "df_trend[signal_cols]"
   ]
  },
  {
   "cell_type": "code",
   "execution_count": null,
   "id": "dd9e345e-b006-4b3b-923d-45db43f75ca1",
   "metadata": {},
   "outputs": [],
   "source": [
    "df_trend[vol_adj_signal_cols]"
   ]
  },
  {
   "cell_type": "code",
   "execution_count": null,
   "id": "89483176-1de8-4b8f-aa5f-0767781e9bb1",
   "metadata": {},
   "outputs": [],
   "source": [
    "def apply_target_volatility_position_sizing_continuous_strategy_with_rolling_r_sqr_vol_of_vol(\n",
    "        start_date, end_date, ticker_list, fast_mavg, slow_mavg, mavg_stepsize, mavg_z_score_window,\n",
    "        entry_rolling_donchian_window, exit_rolling_donchian_window, use_donchian_exit_gate,\n",
    "        ma_crossover_signal_weight, donchian_signal_weight, weighted_signal_ewm_window,\n",
    "        rolling_r2_window=30, lower_r_sqr_limit=0.2, upper_r_sqr_limit=0.8, r2_smooth_window=3, r2_confirm_days=0,\n",
    "        log_std_window=14, coef_of_variation_window=30, vol_of_vol_z_score_window=252, vol_of_vol_p_min=0.6,\n",
    "        r2_strong_threshold=0.8, use_activation=True, tanh_activation_constant_dict=None, moving_avg_type='exponential',\n",
    "        long_only=False, price_or_returns_calc='price', initial_capital=15000, rolling_cov_window=20,\n",
    "        volatility_window=20, rolling_atr_window=20, atr_multiplier=0.5, transaction_cost_est=0.001,\n",
    "        passive_trade_rate=0.05, notional_threshold_pct=0.05, cooldown_counter_threshold=3, use_coinbase_data=True,\n",
    "        use_saved_files=True, saved_file_end_date='2025-07-31', rolling_sharpe_window=50, cash_buffer_percentage=0.10,\n",
    "        annualized_target_volatility=0.20, annual_trading_days=365, use_specific_start_date=False,\n",
    "        signal_start_date=None):\n",
    "\n",
    "    ## Check if data is available for all the tickers\n",
    "    date_list = cn.coinbase_start_date_by_ticker_dict\n",
    "    ticker_list = [ticker for ticker in ticker_list if pd.Timestamp(date_list[ticker]).date() < end_date]\n",
    "\n",
    "    print('Generating Moving Average Ribbon Signal!!')\n",
    "    ## Generate Trend Signal for all tickers\n",
    "\n",
    "    df_trend = get_trend_donchian_signal_for_portfolio_with_rolling_r_sqr_vol_of_vol(\n",
    "        start_date=start_date, end_date=end_date, ticker_list=ticker_list, fast_mavg=fast_mavg, slow_mavg=slow_mavg,\n",
    "        mavg_stepsize=mavg_stepsize, mavg_z_score_window=mavg_z_score_window,\n",
    "        entry_rolling_donchian_window=entry_rolling_donchian_window,\n",
    "        exit_rolling_donchian_window=exit_rolling_donchian_window, use_donchian_exit_gate=use_donchian_exit_gate,\n",
    "        ma_crossover_signal_weight=ma_crossover_signal_weight, donchian_signal_weight=donchian_signal_weight,\n",
    "        weighted_signal_ewm_window=weighted_signal_ewm_window, rolling_r2_window=rolling_r2_window,\n",
    "        lower_r_sqr_limit=lower_r_sqr_limit, upper_r_sqr_limit=upper_r_sqr_limit, r2_smooth_window=r2_smooth_window,\n",
    "        r2_confirm_days=r2_confirm_days, log_std_window=log_std_window, coef_of_variation_window=coef_of_variation_window,\n",
    "        vol_of_vol_z_score_window=vol_of_vol_z_score_window, vol_of_vol_p_min=vol_of_vol_p_min,\n",
    "        r2_strong_threshold=r2_strong_threshold, use_activation=use_activation,\n",
    "        tanh_activation_constant_dict=tanh_activation_constant_dict, moving_avg_type=moving_avg_type,\n",
    "        long_only=long_only, price_or_returns_calc=price_or_returns_calc, use_coinbase_data=use_coinbase_data,\n",
    "        use_saved_files=use_saved_files, saved_file_end_date=saved_file_end_date)\n",
    "\n",
    "    print('Generating Volatility Adjusted Trend Signal!!')\n",
    "    ## Get Volatility Adjusted Trend Signal\n",
    "    df_signal = size_cont.get_volatility_adjusted_trend_signal_continuous(df_trend, ticker_list, volatility_window,\n",
    "                                                                          annual_trading_days)\n",
    "\n",
    "    print('Getting Average True Range for Stop Loss Calculation!!')\n",
    "    ## Get Average True Range for Stop Loss Calculation\n",
    "    df_atr = size_cont.get_average_true_range_portfolio(start_date=start_date, end_date=end_date,\n",
    "                                                        ticker_list=ticker_list, rolling_atr_window=rolling_atr_window,\n",
    "                                                        price_or_returns_calc='price',\n",
    "                                                        use_coinbase_data=use_coinbase_data,\n",
    "                                                        use_saved_files=use_saved_files,\n",
    "                                                        saved_file_end_date=saved_file_end_date)\n",
    "    df_signal = pd.merge(df_signal, df_atr, left_index=True, right_index=True, how='left')\n",
    "\n",
    "    print('Calculating Volatility Targeted Position Size and Cash Management!!')\n",
    "    ## Get Target Volatility Position Sizing and Run Cash Management\n",
    "    df = size_cont.get_target_volatility_daily_portfolio_positions(\n",
    "        df_signal, ticker_list=ticker_list, initial_capital=initial_capital, rolling_cov_window=rolling_cov_window,\n",
    "        rolling_atr_window=rolling_atr_window, atr_multiplier=atr_multiplier,\n",
    "        cash_buffer_percentage=cash_buffer_percentage, annualized_target_volatility=annualized_target_volatility,\n",
    "        transaction_cost_est=transaction_cost_est, passive_trade_rate=passive_trade_rate,\n",
    "        notional_threshold_pct=notional_threshold_pct, cooldown_counter_threshold=cooldown_counter_threshold,\n",
    "        annual_trading_days=annual_trading_days, use_specific_start_date=use_specific_start_date,\n",
    "        signal_start_date=signal_start_date)\n",
    "\n",
    "    print('Calculating Portfolio Performance!!')\n",
    "    ## Calculate Portfolio Performance\n",
    "    df = size_bin.calculate_portfolio_returns(df, rolling_sharpe_window)\n",
    "\n",
    "    return df\n"
   ]
  },
  {
   "cell_type": "code",
   "execution_count": null,
   "id": "430d40e6-7bd2-4715-80c2-c351901218a6",
   "metadata": {},
   "outputs": [],
   "source": []
  },
  {
   "cell_type": "code",
   "execution_count": null,
   "id": "f2d4f59d-cf8d-4214-a0fc-1cfc0c5acc8f",
   "metadata": {},
   "outputs": [],
   "source": []
  },
  {
   "cell_type": "code",
   "execution_count": null,
   "id": "ee933072-a899-4c90-bf4c-d0fbe72b53cc",
   "metadata": {},
   "outputs": [],
   "source": []
  },
  {
   "cell_type": "code",
   "execution_count": null,
   "id": "2d45e8fb-bcfa-49da-b0d1-dacfe9d23da0",
   "metadata": {},
   "outputs": [],
   "source": []
  },
  {
   "cell_type": "code",
   "execution_count": null,
   "id": "25d1f174-54f3-4308-b065-ef024fd5eb78",
   "metadata": {},
   "outputs": [],
   "source": []
  },
  {
   "cell_type": "code",
   "execution_count": null,
   "id": "7eed8d55-adbd-4c43-ac4d-51aa3bad3cb1",
   "metadata": {},
   "outputs": [],
   "source": []
  }
 ],
 "metadata": {
  "kernelspec": {
   "display_name": "Python 3 (ipykernel)",
   "language": "python",
   "name": "python3"
  },
  "language_info": {
   "codemirror_mode": {
    "name": "ipython",
    "version": 3
   },
   "file_extension": ".py",
   "mimetype": "text/x-python",
   "name": "python",
   "nbconvert_exporter": "python",
   "pygments_lexer": "ipython3",
   "version": "3.12.2"
  }
 },
 "nbformat": 4,
 "nbformat_minor": 5
}
